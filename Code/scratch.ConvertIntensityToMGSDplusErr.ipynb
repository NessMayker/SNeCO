{
 "cells": [
  {
   "cell_type": "code",
   "execution_count": null,
   "id": "8ff8a821",
   "metadata": {},
   "outputs": [],
   "source": [
    "    intenData['pc60mgsd'][i]   = intenData['pc60Int'][i]   * intenData['alphaCO'][i]\n",
    "    intenData['pc90mgsd'][i]   = intenData['pc90Int'][i]   * intenData['alphaCO'][i]\n",
    "    intenData['pc120mgsd'][i]  = intenData['pc120Int'][i]  * intenData['alphaCO'][i]\n",
    "    intenData['pc150mgsd'][i]  = intenData['pc150Int'][i]  * intenData['alphaCO'][i]\n",
    "    intenData['pc500mgsd'][i]  = intenData['pc500Int'][i]  * intenData['alphaCO'][i]\n",
    "    intenData['pc750mgsd'][i]  = intenData['pc750Int'][i]  * intenData['alphaCO'][i]\n",
    "    intenData['pc1000mgsd'][i] = intenData['pc1000Int'][i] * intenData['alphaCO'][i]\n",
    "   \n",
    "    intenData['pc60mgsdErr'][i]   = intenData['pc60Err'][i]   * intenData['alphaCO'][i]\n",
    "    intenData['pc90mgsdErr'][i]   = intenData['pc90Err'][i]   * intenData['alphaCO'][i]\n",
    "    intenData['pc120mgsdErr'][i]  = intenData['pc120Err'][i]  * intenData['alphaCO'][i]\n",
    "    intenData['pc150mgsdErr'][i]  = intenData['pc150Err'][i]  * intenData['alphaCO'][i]\n",
    "    intenData['pc500mgsdErr'][i]  = intenData['pc500Err'][i]  * intenData['alphaCO'][i]\n",
    "    intenData['pc750mgsdErr'][i]  = intenData['pc750Err'][i]  * intenData['alphaCO'][i]\n",
    "    intenData['pc1000mgsdErr'][i] = intenData['pc1000Err'][i] * intenData['alphaCO'][i]\n",
    "   "
   ]
  }
 ],
 "metadata": {
  "kernelspec": {
   "display_name": "Python 3",
   "language": "python",
   "name": "python3"
  },
  "language_info": {
   "codemirror_mode": {
    "name": "ipython",
    "version": 3
   },
   "file_extension": ".py",
   "mimetype": "text/x-python",
   "name": "python",
   "nbconvert_exporter": "python",
   "pygments_lexer": "ipython3",
   "version": "3.8.10"
  }
 },
 "nbformat": 4,
 "nbformat_minor": 5
}
