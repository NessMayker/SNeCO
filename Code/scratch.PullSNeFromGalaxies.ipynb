{
 "cells": [
  {
   "cell_type": "code",
   "execution_count": 16,
   "id": "numerous-deputy",
   "metadata": {},
   "outputs": [],
   "source": [
    "import numpy as np\n",
    "from matplotlib import pyplot as plt\n",
    "import astropy\n",
    "import astropy.io.fits as pyfits\n",
    "from astropy.table import Table, join\n",
    "from astropy.io import ascii\n",
    "filename = \"../Data/2.SNeCOMasterCatFinal.csv\""
   ]
  },
  {
   "cell_type": "code",
   "execution_count": 15,
   "id": "olive-mongolia",
   "metadata": {},
   "outputs": [
    {
     "name": "stdout",
     "output_type": "stream",
     "text": [
      "<class 'astropy.table.table.Table'>\n"
     ]
    }
   ],
   "source": [
    "database  = Table.read(filename, format='csv')\n",
    "NGC4321 = database[database['#Galaxy'] == 'ngc4321']\n",
    "print(type(NGC4321))"
   ]
  },
  {
   "cell_type": "code",
   "execution_count": 18,
   "id": "lucky-population",
   "metadata": {},
   "outputs": [],
   "source": [
    "ascii.write(NGC4321, 'NGC4321.csv', format='csv', overwrite=True)"
   ]
  },
  {
   "cell_type": "code",
   "execution_count": null,
   "id": "alive-occurrence",
   "metadata": {},
   "outputs": [],
   "source": []
  }
 ],
 "metadata": {
  "kernelspec": {
   "display_name": "Python 3",
   "language": "python",
   "name": "python3"
  },
  "language_info": {
   "codemirror_mode": {
    "name": "ipython",
    "version": 3
   },
   "file_extension": ".py",
   "mimetype": "text/x-python",
   "name": "python",
   "nbconvert_exporter": "python",
   "pygments_lexer": "ipython3",
   "version": "3.8.10"
  }
 },
 "nbformat": 4,
 "nbformat_minor": 5
}
