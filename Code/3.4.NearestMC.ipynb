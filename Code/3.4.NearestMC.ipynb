{
 "cells": [
  {
   "cell_type": "markdown",
   "metadata": {},
   "source": [
    "This notebook calculates the distance to the nearest 10^5.5 and 10^ 6.5 Msun molecular cloud from the locations of each of the SNe located within 150pc maps."
   ]
  },
  {
   "cell_type": "code",
   "execution_count": 1,
   "metadata": {},
   "outputs": [],
   "source": [
    "#import packages and initialize settings\n",
    "import time\n",
    "import os\n",
    "import numpy as np\n",
    "import matplotlib.pyplot as plt\n",
    "import astropy.io.fits as pyfits\n",
    "from astropy.io import ascii\n",
    "from astropy.table import Table\n",
    "from progressbar import progressbar\n",
    "from astropy.wcs import WCS\n",
    "from reproject import reproject_interp\n",
    "\n",
    "import sys\n",
    "sys.path.append('/home/mayker.1/Desktop/PythonFunctions')\n",
    "from FindNearestMC import nearestMCMethod"
   ]
  },
  {
   "cell_type": "code",
   "execution_count": 2,
   "metadata": {},
   "outputs": [
    {
     "data": {
      "text/html": [
       "<i>Table length=1</i>\n",
       "<table id=\"table140546357468944\" class=\"table-striped table-bordered table-condensed\">\n",
       "<thead><tr><th>galaxy</th><th>SN_name</th><th>SN_type</th><th>SN_ra</th><th>SN_dec</th><th>SN_xCoord</th><th>SN_yCoord</th><th>SN_co21int</th><th>SN_co21err</th><th>SN_co21ew</th><th>map_beamsize</th><th>orient_ra</th><th>orient_dec</th><th>dist</th><th>orient_posang</th><th>orient_incl</th><th>size_r25</th><th>telOrient</th><th>ImageFile150</th><th>ErrFile150</th><th>AlphaCOFile</th></tr></thead>\n",
       "<thead><tr><th>str8</th><th>str11</th><th>str12</th><th>float64</th><th>float64</th><th>float64</th><th>float64</th><th>float64</th><th>float64</th><th>float64</th><th>float64</th><th>float64</th><th>float64</th><th>float64</th><th>float64</th><th>float64</th><th>float64</th><th>str9</th><th>str112</th><th>str113</th><th>str74</th></tr></thead>\n",
       "<tr><td>circinus</td><td>SN1996cr</td><td>II</td><td>213.2918</td><td>-65.3457</td><td>86.56761411031889</td><td>84.63433198287285</td><td>186.84804</td><td>2.137819</td><td>34.56537</td><td>0.002032163908078</td><td>213.29124</td><td>-65.33915</td><td>4.2</td><td>36.74</td><td>64.3</td><td>262.49515</td><td>7m+tp</td><td>/data/tycho/0/leroy.42/reduction/alma/phangs-alma/derived/circinus/circinus_7m+tp_co21_150pc_broad_mom0.fits</td><td>/data/tycho/0/leroy.42/reduction/alma/phangs-alma/derived/circinus/circinus_7m+tp_co21_150pc_broad_emom0.fits</td><td>/data/kant/0/sun.1608/PHANGS/ALMA/alphaCO/ESO097-013_alphaCO21_Sun+20.fits</td></tr>\n",
       "</table>"
      ],
      "text/plain": [
       "<Table length=1>\n",
       " galaxy  ...\n",
       "  str8   ...\n",
       "-------- ...\n",
       "circinus ..."
      ]
     },
     "execution_count": 2,
     "metadata": {},
     "output_type": "execute_result"
    }
   ],
   "source": [
    "# Unpack master table to get SNe information\n",
    "database = Table.read('../Data/3.SNe+GalData.csv', format = \"csv\")\n",
    "\n",
    "centerCoords = [(database[\"orient_ra\"][i], database[\"orient_dec\"][i]) for i in range(len(database))]    \n",
    "SNe, SNra, SNdec  = database[\"SN_name\"], database[\"SN_ra\"], database[\"SN_dec\"]\n",
    "database[0:1]"
   ]
  },
  {
   "cell_type": "code",
   "execution_count": 3,
   "metadata": {},
   "outputs": [],
   "source": [
    "SNra  = np.array(SNra)\n",
    "SNdec = np.array(SNdec)\n",
    "massCutA = 10**5.5\n",
    "massCutB = 10**6.5\n"
   ]
  },
  {
   "cell_type": "markdown",
   "metadata": {},
   "source": [
    "[None, array([0.01364605]), array([0.55655997]), array([0.01321117]), array([0.00491407]), array([0.01275901]), array([0.1489542]), array([0.19534568]), array([0.35979567]), array([0.01287783]), array([0.01284268]), array([1.22508167]), array([0.01592836]), array([0.00761477]), array([0.00716833]), array([0.00421925]), None, array([0.07117317]), array([0.00321098]), array([0.0076644]), array([0.58246467]), array([0.01154423]), array([0.00611075]), array([0.00733605]), array([0.01245564]), array([0.01044295]), array([0.0040826]), array([0.00808865]), array([0.01097162]), array([0.02066585]), array([0.08586097]), array([0.03508382]), array([0.02765949]), array([0.0155404]), array([0.03955008]), array([0.02026862]), array([0.2480944]), array([0.10081377]), array([0.0106565]), array([0.00660132]), array([0.06650442]), array([0.01621761]), array([0.03209613]), array([0.38714994]), array([0.00946752]), array([0.29470551]), array([0.10821323]), array([0.37426845]), None, None, array([5800.10100662]), array([0.01400941]), array([0.01271513]), array([0.00453499]), array([0.00497956]), array([0.00238751]), array([0.05432539]), array([0.00023186]), array([0.0098961]), array([0.01070017]), array([0.99123115])]\n",
    "\n",
    "[0.03220571, 0.03057009, 0.31916941, 0.75480179, 0.02805144]"
   ]
  },
  {
   "cell_type": "code",
   "execution_count": 4,
   "metadata": {},
   "outputs": [],
   "source": [
    "gal_group = database.group_by(\"galaxy\")\n",
    "# print(gal_group)"
   ]
  },
  {
   "cell_type": "code",
   "execution_count": 5,
   "metadata": {},
   "outputs": [
    {
     "data": {
      "text/plain": [
       "array([ 0,  1,  2,  3,  5,  6,  7,  9, 12, 13, 14, 18, 20, 21, 22, 23, 25,\n",
       "       26, 31, 35, 42, 48, 49, 50, 52, 53, 55, 56, 58, 63, 64, 65, 66])"
      ]
     },
     "execution_count": 5,
     "metadata": {},
     "output_type": "execute_result"
    }
   ],
   "source": [
    "gal_group.groups.indices"
   ]
  },
  {
   "cell_type": "code",
   "execution_count": 6,
   "metadata": {},
   "outputs": [],
   "source": [
    "# remove duplicate galaxies, grouping SNe together in their own lists.\n",
    "\n",
    "gal_group = database.group_by(\"galaxy\")\n",
    "\n",
    "SNr, SNd, SNa = [],[],[]\n",
    "gala, imgs, errs, alco, cocs, pans, incl, gdis, SNrs, SNdc, SNea = [],[],[],[],[],[],[],[],[],[],[]\n",
    "\n",
    "for i in range(len(database)):\n",
    "    gal = database[\"galaxy\"][i]\n",
    "    img = database[\"ImageFile150\"][i]\n",
    "    ers = database[\"ErrFile150\"][i]\n",
    "    aco = database[\"AlphaCOFile\"][i]\n",
    "    ccs = centerCoords[i]\n",
    "    pas = database[\"orient_posang\"][i]\n",
    "    inc = database[\"orient_incl\"][i]\n",
    "    gds = database[\"dist\"][i]\n",
    "    SNr.append(SNra[i])\n",
    "    SNd.append(SNdec[i])\n",
    "    SNa.append(SNe[i])\n",
    "    \n",
    "    if (i+1) in gal_group.groups.indices:\n",
    "        gala.append(gal)\n",
    "        imgs.append(img)\n",
    "        errs.append(ers)\n",
    "        alco.append(aco)\n",
    "        cocs.append(ccs)\n",
    "        pans.append(pas)\n",
    "        incl.append(inc)\n",
    "        gdis.append(gds)\n",
    "        SNrs.append(SNr)\n",
    "        SNdc.append(SNd)\n",
    "        SNea.append(SNa) \n",
    "        SNr, SNd, SNa = [],[],[]\n",
    "    else: pass"
   ]
  },
  {
   "cell_type": "code",
   "execution_count": 7,
   "metadata": {},
   "outputs": [
    {
     "name": "stdout",
     "output_type": "stream",
     "text": [
      "[['SN1996cr'], ['SN1940E'], ['SN2019qyl'], ['SN2019krl', 'SN2013ej'], ['SN2018ivc'], ['SN1995V'], ['SN1999eu', 'SN1992bd'], ['SN2001du', 'SN1983V', 'SN2012fr'], ['SN1985P'], ['SN1935C'], ['SN1984J', 'SN1986L', 'SN2005df', 'SN2009ib'], ['SN2010el', 'ASASSN-14ha'], ['SN1999em'], ['SN2017gax'], ['SN1993Z'], ['SN2003jg', 'SN2008eh'], ['SN2012A'], ['SN2009hd', 'SN1997bs', 'SN1973R', 'SN1989B', 'SN2016cok'], ['SN1972Q', 'SN1967H', 'SN2014L', 'SN1986I'], ['SN2006ov', 'SN2020jfo', 'SN2014dt', 'SN1964F', 'SN1961I', 'SN1999gn', 'SN1926A'], ['SN2006X', 'SN1959E', 'SN2020oi', 'SN1979C', 'SN1901B', 'SN2019ehk'], ['SN2012cg'], ['SN2020nvb'], ['SN1988M', 'SN1960F'], ['SN1981B'], ['SN1988A', 'SN1989M'], ['SN2011ja'], ['SN1986G', 'SN2016adj'], ['SN1957D', 'SN1923A', 'SN1950B', 'SN1983N', 'SN1968L'], ['SN2007it'], ['SN2005at'], ['SN2008bk']]\n"
     ]
    }
   ],
   "source": [
    "#for i in range(len(gal_group.groups.indices)-1):\n",
    "print(SNea)"
   ]
  },
  {
   "cell_type": "code",
   "execution_count": 15,
   "metadata": {
    "scrolled": true
   },
   "outputs": [
    {
     "name": "stdout",
     "output_type": "stream",
     "text": [
      "at Mass cutoff A for circinus\n",
      "Nearest 55 [32.20571075] circinus\n",
      "Nearest 65 [32.20571075] circinus\n",
      "done with circinus   ['SN1996cr']\n",
      "at Mass cutoff A for ngc0253\n",
      "Nearest 55 [30.57009157] ngc0253\n",
      "Nearest 65 [30.57009157] ngc0253\n",
      "done with ngc0253   ['SN1940E']\n",
      "at Mass cutoff A for ngc0300\n",
      "Nearest 55 [291.61613386] ngc0300\n",
      "Nearest 65 nan ngc0300\n",
      "done with ngc0300   ['SN2019qyl']\n",
      "at Mass cutoff A for ngc0628\n",
      "Nearest 55 [754.80178883  97.87335683] ngc0628\n",
      "Nearest 65 [1403.88983182 1914.40658196] ngc0628\n",
      "done with ngc0628   ['SN2019krl', 'SN2013ej']\n",
      "No file for  ngc1068\n",
      "at Mass cutoff A for ngc1087\n",
      "Nearest 55 [13.6460475] ngc1087\n",
      "Nearest 65 [662.29661955] ngc1087\n",
      "done with ngc1087   ['SN1995V']\n",
      "at Mass cutoff A for ngc1097\n",
      "Nearest 55 [279.64329546  13.21116559] ngc1097\n",
      "Nearest 65 [6549.95976975   13.21116559] ngc1097\n",
      "done with ngc1097   ['SN1999eu', 'SN1992bd']\n",
      "at Mass cutoff A for ngc1365\n",
      "Nearest 55 [175.45337986  12.75901358 362.78570368] ngc1365\n",
      "Nearest 65 [2918.12897775 1149.63976938 3350.07170423] ngc1365\n",
      "done with ngc1365   ['SN2001du', 'SN1983V', 'SN2012fr']\n",
      "at Mass cutoff A for ngc1433\n",
      "Nearest 55 [225.44042475] ngc1433\n",
      "Nearest 65 [4578.67477039] ngc1433\n",
      "done with ngc1433   ['SN1985P']\n",
      "at Mass cutoff A for ngc1511\n",
      "Nearest 55 [23.78248191] ngc1511\n",
      "Nearest 65 [973.2905441] ngc1511\n",
      "done with ngc1511   ['SN1935C']\n",
      "at Mass cutoff A for ngc1559\n",
      "Nearest 55 [  12.87782831  250.4050048  1166.22805491   15.92835671] ngc1559\n",
      "Nearest 65 [ 594.44455666 1117.31878964 3521.7840521   532.48087783] ngc1559\n",
      "done with ngc1559   ['SN1984J', 'SN1986L', 'SN2005df', 'SN2009ib']\n",
      "at Mass cutoff A for ngc1566\n",
      "Nearest 55 [7.61476509 7.16833079] ngc1566\n",
      "Nearest 65 [92.69353835  7.16833079] ngc1566\n",
      "done with ngc1566   ['SN2010el', 'ASASSN-14ha']\n",
      "at Mass cutoff A for ngc1637\n",
      "Nearest 55 [4.21925273] ngc1637\n",
      "Nearest 65 [1055.92722223] ngc1637\n",
      "done with ngc1637   ['SN1999em']\n",
      "No file for  ngc1672\n",
      "at Mass cutoff A for ngc2775\n",
      "Nearest 55 [184.6069112] ngc2775\n",
      "Nearest 65 nan ngc2775\n",
      "done with ngc2775   ['SN1993Z']\n",
      "at Mass cutoff A for ngc2997\n",
      "Nearest 55 [3.21098224 7.66439891] ngc2997\n",
      "Nearest 65 [ 3.21098224 55.53661226] ngc2997\n",
      "done with ngc2997   ['SN2003jg', 'SN2008eh']\n",
      "at Mass cutoff A for ngc3239\n",
      "Nearest 55 [816.49887285] ngc3239\n",
      "Nearest 65 nan ngc3239\n",
      "done with ngc3239   ['SN2012A']\n",
      "at Mass cutoff A for ngc3627\n",
      "Nearest 55 [11.54423389  6.11075087  7.33604733 12.45563716 10.44295465] ngc3627\n",
      "Nearest 65 [  11.54423389 1614.70199827  162.62124556   12.45563716  598.42495271] ngc3627\n",
      "done with ngc3627   ['SN2009hd', 'SN1997bs', 'SN1973R', 'SN1989B', 'SN2016cok']\n",
      "at Mass cutoff A for ngc4254\n",
      "Nearest 55 [ 4.08260335  8.08864961 10.9716249  20.66585283] ngc4254\n",
      "Nearest 65 [809.38663142 234.50260578  10.9716249   90.32157258] ngc4254\n",
      "done with ngc4254   ['SN1972Q', 'SN1967H', 'SN2014L', 'SN1986I']\n",
      "at Mass cutoff A for ngc4303\n",
      "Nearest 55 [109.46815538  62.58017443  59.28866405  19.26746549 271.12209518\n",
      "  20.2686165  342.78674359] ngc4303\n",
      "Nearest 65 [ 217.44610071  472.52224566  274.42537836 1559.44511443  830.26083912\n",
      "  151.19637295 1632.12496207] ngc4303\n",
      "done with ngc4303   ['SN2006ov', 'SN2020jfo', 'SN2014dt', 'SN1964F', 'SN1961I', 'SN1999gn', 'SN1926A']\n",
      "at Mass cutoff A for ngc4321\n",
      "Nearest 55 [126.65804627  10.65649565   6.60132098  96.96833985  16.21760897\n",
      "  81.57654577] ngc4321\n",
      "Nearest 65 [ 392.71555911   64.28768855   74.0732227  1125.36181939  354.51952241\n",
      " 1129.57551488] ngc4321\n",
      "done with ngc4321   ['SN2006X', 'SN1959E', 'SN2020oi', 'SN1979C', 'SN1901B', 'SN2019ehk']\n",
      "at Mass cutoff A for ngc4424\n",
      "Nearest 55 [410.66954858] ngc4424\n",
      "Nearest 65 [599.02261248] ngc4424\n",
      "done with ngc4424   ['SN2012cg']\n",
      "at Mass cutoff A for ngc4457\n",
      "Nearest 55 [9.46752154] ngc4457\n",
      "Nearest 65 [146.15106311] ngc4457\n",
      "done with ngc4457   ['SN2020nvb']\n",
      "at Mass cutoff A for ngc4496a\n",
      "Nearest 55 [211.77130213 108.21323393] ngc4496a\n",
      "Nearest 65 [5965.49626793  229.6460558 ] ngc4496a\n",
      "done with ngc4496a   ['SN1988M', 'SN1960F']\n",
      "at Mass cutoff A for ngc4536\n",
      "Nearest 55 [325.09587815] ngc4536\n",
      "Nearest 65 [8800.68844483] ngc4536\n",
      "done with ngc4536   ['SN1981B']\n",
      "No file for  ngc4579\n",
      "at Mass cutoff A for ngc4945\n",
      "Nearest 55 [40.30073184] ngc4945\n",
      "Nearest 65 [40.30073184] ngc4945\n",
      "done with ngc4945   ['SN2011ja']\n",
      "at Mass cutoff A for ngc5128\n",
      "Nearest 55 [14.00940735 12.7151346 ] ngc5128\n",
      "Nearest 65 [110.94459532  12.7151346 ] ngc5128\n",
      "done with ngc5128   ['SN1986G', 'SN2016adj']\n",
      "at Mass cutoff A for ngc5236\n",
      "Nearest 55 [ 4.5349939   4.97955839  2.38751306 54.32538708  0.23186175] ngc5236\n",
      "Nearest 65 [4.53499390e+00 7.01276289e+02 2.38751306e+00 1.10859798e+03\n",
      " 2.31861748e-01] ngc5236\n",
      "done with ngc5236   ['SN1957D', 'SN1923A', 'SN1950B', 'SN1983N', 'SN1968L']\n",
      "at Mass cutoff A for ngc5530\n",
      "Nearest 55 [9.89609605] ngc5530\n",
      "Nearest 65 [1484.92896092] ngc5530\n",
      "done with ngc5530   ['SN2007it']\n",
      "at Mass cutoff A for ngc6744\n",
      "Nearest 55 [10.7001712] ngc6744\n",
      "Nearest 65 [10513.12989236] ngc6744\n",
      "done with ngc6744   ['SN2005at']\n",
      "at Mass cutoff A for ngc7793\n",
      "Nearest 55 [991.23115197] ngc7793\n",
      "Nearest 65 nan ngc7793\n",
      "done with ngc7793   ['SN2008bk']\n"
     ]
    }
   ],
   "source": [
    "\n",
    "nearest55, nearest65 = [],[]\n",
    "for i in range(len(gala)):\n",
    "    if incl[i] == 90.0:\n",
    "        incl[i]=80.0\n",
    "    near55, near65 = nearestMCMethod(gala[i], imgs[i], errs[i], alco[i], cocs[i], pans[i], incl[i], gdis[i], SNrs[i], SNdc[i], SNea[i])\n",
    "    nearest55.append(near55)\n",
    "    nearest65.append(near65)"
   ]
  },
  {
   "cell_type": "code",
   "execution_count": 20,
   "metadata": {},
   "outputs": [],
   "source": [
    "n55A = []\n",
    "for i in range(len(nearest55)):\n",
    "    if(type(nearest55[i])!= np.float64 and type(nearest55[i]) != float):\n",
    "        for j in range(len(nearest55[i])):\n",
    "            n55A.append(nearest55[i][j])\n",
    "    else:\n",
    "        n55A.append(nearest55[i])\n",
    "#print(n55A)\n",
    "\n",
    "n65A = []\n",
    "for i in range(len(nearest65)):\n",
    "    if(type(nearest65[i])!= np.float64 and type(nearest65[i]) != float):\n",
    "        for j in range(len(nearest65[i])):\n",
    "            n65A.append(nearest65[i][j])\n",
    "    else:\n",
    "        n65A.append(nearest65[i])\n",
    "#print(n65A)"
   ]
  },
  {
   "cell_type": "code",
   "execution_count": 17,
   "metadata": {},
   "outputs": [],
   "source": [
    "with open(\"../Data/NearestMCtoSNe.txt\", \"w\") as textFile:\n",
    "    print(\"# Nearest55MassArrayDistances, Nearest65MassArrayDistances (in pc)\", file=textFile)\n",
    "    print(n55A, n65A, file=textFile)"
   ]
  },
  {
   "cell_type": "code",
   "execution_count": null,
   "metadata": {},
   "outputs": [],
   "source": []
  }
 ],
 "metadata": {
  "kernelspec": {
   "display_name": "Python 3",
   "language": "python",
   "name": "python3"
  },
  "language_info": {
   "codemirror_mode": {
    "name": "ipython",
    "version": 3
   },
   "file_extension": ".py",
   "mimetype": "text/x-python",
   "name": "python",
   "nbconvert_exporter": "python",
   "pygments_lexer": "ipython3",
   "version": "3.8.8"
  }
 },
 "nbformat": 4,
 "nbformat_minor": 2
}
