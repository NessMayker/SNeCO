{
 "cells": [
  {
   "cell_type": "markdown",
   "id": "19613346",
   "metadata": {},
   "source": [
    "This notebook checks the availability of the IRAC/WISE files for the stellar profilies for models 3&4."
   ]
  },
  {
   "cell_type": "code",
   "execution_count": 1,
   "id": "9ecf77b1",
   "metadata": {},
   "outputs": [],
   "source": [
    "#import packages and initialize settings\n",
    "import os\n",
    "import numpy as np\n",
    "from astropy.io import fits\n",
    "import astropy.io.fits as pyfits\n",
    "from astropy.wcs import WCS\n",
    "from matplotlib import pyplot as plt\n",
    "from astropy.coordinates import SkyCoord\n",
    "import astropy.units as u\n",
    "from astropy.table import Table\n",
    "from astropy.io import ascii\n",
    "from reproject import reproject_interp\n",
    "\n",
    "plt.rc('text',usetex=True)\n",
    "fontsize=20\n",
    "plt.rc('xtick',labelsize=fontsize)\n",
    "plt.rc('ytick',labelsize=fontsize)\n",
    "plt.rcParams['axes.facecolor']='white'\n",
    "plt.rcParams['savefig.facecolor']=\"white\"\n",
    "\n",
    "import sys\n",
    "sys.path.append('/home/mayker.1/Desktop/PythonFunctions')\n",
    "from SNeGenerationModels import runModels\n",
    "from FindNearestMC import nearestMCMethod"
   ]
  },
  {
   "cell_type": "code",
   "execution_count": 2,
   "id": "f812d188",
   "metadata": {},
   "outputs": [
    {
     "data": {
      "text/html": [
       "<i>Table length=1</i>\n",
       "<table id=\"table139723344363376\" class=\"table-striped table-bordered table-condensed\">\n",
       "<thead><tr><th>galaxy</th><th>SN_name</th><th>SN_type</th><th>SN_ra</th><th>SN_dec</th><th>SN_xCoord</th><th>SN_yCoord</th><th>SN_co21int</th><th>SN_co21err</th><th>SN_co21ew</th><th>map_beamsize</th><th>orient_ra</th><th>orient_dec</th><th>dist</th><th>orient_posang</th><th>orient_incl</th><th>size_r25</th><th>telOrient</th><th>ImageFile150</th><th>ErrFile150</th><th>AlphaCOFile</th></tr></thead>\n",
       "<thead><tr><th>str8</th><th>str11</th><th>str12</th><th>float64</th><th>float64</th><th>float64</th><th>float64</th><th>float64</th><th>float64</th><th>float64</th><th>float64</th><th>float64</th><th>float64</th><th>float64</th><th>float64</th><th>float64</th><th>float64</th><th>str9</th><th>str112</th><th>str113</th><th>str80</th></tr></thead>\n",
       "<tr><td>circinus</td><td>SN1996cr</td><td>II</td><td>213.2918</td><td>-65.3457</td><td>86.56761411031889</td><td>84.63433198287285</td><td>186.84804</td><td>2.137819</td><td>34.56537</td><td>0.002032163908078</td><td>213.29124</td><td>-65.33915</td><td>4.2</td><td>36.74</td><td>64.3</td><td>262.49515</td><td>7m+tp</td><td>/data/tycho/0/leroy.42/reduction/alma/phangs-alma/derived/circinus/circinus_7m+tp_co21_150pc_broad_mom0.fits</td><td>/data/tycho/0/leroy.42/reduction/alma/phangs-alma/derived/circinus/circinus_7m+tp_co21_150pc_broad_emom0.fits</td><td>/data/kant/0/sun.1608/PHANGS/ALMA/alphaCO/v1p0/ESO097-013_alphaCO21_scaling.fits</td></tr>\n",
       "</table>"
      ],
      "text/plain": [
       "<Table length=1>\n",
       " galaxy  ...\n",
       "  str8   ...\n",
       "-------- ...\n",
       "circinus ..."
      ]
     },
     "execution_count": 2,
     "metadata": {},
     "output_type": "execute_result"
    }
   ],
   "source": [
    "# Get SNeCO information\n",
    "database = Table.read('../Data/3.SNe+GalData.csv', format = \"csv\")\n",
    "\n",
    "database[0:1]"
   ]
  },
  {
   "cell_type": "code",
   "execution_count": 3,
   "id": "48e2493e",
   "metadata": {
    "scrolled": true
   },
   "outputs": [],
   "source": [
    "galaxies = np.array(database[\"galaxy\"], dtype='object')   \n",
    "SNe, SNra, SNdec  = np.array(database[\"SN_name\"], dtype='object'), np.array(database[\"SN_ra\"], dtype='object'), np.array(database[\"SN_dec\"], dtype='object')\n",
    "telOrient = np.array(database[\"telOrient\"], dtype='object')\n",
    "centerCoords = [(database[\"orient_ra\"][i], database[\"orient_dec\"][i]) for i in range(len(database))] \n",
    "\n",
    "#fileName = \"/data/tycho/0/leroy.42/projects/phangs_survey_2019/working_data/irac/ngc0628_irac1_1kpc.fits\"\n",
    "fileName = \"/data/tycho/0/leroy.42/projects/phangs_survey_2019/working_data/irac/ngc0628_irac1_gauss7p5.fits\"\n",
    "hdulist = pyfits.open(fileName)\n",
    "map = hdulist[0].data\n",
    "#wcs = WCS(hdulist[0].header, naxis=2)\n"
   ]
  },
  {
   "cell_type": "code",
   "execution_count": 4,
   "id": "d878169a",
   "metadata": {},
   "outputs": [
    {
     "name": "stdout",
     "output_type": "stream",
     "text": [
      "eso097-013 WISE\n",
      "ngc0253 IRAC\n",
      "ngc0628 IRAC\n",
      "ngc1068 IRAC\n",
      "ngc1087 IRAC\n",
      "ngc1097 IRAC\n",
      "ngc1097 IRAC\n",
      "ngc1365 IRAC\n",
      "ngc1365 IRAC\n",
      "ngc1365 IRAC\n",
      "ngc1433 IRAC\n",
      "ngc1511 IRAC\n",
      "ngc1559 IRAC\n",
      "ngc1559 IRAC\n",
      "ngc1559 IRAC\n",
      "ngc1559 IRAC\n",
      "ngc1566 IRAC\n",
      "ngc1566 IRAC\n",
      "ngc1637 IRAC\n",
      "ngc1672 IRAC\n",
      "ngc2775 IRAC\n",
      "ngc2997 WISE\n",
      "ngc2997 WISE\n",
      "ngc3239 IRAC\n",
      "ngc3627 IRAC\n",
      "ngc3627 IRAC\n",
      "ngc3627 IRAC\n",
      "ngc3627 IRAC\n",
      "ngc4254 IRAC\n",
      "ngc4254 IRAC\n",
      "ngc4254 IRAC\n",
      "ngc4254 IRAC\n",
      "ngc4303 IRAC\n",
      "ngc4303 IRAC\n",
      "ngc4303 IRAC\n",
      "ngc4303 IRAC\n",
      "ngc4303 IRAC\n",
      "ngc4303 IRAC\n",
      "ngc4303 IRAC\n",
      "ngc4321 IRAC\n",
      "ngc4321 IRAC\n",
      "ngc4321 IRAC\n",
      "ngc4321 IRAC\n",
      "ngc4321 IRAC\n",
      "ngc4321 IRAC\n",
      "ngc4424 IRAC\n",
      "ngc4457 IRAC\n",
      "ngc4496a IRAC\n",
      "ngc4496a IRAC\n",
      "ngc4536 IRAC\n",
      "ngc4579 IRAC\n",
      "ngc4579 IRAC\n",
      "ngc4945 WISE\n",
      "ngc5128 WISE\n",
      "ngc5128 WISE\n",
      "ngc5236 IRAC\n",
      "ngc5236 IRAC\n",
      "ngc5236 IRAC\n",
      "ngc5236 IRAC\n",
      "ngc5236 IRAC\n",
      "ngc5530 WISE\n",
      "ngc6744 WISE\n",
      "ngc7793 IRAC\n"
     ]
    }
   ],
   "source": [
    "# generate list of galaxies in IRAC sample and Phangs Alma coverage maps\n",
    "# \"/data/tycho/0/leroy.42/reduction/alma/phangs-alma/derived/\" + galaxy + \"_12m+7m+tp_co21_150pc_coverage2d.fits\"\n",
    "\n",
    "IRFileList, PACovFileList = [],[]\n",
    "\n",
    "for i in range(len(galaxies)):\n",
    "    PACovFileList.append(\"/data/tycho/0/leroy.42/reduction/alma/phangs-alma/derived/\" + galaxies[i] + \"/\" + galaxies[i] + \"_\" + telOrient[i] + \"_co21_150pc_coverage2d.fits\")\n",
    "\n",
    "    if galaxies[i] == \"circinus\":\n",
    "        galaxies[i] = \"eso097-013\"\n",
    "    fileCheck = \"/data/tycho/0/leroy.42/projects/phangs_survey_2019/working_data/irac/\" + galaxies[i] + \"_irac1_gauss7p5.fits\"\n",
    "    \n",
    "    if os.path.isfile(fileCheck) == False:\n",
    "        fileCheck = \"/data/tycho/0/leroy.42/projects/phangs_survey_2019/working_data/z0mgs/\" + galaxies[i] + \"_w1_gauss7p5.fits\"\n",
    "        if os.path.isfile(fileCheck) == False:\n",
    "            fileCheck = \"No IRAC or WISE File for \" + galaxies[i] + \".\" \n",
    "        else:\n",
    "            print(galaxies[i], \"WISE\")\n",
    "    else: \n",
    "        print(galaxies[i],\"IRAC\")\n",
    "    IRFileList.append(fileCheck)\n",
    "\n",
    "    "
   ]
  },
  {
   "cell_type": "code",
   "execution_count": 6,
   "id": "e716b456",
   "metadata": {},
   "outputs": [],
   "source": [
    "# for i in range(len(fileList)):\n",
    "#     print(fileList[i])\n",
    "\n",
    "database.add_column(PACovFileList, name =\"PACovFile\")\n",
    "database.add_column(IRFileList, name = \"IFRFile\")\n",
    "\n",
    "database[0:1]\n",
    "\n",
    "ascii.write(database, '../Data/3.SNe+GalData.csv', format='csv', fast_writer=False, overwrite=True)  "
   ]
  },
  {
   "cell_type": "markdown",
   "id": "0016e27c",
   "metadata": {},
   "source": [
    "Missing IRAC files for Circinus, NGC2997, NGC4945, NGC5128, NGC5530, NGC6744\n",
    "Wise files available in ZOMGS directory\n",
    "Missing 150pc res and coverage files for NGC 1068, 1672, & 4579\n",
    "for now will leave out and maybe revisit with another resolution later?\n",
    "\n",
    "What resolution is this map: 7p5 arcsec\n",
    "W1 wise is 3.4 microns.\n",
    "\"IRAC is a four-channel camera that provides simultaneous 5.2 x 5.2 arcmin images at 3.6, 4.5, 5.8, and 8 microns (the black instrument in the lower right part of the above image; see the optical housing model and the conceptual layout diagram. The pixel size is 1.22 arcsec in all bands. \""
   ]
  },
  {
   "cell_type": "code",
   "execution_count": null,
   "id": "18503e69",
   "metadata": {},
   "outputs": [],
   "source": [
    "# remove duplicate galaxies, grouping SNe together in their own lists.\n",
    "\n",
    "gal_group = database.group_by(\"galaxy\")\n",
    "\n",
    "SNr, SNd, SNa = [],[],[]\n",
    "gala, ifrs, covs, imgs, errs, alco, cocs, pans, incl, gdis, SNrs, SNdc, SNea = [],[],[],[],[],[],[],[],[],[],[],[],[]\n",
    "\n",
    "for i in range(len(database)):\n",
    "    gal = database[\"galaxy\"][i]\n",
    "    ifr = database[\"IFRFile\"][i]\n",
    "    cov = database[\"PACovFile\"][i]\n",
    "    img = database[\"ImageFile150\"][i]\n",
    "    ers = database[\"ErrFile150\"][i]\n",
    "    aco = database[\"AlphaCOFile\"][i]\n",
    "    ccs = centerCoords[i]\n",
    "    pas = database[\"orient_posang\"][i]\n",
    "    inc = database[\"orient_incl\"][i]\n",
    "    gds = database[\"dist\"][i]\n",
    "    SNr.append(SNra[i])\n",
    "    SNd.append(SNdec[i])\n",
    "    SNa.append(SNe[i])\n",
    "    \n",
    "    if (i+1) in gal_group.groups.indices:\n",
    "        #print(gal)\n",
    "        if gal != \"ngc1068\" and gal != \"ngc1672\" and gal != \"ngc4579\":\n",
    "            #print(gal)\n",
    "            gala.append(gal)\n",
    "            ifrs.append(ifr)\n",
    "            covs.append(cov)\n",
    "            imgs.append(img)\n",
    "            errs.append(ers)\n",
    "            alco.append(aco)\n",
    "            cocs.append(ccs)\n",
    "            pans.append(pas)\n",
    "            incl.append(inc)\n",
    "            gdis.append(gds)\n",
    "            SNrs.append(SNr)\n",
    "            SNdc.append(SNd)\n",
    "            SNea.append(SNa) \n",
    "            SNr, SNd, SNa = [],[],[]\n",
    "        else: pass\n",
    "    else: pass"
   ]
  }
 ],
 "metadata": {
  "kernelspec": {
   "display_name": "Python 3",
   "language": "python",
   "name": "python3"
  },
  "language_info": {
   "codemirror_mode": {
    "name": "ipython",
    "version": 3
   },
   "file_extension": ".py",
   "mimetype": "text/x-python",
   "name": "python",
   "nbconvert_exporter": "python",
   "pygments_lexer": "ipython3",
   "version": "3.8.10"
  }
 },
 "nbformat": 4,
 "nbformat_minor": 5
}
