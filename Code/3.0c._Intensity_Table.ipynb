{
 "cells": [
  {
   "cell_type": "markdown",
   "id": "premier-promise",
   "metadata": {},
   "source": [
    "This notebook compiles all of the intensity measurements into a latex table."
   ]
  },
  {
   "cell_type": "code",
   "execution_count": 1,
   "id": "wicked-oriental",
   "metadata": {},
   "outputs": [],
   "source": [
    "# IMPORT PACKAGES\n",
    "\n",
    "#global\n",
    "import numpy as np\n",
    "from matplotlib import pyplot as plt\n",
    "import astropy\n",
    "import astropy.io.fits as pyfits\n",
    "from astropy.table import Table, join\n",
    "from astropy.wcs import WCS\n",
    "from astropy.io import ascii\n",
    "from astropy.io import fits\n",
    "import os\n"
   ]
  },
  {
   "cell_type": "code",
   "execution_count": 2,
   "id": "matched-explosion",
   "metadata": {},
   "outputs": [],
   "source": [
    "# import intensity measurements data\n",
    "# import SNeCO data\n",
    "\n",
    "dataFile = '../Data/3.SNe+GalData.csv'\n",
    "SNe_Gal_Data = Table.read(dataFile, format='csv') \n",
    "\n",
    "dataFile = '../Data/3.IntenData.csv'\n",
    "IntenTable = Table.read(dataFile, format='csv') \n",
    "\n",
    "dataTable = join(SNe_Gal_Data, IntenTable, keys=('galaxy', 'SN_name'))\n"
   ]
  },
  {
   "cell_type": "code",
   "execution_count": 3,
   "id": "composed-mortgage",
   "metadata": {},
   "outputs": [
    {
     "data": {
      "text/html": [
       "<i>Table length=1</i>\n",
       "<table id=\"table140279933660656\" class=\"table-striped table-bordered table-condensed\">\n",
       "<thead><tr><th>galaxy</th><th>SN_name</th><th>SN_type</th><th>SN_ra</th><th>SN_dec</th><th>SN_xCoord</th><th>SN_yCoord</th><th>SN_co21int</th><th>SN_co21err</th><th>SN_co21ew</th><th>map_beamsize</th><th>orient_ra</th><th>orient_dec</th><th>dist</th><th>orient_posang</th><th>orient_incl</th><th>size_r25</th><th>telOrient</th><th>ImageFile150</th><th>ErrFile150</th><th>AlphaCOFile</th><th>PACovFile</th><th>IFRFile</th><th>MixedMaps</th><th>IFRResizedMaps</th><th>MassMaps</th><th>NatRes</th><th>NatInt</th><th>pc60Int</th><th>pc90Int</th><th>pc120Int</th><th>pc150Int</th><th>pc500Int</th><th>pc750Int</th><th>pc1000Int</th><th>NatErr</th><th>pc60Err</th><th>pc90Err</th><th>pc120Err</th><th>pc150Err</th><th>pc500Err</th><th>pc750Err</th><th>pc1000Err</th><th>NatEW</th><th>pc60EW</th><th>pc90EW</th><th>pc120EW</th><th>pc150EW</th><th>pc500EW</th><th>pc750EW</th><th>pc1000EW</th><th>NatSNR</th><th>pc60SNR</th><th>pc90SNR</th><th>pc120SNR</th><th>pc150SNR</th><th>pc500SNR</th><th>pc750SNR</th><th>pc1000SNR</th><th>alphaCO</th><th>pc60mgsd</th><th>pc90mgsd</th><th>pc120mgsd</th><th>pc150mgsd</th><th>pc500mgsd</th><th>pc750mgsd</th><th>pc1000mgsd</th><th>pc60mgsdErr</th><th>pc90mgsdErr</th><th>pc120mgsdErr</th><th>pc150mgsdErr</th><th>pc500mgsdErr</th><th>pc750mgsdErr</th><th>pc1000mgsdErr</th></tr></thead>\n",
       "<thead><tr><th>str8</th><th>str11</th><th>str12</th><th>float64</th><th>float64</th><th>float64</th><th>float64</th><th>float64</th><th>float64</th><th>float64</th><th>float64</th><th>float64</th><th>float64</th><th>float64</th><th>float64</th><th>float64</th><th>float64</th><th>str9</th><th>str112</th><th>str113</th><th>str80</th><th>str112</th><th>str97</th><th>str37</th><th>str54</th><th>str35</th><th>float64</th><th>float64</th><th>float64</th><th>float64</th><th>float64</th><th>float64</th><th>float64</th><th>float64</th><th>float64</th><th>float64</th><th>float64</th><th>float64</th><th>float64</th><th>float64</th><th>float64</th><th>float64</th><th>float64</th><th>float64</th><th>float64</th><th>float64</th><th>float64</th><th>float64</th><th>float64</th><th>float64</th><th>float64</th><th>float64</th><th>float64</th><th>float64</th><th>float64</th><th>float64</th><th>float64</th><th>float64</th><th>float64</th><th>float64</th><th>float64</th><th>float64</th><th>float64</th><th>float64</th><th>float64</th><th>float64</th><th>float64</th><th>float64</th><th>float64</th><th>float64</th><th>float64</th><th>float64</th><th>float64</th><th>float64</th></tr></thead>\n",
       "<tr><td>circinus</td><td>SN1996cr</td><td>II</td><td>213.2918</td><td>-65.3457</td><td>86.56761411031889</td><td>84.63433198287285</td><td>186.84804</td><td>2.137819</td><td>34.56537</td><td>0.002032163908078</td><td>213.29124</td><td>-65.33915</td><td>4.2</td><td>36.74</td><td>64.3</td><td>262.49515</td><td>7m+tp</td><td>/data/tycho/0/leroy.42/reduction/alma/phangs-alma/derived/circinus/circinus_7m+tp_co21_150pc_broad_mom0.fits</td><td>/data/tycho/0/leroy.42/reduction/alma/phangs-alma/derived/circinus/circinus_7m+tp_co21_150pc_broad_emom0.fits</td><td>/data/kant/0/sun.1608/PHANGS/ALMA/alphaCO/v1p0/ESO097-013_alphaCO21_scaling.fits</td><td>/data/tycho/0/leroy.42/reduction/alma/phangs-alma/derived/circinus/circinus_7m+tp_co21_150pc_coverage2d.fits</td><td>/data/tycho/0/leroy.42/projects/phangs_survey_2019/working_data/z0mgs/eso097-013_w1_gauss7p5.fits</td><td>../Data/MixedMaps/circinus_Mixed.fits</td><td>../Data/ReprojectedInfraredMaps/circinus_reshaped.fits</td><td>../Data/MassMaps/circinus_Mass.fits</td><td>148.96539476404914</td><td>186.84803771972656</td><td>nan</td><td>nan</td><td>nan</td><td>186.84803771972656</td><td>111.39796447753906</td><td>97.68943786621094</td><td>81.1122817993164</td><td>2.1378190517425537</td><td>nan</td><td>nan</td><td>nan</td><td>2.1378190517425537</td><td>0.24664470553398132</td><td>0.17664189636707306</td><td>0.16147032380104065</td><td>34.56536865234375</td><td>nan</td><td>nan</td><td>nan</td><td>34.56536865234375</td><td>49.76144790649414</td><td>69.42247772216797</td><td>86.25480651855469</td><td>87.40124079604642</td><td>nan</td><td>nan</td><td>nan</td><td>87.40124079604642</td><td>451.65358095307374</td><td>553.036623107839</td><td>502.3355368956884</td><td>4.968773833170559</td><td>nan</td><td>nan</td><td>nan</td><td>402.6115402289611</td><td>240.03519974851744</td><td>210.4966984047925</td><td>174.77700651956354</td><td>nan</td><td>nan</td><td>nan</td><td>4.606473964923083</td><td>0.5314586441272052</td><td>0.3806198172227499</td><td>0.34792881188466773</td></tr>\n",
       "</table>"
      ],
      "text/plain": [
       "<Table length=1>\n",
       " galaxy  SN_name  SN_type ...    pc750mgsdErr       pc1000mgsdErr   \n",
       "  str8    str11    str12  ...      float64             float64      \n",
       "-------- -------- ------- ... ------------------ -------------------\n",
       "circinus SN1996cr      II ... 0.3806198172227499 0.34792881188466773"
      ]
     },
     "execution_count": 3,
     "metadata": {},
     "output_type": "execute_result"
    }
   ],
   "source": [
    "dataTable[0:1]"
   ]
  },
  {
   "cell_type": "code",
   "execution_count": 4,
   "id": "sublime-prince",
   "metadata": {},
   "outputs": [],
   "source": [
    "# pull galaxy names and telescope orientation to generate the file lists\n",
    "\n",
    "galaxies  = dataTable['galaxy']\n",
    "SNname    = dataTable['SN_name']\n",
    "SNtype    = dataTable['SN_type']\n",
    "pc60Int   = dataTable['pc60Int']\n",
    "pc90Int   = dataTable['pc90Int']\n",
    "pc120Int  = dataTable['pc120Int']\n",
    "pc150Int  = dataTable['pc150Int']\n",
    "pc60Err   = dataTable['pc60Err']\n",
    "pc90Err   = dataTable['pc90Err']\n",
    "pc120Err  = dataTable['pc120Err']\n",
    "pc150Err  = dataTable['pc150Err']"
   ]
  },
  {
   "cell_type": "code",
   "execution_count": 5,
   "id": "respiratory-roots",
   "metadata": {},
   "outputs": [
    {
     "name": "stdout",
     "output_type": "stream",
     "text": [
      "['nan', 'nan', '4.94 $\\\\pm$ 1.73', 'nan', 'nan', 'nan', 'nan', 'nan', 'nan', 'nan', 'nan', 'nan', 'nan', 'nan', 'nan', 'nan', 'nan', 'nan', 'nan', 'nan', 'nan', 'nan', 'nan', 'nan', 'nan', 'nan', 'nan', 'nan', 'nan', 'nan', 'nan', 'nan', 'nan', 'nan', 'nan', 'nan', 'nan', 'nan', 'nan', 'nan', 'nan', 'nan', 'nan', 'nan', 'nan', 'nan', 'nan', 'nan', 'nan', 'nan', 'nan', 'nan', 'nan', 'nan', 'nan', '3.04 $\\\\pm$ 0.64', '62.43 $\\\\pm$ 0.73', '38.5 $\\\\pm$ 0.58', '164.3 $\\\\pm$ 0.96', '2.35 $\\\\pm$ 0.67', 'nan', '7.42 $\\\\pm$ 1.46', 'nan']\n"
     ]
    }
   ],
   "source": [
    "def makeIntStr(intVal, errVal):\n",
    "    \n",
    "    string = str(round(intVal,2)) + \" $\\pm$ \" + str(round(errVal,2))\n",
    "    \n",
    "    return(string)\n",
    "\n",
    "Arr60, Arr90, Arr120, Arr150 = [],[],[],[]\n",
    "\n",
    "for i in range(len(galaxies)):\n",
    "    \n",
    "    if(np.isfinite(pc60Int[i])==True):\n",
    "        string = makeIntStr(pc60Int[i], pc60Err[i])\n",
    "        Arr60.append(string)\n",
    "    else:\n",
    "        Arr60.append(\"nan\")\n",
    "        \n",
    "    if(np.isfinite(pc90Int[i])==True):\n",
    "        string = makeIntStr(pc90Int[i], pc90Err[i])\n",
    "        Arr90.append(string)\n",
    "    else:\n",
    "        Arr90.append(\"nan\")\n",
    "        \n",
    "    if(np.isfinite(pc120Int[i])==True):\n",
    "        string = makeIntStr(pc120Int[i], pc120Err[i])\n",
    "        Arr120.append(string)\n",
    "    else:\n",
    "        Arr120.append(\"nan\")\n",
    "        \n",
    "    if(np.isfinite(pc150Int[i])==True):\n",
    "        string = makeIntStr(pc150Int[i], pc150Err[i])\n",
    "        Arr150.append(string)\n",
    "    else:\n",
    "        Arr150.append(\"nan\")\n",
    "        \n",
    "print(Arr60)"
   ]
  },
  {
   "cell_type": "code",
   "execution_count": 6,
   "id": "former-vitamin",
   "metadata": {},
   "outputs": [],
   "source": [
    "intenTexTable = Table({\"Supernova\"  :  SNname,\n",
    "                       \"Type\"       :  SNtype,\n",
    "                       \"Galaxy\"     :  galaxies,\n",
    "                       \"60pc\"       :  Arr60,\n",
    "                       \"90pc\"       :  Arr90,\n",
    "                       \"120pc\"      :  Arr120,\n",
    "                       \"150pc\"      :  Arr150\n",
    "                      })"
   ]
  },
  {
   "cell_type": "code",
   "execution_count": 7,
   "id": "designed-attraction",
   "metadata": {},
   "outputs": [],
   "source": [
    "ascii.write(intenTexTable, '../Data/3.IntenTexTable.tex', format='latex', fast_writer=False, overwrite=True)  "
   ]
  },
  {
   "cell_type": "code",
   "execution_count": 8,
   "id": "difficult-dominant",
   "metadata": {},
   "outputs": [],
   "source": [
    "# for i in range(len(galaxies)):\n",
    "#     print(Arr150[i], galaxies[i])"
   ]
  },
  {
   "cell_type": "code",
   "execution_count": 9,
   "id": "60567bac",
   "metadata": {},
   "outputs": [
    {
     "data": {
      "image/png": "[encoded data removed]",
      "text/plain": [
       "<Figure size 432x432 with 1 Axes>"
      ]
     },
     "metadata": {
      "needs_background": "light"
     },
     "output_type": "display_data"
    }
   ],
   "source": [
    "x60v150, y60v150, ex60v150, ey60v150 = [],[],[],[]\n",
    "x90v150, y90v150, ex90v150, ey90v150 = [],[],[],[]\n",
    "x120v150, y120v150, ex120v150, ey120v150 = [],[],[],[]\n",
    "\n",
    "#get intensity v intensity arrays\n",
    "for i in range(len(SNname)):\n",
    "    if (np.isfinite(pc60Int[i])and np.isfinite(pc150Int[i])):\n",
    "        y60v150.append(pc60Int[i])\n",
    "        x60v150.append(pc150Int[i])\n",
    "        ey60v150.append(pc60Err[i])\n",
    "        ex60v150.append(pc150Err[i])\n",
    "    if (np.isfinite(pc90Int[i])and np.isfinite(pc150Int[i])):\n",
    "        y90v150.append(pc90Int[i])\n",
    "        x90v150.append(pc150Int[i])\n",
    "        ey90v150.append(pc90Err[i])\n",
    "        ex90v150.append(pc150Err[i])\n",
    "    if (np.isfinite(pc120Int[i])and np.isfinite(pc150Int[i])):\n",
    "        y120v150.append(pc120Int[i])\n",
    "        x120v150.append(pc150Int[i])\n",
    "        ey120v150.append(pc120Err[i])\n",
    "        ex120v150.append(pc150Err[i])\n",
    "    \n",
    "#next assign upper limit arrows and error bars\n",
    "def checkULs(xvarray, yvarray, exarray, eyarray):\n",
    "\n",
    "    detx = np.asarray(xvarray) < (3 * np.asarray(exarray))\n",
    "    dety = np.asarray(yvarray) < (3 * np.asarray(eyarray))\n",
    "    \n",
    "    for i in range(len(detx)):\n",
    "        if detx[i] == True:\n",
    "            xvarray[i] = 3 * exarray[i]\n",
    "        if dety[i] == True:\n",
    "            yvarray[i] = 3 * eyarray[i]\n",
    "    \n",
    "    return(detx,dety, xvarray, yvarray)\n",
    "\n",
    "Det60x,Det60y,x60v150Flip, y60v150Flip = checkULs(x60v150, y60v150, ex60v150, ey60v150)\n",
    "Det90x,Det90y,x90v150Flip, y90v150Flip = checkULs(x90v150, y90v150, ex90v150, ey90v150)\n",
    "Det120x,Det120y,x120v150Flip, y120v150Flip = checkULs(x120v150, y120v150, ex120v150, ey120v150)\n",
    "\n",
    "x, y = np.linspace(0.5,400,1000),  np.linspace(0.5,400,1000)\n",
    "fig = plt.figure(figsize=(6,6))  \n",
    "plt.loglog(x,y,ls=\"-\",color=\"grey\")\n",
    "plt.xlim(0.5,400)\n",
    "plt.ylim(0.5,400)\n",
    "plt.loglog(x120v150Flip,y120v150Flip,color=\"black\", marker=\"o\",ls=\"\",ms=10, label=\"120 pc\", alpha = .7)\n",
    "plt.errorbar(x120v150Flip,y120v150Flip, xerr=ex120v150, yerr=ey120v150,uplims = Det120y, xuplims=Det120x,markeredgecolor=\"black\",markerfacecolor=\"None\", color=\"black\", marker=\"o\",ms=10,ls=\"\", alpha = .7)\n",
    "plt.loglog(x90v150Flip,y90v150Flip,color=\"orange\", marker=\"o\",ls=\"\",ms=10, label=\"90 pc\", alpha = .7)\n",
    "plt.errorbar(x90v150Flip,y90v150Flip, xerr=ex90v150, yerr=ey90v150,uplims = Det90y, xuplims=Det90x,markeredgecolor=\"orange\",markerfacecolor=\"None\",  color=\"orange\", marker=\"o\",ms=10,ls=\"\", alpha = .7)\n",
    "plt.loglog(x60v150Flip,y60v150Flip,color=\"purple\", marker=\"o\",ls=\"\",ms=10, label=\"60 pc\", alpha = .7)\n",
    "plt.errorbar(x60v150Flip,y60v150Flip, xerr=ex60v150, yerr=ey60v150,uplims = Det60y, xuplims=Det60x,markeredgecolor=\"purple\",markerfacecolor=\"None\",  color=\"purple\", marker=\"o\",ms=10,ls=\"\", alpha = .7)\n",
    "plt.legend(loc=\"best\", fontsize = 14)\n",
    "plt.ylabel(\"CO(2-1) Intensity at higher resolutions\", fontsize=14)\n",
    "plt.xlabel(\"CO(2-1) Intensity at 150 pc\", fontsize=14)\n",
    "plt.show()\n",
    "fig.savefig(\"../Figures/ResolutionIntensityComparison.png\")\n",
    "plt.close()"
   ]
  },
  {
   "cell_type": "code",
   "execution_count": null,
   "id": "f85597d3",
   "metadata": {},
   "outputs": [],
   "source": []
  },
  {
   "cell_type": "code",
   "execution_count": null,
   "id": "73fab8b5",
   "metadata": {},
   "outputs": [],
   "source": []
  }
 ],
 "metadata": {
  "kernelspec": {
   "display_name": "Python 3",
   "language": "python",
   "name": "python3"
  },
  "language_info": {
   "codemirror_mode": {
    "name": "ipython",
    "version": 3
   },
   "file_extension": ".py",
   "mimetype": "text/x-python",
   "name": "python",
   "nbconvert_exporter": "python",
   "pygments_lexer": "ipython3",
   "version": "3.8.10"
  }
 },
 "nbformat": 4,
 "nbformat_minor": 5
}
