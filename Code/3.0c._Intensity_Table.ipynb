{
 "cells": [
  {
   "cell_type": "markdown",
   "id": "premier-promise",
   "metadata": {},
   "source": [
    "This notebook compiles all of the intensity measurements into a latex table."
   ]
  },
  {
   "cell_type": "code",
   "execution_count": 1,
   "id": "wicked-oriental",
   "metadata": {},
   "outputs": [],
   "source": [
    "# IMPORT PACKAGES\n",
    "\n",
    "#global\n",
    "import numpy as np\n",
    "from matplotlib import pyplot as plt\n",
    "import astropy\n",
    "import astropy.io.fits as pyfits\n",
    "from astropy.table import Table, join\n",
    "from astropy.wcs import WCS\n",
    "from astropy.io import ascii\n",
    "from astropy.io import fits\n",
    "import os\n"
   ]
  },
  {
   "cell_type": "code",
   "execution_count": 2,
   "id": "matched-explosion",
   "metadata": {},
   "outputs": [],
   "source": [
    "# import intensity measurements data\n",
    "# import SNeCO data\n",
    "\n",
    "dataFile = '../Data/3.SNe+GalData.csv'\n",
    "SNe_Gal_Data = Table.read(dataFile, format='csv') \n",
    "\n",
    "dataFile = '../Data/3.IntenData.csv'\n",
    "IntenTable = Table.read(dataFile, format='csv') \n",
    "\n",
    "dataTable = join(SNe_Gal_Data, IntenTable, keys=('galaxy', 'SN_name'))\n"
   ]
  },
  {
   "cell_type": "code",
   "execution_count": 3,
   "id": "composed-mortgage",
   "metadata": {},
   "outputs": [
    {
     "data": {
      "text/html": [
       "<i>Table length=63</i>\n",
       "<table id=\"table140355574741360\" class=\"table-striped table-bordered table-condensed\">\n",
       "<thead><tr><th>galaxy</th><th>SN_name</th><th>SN_type</th><th>SN_ra</th><th>SN_dec</th><th>SN_xCoord</th><th>SN_yCoord</th><th>SN_co21int</th><th>SN_co21err</th><th>SN_co21ew</th><th>map_beamsize</th><th>orient_ra</th><th>orient_dec</th><th>dist</th><th>orient_posang</th><th>orient_incl</th><th>size_r25</th><th>telOrient</th><th>ImageFile150</th><th>ErrFile150</th><th>AlphaCOFile</th><th>PACovFile</th><th>IFRFile</th><th>MixedMaps</th><th>IFRResizedMaps</th><th>MassMaps</th><th>NatRes</th><th>NatInt</th><th>pc60Int</th><th>pc90Int</th><th>pc120Int</th><th>pc150Int</th><th>pc500Int</th><th>pc750Int</th><th>pc1000Int</th><th>NatErr</th><th>pc60Err</th><th>pc90Err</th><th>pc120Err</th><th>pc150Err</th><th>pc500Err</th><th>pc750Err</th><th>pc1000Err</th><th>NatEW</th><th>pc60EW</th><th>pc90EW</th><th>pc120EW</th><th>pc150EW</th><th>pc500EW</th><th>pc750EW</th><th>pc1000EW</th><th>NatSNR</th><th>pc60SNR</th><th>pc90SNR</th><th>pc120SNR</th><th>pc150SNR</th><th>pc500SNR</th><th>pc750SNR</th><th>pc1000SNR</th><th>alphaCO</th><th>pc60mgsd</th><th>pc90mgsd</th><th>pc120mgsd</th><th>pc150mgsd</th><th>pc500mgsd</th><th>pc750mgsd</th><th>pc1000mgsd</th><th>pc60mgsdErr</th><th>pc90mgsdErr</th><th>pc120mgsdErr</th><th>pc150mgsdErr</th><th>pc500mgsdErr</th><th>pc750mgsdErr</th><th>pc1000mgsdErr</th></tr></thead>\n",
       "<thead><tr><th>str8</th><th>str11</th><th>str12</th><th>float64</th><th>float64</th><th>float64</th><th>float64</th><th>float64</th><th>float64</th><th>float64</th><th>float64</th><th>float64</th><th>float64</th><th>float64</th><th>float64</th><th>float64</th><th>float64</th><th>str9</th><th>str112</th><th>str113</th><th>str80</th><th>str112</th><th>str97</th><th>str37</th><th>str54</th><th>str35</th><th>float64</th><th>float64</th><th>float64</th><th>float64</th><th>float64</th><th>float64</th><th>float64</th><th>float64</th><th>float64</th><th>float64</th><th>float64</th><th>float64</th><th>float64</th><th>float64</th><th>float64</th><th>float64</th><th>float64</th><th>float64</th><th>float64</th><th>float64</th><th>float64</th><th>float64</th><th>float64</th><th>float64</th><th>float64</th><th>float64</th><th>float64</th><th>float64</th><th>float64</th><th>float64</th><th>float64</th><th>float64</th><th>float64</th><th>float64</th><th>float64</th><th>float64</th><th>float64</th><th>float64</th><th>float64</th><th>float64</th><th>float64</th><th>float64</th><th>float64</th><th>float64</th><th>float64</th><th>float64</th><th>float64</th><th>float64</th></tr></thead>\n",
       "<tr><td>circinus</td><td>SN1996cr</td><td>II</td><td>213.2918</td><td>-65.3457</td><td>86.56761411031889</td><td>84.63433198287285</td><td>186.84804</td><td>2.137819</td><td>34.56537</td><td>0.002032163908078</td><td>213.29124</td><td>-65.33915</td><td>4.2</td><td>36.74</td><td>64.3</td><td>262.49515</td><td>7m+tp</td><td>/data/tycho/0/leroy.42/reduction/alma/phangs-alma/derived/circinus/circinus_7m+tp_co21_150pc_broad_mom0.fits</td><td>/data/tycho/0/leroy.42/reduction/alma/phangs-alma/derived/circinus/circinus_7m+tp_co21_150pc_broad_emom0.fits</td><td>/data/kant/0/sun.1608/PHANGS/ALMA/alphaCO/v1p0/ESO097-013_alphaCO21_scaling.fits</td><td>/data/tycho/0/leroy.42/reduction/alma/phangs-alma/derived/circinus/circinus_7m+tp_co21_150pc_coverage2d.fits</td><td>/data/tycho/0/leroy.42/projects/phangs_survey_2019/working_data/z0mgs/eso097-013_w1_gauss7p5.fits</td><td>../Data/MixedMaps/circinus_Mixed.fits</td><td>../Data/ReprojectedInfraredMaps/circinus_reshaped.fits</td><td>../Data/MassMaps/circinus_Mass.fits</td><td>148.96539476404914</td><td>186.84803771972656</td><td>nan</td><td>nan</td><td>nan</td><td>186.84803771972656</td><td>111.39796447753906</td><td>97.68943786621094</td><td>81.1122817993164</td><td>2.1378190517425537</td><td>nan</td><td>nan</td><td>nan</td><td>2.1378190517425537</td><td>0.24664470553398132</td><td>0.17664189636707306</td><td>0.16147032380104065</td><td>34.56536865234375</td><td>nan</td><td>nan</td><td>nan</td><td>34.56536865234375</td><td>49.76144790649414</td><td>69.42247772216797</td><td>86.25480651855469</td><td>87.40124079604642</td><td>nan</td><td>nan</td><td>nan</td><td>87.40124079604642</td><td>451.65358095307374</td><td>553.036623107839</td><td>502.3355368956884</td><td>4.968773833170559</td><td>nan</td><td>nan</td><td>nan</td><td>928.4056406010429</td><td>553.5112909644595</td><td>485.39672264677006</td><td>403.02858335319996</td><td>nan</td><td>nan</td><td>nan</td><td>10.622339364351898</td><td>1.2255217589473042</td><td>0.8776936325103383</td><td>0.802309519736188</td></tr>\n",
       "<tr><td>ngc0253</td><td>SN1940E</td><td>I</td><td>11.8783</td><td>-25.2934</td><td>296.9010534051223</td><td>236.26662905273994</td><td>219.30367</td><td>1.465811</td><td>45.862267</td><td>0.00232543637022</td><td>11.887966</td><td>-25.288443</td><td>3.7</td><td>52.48</td><td>75.0</td><td>803.7504</td><td>7m+tp</td><td>/data/tycho/0/leroy.42/reduction/alma/phangs-alma/derived/ngc0253/ngc0253_7m+tp_co21_150pc_broad_mom0.fits</td><td>/data/tycho/0/leroy.42/reduction/alma/phangs-alma/derived/ngc0253/ngc0253_7m+tp_co21_150pc_broad_emom0.fits</td><td>/data/kant/0/sun.1608/PHANGS/ALMA/alphaCO/v1p0/NGC0253_alphaCO21_scaling.fits</td><td>/data/tycho/0/leroy.42/reduction/alma/phangs-alma/derived/ngc0253/ngc0253_7m+tp_co21_150pc_coverage2d.fits</td><td>/data/tycho/0/leroy.42/projects/phangs_survey_2019/working_data/irac/ngc0253_irac1_gauss7p5.fits</td><td>../Data/MixedMaps/ngc0253_Mixed.fits</td><td>../Data/ReprojectedInfraredMaps/ngc0253_reshaped.fits</td><td>../Data/MassMaps/ngc0253_Mass.fits</td><td>150.1701284517627</td><td>219.3036651611328</td><td>nan</td><td>nan</td><td>nan</td><td>219.3036651611328</td><td>153.83908081054688</td><td>153.87240600585938</td><td>142.72422790527344</td><td>1.465811014175415</td><td>nan</td><td>nan</td><td>nan</td><td>1.465811014175415</td><td>0.18237826228141785</td><td>0.11332354694604874</td><td>0.09203742444515228</td><td>45.862266540527344</td><td>nan</td><td>nan</td><td>nan</td><td>45.862266540527344</td><td>60.678550720214844</td><td>65.11054229736328</td><td>69.24812316894531</td><td>149.61251009871899</td><td>nan</td><td>nan</td><td>nan</td><td>149.61251009871899</td><td>843.5165402177496</td><td>1357.8149480188367</td><td>1550.7194900953239</td><td>4.479999295527333</td><td>nan</td><td>nan</td><td>nan</td><td>982.4802654284371</td><td>689.1989736558224</td><td>689.3482705073457</td><td>639.4044404703075</td><td>nan</td><td>nan</td><td>nan</td><td>6.566832310882065</td><td>0.817054486540251</td><td>0.507689410484957</td><td>0.4123275966764323</td></tr>\n",
       "<tr><td>ngc0628</td><td>SN2013ej</td><td>II</td><td>24.2007</td><td>15.7586</td><td>333.46022572413716</td><td>356.77980642079694</td><td>5.7713037</td><td>1.9949342</td><td>nan</td><td>0.0003114595189268</td><td>24.173855</td><td>15.783643</td><td>9.84</td><td>20.7</td><td>8.9</td><td>296.56592</td><td>12m+7m+tp</td><td>/data/tycho/0/leroy.42/reduction/alma/phangs-alma/derived/ngc0628/ngc0628_12m+7m+tp_co21_150pc_broad_mom0.fits</td><td>/data/tycho/0/leroy.42/reduction/alma/phangs-alma/derived/ngc0628/ngc0628_12m+7m+tp_co21_150pc_broad_emom0.fits</td><td>/data/kant/0/sun.1608/PHANGS/ALMA/alphaCO/v1p0/NGC0628_alphaCO21_scaling.fits</td><td>/data/tycho/0/leroy.42/reduction/alma/phangs-alma/derived/ngc0628/ngc0628_12m+7m+tp_co21_150pc_coverage2d.fits</td><td>/data/tycho/0/leroy.42/projects/phangs_survey_2019/working_data/irac/ngc0628_irac1_gauss7p5.fits</td><td>../Data/MixedMaps/ngc0628_Mixed.fits</td><td>../Data/ReprojectedInfraredMaps/ngc0628_reshaped.fits</td><td>../Data/MassMaps/ngc0628_Mass.fits</td><td>53.490181864724654</td><td>5.771303653717041</td><td>4.944133281707764</td><td>2.7272579669952393</td><td>1.8072082996368408</td><td>1.341525912284851</td><td>0.6933073997497559</td><td>0.5306633114814758</td><td>0.5881704092025757</td><td>1.9949342012405396</td><td>1.7279061079025269</td><td>1.2605571746826172</td><td>1.0164546966552734</td><td>0.8571658730506897</td><td>0.18906767666339874</td><td>0.1100897341966629</td><td>0.06774332374334335</td><td>nan</td><td>nan</td><td>nan</td><td>nan</td><td>nan</td><td>nan</td><td>1.9705547094345093</td><td>4.776077747344971</td><td>2.892979452719887</td><td>2.861343714855754</td><td>2.1635337307741773</td><td>1.7779526284679545</td><td>1.5650715391996457</td><td>3.6669800570092472</td><td>4.820279705040487</td><td>8.68233763419928</td><td>7.274922328334363</td><td>35.96818560535686</td><td>19.840589879221447</td><td>13.147300010979231</td><td>9.75949681332019</td><td>5.043757482838937</td><td>3.8605343735244415</td><td>4.278894042773377</td><td>12.570382725645418</td><td>9.170455536240652</td><td>7.394628968437781</td><td>6.235815148942681</td><td>1.3754526625248613</td><td>0.800894265427698</td><td>0.492827418496032</td></tr>\n",
       "<tr><td>ngc1068</td><td>SN2018ivc</td><td>II</td><td>40.672</td><td>-0.0088</td><td>41.400000046852824</td><td>53.87249997022789</td><td>127.77749</td><td>0.6721418</td><td>32.0753</td><td>0.002414131938401</td><td>40.66973</td><td>-0.0132779</td><td>13.97</td><td>72.65</td><td>34.7</td><td>183.28261</td><td>7m+tp</td><td>/data/tycho/0/leroy.42/reduction/alma/phangs-alma/derived/ngc1068/ngc1068_7m+tp_co21_150pc_broad_mom0.fits</td><td>/data/tycho/0/leroy.42/reduction/alma/phangs-alma/derived/ngc1068/ngc1068_7m+tp_co21_150pc_broad_emom0.fits</td><td>/data/kant/0/sun.1608/PHANGS/ALMA/alphaCO/v1p0/NGC1068_alphaCO21_scaling.fits</td><td>/data/tycho/0/leroy.42/reduction/alma/phangs-alma/derived/ngc1068/ngc1068_7m+tp_co21_150pc_coverage2d.fits</td><td>/data/tycho/0/leroy.42/projects/phangs_survey_2019/working_data/irac/ngc1068_irac1_gauss7p5.fits</td><td>../Data/MixedMaps/ngc1068_Mixed.fits</td><td>../Data/ReprojectedInfraredMaps/ngc1068_reshaped.fits</td><td>../Data/MassMaps/ngc1068_Mass.fits</td><td>588.6196760664847</td><td>127.7774887084961</td><td>nan</td><td>nan</td><td>nan</td><td>nan</td><td>nan</td><td>128.53480529785156</td><td>122.50003814697266</td><td>0.6721417903900146</td><td>nan</td><td>nan</td><td>nan</td><td>nan</td><td>nan</td><td>0.4782250225543976</td><td>0.3369501829147339</td><td>32.07529830932617</td><td>nan</td><td>nan</td><td>nan</td><td>nan</td><td>nan</td><td>36.46405792236328</td><td>44.54560470581055</td><td>190.10496079160973</td><td>nan</td><td>nan</td><td>nan</td><td>nan</td><td>nan</td><td>268.77473832568194</td><td>363.55533950836764</td><td>6.692307692307692</td><td>nan</td><td>nan</td><td>nan</td><td>nan</td><td>nan</td><td>860.1944662240835</td><td>819.8079475989707</td><td>nan</td><td>nan</td><td>nan</td><td>nan</td><td>nan</td><td>3.2004289970948143</td><td>2.2549743010447574</td></tr>\n",
       "<tr><td>ngc1087</td><td>SN1995V</td><td>II</td><td>41.6115</td><td>-0.4988</td><td>161.4198245203906</td><td>287.6499560537321</td><td>11.513839</td><td>1.1399242</td><td>5.175495</td><td>0.0004451676280474</td><td>41.60492</td><td>-0.498717</td><td>15.85</td><td>359.1</td><td>42.9</td><td>89.14999</td><td>12m+7m+tp</td><td>/data/tycho/0/leroy.42/reduction/alma/phangs-alma/derived/ngc1087/ngc1087_12m+7m+tp_co21_150pc_broad_mom0.fits</td><td>/data/tycho/0/leroy.42/reduction/alma/phangs-alma/derived/ngc1087/ngc1087_12m+7m+tp_co21_150pc_broad_emom0.fits</td><td>/data/kant/0/sun.1608/PHANGS/ALMA/alphaCO/v1p0/NGC1087_alphaCO21_scaling.fits</td><td>/data/tycho/0/leroy.42/reduction/alma/phangs-alma/derived/ngc1087/ngc1087_12m+7m+tp_co21_150pc_coverage2d.fits</td><td>/data/tycho/0/leroy.42/projects/phangs_survey_2019/working_data/irac/ngc1087_irac1_gauss7p5.fits</td><td>../Data/MixedMaps/ngc1087_Mixed.fits</td><td>../Data/ReprojectedInfraredMaps/ngc1087_reshaped.fits</td><td>../Data/MassMaps/ngc1087_Mass.fits</td><td>123.1488071983115</td><td>15.466903686523438</td><td>nan</td><td>nan</td><td>15.466903686523438</td><td>12.753849029541016</td><td>4.536659240722656</td><td>4.371304512023926</td><td>4.203847885131836</td><td>1.1405595541000366</td><td>nan</td><td>nan</td><td>1.1405595541000366</td><td>0.9069606065750122</td><td>0.2801399230957031</td><td>0.1639837622642517</td><td>0.10871382057666779</td><td>6.007981300354004</td><td>nan</td><td>nan</td><td>6.007981300354004</td><td>6.287197589874268</td><td>8.803016662597656</td><td>14.90282154083252</td><td>20.871063232421875</td><td>13.560803231119014</td><td>nan</td><td>nan</td><td>13.560803231119014</td><td>14.062186314468311</td><td>16.194261748165093</td><td>26.656935123733685</td><td>38.668937057245394</td><td>6.629858070576079</td><td>nan</td><td>nan</td><td>102.54337623292032</td><td>84.55620891941139</td><td>30.077406880558648</td><td>28.981128497987452</td><td>27.870914828715485</td><td>nan</td><td>nan</td><td>7.561747964722781</td><td>6.013020097195921</td><td>1.8572879300266094</td><td>1.0871890696910782</td><td>0.7207572007333807</td></tr>\n",
       "<tr><td>ngc1097</td><td>SN1992bd</td><td>II</td><td>41.5792</td><td>-30.2756</td><td>291.5099030167368</td><td>315.426803230518</td><td>296.15988</td><td>2.0283754</td><td>45.82589</td><td>0.0004711325009833</td><td>41.578957</td><td>-30.274675</td><td>13.58</td><td>122.4</td><td>48.6</td><td>317.0452</td><td>12m+7m+tp</td><td>/data/tycho/0/leroy.42/reduction/alma/phangs-alma/derived/ngc1097/ngc1097_12m+7m+tp_co21_150pc_broad_mom0.fits</td><td>/data/tycho/0/leroy.42/reduction/alma/phangs-alma/derived/ngc1097/ngc1097_12m+7m+tp_co21_150pc_broad_emom0.fits</td><td>/data/kant/0/sun.1608/PHANGS/ALMA/alphaCO/v1p0/NGC1097_alphaCO21_scaling.fits</td><td>/data/tycho/0/leroy.42/reduction/alma/phangs-alma/derived/ngc1097/ngc1097_12m+7m+tp_co21_150pc_coverage2d.fits</td><td>/data/tycho/0/leroy.42/projects/phangs_survey_2019/working_data/irac/ngc1097_irac1_gauss7p5.fits</td><td>../Data/MixedMaps/ngc1097_Mixed.fits</td><td>../Data/ReprojectedInfraredMaps/ngc1097_reshaped.fits</td><td>../Data/MassMaps/ngc1097_Mass.fits</td><td>111.66580536484963</td><td>282.0977783203125</td><td>nan</td><td>nan</td><td>282.0977783203125</td><td>260.3741149902344</td><td>223.9143524169922</td><td>193.74581909179688</td><td>167.37948608398438</td><td>2.054412841796875</td><td>nan</td><td>nan</td><td>2.054412841796875</td><td>1.491909384727478</td><td>0.4566611051559448</td><td>0.2543865442276001</td><td>0.15315735340118408</td><td>46.925418853759766</td><td>nan</td><td>nan</td><td>46.925418853759766</td><td>49.31303024291992</td><td>98.3154525756836</td><td>110.4483871459961</td><td>116.62813568115234</td><td>137.31309140064468</td><td>nan</td><td>nan</td><td>137.31309140064468</td><td>174.52408145940848</td><td>490.32937092491784</td><td>761.6197612970132</td><td>1092.859613769549</td><td>4.206428083333224</td><td>nan</td><td>nan</td><td>1186.6240169724726</td><td>1095.244989467956</td><td>941.8796202682084</td><td>814.9778544561326</td><td>704.0697708375544</td><td>nan</td><td>nan</td><td>8.64173987249479</td><td>6.275609533706055</td><td>1.9209120972939526</td><td>1.0700587036610663</td><td>0.644245392515732</td></tr>\n",
       "<tr><td>ngc1097</td><td>SN1999eu</td><td>II</td><td>41.5866</td><td>-30.3184</td><td>245.2470996170838</td><td>7.223039949207134</td><td>0.0</td><td>0.7541714</td><td>nan</td><td>0.0004711325009833</td><td>41.578957</td><td>-30.274675</td><td>13.58</td><td>122.4</td><td>48.6</td><td>317.0452</td><td>12m+7m+tp</td><td>/data/tycho/0/leroy.42/reduction/alma/phangs-alma/derived/ngc1097/ngc1097_12m+7m+tp_co21_150pc_broad_mom0.fits</td><td>/data/tycho/0/leroy.42/reduction/alma/phangs-alma/derived/ngc1097/ngc1097_12m+7m+tp_co21_150pc_broad_emom0.fits</td><td>/data/kant/0/sun.1608/PHANGS/ALMA/alphaCO/v1p0/NGC1097_alphaCO21_scaling.fits</td><td>/data/tycho/0/leroy.42/reduction/alma/phangs-alma/derived/ngc1097/ngc1097_12m+7m+tp_co21_150pc_coverage2d.fits</td><td>/data/tycho/0/leroy.42/projects/phangs_survey_2019/working_data/irac/ngc1097_irac1_gauss7p5.fits</td><td>../Data/MixedMaps/ngc1097_Mixed.fits</td><td>../Data/ReprojectedInfraredMaps/ngc1097_reshaped.fits</td><td>../Data/MassMaps/ngc1097_Mass.fits</td><td>111.66580536484963</td><td>0.0</td><td>nan</td><td>nan</td><td>0.0</td><td>0.0</td><td>0.0</td><td>0.0</td><td>0.0</td><td>0.7541713714599609</td><td>nan</td><td>nan</td><td>0.7541713714599609</td><td>0.5342973470687866</td><td>0.12150260806083679</td><td>0.06001226231455803</td><td>0.03276948630809784</td><td>nan</td><td>nan</td><td>nan</td><td>nan</td><td>nan</td><td>nan</td><td>nan</td><td>nan</td><td>0.0</td><td>nan</td><td>nan</td><td>0.0</td><td>0.0</td><td>0.0</td><td>0.0</td><td>0.0</td><td>10.912807259453894</td><td>nan</td><td>nan</td><td>0.0</td><td>0.0</td><td>0.0</td><td>0.0</td><td>0.0</td><td>nan</td><td>nan</td><td>8.230126817340562</td><td>5.830683967799211</td><td>1.325934543288881</td><td>0.6549022518425602</td><td>0.3576070880715851</td></tr>\n",
       "<tr><td>ngc1365</td><td>SN1983V</td><td>Ic</td><td>53.3819</td><td>-36.1486</td><td>571.5153905023813</td><td>127.96380165601636</td><td>5.781725</td><td>1.1458964</td><td>3.55028</td><td>0.0003829740084505</td><td>53.40152</td><td>-36.140404</td><td>19.57</td><td>201.1</td><td>55.4</td><td>360.67926</td><td>12m+7m+tp</td><td>/data/tycho/0/leroy.42/reduction/alma/phangs-alma/derived/ngc1365/ngc1365_12m+7m+tp_co21_150pc_broad_mom0.fits</td><td>/data/tycho/0/leroy.42/reduction/alma/phangs-alma/derived/ngc1365/ngc1365_12m+7m+tp_co21_150pc_broad_emom0.fits</td><td>/data/kant/0/sun.1608/PHANGS/ALMA/alphaCO/v1p0/NGC1365_alphaCO21_scaling.fits</td><td>/data/tycho/0/leroy.42/reduction/alma/phangs-alma/derived/ngc1365/ngc1365_12m+7m+tp_co21_150pc_coverage2d.fits</td><td>/data/tycho/0/leroy.42/projects/phangs_survey_2019/working_data/irac/ngc1365_irac1_gauss7p5.fits</td><td>../Data/MixedMaps/ngc1365_Mixed.fits</td><td>../Data/ReprojectedInfraredMaps/ngc1365_reshaped.fits</td><td>../Data/MassMaps/ngc1365_Mass.fits</td><td>130.80896025947337</td><td>5.4635701179504395</td><td>nan</td><td>nan</td><td>5.4635701179504395</td><td>5.265270233154297</td><td>4.432641506195068</td><td>3.433601140975952</td><td>2.623316764831543</td><td>1.1439259052276611</td><td>nan</td><td>nan</td><td>1.1439259052276611</td><td>0.9760870933532715</td><td>0.31946268677711487</td><td>0.2068311721086502</td><td>0.15018470585346222</td><td>2.933166742324829</td><td>nan</td><td>nan</td><td>2.933166742324829</td><td>3.6586058139801025</td><td>6.8307576179504395</td><td>7.752464294433594</td><td>7.045748710632324</td><td>4.776157348113464</td><td>nan</td><td>nan</td><td>4.776157348113464</td><td>5.394262734348704</td><td>13.875302780783494</td><td>16.600984783726176</td><td>17.4672697191361</td><td>5.226342740029572</td><td>nan</td><td>nan</td><td>28.55449002059279</td><td>27.51810685733977</td><td>23.16650375505634</td><td>17.945176395296922</td><td>13.710352528675198</td><td>nan</td><td>nan</td><td>5.978548849918343</td><td>5.101365693983437</td><td>1.6696214937479152</td><td>1.0809705947618509</td><td>0.784916747100719</td></tr>\n",
       "<tr><td>ngc1365</td><td>SN2001du</td><td>II</td><td>53.3713</td><td>-36.1421</td><td>673.9024849664049</td><td>205.70404673775522</td><td>3.0703216</td><td>1.3357118</td><td>nan</td><td>0.0003829740084505</td><td>53.40152</td><td>-36.140404</td><td>19.57</td><td>201.1</td><td>55.4</td><td>360.67926</td><td>12m+7m+tp</td><td>/data/tycho/0/leroy.42/reduction/alma/phangs-alma/derived/ngc1365/ngc1365_12m+7m+tp_co21_150pc_broad_mom0.fits</td><td>/data/tycho/0/leroy.42/reduction/alma/phangs-alma/derived/ngc1365/ngc1365_12m+7m+tp_co21_150pc_broad_emom0.fits</td><td>/data/kant/0/sun.1608/PHANGS/ALMA/alphaCO/v1p0/NGC1365_alphaCO21_scaling.fits</td><td>/data/tycho/0/leroy.42/reduction/alma/phangs-alma/derived/ngc1365/ngc1365_12m+7m+tp_co21_150pc_coverage2d.fits</td><td>/data/tycho/0/leroy.42/projects/phangs_survey_2019/working_data/irac/ngc1365_irac1_gauss7p5.fits</td><td>../Data/MixedMaps/ngc1365_Mixed.fits</td><td>../Data/ReprojectedInfraredMaps/ngc1365_reshaped.fits</td><td>../Data/MassMaps/ngc1365_Mass.fits</td><td>130.80896025947337</td><td>3.070321559906006</td><td>nan</td><td>nan</td><td>3.070321559906006</td><td>2.8034262657165527</td><td>2.4074149131774902</td><td>2.733246326446533</td><td>2.6764848232269287</td><td>1.3357118368148804</td><td>nan</td><td>nan</td><td>1.3357118368148804</td><td>1.1442593336105347</td><td>0.37751707434654236</td><td>0.27068665623664856</td><td>0.2032235562801361</td><td>nan</td><td>nan</td><td>nan</td><td>nan</td><td>nan</td><td>4.935729026794434</td><td>6.934535026550293</td><td>9.344526290893555</td><td>2.2986406762909666</td><td>nan</td><td>nan</td><td>2.2986406762909666</td><td>2.4499920458335014</td><td>6.376969617452588</td><td>10.097454985209854</td><td>13.170150509213085</td><td>6.1035414066894775</td><td>nan</td><td>nan</td><td>18.739834772737733</td><td>17.110828293401838</td><td>14.693756605660566</td><td>16.68248212814832</td><td>16.336035942941525</td><td>nan</td><td>nan</td><td>8.152572503404881</td><td>6.984034222682807</td><td>2.304191095006391</td><td>1.652147214578705</td><td>1.2403833905705002</td></tr>\n",
       "<tr><td>ngc1365</td><td>SN2012fr</td><td>Ia</td><td>53.4006</td><td>-36.1268</td><td>390.2906744443858</td><td>389.8499395285312</td><td>-2.3150725</td><td>1.1174963</td><td>nan</td><td>0.0003829740084505</td><td>53.40152</td><td>-36.140404</td><td>19.57</td><td>201.1</td><td>55.4</td><td>360.67926</td><td>12m+7m+tp</td><td>/data/tycho/0/leroy.42/reduction/alma/phangs-alma/derived/ngc1365/ngc1365_12m+7m+tp_co21_150pc_broad_mom0.fits</td><td>/data/tycho/0/leroy.42/reduction/alma/phangs-alma/derived/ngc1365/ngc1365_12m+7m+tp_co21_150pc_broad_emom0.fits</td><td>/data/kant/0/sun.1608/PHANGS/ALMA/alphaCO/v1p0/NGC1365_alphaCO21_scaling.fits</td><td>/data/tycho/0/leroy.42/reduction/alma/phangs-alma/derived/ngc1365/ngc1365_12m+7m+tp_co21_150pc_coverage2d.fits</td><td>/data/tycho/0/leroy.42/projects/phangs_survey_2019/working_data/irac/ngc1365_irac1_gauss7p5.fits</td><td>../Data/MixedMaps/ngc1365_Mixed.fits</td><td>../Data/ReprojectedInfraredMaps/ngc1365_reshaped.fits</td><td>../Data/MassMaps/ngc1365_Mass.fits</td><td>130.80896025947337</td><td>-2.8842592239379883</td><td>nan</td><td>nan</td><td>-2.8842592239379883</td><td>-2.5313384532928467</td><td>0.5143470168113708</td><td>0.9956735968589783</td><td>1.1120128631591797</td><td>1.1017647981643677</td><td>nan</td><td>nan</td><td>1.1017647981643677</td><td>0.9228527545928955</td><td>0.35293927788734436</td><td>0.23430968821048737</td><td>0.17097511887550354</td><td>nan</td><td>nan</td><td>nan</td><td>nan</td><td>nan</td><td>nan</td><td>nan</td><td>2.5168092250823975</td><td>-2.61785385478226</td><td>nan</td><td>nan</td><td>-2.61785385478226</td><td>-2.7429494474549343</td><td>1.4573243870452601</td><td>4.249391497480612</td><td>6.503945547591038</td><td>4.810275129364102</td><td>nan</td><td>nan</td><td>-13.874080411547911</td><td>-12.176434405877576</td><td>2.474150662830357</td><td>4.789463939935243</td><td>5.349087819187569</td><td>nan</td><td>nan</td><td>5.299791807018918</td><td>4.439175653483359</td><td>1.6977350305972183</td><td>1.1270940657679647</td><td>0.8224373620669055</td></tr>\n",
       "<tr><td>...</td><td>...</td><td>...</td><td>...</td><td>...</td><td>...</td><td>...</td><td>...</td><td>...</td><td>...</td><td>...</td><td>...</td><td>...</td><td>...</td><td>...</td><td>...</td><td>...</td><td>...</td><td>...</td><td>...</td><td>...</td><td>...</td><td>...</td><td>...</td><td>...</td><td>...</td><td>...</td><td>...</td><td>...</td><td>...</td><td>...</td><td>...</td><td>...</td><td>...</td><td>...</td><td>...</td><td>...</td><td>...</td><td>...</td><td>...</td><td>...</td><td>...</td><td>...</td><td>...</td><td>...</td><td>...</td><td>...</td><td>...</td><td>...</td><td>...</td><td>...</td><td>...</td><td>...</td><td>...</td><td>...</td><td>...</td><td>...</td><td>...</td><td>...</td><td>...</td><td>...</td><td>...</td><td>...</td><td>...</td><td>...</td><td>...</td><td>...</td><td>...</td><td>...</td><td>...</td><td>...</td><td>...</td><td>...</td><td>...</td></tr>\n",
       "<tr><td>ngc5128</td><td>SN1986G</td><td>Ia</td><td>201.4021</td><td>-43.0317</td><td>158.37238583480186</td><td>116.90819961198207</td><td>9.314563</td><td>0.9835508</td><td>8.594614</td><td>0.002258955715078</td><td>201.36507</td><td>-43.01911</td><td>3.69</td><td>32.17</td><td>45.33</td><td>767.57574</td><td>7m+tp</td><td>/data/tycho/0/leroy.42/reduction/alma/phangs-alma/derived/ngc5128/ngc5128_7m+tp_co21_150pc_broad_mom0.fits</td><td>/data/tycho/0/leroy.42/reduction/alma/phangs-alma/derived/ngc5128/ngc5128_7m+tp_co21_150pc_broad_emom0.fits</td><td>/data/kant/0/sun.1608/PHANGS/ALMA/alphaCO/v1p0/NGC5128_alphaCO21_scaling.fits</td><td>/data/tycho/0/leroy.42/reduction/alma/phangs-alma/derived/ngc5128/ngc5128_7m+tp_co21_150pc_coverage2d.fits</td><td>/data/tycho/0/leroy.42/projects/phangs_survey_2019/working_data/z0mgs/ngc5128_w1_gauss7p5.fits</td><td>../Data/MixedMaps/ngc5128_Mixed.fits</td><td>../Data/ReprojectedInfraredMaps/ngc5128_reshaped.fits</td><td>../Data/MassMaps/ngc5128_Mass.fits</td><td>145.48273291568873</td><td>9.314562797546387</td><td>nan</td><td>nan</td><td>nan</td><td>9.314562797546387</td><td>14.890734672546387</td><td>17.228103637695312</td><td>17.113990783691406</td><td>0.9835507869720459</td><td>nan</td><td>nan</td><td>nan</td><td>0.9835507869720459</td><td>0.12011269479990005</td><td>0.08458099514245987</td><td>0.07287342846393585</td><td>8.594614028930664</td><td>nan</td><td>nan</td><td>nan</td><td>8.594614028930664</td><td>36.90363693237305</td><td>48.203948974609375</td><td>43.96977996826172</td><td>9.470342478421626</td><td>nan</td><td>nan</td><td>nan</td><td>9.470342478421626</td><td>123.9730296398177</td><td>203.68764411766495</td><td>234.84541820563453</td><td>4.838774135471994</td><td>nan</td><td>nan</td><td>nan</td><td>45.07106554799712</td><td>72.0529017916935</td><td>83.36290228531105</td><td>82.81073595883207</td><td>nan</td><td>nan</td><td>nan</td><td>4.759180108923461</td><td>0.581198200939598</td><td>0.40926833164781723</td><td>0.35261806081446145</td></tr>\n",
       "<tr><td>ngc5128</td><td>SN2016adj</td><td>IIb</td><td>201.3505</td><td>-43.016</td><td>226.2426565431022</td><td>145.08138963317262</td><td>67.57131</td><td>1.4254165</td><td>35.12788</td><td>0.002258955715078</td><td>201.36507</td><td>-43.01911</td><td>3.69</td><td>32.17</td><td>45.33</td><td>767.57574</td><td>7m+tp</td><td>/data/tycho/0/leroy.42/reduction/alma/phangs-alma/derived/ngc5128/ngc5128_7m+tp_co21_150pc_broad_mom0.fits</td><td>/data/tycho/0/leroy.42/reduction/alma/phangs-alma/derived/ngc5128/ngc5128_7m+tp_co21_150pc_broad_emom0.fits</td><td>/data/kant/0/sun.1608/PHANGS/ALMA/alphaCO/v1p0/NGC5128_alphaCO21_scaling.fits</td><td>/data/tycho/0/leroy.42/reduction/alma/phangs-alma/derived/ngc5128/ngc5128_7m+tp_co21_150pc_coverage2d.fits</td><td>/data/tycho/0/leroy.42/projects/phangs_survey_2019/working_data/z0mgs/ngc5128_w1_gauss7p5.fits</td><td>../Data/MixedMaps/ngc5128_Mixed.fits</td><td>../Data/ReprojectedInfraredMaps/ngc5128_reshaped.fits</td><td>../Data/MassMaps/ngc5128_Mass.fits</td><td>145.48273291568873</td><td>67.5713119506836</td><td>nan</td><td>nan</td><td>nan</td><td>67.5713119506836</td><td>67.86510467529297</td><td>53.374263763427734</td><td>43.1256217956543</td><td>1.4254164695739746</td><td>nan</td><td>nan</td><td>nan</td><td>1.4254164695739746</td><td>0.17181427776813507</td><td>0.11165882647037506</td><td>0.09297400712966919</td><td>35.12788009643555</td><td>nan</td><td>nan</td><td>nan</td><td>35.12788009643555</td><td>67.25611877441406</td><td>84.099365234375</td><td>96.3857650756836</td><td>47.40461008625722</td><td>nan</td><td>nan</td><td>nan</td><td>47.40461008625722</td><td>394.99106568359554</td><td>478.0120430299239</td><td>463.8460052120563</td><td>4.3425294426087335</td><td>nan</td><td>nan</td><td>nan</td><td>293.4304116215429</td><td>294.70621517818336</td><td>231.77931187024936</td><td>187.2742823784377</td><td>nan</td><td>nan</td><td>nan</td><td>6.189912987104381</td><td>0.7461085598686817</td><td>0.4848817414747431</td><td>0.40374236335790276</td></tr>\n",
       "<tr><td>ngc5236</td><td>SN1923A</td><td>II</td><td>204.2883</td><td>-29.8389</td><td>399.09014170428725</td><td>813.7841220160797</td><td>3.1662843</td><td>0.6370633</td><td>6.310522</td><td>0.000594044605435</td><td>204.2539</td><td>-29.865625</td><td>4.89</td><td>225.0</td><td>24.0</td><td>408.43347</td><td>12m+7m+tp</td><td>/data/tycho/0/leroy.42/reduction/alma/phangs-alma/derived/ngc5236/ngc5236_12m+7m+tp_co21_150pc_broad_mom0.fits</td><td>/data/tycho/0/leroy.42/reduction/alma/phangs-alma/derived/ngc5236/ngc5236_12m+7m+tp_co21_150pc_broad_emom0.fits</td><td>/data/kant/0/sun.1608/PHANGS/ALMA/alphaCO/v1p0/NGC5236_alphaCO21_scaling.fits</td><td>/data/tycho/0/leroy.42/reduction/alma/phangs-alma/derived/ngc5236/ngc5236_12m+7m+tp_co21_150pc_coverage2d.fits</td><td>/data/tycho/0/leroy.42/projects/phangs_survey_2019/working_data/irac/ngc5236_irac1_gauss7p5.fits</td><td>../Data/MixedMaps/ngc5236_Mixed.fits</td><td>../Data/ReprojectedInfraredMaps/ngc5236_reshaped.fits</td><td>../Data/MassMaps/ngc5236_Mass.fits</td><td>50.69968757298903</td><td>3.2454817295074463</td><td>3.041576385498047</td><td>2.633491039276123</td><td>2.526012659072876</td><td>2.545790910720825</td><td>4.164422988891602</td><td>4.582225322723389</td><td>5.0682878494262695</td><td>0.6980839371681213</td><td>0.6445639133453369</td><td>0.5080330967903137</td><td>0.40101930499076843</td><td>0.3165229260921478</td><td>0.040937453508377075</td><td>0.02114437334239483</td><td>0.018885672092437744</td><td>6.310522079467773</td><td>5.9792962074279785</td><td>5.600820541381836</td><td>6.416561603546143</td><td>7.461651802062988</td><td>6.986499786376953</td><td>7.857295036315918</td><td>8.778962135314941</td><td>4.649128216118556</td><td>4.718812708133207</td><td>5.183699754827339</td><td>6.298980192813973</td><td>8.042990573073627</td><td>101.72647861546716</td><td>216.71133253856945</td><td>268.36682457574426</td><td>5.9682341177841</td><td>18.152839955775885</td><td>15.717291069486464</td><td>15.075834933833274</td><td>15.193876170108684</td><td>24.85425136318729</td><td>27.347793506451985</td><td>30.248728461696462</td><td>3.8469083387200738</td><td>3.032060461227462</td><td>2.3933770979359714</td><td>1.8890829265640117</td><td>0.24432430672389643</td><td>0.12619457038124543</td><td>0.11271411251936997</td></tr>\n",
       "<tr><td>ngc5236</td><td>SN1950B</td><td>unclassified</td><td>204.2203</td><td>-29.8655</td><td>823.9876389446778</td><td>622.0369070359835</td><td>59.00484</td><td>0.7553258</td><td>5.7882247</td><td>0.000594044605435</td><td>204.2539</td><td>-29.865625</td><td>4.89</td><td>225.0</td><td>24.0</td><td>408.43347</td><td>12m+7m+tp</td><td>/data/tycho/0/leroy.42/reduction/alma/phangs-alma/derived/ngc5236/ngc5236_12m+7m+tp_co21_150pc_broad_mom0.fits</td><td>/data/tycho/0/leroy.42/reduction/alma/phangs-alma/derived/ngc5236/ngc5236_12m+7m+tp_co21_150pc_broad_emom0.fits</td><td>/data/kant/0/sun.1608/PHANGS/ALMA/alphaCO/v1p0/NGC5236_alphaCO21_scaling.fits</td><td>/data/tycho/0/leroy.42/reduction/alma/phangs-alma/derived/ngc5236/ngc5236_12m+7m+tp_co21_150pc_coverage2d.fits</td><td>/data/tycho/0/leroy.42/projects/phangs_survey_2019/working_data/irac/ngc5236_irac1_gauss7p5.fits</td><td>../Data/MixedMaps/ngc5236_Mixed.fits</td><td>../Data/ReprojectedInfraredMaps/ngc5236_reshaped.fits</td><td>../Data/MassMaps/ngc5236_Mass.fits</td><td>50.69968757298903</td><td>59.583003997802734</td><td>62.433616638183594</td><td>67.23001861572266</td><td>65.45752716064453</td><td>60.68531036376953</td><td>25.781206130981445</td><td>19.218088150024414</td><td>15.967820167541504</td><td>0.8506538271903992</td><td>0.7330889701843262</td><td>0.5201269388198853</td><td>0.4038389325141907</td><td>0.32495999336242676</td><td>0.06123722717165947</td><td>0.041298795491456985</td><td>0.033832672983407974</td><td>5.788224697113037</td><td>6.1064043045043945</td><td>6.681667804718018</td><td>7.089045524597168</td><td>7.4819512367248535</td><td>10.048575401306152</td><td>11.714366912841797</td><td>13.406866073608398</td><td>70.0437734990246</td><td>85.16512889627221</td><td>129.25694402266623</td><td>162.08820371310878</td><td>186.74701995112184</td><td>421.0054458983238</td><td>465.34258254577526</td><td>471.9644875642061</td><td>5.517020417270828</td><td>344.4475377169186</td><td>370.90938535643977</td><td>361.13051380933564</td><td>334.80209630533346</td><td>142.2354406064925</td><td>106.02658470459525</td><td>88.09478988363537</td><td>4.044466816182973</td><td>2.869550941041882</td><td>2.227987635969646</td><td>1.7928109181767011</td><td>0.33784703260309723</td><td>0.22784629793506062</td><td>0.18665554762030895</td></tr>\n",
       "<tr><td>ngc5236</td><td>SN1957D</td><td>unclassified</td><td>204.2647</td><td>-29.828</td><td>546.7621815937086</td><td>892.0135629822324</td><td>41.320827</td><td>0.6190958</td><td>5.3402543</td><td>0.000594044605435</td><td>204.2539</td><td>-29.865625</td><td>4.89</td><td>225.0</td><td>24.0</td><td>408.43347</td><td>12m+7m+tp</td><td>/data/tycho/0/leroy.42/reduction/alma/phangs-alma/derived/ngc5236/ngc5236_12m+7m+tp_co21_150pc_broad_mom0.fits</td><td>/data/tycho/0/leroy.42/reduction/alma/phangs-alma/derived/ngc5236/ngc5236_12m+7m+tp_co21_150pc_broad_emom0.fits</td><td>/data/kant/0/sun.1608/PHANGS/ALMA/alphaCO/v1p0/NGC5236_alphaCO21_scaling.fits</td><td>/data/tycho/0/leroy.42/reduction/alma/phangs-alma/derived/ngc5236/ngc5236_12m+7m+tp_co21_150pc_coverage2d.fits</td><td>/data/tycho/0/leroy.42/projects/phangs_survey_2019/working_data/irac/ngc5236_irac1_gauss7p5.fits</td><td>../Data/MixedMaps/ngc5236_Mixed.fits</td><td>../Data/ReprojectedInfraredMaps/ngc5236_reshaped.fits</td><td>../Data/MassMaps/ngc5236_Mass.fits</td><td>50.69968757298903</td><td>41.36034393310547</td><td>38.501529693603516</td><td>31.9804630279541</td><td>27.75986671447754</td><td>24.643875122070312</td><td>11.990213394165039</td><td>9.148086547851562</td><td>7.823264122009277</td><td>0.666938841342926</td><td>0.5762447714805603</td><td>0.41536277532577515</td><td>0.3214409649372101</td><td>0.26038581132888794</td><td>0.04305550456047058</td><td>0.023344073444604874</td><td>0.02128056064248085</td><td>5.340254306793213</td><td>5.422938346862793</td><td>5.8041486740112305</td><td>6.14930534362793</td><td>6.498789310455322</td><td>9.267144203186035</td><td>9.767258644104004</td><td>10.247411727905273</td><td>62.01519745022444</td><td>66.81454062425688</td><td>76.99405177286614</td><td>86.36069991856863</td><td>94.64369427926755</td><td>278.4827054418798</td><td>391.88047319846856</td><td>367.62490676078613</td><td>5.94981812672768</td><td>229.07709927774624</td><td>190.27793862486573</td><td>165.16615817334284</td><td>146.62657491410727</td><td>71.33958899593618</td><td>54.429451167280874</td><td>46.54699868330911</td><td>3.4285515867870875</td><td>2.471332969801214</td><td>1.9125152798562493</td><td>1.5492482201873112</td><td>0.2561724214892942</td><td>0.13889299133237235</td><td>0.12661546545756022</td></tr>\n",
       "<tr><td>ngc5236</td><td>SN1968L</td><td>II</td><td>204.252</td><td>-29.8665</td><td>625.9979098150186</td><td>615.2835430994201</td><td>157.89561</td><td>1.1755879</td><td>14.017309</td><td>0.000594044605435</td><td>204.2539</td><td>-29.865625</td><td>4.89</td><td>225.0</td><td>24.0</td><td>408.43347</td><td>12m+7m+tp</td><td>/data/tycho/0/leroy.42/reduction/alma/phangs-alma/derived/ngc5236/ngc5236_12m+7m+tp_co21_150pc_broad_mom0.fits</td><td>/data/tycho/0/leroy.42/reduction/alma/phangs-alma/derived/ngc5236/ngc5236_12m+7m+tp_co21_150pc_broad_emom0.fits</td><td>/data/kant/0/sun.1608/PHANGS/ALMA/alphaCO/v1p0/NGC5236_alphaCO21_scaling.fits</td><td>/data/tycho/0/leroy.42/reduction/alma/phangs-alma/derived/ngc5236/ngc5236_12m+7m+tp_co21_150pc_coverage2d.fits</td><td>/data/tycho/0/leroy.42/projects/phangs_survey_2019/working_data/irac/ngc5236_irac1_gauss7p5.fits</td><td>../Data/MixedMaps/ngc5236_Mixed.fits</td><td>../Data/ReprojectedInfraredMaps/ngc5236_reshaped.fits</td><td>../Data/MassMaps/ngc5236_Mass.fits</td><td>50.69968757298903</td><td>157.89561462402344</td><td>164.29913330078125</td><td>181.96917724609375</td><td>202.79049682617188</td><td>222.9096221923828</td><td>205.35548400878906</td><td>137.11279296875</td><td>95.94841766357422</td><td>1.1755878925323486</td><td>0.9599323868751526</td><td>0.6156549453735352</td><td>0.4450325667858124</td><td>0.3551063537597656</td><td>0.07494845986366272</td><td>0.05347259342670441</td><td>0.050196584314107895</td><td>14.017309188842773</td><td>15.185856819152832</td><td>20.49120330810547</td><td>25.899349212646484</td><td>30.699535369873047</td><td>45.719520568847656</td><td>42.519447326660156</td><td>40.938941955566406</td><td>134.3120455960962</td><td>171.15698516602893</td><td>295.570073161173</td><td>455.67563356272746</td><td>627.7263693884347</td><td>2739.9560228768837</td><td>2564.1694965981465</td><td>1911.4531192634881</td><td>4.356201929972925</td><td>715.7202015777422</td><td>792.6944811150188</td><td>883.3963536543382</td><td>971.0393264039935</td><td>894.569955769611</td><td>597.2910133544468</td><td>417.9706822039103</td><td>4.181659316349056</td><td>2.6819172612335693</td><td>1.9386517263331604</td><td>1.5469149835939393</td><td>0.32649062550658586</td><td>0.23293741468606727</td><td>0.21866645746716545</td></tr>\n",
       "<tr><td>ngc5236</td><td>SN1983N</td><td>Ib</td><td>204.2135</td><td>-29.9006</td><td>866.565592737917</td><td>369.37333275036656</td><td>2.8444028</td><td>0.6853391</td><td>nan</td><td>0.000594044605435</td><td>204.2539</td><td>-29.865625</td><td>4.89</td><td>225.0</td><td>24.0</td><td>408.43347</td><td>12m+7m+tp</td><td>/data/tycho/0/leroy.42/reduction/alma/phangs-alma/derived/ngc5236/ngc5236_12m+7m+tp_co21_150pc_broad_mom0.fits</td><td>/data/tycho/0/leroy.42/reduction/alma/phangs-alma/derived/ngc5236/ngc5236_12m+7m+tp_co21_150pc_broad_emom0.fits</td><td>/data/kant/0/sun.1608/PHANGS/ALMA/alphaCO/v1p0/NGC5236_alphaCO21_scaling.fits</td><td>/data/tycho/0/leroy.42/reduction/alma/phangs-alma/derived/ngc5236/ngc5236_12m+7m+tp_co21_150pc_coverage2d.fits</td><td>/data/tycho/0/leroy.42/projects/phangs_survey_2019/working_data/irac/ngc5236_irac1_gauss7p5.fits</td><td>../Data/MixedMaps/ngc5236_Mixed.fits</td><td>../Data/ReprojectedInfraredMaps/ngc5236_reshaped.fits</td><td>../Data/MassMaps/ngc5236_Mass.fits</td><td>50.69968757298903</td><td>2.5388102531433105</td><td>2.352609872817993</td><td>2.0747275352478027</td><td>1.7841945886611938</td><td>1.5547443628311157</td><td>1.9858909845352173</td><td>2.08491587638855</td><td>2.2154974937438965</td><td>0.743571937084198</td><td>0.66567063331604</td><td>0.5150554776191711</td><td>0.4037889242172241</td><td>0.31346723437309265</td><td>0.05788576975464821</td><td>0.02923988737165928</td><td>0.020604467019438744</td><td>nan</td><td>nan</td><td>3.8591697216033936</td><td>3.6428279876708984</td><td>3.5471982955932617</td><td>8.638157844543457</td><td>10.044561386108398</td><td>11.30960464477539</td><td>3.41434382677063</td><td>3.5341950734681817</td><td>4.028163227849105</td><td>4.41863181888902</td><td>4.959830541589043</td><td>34.307067055556445</td><td>71.30382719631649</td><td>107.52510567993549</td><td>6.448827085395301</td><td>15.17157426919707</td><td>13.379559124121464</td><td>11.505962388974035</td><td>10.026277557890959</td><td>12.806667569713051</td><td>13.445261974425161</td><td>14.287360245281047</td><td>4.292794810080723</td><td>3.3215037145517243</td><td>2.6039649512746657</td><td>2.021495991409157</td><td>0.3732953198527315</td><td>0.18856297765626437</td><td>0.13287464499509077</td></tr>\n",
       "<tr><td>ngc5530</td><td>SN2007it</td><td>II</td><td>214.6067</td><td>-43.3817</td><td>390.2595866318546</td><td>373.0812908090254</td><td>3.082237</td><td>1.3917842</td><td>1.7829744</td><td>0.0003125321832383</td><td>214.6138</td><td>-43.38826</td><td>12.27</td><td>305.4</td><td>61.9</td><td>144.91765</td><td>12m+7m+tp</td><td>/data/tycho/0/leroy.42/reduction/alma/phangs-alma/derived/ngc5530/ngc5530_12m+7m+tp_co21_150pc_broad_mom0.fits</td><td>/data/tycho/0/leroy.42/reduction/alma/phangs-alma/derived/ngc5530/ngc5530_12m+7m+tp_co21_150pc_broad_emom0.fits</td><td>/data/kant/0/sun.1608/PHANGS/ALMA/alphaCO/v1p0/NGC5530_alphaCO21_scaling.fits</td><td>/data/tycho/0/leroy.42/reduction/alma/phangs-alma/derived/ngc5530/ngc5530_12m+7m+tp_co21_150pc_coverage2d.fits</td><td>/data/tycho/0/leroy.42/projects/phangs_survey_2019/working_data/z0mgs/ngc5530_w1_gauss7p5.fits</td><td>../Data/MixedMaps/ngc5530_Mixed.fits</td><td>../Data/ReprojectedInfraredMaps/ngc5530_reshaped.fits</td><td>../Data/MassMaps/ngc5530_Mass.fits</td><td>66.92936060767958</td><td>1.264719843864441</td><td>nan</td><td>1.6753138303756714</td><td>2.1807479858398438</td><td>2.5444424152374268</td><td>3.2769296169281006</td><td>2.9159741401672363</td><td>2.67687726020813</td><td>1.6904544830322266</td><td>nan</td><td>1.2609670162200928</td><td>1.0127352476119995</td><td>0.8619760274887085</td><td>0.25256362557411194</td><td>0.11914363503456116</td><td>0.06845573335886002</td><td>1.782974362373352</td><td>nan</td><td>1.731729507446289</td><td>1.738126516342163</td><td>2.3076536655426025</td><td>9.691722869873047</td><td>12.280269622802734</td><td>14.012927055358887</td><td>0.7481537400497582</td><td>nan</td><td>1.3285944904392784</td><td>2.153324860551644</td><td>2.9518714373651855</td><td>12.974669687605203</td><td>24.47444329964728</td><td>39.10377011338627</td><td>6.187592418588971</td><td>nan</td><td>10.366159155589754</td><td>13.493579704035787</td><td>15.743972598059312</td><td>20.276304853953977</td><td>18.042859482500283</td><td>16.56342544075704</td><td>nan</td><td>7.802349949654202</td><td>6.266392940161833</td><td>5.333556332694571</td><td>1.5627607748137187</td><td>0.737212252862982</td><td>0.42357617674023035</td></tr>\n",
       "<tr><td>ngc6744</td><td>SN2005at</td><td>Ic</td><td>287.4733</td><td>-63.8231</td><td>228.6160557905061</td><td>1000.6074709654724</td><td>4.835074</td><td>1.5029258</td><td>3.258406</td><td>0.000315039978844</td><td>287.44208</td><td>-63.85754</td><td>9.39</td><td>14.0</td><td>52.7</td><td>470.02527</td><td>12m+7m+tp</td><td>/data/tycho/0/leroy.42/reduction/alma/phangs-alma/derived/ngc6744/ngc6744_12m+7m+tp_co21_150pc_broad_mom0.fits</td><td>/data/tycho/0/leroy.42/reduction/alma/phangs-alma/derived/ngc6744/ngc6744_12m+7m+tp_co21_150pc_broad_emom0.fits</td><td>/data/kant/0/sun.1608/PHANGS/ALMA/alphaCO/v1p0/NGC6744_alphaCO21_scaling.fits</td><td>/data/tycho/0/leroy.42/reduction/alma/phangs-alma/derived/ngc6744/ngc6744_12m+7m+tp_co21_150pc_coverage2d.fits</td><td>/data/tycho/0/leroy.42/projects/phangs_survey_2019/working_data/z0mgs/ngc6744_w1_gauss7p5.fits</td><td>../Data/MixedMaps/ngc6744_Mixed.fits</td><td>../Data/ReprojectedInfraredMaps/ngc6744_reshaped.fits</td><td>../Data/MassMaps/ngc6744_Mass.fits</td><td>51.6307732695387</td><td>7.678491115570068</td><td>7.417896747589111</td><td>6.817057132720947</td><td>6.181743144989014</td><td>5.625293254852295</td><td>2.4742674827575684</td><td>1.9996764659881592</td><td>1.9126501083374023</td><td>1.797761082649231</td><td>1.4641156196594238</td><td>0.9526326656341553</td><td>0.7281206250190735</td><td>0.5904022455215454</td><td>0.1398678421974182</td><td>0.06524473428726196</td><td>0.04061729088425636</td><td>3.072154998779297</td><td>4.0313615798950195</td><td>3.929675817489624</td><td>4.277412414550781</td><td>4.484193325042725</td><td>5.497471809387207</td><td>5.942809581756592</td><td>7.069946765899658</td><td>4.271141026289672</td><td>5.066469237801472</td><td>7.1560186613828956</td><td>8.489998679582905</td><td>9.527899491444282</td><td>17.690038281031267</td><td>30.648856000913554</td><td>47.08955389929177</td><td>5.555324324065363</td><td>41.20882223528713</td><td>37.87096330794795</td><td>34.34158805848178</td><td>31.25032844868177</td><td>13.745358331207095</td><td>11.108851311765084</td><td>10.625391670273022</td><td>8.13363711513803</td><td>5.292183419296649</td><td>4.044946219022134</td><td>3.2798759555286514</td><td>0.7770112259138532</td><td>0.36245565940320773</td><td>0.2256422240269477</td></tr>\n",
       "<tr><td>ngc7793</td><td>SN2008bk</td><td>II</td><td>359.4601</td><td>-32.556</td><td>104.61854343784563</td><td>146.2301768465765</td><td>-0.0075710528</td><td>0.17158689</td><td>nan</td><td>0.002219068508634</td><td>359.45758</td><td>-32.591072</td><td>3.62</td><td>290.0</td><td>50.0</td><td>310.54272</td><td>7m+tp</td><td>/data/tycho/0/leroy.42/reduction/alma/phangs-alma/derived/ngc7793/ngc7793_7m+tp_co21_150pc_broad_mom0.fits</td><td>/data/tycho/0/leroy.42/reduction/alma/phangs-alma/derived/ngc7793/ngc7793_7m+tp_co21_150pc_broad_emom0.fits</td><td>/data/kant/0/sun.1608/PHANGS/ALMA/alphaCO/v1p0/NGC7793_alphaCO21_scaling.fits</td><td>/data/tycho/0/leroy.42/reduction/alma/phangs-alma/derived/ngc7793/ngc7793_7m+tp_co21_150pc_coverage2d.fits</td><td>/data/tycho/0/leroy.42/projects/phangs_survey_2019/working_data/irac/ngc7793_irac1_gauss7p5.fits</td><td>../Data/MixedMaps/ngc7793_Mixed.fits</td><td>../Data/ReprojectedInfraredMaps/ngc7793_reshaped.fits</td><td>../Data/MassMaps/ngc7793_Mass.fits</td><td>140.20278751803758</td><td>-0.007571052759885788</td><td>nan</td><td>nan</td><td>nan</td><td>-0.007571052759885788</td><td>0.10425052046775818</td><td>0.08598671108484268</td><td>0.07790473848581314</td><td>0.17158688604831696</td><td>nan</td><td>nan</td><td>nan</td><td>0.17158688604831696</td><td>0.022268299013376236</td><td>0.01656349003314972</td><td>0.014679756946861744</td><td>nan</td><td>nan</td><td>nan</td><td>nan</td><td>nan</td><td>2.3429856300354004</td><td>2.625314235687256</td><td>3.6813855171203613</td><td>-0.04412372608565123</td><td>nan</td><td>nan</td><td>nan</td><td>-0.04412372608565123</td><td>4.681566400969218</td><td>5.191340165191709</td><td>5.3069501605384355</td><td>13.97365012824495</td><td>nan</td><td>nan</td><td>nan</td><td>-0.10579524236912732</td><td>1.456760298703892</td><td>1.2015482163780733</td><td>1.088613558933172</td><td>nan</td><td>nan</td><td>nan</td><td>2.397695112234216</td><td>0.31116941936406173</td><td>0.23145241462590652</td><td>0.2051297875431193</td></tr>\n",
       "</table>"
      ],
      "text/plain": [
       "<Table length=63>\n",
       " galaxy   SN_name    SN_type    ...     pc750mgsdErr       pc1000mgsdErr   \n",
       "  str8     str11      str12     ...       float64             float64      \n",
       "-------- --------- ------------ ... ------------------- -------------------\n",
       "circinus  SN1996cr           II ...  0.8776936325103383   0.802309519736188\n",
       " ngc0253   SN1940E            I ...   0.507689410484957  0.4123275966764323\n",
       " ngc0628  SN2013ej           II ...   0.800894265427698   0.492827418496032\n",
       " ngc1068 SN2018ivc           II ...  3.2004289970948143  2.2549743010447574\n",
       " ngc1087   SN1995V           II ...  1.0871890696910782  0.7207572007333807\n",
       " ngc1097  SN1992bd           II ...  1.0700587036610663   0.644245392515732\n",
       " ngc1097  SN1999eu           II ...  0.6549022518425602  0.3576070880715851\n",
       " ngc1365   SN1983V           Ic ...  1.0809705947618509   0.784916747100719\n",
       " ngc1365  SN2001du           II ...   1.652147214578705  1.2403833905705002\n",
       " ngc1365  SN2012fr           Ia ...  1.1270940657679647  0.8224373620669055\n",
       "     ...       ...          ... ...                 ...                 ...\n",
       " ngc5128   SN1986G           Ia ... 0.40926833164781723 0.35261806081446145\n",
       " ngc5128 SN2016adj          IIb ...  0.4848817414747431 0.40374236335790276\n",
       " ngc5236   SN1923A           II ... 0.12619457038124543 0.11271411251936997\n",
       " ngc5236   SN1950B unclassified ... 0.22784629793506062 0.18665554762030895\n",
       " ngc5236   SN1957D unclassified ... 0.13889299133237235 0.12661546545756022\n",
       " ngc5236   SN1968L           II ... 0.23293741468606727 0.21866645746716545\n",
       " ngc5236   SN1983N           Ib ... 0.18856297765626437 0.13287464499509077\n",
       " ngc5530  SN2007it           II ...   0.737212252862982 0.42357617674023035\n",
       " ngc6744  SN2005at           Ic ... 0.36245565940320773  0.2256422240269477\n",
       " ngc7793  SN2008bk           II ... 0.23145241462590652  0.2051297875431193"
      ]
     },
     "execution_count": 3,
     "metadata": {},
     "output_type": "execute_result"
    }
   ],
   "source": [
    "dataTable"
   ]
  },
  {
   "cell_type": "code",
   "execution_count": 4,
   "id": "sublime-prince",
   "metadata": {},
   "outputs": [],
   "source": [
    "# pull galaxy names and telescope orientation to generate the file lists\n",
    "\n",
    "galaxies  = dataTable['galaxy']\n",
    "SNname    = dataTable['SN_name']\n",
    "SNtype    = dataTable['SN_type']\n",
    "pc60Int   = dataTable['pc60Int']\n",
    "pc90Int   = dataTable['pc90Int']\n",
    "pc120Int  = dataTable['pc120Int']\n",
    "pc150Int  = dataTable['pc150Int']\n",
    "pc60Err   = dataTable['pc60Err']\n",
    "pc90Err   = dataTable['pc90Err']\n",
    "pc120Err  = dataTable['pc120Err']\n",
    "pc150Err  = dataTable['pc150Err']"
   ]
  },
  {
   "cell_type": "code",
   "execution_count": 5,
   "id": "respiratory-roots",
   "metadata": {},
   "outputs": [
    {
     "name": "stdout",
     "output_type": "stream",
     "text": [
      "['nan', 'nan', '4.94 $\\\\pm$ 1.73', 'nan', 'nan', 'nan', 'nan', 'nan', 'nan', 'nan', 'nan', 'nan', 'nan', 'nan', 'nan', 'nan', 'nan', 'nan', 'nan', 'nan', 'nan', 'nan', 'nan', 'nan', 'nan', 'nan', 'nan', 'nan', 'nan', 'nan', 'nan', 'nan', 'nan', 'nan', 'nan', 'nan', 'nan', 'nan', 'nan', 'nan', 'nan', 'nan', 'nan', 'nan', 'nan', 'nan', 'nan', 'nan', 'nan', 'nan', 'nan', 'nan', 'nan', 'nan', 'nan', '3.04 $\\\\pm$ 0.64', '62.43 $\\\\pm$ 0.73', '38.5 $\\\\pm$ 0.58', '164.3 $\\\\pm$ 0.96', '2.35 $\\\\pm$ 0.67', 'nan', '7.42 $\\\\pm$ 1.46', 'nan']\n"
     ]
    }
   ],
   "source": [
    "def makeIntStr(intVal, errVal):\n",
    "    \n",
    "    string = str(round(intVal,2)) + \" $\\pm$ \" + str(round(errVal,2))\n",
    "    \n",
    "    return(string)\n",
    "\n",
    "Arr60, Arr90, Arr120, Arr150 = [],[],[],[]\n",
    "\n",
    "for i in range(len(galaxies)):\n",
    "    \n",
    "    if(np.isfinite(pc60Int[i])==True):\n",
    "        string = makeIntStr(pc60Int[i], pc60Err[i])\n",
    "        Arr60.append(string)\n",
    "    else:\n",
    "        Arr60.append(\"nan\")\n",
    "        \n",
    "    if(np.isfinite(pc90Int[i])==True):\n",
    "        string = makeIntStr(pc90Int[i], pc90Err[i])\n",
    "        Arr90.append(string)\n",
    "    else:\n",
    "        Arr90.append(\"nan\")\n",
    "        \n",
    "    if(np.isfinite(pc120Int[i])==True):\n",
    "        string = makeIntStr(pc120Int[i], pc120Err[i])\n",
    "        Arr120.append(string)\n",
    "    else:\n",
    "        Arr120.append(\"nan\")\n",
    "        \n",
    "    if(np.isfinite(pc150Int[i])==True):\n",
    "        string = makeIntStr(pc150Int[i], pc150Err[i])\n",
    "        Arr150.append(string)\n",
    "    else:\n",
    "        Arr150.append(\"nan\")\n",
    "        \n",
    "print(Arr60)"
   ]
  },
  {
   "cell_type": "code",
   "execution_count": 6,
   "id": "former-vitamin",
   "metadata": {},
   "outputs": [],
   "source": [
    "intenTexTable = Table({\"Supernova\"  :  SNname,\n",
    "                       \"Type\"       :  SNtype,\n",
    "                       \"Galaxy\"     :  galaxies,\n",
    "                       \"60pc\"       :  Arr60,\n",
    "                       \"90pc\"       :  Arr90,\n",
    "                       \"120pc\"      :  Arr120,\n",
    "                       \"150pc\"      :  Arr150\n",
    "                      })"
   ]
  },
  {
   "cell_type": "code",
   "execution_count": 7,
   "id": "designed-attraction",
   "metadata": {},
   "outputs": [],
   "source": [
    "ascii.write(intenTexTable, '../Data/3.IntenTexTable.tex', format='latex', fast_writer=False, overwrite=True)  "
   ]
  },
  {
   "cell_type": "code",
   "execution_count": 8,
   "id": "difficult-dominant",
   "metadata": {},
   "outputs": [
    {
     "name": "stdout",
     "output_type": "stream",
     "text": [
      "186.85 $\\pm$ 2.14 circinus\n",
      "219.3 $\\pm$ 1.47 ngc0253\n",
      "1.34 $\\pm$ 0.86 ngc0628\n",
      "nan ngc1068\n",
      "12.75 $\\pm$ 0.91 ngc1087\n",
      "260.37 $\\pm$ 1.49 ngc1097\n",
      "0.0 $\\pm$ 0.53 ngc1097\n",
      "5.27 $\\pm$ 0.98 ngc1365\n",
      "2.8 $\\pm$ 1.14 ngc1365\n",
      "-2.53 $\\pm$ 0.92 ngc1365\n",
      "0.14 $\\pm$ 0.43 ngc1433\n",
      "1.61 $\\pm$ 0.56 ngc1511\n",
      "13.63 $\\pm$ 1.21 ngc1559\n",
      "2.06 $\\pm$ 0.96 ngc1559\n",
      "0.0 $\\pm$ 0.33 ngc1559\n",
      "3.68 $\\pm$ 0.93 ngc1559\n",
      "61.47 $\\pm$ 1.4 ngc1566\n",
      "15.37 $\\pm$ 1.14 ngc1566\n",
      "2.96 $\\pm$ 0.3 ngc1637\n",
      "nan ngc1672\n",
      "0.15 $\\pm$ 1.29 ngc2775\n",
      "101.06 $\\pm$ 0.83 ngc2997\n",
      "13.2 $\\pm$ 0.49 ngc2997\n",
      "0.0 $\\pm$ 0.51 ngc3239\n",
      "11.6 $\\pm$ 0.78 ngc3627\n",
      "28.27 $\\pm$ 0.87 ngc3627\n",
      "114.99 $\\pm$ 1.11 ngc3627\n",
      "3.64 $\\pm$ 0.92 ngc3627\n",
      "13.97 $\\pm$ 0.7 ngc4254\n",
      "2.1 $\\pm$ 0.54 ngc4254\n",
      "9.97 $\\pm$ 0.74 ngc4254\n",
      "44.81 $\\pm$ 0.95 ngc4254\n",
      "-0.93 $\\pm$ 0.97 ngc4303\n",
      "1.76 $\\pm$ 1.95 ngc4303\n",
      "2.02 $\\pm$ 1.1 ngc4303\n",
      "6.38 $\\pm$ 0.9 ngc4303\n",
      "-0.71 $\\pm$ 1.31 ngc4303\n",
      "1.28 $\\pm$ 1.0 ngc4303\n",
      "1.36 $\\pm$ 1.07 ngc4303\n",
      "5.92 $\\pm$ 0.97 ngc4321\n",
      "17.33 $\\pm$ 1.08 ngc4321\n",
      "1.11 $\\pm$ 0.81 ngc4321\n",
      "0.45 $\\pm$ 1.03 ngc4321\n",
      "0.21 $\\pm$ 1.51 ngc4321\n",
      "18.78 $\\pm$ 1.66 ngc4321\n",
      "-0.5 $\\pm$ 0.6 ngc4424\n",
      "12.4 $\\pm$ 1.22 ngc4457\n",
      "-0.04 $\\pm$ 0.59 ngc4496a\n",
      "0.0 $\\pm$ 0.35 ngc4496a\n",
      "-0.01 $\\pm$ 0.32 ngc4536\n",
      "nan ngc4579\n",
      "nan ngc4579\n",
      "48.28 $\\pm$ 0.6 ngc4945\n",
      "9.31 $\\pm$ 0.98 ngc5128\n",
      "67.57 $\\pm$ 1.43 ngc5128\n",
      "2.55 $\\pm$ 0.32 ngc5236\n",
      "60.69 $\\pm$ 0.32 ngc5236\n",
      "24.64 $\\pm$ 0.26 ngc5236\n",
      "222.91 $\\pm$ 0.36 ngc5236\n",
      "1.55 $\\pm$ 0.31 ngc5236\n",
      "2.54 $\\pm$ 0.86 ngc5530\n",
      "5.63 $\\pm$ 0.59 ngc6744\n",
      "-0.01 $\\pm$ 0.17 ngc7793\n"
     ]
    }
   ],
   "source": [
    "for i in range(len(galaxies)):\n",
    "    print(Arr150[i], galaxies[i])"
   ]
  },
  {
   "cell_type": "code",
   "execution_count": 25,
   "id": "b4b0f076",
   "metadata": {},
   "outputs": [
    {
     "data": {
      "text/plain": [
       "Text(0, 0.5, 'CO(2-1) Intensity at 150 pc')"
      ]
     },
     "execution_count": 25,
     "metadata": {},
     "output_type": "execute_result"
    },
    {
     "data": {
      "image/png": "[encoded data removed]",
      "text/plain": [
       "<Figure size 576x576 with 1 Axes>"
      ]
     },
     "metadata": {
      "needs_background": "light"
     },
     "output_type": "display_data"
    }
   ],
   "source": [
    "x60v150, y60v150 = [],[]\n",
    "x90v150, y90v150 = [],[]\n",
    "x120v150, y120v150 = [],[]\n",
    "\n",
    "#get intensity v intensity arrays\n",
    "for i in range(len(SNname)):\n",
    "    if (np.isfinite(pc60Int[i])and np.isfinite(pc150Int[i])):\n",
    "        x60v150.append(pc60Int[i])\n",
    "        y60v150.append(pc150Int[i])\n",
    "    if (np.isfinite(pc90Int[i])and np.isfinite(pc150Int[i])):\n",
    "        x90v150.append(pc90Int[i])\n",
    "        y90v150.append(pc150Int[i])\n",
    "    if (np.isfinite(pc120Int[i])and np.isfinite(pc150Int[i])):\n",
    "        x120v150.append(pc120Int[i])\n",
    "        y120v150.append(pc150Int[i])\n",
    "    \n",
    "fig = plt.figure(figsize=(8,8))   \n",
    "\n",
    "plt.plot(x60v150,y60v150,color=\"purple\", marker=\"o\",ls=\"\", label=\"60 pc\")\n",
    "plt.plot(x90v150,y90v150,color=\"orange\", marker=\"^\",ls=\"\", label=\"90 pc\")\n",
    "plt.plot(x120v150,y120v150,color=\"black\", marker=\"s\",ls=\"\", label=\"120 pc\")\n",
    "plt.legend(loc=\"best\")\n",
    "plt.xlabel(\"CO(2-1) Intensity at higher resolutions\")\n",
    "plt.ylabel(\"CO(2-1) Intensity at 150 pc\")"
   ]
  },
  {
   "cell_type": "code",
   "execution_count": null,
   "id": "7979fb57",
   "metadata": {},
   "outputs": [],
   "source": []
  }
 ],
 "metadata": {
  "kernelspec": {
   "display_name": "Python 3",
   "language": "python",
   "name": "python3"
  },
  "language_info": {
   "codemirror_mode": {
    "name": "ipython",
    "version": 3
   },
   "file_extension": ".py",
   "mimetype": "text/x-python",
   "name": "python",
   "nbconvert_exporter": "python",
   "pygments_lexer": "ipython3",
   "version": "3.8.10"
  }
 },
 "nbformat": 4,
 "nbformat_minor": 5
}
