{
 "cells": [
  {
   "cell_type": "markdown",
   "id": "coordinated-understanding",
   "metadata": {},
   "source": [
    "This notebook will analyze the intensities and errors of CO 2-1 emission at the locations of all of the SNe in our sample across all of the resolutions in the survey.\n",
    "\n",
    "We will use this to uncover what resolution will be best for this study.\n",
    "\n",
    "This notebook produces figure 2 and the MGSD percentiles table.\n"
   ]
  },
  {
   "cell_type": "code",
   "execution_count": 1,
   "id": "auburn-bearing",
   "metadata": {},
   "outputs": [],
   "source": [
    "import numpy as np\n",
    "import astropy\n",
    "import astropy.io.fits as pyfits\n",
    "from astropy.table import Table, join\n",
    "from astropy.io import ascii\n",
    "\n",
    "import sys\n",
    "sys.path.append('/home/mayker.1/Desktop/PythonFunctions')\n",
    "#sys.path.append('/Users/nessmayker/Desktop/PythonFunctions')\n",
    "from detectionFraction import detecFrac\n",
    "from cumulativeDistFunc import makeCDF\n",
    "from findPercentiles import findStats"
   ]
  },
  {
   "cell_type": "code",
   "execution_count": 2,
   "id": "known-corruption",
   "metadata": {},
   "outputs": [],
   "source": [
    "#import SNe data \n",
    "\n",
    "SNe_Gal_File = '../Data/3.SNe+GalData.csv'\n",
    "SNe_Gal_Data = Table.read(SNe_Gal_File, format='csv') \n",
    "\n",
    "intenFile = '../Data/3.IntenData.csv'\n",
    "intenData = Table.read(intenFile, format='csv')\n",
    "\n",
    "database  = join(SNe_Gal_Data, intenData, keys=('SN_name', 'galaxy'))\n"
   ]
  },
  {
   "cell_type": "code",
   "execution_count": 3,
   "id": "coastal-drinking",
   "metadata": {},
   "outputs": [],
   "source": [
    "\n",
    "#This database is only holding the SNe that have 150pc maps and is missing 1988A, 1989M, 2018ivc, 2017gax\n",
    "\n",
    "# for i in range(len(database[\"SN_name\"])):\n",
    "#     print(i, database[\"SN_name\"][i], database[\"SN_type\"][i])"
   ]
  },
  {
   "cell_type": "code",
   "execution_count": 4,
   "id": "pursuant-retro",
   "metadata": {},
   "outputs": [],
   "source": [
    "import matplotlib.pyplot as plt\n",
    "%matplotlib inline\n",
    "\n",
    "def setupBar(low, high, resArray, resStr):\n",
    "    '''\n",
    "    set up figure 2 barplot.\n",
    "    \n",
    "    '''\n",
    "    lowStr = \"No or Weak Detection (S/N < \" + str(low) + \")\"\n",
    "    midStr = \"Moderate Detection (\" + str(low) + \" $\\leq$ S/N < \" + str(high) + \")\"\n",
    "    upStr  = \"Strong Detection (\" + str(high) + \" $\\leq$ S/N)\" \n",
    "\n",
    "    x = [lowStr, midStr, upStr]\n",
    "    x_pos = [i for i, _ in enumerate(x)]\n",
    "\n",
    "    lowCtr, midCtr, upCtr = 0,0,0\n",
    "\n",
    "    for i in range(len(resArray)):\n",
    "        if resArray[i] < low:\n",
    "            lowCtr += 1\n",
    "        elif resArray[i] > low and resArray[i] < high:\n",
    "            midCtr += 1\n",
    "        elif resArray[i] > high:\n",
    "            upCtr += 1\n",
    "    \n",
    "    bars = [lowCtr, midCtr, upCtr]\n",
    "\n",
    "    return(x, x_pos, bars)    \n"
   ]
  },
  {
   "cell_type": "code",
   "execution_count": 12,
   "id": "variable-generation",
   "metadata": {},
   "outputs": [
    {
     "name": "stdout",
     "output_type": "stream",
     "text": [
      "['No or Weak Detection (S/N < 3.0)', 'Moderate Detection (3.0 $\\\\leq$ S/N < 7.0)', 'Strong Detection (7.0 $\\\\leq$ S/N)'] [0, 1, 2] [1, 3, 3]\n"
     ]
    },
    {
     "data": {
      "image/png": "[encoded data removed]",
      "text/plain": [
       "<Figure size 576x288 with 1 Axes>"
      ]
     },
     "metadata": {
      "needs_background": "light"
     },
     "output_type": "display_data"
    },
    {
     "data": {
      "text/plain": [
       "<Figure size 432x288 with 0 Axes>"
      ]
     },
     "metadata": {},
     "output_type": "display_data"
    },
    {
     "name": "stdout",
     "output_type": "stream",
     "text": [
      "[25, 6, 28]\n",
      "63\n"
     ]
    }
   ],
   "source": [
    "low, high = 3.0, 7.0\n",
    "x60, x_pos60, bar60     = setupBar(low, high, database['pc60SNR'], '60pc')\n",
    "x90, x_pos90, bar90     = setupBar(low, high, database['pc90SNR'], '90pc')\n",
    "x120, x_pos120, bar120   = setupBar(low, high, database['pc120SNR'], '120pc')\n",
    "x150, x_pos150, bar150   = setupBar(low, high, database['pc150SNR'], '150pc')\n",
    "x500, x_pos500, bar500   = setupBar(low, high, database['pc500SNR'], '500pc')\n",
    "x750, x_pos750, bar750   = setupBar(low, high, database['pc750SNR'], '750pc')\n",
    "x1000, x_pos1000, bar1000 = setupBar(low, high, database['pc1000SNR'], '1000pc')\n",
    "print(x60, x_pos60,bar60)\n",
    "sampleSize = len(database['SN_name'])\n",
    "N = 5\n",
    "ind = np.arange(N)  # the x locations for the groups\n",
    "width = 0.15  # the width of the bars\n",
    "\n",
    "fig = plt.figure()\n",
    "ax = fig.add_subplot(111)\n",
    "fig.set_figheight(4)\n",
    "fig.set_figwidth(8)\n",
    "ax.grid(True, alpha = 0.25)\n",
    "ax.axhline(y=0.16, ls = '--', color = 'k', alpha = 0.3, zorder=0)\n",
    "ax.axhline(y=0.50, ls = '--', color = 'k', alpha = 0.3)\n",
    "ax.axhline(y=0.84, ls = '--', color = 'k', alpha = 0.3)\n",
    "rects1 = ax.bar(ind[0], bar60[0]/sampleSize, width, color='purple')\n",
    "rects2 = ax.bar(ind[1], bar90[0]/sampleSize, width, color='purple')\n",
    "rects3 = ax.bar(ind[2], bar150[0]/sampleSize, width, color='purple')\n",
    "rects4 = ax.bar(ind[3], bar500[0]/sampleSize, width, color='purple')\n",
    "rects7 = ax.bar(ind[4], bar1000[0]/sampleSize, width, color='purple')\n",
    "rects1 = ax.bar(ind[0]+width, bar60[1]/sampleSize, width, color='orange')\n",
    "rects2 = ax.bar(ind[1]+width, bar90[1]/sampleSize, width, color='orange')\n",
    "rects3 = ax.bar(ind[2]+width, bar150[1]/sampleSize, width, color='orange')\n",
    "rects4 = ax.bar(ind[3]+width, bar500[1]/sampleSize, width, color='orange')\n",
    "rects8 = ax.bar(ind[4]+width, bar1000[1]/sampleSize, width, color='orange')\n",
    "rects1 = ax.bar(ind[0]+2*width, bar60[2]/sampleSize, width, color='black')\n",
    "rects2 = ax.bar(ind[1]+2*width, bar90[2]/sampleSize, width, color='black')\n",
    "rects3 = ax.bar(ind[2]+2*width, bar150[2]/sampleSize, width, color='black')\n",
    "rects4 = ax.bar(ind[3]+2*width, bar500[2]/sampleSize, width, color='black')\n",
    "rects9 = ax.bar(ind[4]+2*width, bar1000[2]/sampleSize, width, color='black')\n",
    "ax.set_ylabel('Fraction of Supernova')\n",
    "ax.set_ylim(0.0,1.01)\n",
    "ax.set_xticks(ind + width)\n",
    "ax.tick_params(axis='y', direction='in')\n",
    "ax.set_xticklabels(['60pc', '90pc', '150pc', '500pc', '1000pc'])\n",
    "ax.set_xlabel(\"PHANGS-ALMA CO 2-1 Map Resolution\")\n",
    "ax.legend((rects7[0], rects8[0],rects9[0]), (x60))\n",
    "plt.show()\n",
    "plt.tight_layout()\n",
    "fig.savefig('../Figures/SNR_Dist_BySNR.png', dpi=300)\n",
    "plt.show()\n",
    "plt.close()\n",
    "\n",
    "print(bar150)\n",
    "print(sampleSize)"
   ]
  },
  {
   "cell_type": "code",
   "execution_count": 32,
   "id": "1c6607c0",
   "metadata": {},
   "outputs": [
    {
     "name": "stdout",
     "output_type": "stream",
     "text": [
      "[18, 8, 21]\n",
      "[0.3829787234042553, 0.1702127659574468, 0.44680851063829785]\n",
      "7\n",
      "3\n"
     ]
    },
    {
     "data": {
      "image/png": "[encoded data removed]",
      "text/plain": [
       "<Figure size 432x216 with 1 Axes>"
      ]
     },
     "metadata": {
      "needs_background": "light"
     },
     "output_type": "display_data"
    }
   ],
   "source": [
    "import seaborn as sns\n",
    "\n",
    "# Assign counts per day per type for multi colored bar plot\n",
    "\n",
    "counts, normVals = [],[]\n",
    "resolutions = ['60pc (7)', '90pc(19)', \"120pc(47)\", \"150pc(59)\", \"500pc(62)\", \"750pc(63)\", \"1kpc(63)\"]\n",
    "classifications = [\"Weak/Non-Detection\", \"Moderate\", \"Strong\"]\n",
    "barcounts = [bar60, bar90, bar120, bar150, bar500, bar750, bar1000]\n",
    "\n",
    "for i in range(len(resolutions)):\n",
    "    numWeak   = barcounts[i][0] \n",
    "    numMod    = barcounts[i][1]  \n",
    "    numStrong = barcounts[i][2] \n",
    "    sumNum    = numWeak + numMod + numStrong \n",
    "    counts.append([numWeak, numMod, numStrong])\n",
    "    normVals.append([numWeak/sumNum, numMod/sumNum, numStrong/sumNum])\n",
    "print(counts[2])\n",
    "print(normVals[2])\n",
    "print(len(resolutions))\n",
    "print(len(classifications))\n",
    "    \n",
    "indRes, indClass, indNorm, indSum = [],[],[],[]\n",
    "for i in range(len(resolutions)):\n",
    "    sum = 0\n",
    "    for j in range(len(classifications)):\n",
    "        indRes.append(resolutions[i])\n",
    "        indClass.append(classifications[j])\n",
    "        indNorm.append(normVals[i][j])\n",
    "        sum += normVals[i][j] \n",
    "        indSum.append(sum)\n",
    "\n",
    "        \n",
    "handPalette = [\"black\", \"orange\", \"purple\"]\n",
    "f, ax = plt.subplots(nrows = 1, ncols = 1, figsize = (6,3))\n",
    "\n",
    "# sns.histplot(y=resolutions, hue=classifications, weights = indSum, multiple=\"stack\", palette=handPalette, alpha = 1.0)\n",
    "sns.histplot(y=indRes, hue=indClass, weights = indSum, multiple=\"stack\", discrete = True, fill=True, palette=handPalette, alpha = 1.0)\n",
    "\n",
    "ax.set_xlabel(\"\", fontsize = 14)\n",
    "ax.set_xlim(0,1.0)\n",
    "\n",
    "f.savefig(\"../Figures/HorizontalBarPlot.png\", bbox_inches = \"tight\", dpi = 300)\n",
    "\n"
   ]
  },
  {
   "cell_type": "code",
   "execution_count": 28,
   "id": "85132d2e",
   "metadata": {},
   "outputs": [
    {
     "name": "stdout",
     "output_type": "stream",
     "text": [
      "1000 :  63  SNe: 6.35  % non 6.35  % moderate 87.3  % strong\n",
      "750 :  63  SNe: 7.94  % non 11.11  % moderate 80.95  % strong\n",
      "500 :  62  SNe: 14.52  % non 12.9  % moderate 72.58  % strong\n",
      "150 :  59  SNe: 42.37  % non 10.17  % moderate 47.46  % strong\n",
      "120 :  47  SNe: 38.3  % non 17.02  % moderate 44.68  % strong\n",
      "90 :  19  SNe: 42.11  % non 21.05  % moderate 36.84  % strong\n",
      "60 :  7  SNe: 14.29  % non 42.86  % moderate 42.86  % strong\n"
     ]
    }
   ],
   "source": [
    "def printStats(bar, res):\n",
    "    numSNe = np.sum(bar)\n",
    "    nodet = bar[0]\n",
    "    modet = bar[1]\n",
    "    hidet = bar[2]\n",
    "    noPer = round(nodet/numSNe*100, 2)\n",
    "    moPer = round(modet/numSNe*100, 2)\n",
    "    hiPer = round(hidet/numSNe*100, 2)\n",
    "    print(res,\": \",numSNe,\" SNe:\",noPer,\" % non\",moPer,\" % moderate\",hiPer,\" % strong\")\n",
    "        \n",
    "\n",
    "\n",
    "printStats(bar1000, \"1000\")\n",
    "printStats(bar750, \"750\")\n",
    "printStats(bar500, \"500\")\n",
    "printStats(bar150, \"150\")\n",
    "printStats(bar120, \"120\")\n",
    "printStats(bar90, \"90\")\n",
    "printStats(bar60, \"60\")"
   ]
  },
  {
   "cell_type": "code",
   "execution_count": 7,
   "id": "3726a5dc",
   "metadata": {},
   "outputs": [],
   "source": [
    "\n",
    "    "
   ]
  },
  {
   "cell_type": "code",
   "execution_count": 8,
   "id": "84a2d214",
   "metadata": {},
   "outputs": [],
   "source": []
  },
  {
   "cell_type": "code",
   "execution_count": 9,
   "id": "naked-darkness",
   "metadata": {
    "scrolled": true
   },
   "outputs": [
    {
     "name": "stdout",
     "output_type": "stream",
     "text": [
      "60 7 [128.56 324.77 548.54]\n",
      "90 19 [ 87.94 293.84 583.09]\n",
      "120 47 [ 70.3  325.93 789.23]\n",
      "150 59 [ 76.21 317.94 740.26]\n",
      "500 62 [ 60.96 216.03 645.07]\n",
      "750 63 [ 57.95 209.31 545.31]\n",
      "1000 63 [ 46.17 164.36 474.16]\n"
     ]
    }
   ],
   "source": []
  },
  {
   "cell_type": "code",
   "execution_count": 10,
   "id": "parallel-legislature",
   "metadata": {},
   "outputs": [
    {
     "name": "stdout",
     "output_type": "stream",
     "text": [
      "63\n"
     ]
    }
   ],
   "source": []
  },
  {
   "cell_type": "code",
   "execution_count": 11,
   "id": "c950df16",
   "metadata": {},
   "outputs": [],
   "source": []
  }
 ],
 "metadata": {
  "kernelspec": {
   "display_name": "Python 3",
   "language": "python",
   "name": "python3"
  },
  "language_info": {
   "codemirror_mode": {
    "name": "ipython",
    "version": 3
   },
   "file_extension": ".py",
   "mimetype": "text/x-python",
   "name": "python",
   "nbconvert_exporter": "python",
   "pygments_lexer": "ipython3",
   "version": "3.8.10"
  }
 },
 "nbformat": 4,
 "nbformat_minor": 5
}
