{
 "cells": [
  {
   "cell_type": "markdown",
   "id": "coordinated-understanding",
   "metadata": {},
   "source": [
    "This notebook will analyze the intensities and errors of CO 2-1 emission at the locations of all of the SNe in our sample across all of the resolutions in the survey.\n",
    "\n",
    "We will use this to uncover what resolution will be best for this study.\n",
    "\n",
    "This notebook produces figure 2 and the MGSD percentiles table.\n"
   ]
  },
  {
   "cell_type": "code",
   "execution_count": 1,
   "id": "auburn-bearing",
   "metadata": {},
   "outputs": [],
   "source": [
    "import numpy as np\n",
    "import astropy\n",
    "import astropy.io.fits as pyfits\n",
    "from astropy.table import Table, join\n",
    "from astropy.io import ascii\n",
    "\n",
    "import sys\n",
    "sys.path.append('/home/mayker.1/Desktop/PythonFunctions')\n",
    "#sys.path.append('/Users/nessmayker/Desktop/PythonFunctions')\n",
    "from detectionFraction import detecFrac\n",
    "from cumulativeDistFunc import makeCDF\n",
    "from findPercentiles import findStats"
   ]
  },
  {
   "cell_type": "code",
   "execution_count": 2,
   "id": "known-corruption",
   "metadata": {},
   "outputs": [],
   "source": [
    "#import SNe data \n",
    "\n",
    "SNe_Gal_File = '../Data/3.SNe+GalData.csv'\n",
    "SNe_Gal_Data = Table.read(SNe_Gal_File, format='csv') \n",
    "\n",
    "intenFile = '../Data/3.IntenData.csv'\n",
    "intenData = Table.read(intenFile, format='csv')\n",
    "\n",
    "database  = join(SNe_Gal_Data, intenData, keys=('SN_name', 'galaxy'))\n"
   ]
  },
  {
   "cell_type": "code",
   "execution_count": 3,
   "id": "coastal-drinking",
   "metadata": {},
   "outputs": [
    {
     "name": "stdout",
     "output_type": "stream",
     "text": [
      "0 ASASSN-14ha II\n",
      "1 SN1901B I\n",
      "2 SN1923A II\n",
      "3 SN1926A II\n",
      "4 SN1935C unclassified\n",
      "5 SN1940E I\n",
      "6 SN1950B unclassified\n",
      "7 SN1957D unclassified\n",
      "8 SN1959E I\n",
      "9 SN1960F Ia\n",
      "10 SN1961I II\n",
      "11 SN1964F II\n",
      "12 SN1967H II\n",
      "13 SN1968L II\n",
      "14 SN1972Q II\n",
      "15 SN1973R II\n",
      "16 SN1979C II\n",
      "17 SN1981B Ia\n",
      "18 SN1983N Ib\n",
      "19 SN1983V Ic\n",
      "20 SN1984J II\n",
      "21 SN1985P II\n",
      "22 SN1986G Ia\n",
      "23 SN1986I II\n",
      "24 SN1986L II\n",
      "25 SN1988A II\n",
      "26 SN1988M II\n",
      "27 SN1989B Ia\n",
      "28 SN1989M Ia\n",
      "29 SN1992bd II\n",
      "30 SN1993Z Ia\n",
      "31 SN1995V II\n",
      "32 SN1996cr II\n",
      "33 SN1999em II\n",
      "34 SN1999eu II\n",
      "35 SN1999gn II\n",
      "36 SN2001du II\n",
      "37 SN2003jg Ic\n",
      "38 SN2005at Ic\n",
      "39 SN2005df Ia\n",
      "40 SN2006X Ia\n",
      "41 SN2006ov II\n",
      "42 SN2007it II\n",
      "43 SN2008bk II\n",
      "44 SN2008eh unclassified\n",
      "45 SN2009hd II\n",
      "46 SN2009ib II\n",
      "47 SN2010el Ia\n",
      "48 SN2011ja II\n",
      "49 SN2012A II\n",
      "50 SN2012cg Ia\n",
      "51 SN2012fr Ia\n",
      "52 SN2013ej II\n",
      "53 SN2014L Ic\n",
      "54 SN2014dt Ia\n",
      "55 SN2016adj IIb\n",
      "56 SN2016cok II\n",
      "57 SN2017gax Ib/c\n",
      "58 SN2018ivc II\n",
      "59 SN2019ehk Ib\n",
      "60 SN2020jfo II\n",
      "61 SN2020nvb Ia\n",
      "62 SN2020oi Ic\n"
     ]
    }
   ],
   "source": [
    "\n",
    "#This database is only holding the SNe that have 150pc maps and is missing 1988A, 1989M, 2018ivc, 2017gax\n",
    "# and we need to pull the IIns (2019qyl, 2019krl, 1997bs)\n",
    "\n",
    "for i in range(len(database[\"SN_name\"])):\n",
    "    print(i, database[\"SN_name\"][i], database[\"SN_type\"][i])"
   ]
  },
  {
   "cell_type": "code",
   "execution_count": 4,
   "id": "pursuant-retro",
   "metadata": {},
   "outputs": [],
   "source": [
    "import matplotlib.pyplot as plt\n",
    "%matplotlib inline\n",
    "\n",
    "def setupBar(low, high, resArray, resStr):\n",
    "    '''\n",
    "    set up figure 2 barplot.\n",
    "    \n",
    "    '''\n",
    "    lowStr = \"No or Weak Detection (S/N < \" + str(low) + \")\"\n",
    "    midStr = \"Moderate Detection (\" + str(low) + \" < S/N < \" + str(high) + \")\"\n",
    "    upStr  = \"Strong Detection (\" + str(high) + \" < S/N)\" \n",
    "\n",
    "    x = [lowStr, midStr, upStr]\n",
    "    x_pos = [i for i, _ in enumerate(x)]\n",
    "\n",
    "    lowCtr, midCtr, upCtr = 0,0,0\n",
    "\n",
    "    for i in range(len(resArray)):\n",
    "        if resArray[i] < low:\n",
    "            lowCtr += 1\n",
    "        elif resArray[i] > low and resArray[i] < high:\n",
    "            midCtr += 1\n",
    "        elif resArray[i] > high:\n",
    "            upCtr += 1\n",
    "    \n",
    "    bars = [lowCtr, midCtr, upCtr]\n",
    "\n",
    "    return(x, x_pos, bars)    \n"
   ]
  },
  {
   "cell_type": "code",
   "execution_count": 5,
   "id": "variable-generation",
   "metadata": {},
   "outputs": [
    {
     "data": {
      "image/png": "[encoded data removed]",
      "text/plain": [
       "<Figure size 432x288 with 1 Axes>"
      ]
     },
     "metadata": {
      "needs_background": "light"
     },
     "output_type": "display_data"
    },
    {
     "data": {
      "text/plain": [
       "<Figure size 432x288 with 0 Axes>"
      ]
     },
     "metadata": {},
     "output_type": "display_data"
    }
   ],
   "source": [
    "low, high = 3.0, 7.0\n",
    "x60, x_pos60, bar60     = setupBar(low, high, database['pc60SNR'], '60pc')\n",
    "x90, x_pos90, bar90     = setupBar(low, high, database['pc90SNR'], '90pc')\n",
    "x120, x_pos120, bar120   = setupBar(low, high, database['pc120SNR'], '120pc')\n",
    "x150, x_pos150, bar150   = setupBar(low, high, database['pc150SNR'], '150pc')\n",
    "x500, x_pos500, bar500   = setupBar(low, high, database['pc500SNR'], '500pc')\n",
    "x750, x_pos750, bar750   = setupBar(low, high, database['pc750SNR'], '750pc')\n",
    "x1000, x_pos1000, bar1000 = setupBar(low, high, database['pc1000SNR'], '1000pc')\n",
    "\n",
    "sampleSize = len(database['SN_name'])\n",
    "N = 5\n",
    "ind = np.arange(N)  # the x locations for the groups\n",
    "width = 0.15  # the width of the bars\n",
    "\n",
    "fig = plt.figure()\n",
    "ax = fig.add_subplot(111)\n",
    "ax.grid(True, alpha = 0.25)\n",
    "ax.axhline(y=0.16, ls = '--', color = 'k', alpha = 0.3, zorder=0)\n",
    "ax.axhline(y=0.50, ls = '--', color = 'k', alpha = 0.3)\n",
    "ax.axhline(y=0.84, ls = '--', color = 'k', alpha = 0.3)\n",
    "rects1 = ax.bar(ind[0], bar60[0]/sampleSize, width, color='purple')\n",
    "rects2 = ax.bar(ind[1], bar90[0]/sampleSize, width, color='purple')\n",
    "rects3 = ax.bar(ind[2], bar150[0]/sampleSize, width, color='purple')\n",
    "rects4 = ax.bar(ind[3], bar500[0]/sampleSize, width, color='purple')\n",
    "rects7 = ax.bar(ind[4], bar1000[0]/sampleSize, width, color='purple')\n",
    "rects1 = ax.bar(ind[0]+width, bar60[1]/sampleSize, width, color='orange')\n",
    "rects2 = ax.bar(ind[1]+width, bar90[1]/sampleSize, width, color='orange')\n",
    "rects3 = ax.bar(ind[2]+width, bar150[1]/sampleSize, width, color='orange')\n",
    "rects4 = ax.bar(ind[3]+width, bar500[1]/sampleSize, width, color='orange')\n",
    "rects8 = ax.bar(ind[4]+width, bar1000[1]/sampleSize, width, color='orange')\n",
    "rects1 = ax.bar(ind[0]+2*width, bar60[2]/sampleSize, width, color='black')\n",
    "rects2 = ax.bar(ind[1]+2*width, bar90[2]/sampleSize, width, color='black')\n",
    "rects3 = ax.bar(ind[2]+2*width, bar150[2]/sampleSize, width, color='black')\n",
    "rects4 = ax.bar(ind[3]+2*width, bar500[2]/sampleSize, width, color='black')\n",
    "rects9 = ax.bar(ind[4]+2*width, bar1000[2]/sampleSize, width, color='black')\n",
    "ax.set_ylabel('Fraction of Supernova')\n",
    "ax.set_ylim(0.0,1.01)\n",
    "ax.set_xticks(ind + width)\n",
    "ax.tick_params(axis='y', direction='in')\n",
    "ax.set_xticklabels(['60pc', '90pc', '150pc', '500pc', '1000pc'])\n",
    "ax.set_xlabel(\"PHANGS-ALMA CO 2-1 Map Resolution\")\n",
    "ax.legend((rects7[0], rects8[0],rects9[0]), (x60))\n",
    "plt.show()\n",
    "plt.tight_layout()\n",
    "fig.savefig('../Figures/SNR_Dist_BySNR.png', dpi=300)"
   ]
  },
  {
   "cell_type": "code",
   "execution_count": 6,
   "id": "85132d2e",
   "metadata": {},
   "outputs": [
    {
     "name": "stdout",
     "output_type": "stream",
     "text": [
      "[4, 4, 55]\n",
      "[23, 7, 29]\n"
     ]
    }
   ],
   "source": [
    "print(bar1000)\n",
    "print(bar150)"
   ]
  },
  {
   "cell_type": "code",
   "execution_count": 7,
   "id": "3726a5dc",
   "metadata": {},
   "outputs": [
    {
     "name": "stdout",
     "output_type": "stream",
     "text": [
      "27.377416610717773 ngc1566\n",
      "5.013950347900391 ngc4321\n",
      "5.028407096862793 ngc5236\n",
      "0.5659606456756592 ngc4303\n",
      "1.971544861793518 ngc1511\n",
      "142.72422790527344 ngc0253\n",
      "15.898970603942871 ngc5236\n",
      "7.795499324798584 ngc5236\n",
      "11.592008590698242 ngc4321\n",
      "1.4647822380065918 ngc4496a\n",
      "1.7532508373260498 ngc4303\n",
      "4.0076904296875 ngc4303\n",
      "13.661224365234375 ngc4254\n",
      "95.94841766357422 ngc5236\n",
      "1.1837623119354248 ngc4254\n",
      "13.984562873840332 ngc3627\n",
      "1.7327972650527954 ngc4321\n",
      "0.2137349545955658 ngc4536\n",
      "2.1873528957366943 ngc5236\n",
      "2.623316764831543 ngc1365\n",
      "9.223339080810547 ngc1559\n",
      "0.317399799823761 ngc1433\n",
      "17.113990783691406 ngc5128\n",
      "16.13823890686035 ngc4254\n",
      "2.3609507083892822 ngc1559\n",
      "1.7538065910339355 ngc4579\n",
      "0.0 ngc4496a\n",
      "34.73579406738281 ngc3627\n",
      "3.107386350631714 ngc4579\n",
      "167.37948608398438 ngc1097\n",
      "2.4687201976776123 ngc2775\n",
      "4.203847885131836 ngc1087\n",
      "81.1122817993164 circinus\n",
      "3.8686399459838867 ngc1637\n",
      "0.0 ngc1097\n",
      "7.122220516204834 ngc4303\n",
      "2.6764848232269287 ngc1365\n",
      "35.72654724121094 ngc2997\n",
      "1.8349125385284424 ngc6744\n",
      "0.0 ngc1559\n",
      "4.879951000213623 ngc4321\n",
      "6.954085350036621 ngc4303\n",
      "2.536071300506592 ngc5530\n",
      "0.07790473848581314 ngc7793\n",
      "6.204991340637207 ngc2997\n",
      "55.345829010009766 ngc3627\n",
      "5.460750102996826 ngc1559\n",
      "14.49880599975586 ngc1566\n",
      "17.18722915649414 ngc4945\n",
      "0.0 ngc3239\n",
      "0.8458475470542908 ngc4424\n",
      "1.1120128631591797 ngc1365\n",
      "0.5881704092025757 ngc0628\n",
      "26.605966567993164 ngc4254\n",
      "7.561778545379639 ngc4303\n",
      "43.1256217956543 ngc5128\n",
      "4.497220516204834 ngc3627\n",
      "2.992654323577881 ngc1672\n",
      "122.50003814697266 ngc1068\n",
      "4.028997898101807 ngc4321\n",
      "3.705984592437744 ngc4303\n",
      "25.024417877197266 ngc4457\n",
      "91.300048828125 ngc4321\n"
     ]
    }
   ],
   "source": [
    "for i in range(len(database)):\n",
    "    print(database['pc1000Int'][i],database['galaxy'][i])\n",
    "    "
   ]
  },
  {
   "cell_type": "code",
   "execution_count": 8,
   "id": "84a2d214",
   "metadata": {},
   "outputs": [],
   "source": [
    "\n",
    "def percentiles(array):\n",
    "\n",
    "    vals = np.asarray(array)\n",
    "    \n",
    "    for i in range(len(vals)):\n",
    "        if vals[i] < 0.0:\n",
    "            vals[i] = 0.0\n",
    "    \n",
    "    vals = vals[np.isfinite(vals)]\n",
    "    \n",
    "    percentile = np.linspace(0,1,len(vals))\n",
    "    stats = findStats(percentile, vals)\n",
    "\n",
    "    return(stats, len(vals))\n",
    "\n",
    "def mgsdPercentiles(res):\n",
    "\n",
    "    msgdStr = \"pc\" + str(res) + \"mgsd\"\n",
    "    errStr = \"pc\" + str(res) + \"mgsdErr\"\n",
    "\n",
    "    mgsdgroup = database.group_by([msgdStr, errStr])\n",
    "\n",
    "    mgsdSort, errSort = [],[]\n",
    "    \n",
    "    for i in range(len(mgsdgroup)):\n",
    "        if np.isfinite(mgsdgroup[msgdStr][i]):\n",
    "            mgsdSort.append(mgsdgroup[msgdStr][i])\n",
    "            errSort.append(mgsdgroup[errStr][i])\n",
    "        else:\n",
    "            pass\n",
    "\n",
    "    mgsdVals, num = percentiles(mgsdSort)\n",
    "    mgsdErrVals, num = percentiles(errSort)\n",
    "\n",
    "        \n",
    "    return(mgsdVals, mgsdErrVals, num)\n"
   ]
  },
  {
   "cell_type": "code",
   "execution_count": null,
   "id": "cbfd80a6",
   "metadata": {},
   "outputs": [],
   "source": [
    "print()"
   ]
  },
  {
   "cell_type": "code",
   "execution_count": 12,
   "id": "naked-darkness",
   "metadata": {
    "scrolled": true
   },
   "outputs": [
    {
     "name": "stdout",
     "output_type": "stream",
     "text": [
      "['Resolution', 'Percent Sample Size', '5th \\\\%ile', '16th \\\\%ile', '50th \\\\%ile', '84th \\\\%ile', '95th \\\\%ile', '\\\\% non/weak', '\\\\% moderate', '\\\\% strong']\n",
      "\n",
      "60pc & 11.1 & 16.38$\\pm$4.12 & 19.96$\\pm$3.93 & 38.86$\\pm$6.8 & 414.73$\\pm$4.36 & 1099.54$\\pm$6.42 & 14.3 & 42.9 & 42.9 \\\n",
      "90pc & 30.2 & 0.0$\\pm$7.02 & 0.0$\\pm$7.61 & 21.44$\\pm$2.92 & 213.91$\\pm$2.58 & 447.89$\\pm$3.09 & 36.8 & 21.1 & 42.1 \\\n",
      "120pc & 74.6 & 0.0$\\pm$10.74 & 0.03$\\pm$5.51 & 29.19$\\pm$7.14 & 217.27$\\pm$5.08 & 500.62$\\pm$6.88 & 36.2 & 17.0 & 46.8 \\\n",
      "150pc & 93.7 & 0.0$\\pm$3.33 & 0.1$\\pm$4.79 & 25.12$\\pm$4.98 & 266.56$\\pm$5.85 & 936.34$\\pm$10.71 & 39.0 & 11.9 & 49.2 \\\n",
      "500pc & 98.4 & 0.0$\\pm$2.21 & 5.04$\\pm$1.38 & 27.76$\\pm$0.24 & 189.55$\\pm$0.97 & 558.24$\\pm$1.24 & 14.5 & 12.9 & 72.6 \\\n",
      "750pc & 100.0 & 0.0$\\pm$1.33 & 4.79$\\pm$1.13 & 29.03$\\pm$1.09 & 154.3$\\pm$0.53 & 689.08$\\pm$0.51 & 7.9 & 11.1 & 81.0 \\\n",
      "1000pc & 100.0 & 0.0$\\pm$0.83 & 5.35$\\pm$0.82 & 27.76$\\pm$0.24 & 134.17$\\pm$0.33 & 639.16$\\pm$0.41 & 6.3 & 6.3 & 87.3 \\\n"
     ]
    }
   ],
   "source": [
    "# Make Latex Table : MGSD Percentiles at all resolutions\n",
    "\n",
    "pc60mgsdTiles,   pc60mgsdErrTiles,   numPc60   = mgsdPercentiles(60)\n",
    "pc90mgsdTiles,   pc90mgsdErrTiles,   numPc90   = mgsdPercentiles(90)\n",
    "pc120mgsdTiles,  pc120mgsdErrTiles,  numPc120  = mgsdPercentiles(120)\n",
    "pc150mgsdTiles,  pc150mgsdErrTiles,  numPc150  = mgsdPercentiles(150)\n",
    "pc500mgsdTiles,  pc500mgsdErrTiles,  numPc500  = mgsdPercentiles(500)\n",
    "pc750mgsdTiles,  pc750mgsdErrTiles,  numPc750  = mgsdPercentiles(750)\n",
    "pc1000mgsdTiles, pc1000mgsdErrTiles, numPc1000 = mgsdPercentiles(1000)\n",
    "\n",
    "# Build latex Table\n",
    "\n",
    "MAGICnumSNe = float(len(database))\n",
    "\n",
    "columns  = [\"Resolution\", \"Percent Sample Size\", \"5th \\%ile\" ,\"16th \\%ile\" ,\"50th \\%ile\" ,\"84th \\%ile\" ,\"95th \\%ile\", \"\\% non/weak\", \"\\% moderate\", \"\\% strong\"]\n",
    "stats_60 = [\"60pc\", round(numPc60/MAGICnumSNe*100,1), str(pc60mgsdTiles[0]) + \"$\\pm$\" + str(pc60mgsdErrTiles[0]), str(pc60mgsdTiles[1]) + \"$\\pm$\" + str(pc60mgsdErrTiles[1]),  str(pc60mgsdTiles[2]) + \"$\\pm$\" + str(pc60mgsdErrTiles[2]), str(pc60mgsdTiles[3]) + \"$\\pm$\" + str(pc60mgsdErrTiles[3]),  str(pc60mgsdTiles[4]) + \"$\\pm$\" + str(pc60mgsdErrTiles[4]), round(bar60[0]/numPc60*100,1), round(bar60[1]/numPc60*100,1), round(bar60[2]/numPc60*100,1)]\n",
    "stats_90 = [\"90pc\", round(numPc90/MAGICnumSNe*100,1), str(pc90mgsdTiles[0]) + \"$\\pm$\" + str(pc90mgsdErrTiles[0]), str(pc90mgsdTiles[1]) + \"$\\pm$\" + str(pc90mgsdErrTiles[1]),  str(pc90mgsdTiles[2]) + \"$\\pm$\" + str(pc90mgsdErrTiles[2]), str(pc90mgsdTiles[3]) + \"$\\pm$\" + str(pc90mgsdErrTiles[3]),  str(pc90mgsdTiles[4]) + \"$\\pm$\" + str(pc90mgsdErrTiles[4]), round(bar90[0]/numPc90*100,1), round(bar90[1]/numPc90*100,1), round(bar90[2]/numPc90*100,1)]\n",
    "stats_120 = [\"120pc\", round(numPc120/MAGICnumSNe*100,1), str(pc120mgsdTiles[0]) + \"$\\pm$\" + str(pc120mgsdErrTiles[0]), str(pc120mgsdTiles[1]) + \"$\\pm$\" + str(pc120mgsdErrTiles[1]),  str(pc120mgsdTiles[2]) + \"$\\pm$\" + str(pc120mgsdErrTiles[2]), str(pc120mgsdTiles[3]) + \"$\\pm$\" + str(pc120mgsdErrTiles[3]),  str(pc120mgsdTiles[4]) + \"$\\pm$\" + str(pc120mgsdErrTiles[4]), round(bar120[0]/numPc120*100,1), round(bar120[1]/numPc120*100,1), round(bar120[2]/numPc120*100,1)]\n",
    "stats_150 = [\"150pc\", round(numPc150/MAGICnumSNe*100,1), str(pc150mgsdTiles[0]) + \"$\\pm$\" + str(pc150mgsdErrTiles[0]), str(pc150mgsdTiles[1]) + \"$\\pm$\" + str(pc150mgsdErrTiles[1]),  str(pc150mgsdTiles[2]) + \"$\\pm$\" + str(pc150mgsdErrTiles[2]), str(pc150mgsdTiles[3]) + \"$\\pm$\" + str(pc150mgsdErrTiles[3]),  str(pc150mgsdTiles[4]) + \"$\\pm$\" + str(pc150mgsdErrTiles[4]), round(bar150[0]/numPc150*100,1), round(bar150[1]/numPc150*100,1), round(bar150[2]/numPc150*100,1)]\n",
    "stats_500 = [\"500pc\", round(numPc500/MAGICnumSNe*100,1), str(pc500mgsdTiles[0]) + \"$\\pm$\" + str(pc500mgsdErrTiles[0]), str(pc500mgsdTiles[1]) + \"$\\pm$\" + str(pc500mgsdErrTiles[1]),  str(pc500mgsdTiles[2]) + \"$\\pm$\" + str(pc500mgsdErrTiles[2]), str(pc500mgsdTiles[3]) + \"$\\pm$\" + str(pc500mgsdErrTiles[3]),  str(pc500mgsdTiles[4]) + \"$\\pm$\" + str(pc500mgsdErrTiles[4]), round(bar500[0]/numPc500*100,1), round(bar500[1]/numPc500*100,1), round(bar500[2]/numPc500*100,1)]\n",
    "stats_750 = [\"750pc\", round(numPc750/MAGICnumSNe*100,1), str(pc750mgsdTiles[0]) + \"$\\pm$\" + str(pc750mgsdErrTiles[0]), str(pc750mgsdTiles[1]) + \"$\\pm$\" + str(pc750mgsdErrTiles[1]),  str(pc750mgsdTiles[2]) + \"$\\pm$\" + str(pc750mgsdErrTiles[2]), str(pc750mgsdTiles[3]) + \"$\\pm$\" + str(pc750mgsdErrTiles[3]),  str(pc750mgsdTiles[4]) + \"$\\pm$\" + str(pc750mgsdErrTiles[4]), round(bar750[0]/numPc750*100,1), round(bar750[1]/numPc750*100,1), round(bar750[2]/numPc750*100,1)]\n",
    "stats_1000 = [\"1000pc\", round(numPc1000/MAGICnumSNe*100,1), str(pc1000mgsdTiles[0]) + \"$\\pm$\" + str(pc1000mgsdErrTiles[0]), str(pc1000mgsdTiles[1]) + \"$\\pm$\" + str(pc1000mgsdErrTiles[1]),  str(pc1000mgsdTiles[2]) + \"$\\pm$\" + str(pc1000mgsdErrTiles[2]), str(pc1000mgsdTiles[3]) + \"$\\pm$\" + str(pc1000mgsdErrTiles[3]),  str(pc1000mgsdTiles[4]) + \"$\\pm$\" + str(pc1000mgsdErrTiles[4]), round(bar1000[0]/numPc1000*100,1), round(bar1000[1]/numPc1000*100,1), round(bar1000[2]/numPc1000*100,1)]\n",
    "\n",
    "statsArr = [stats_60,stats_90,stats_120,stats_150,stats_500,stats_750,stats_1000]\n",
    "print(columns)\n",
    "print()\n",
    "\n",
    "for i in range(len(statsArr)):\n",
    "    for j in range(len(stats_60)):\n",
    "        print(statsArr[i][j], end=\" \")\n",
    "        if j < len(stats_60)-1: print(\"&\", end = \" \")\n",
    "        else: print(\"\\\\\")\n",
    "\n"
   ]
  },
  {
   "cell_type": "code",
   "execution_count": 11,
   "id": "parallel-legislature",
   "metadata": {},
   "outputs": [
    {
     "name": "stdout",
     "output_type": "stream",
     "text": [
      "63\n"
     ]
    }
   ],
   "source": [
    "print(len(database))"
   ]
  },
  {
   "cell_type": "code",
   "execution_count": null,
   "id": "c950df16",
   "metadata": {},
   "outputs": [],
   "source": []
  }
 ],
 "metadata": {
  "kernelspec": {
   "display_name": "Python 3",
   "language": "python",
   "name": "python3"
  },
  "language_info": {
   "codemirror_mode": {
    "name": "ipython",
    "version": 3
   },
   "file_extension": ".py",
   "mimetype": "text/x-python",
   "name": "python",
   "nbconvert_exporter": "python",
   "pygments_lexer": "ipython3",
   "version": "3.8.10"
  }
 },
 "nbformat": 4,
 "nbformat_minor": 5
}
