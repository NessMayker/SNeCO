{
 "cells": [
  {
   "cell_type": "markdown",
   "id": "coordinated-understanding",
   "metadata": {},
   "source": [
    "This notebook will analyze the intensities and errors of CO 2-1 emission at the locations of all of the SNe in our sample across all of the resolutions in the survey.\n",
    "\n",
    "We will use this to uncover what resolution will be best for this study.\n",
    "\n",
    "This notebook produces figure 2 and the MGSD percentiles table.\n"
   ]
  },
  {
   "cell_type": "code",
   "execution_count": 1,
   "id": "auburn-bearing",
   "metadata": {},
   "outputs": [],
   "source": [
    "import numpy as np\n",
    "import astropy\n",
    "import astropy.io.fits as pyfits\n",
    "from astropy.table import Table, join\n",
    "from astropy.io import ascii\n",
    "\n",
    "import sys\n",
    "sys.path.append('/home/mayker.1/Desktop/PythonFunctions')\n",
    "#sys.path.append('/Users/nessmayker/Desktop/PythonFunctions')\n",
    "from detectionFraction import detecFrac\n",
    "from cumulativeDistFunc import makeCDF\n",
    "from findPercentiles import findStats"
   ]
  },
  {
   "cell_type": "code",
   "execution_count": 2,
   "id": "known-corruption",
   "metadata": {},
   "outputs": [],
   "source": [
    "#import SNe data \n",
    "\n",
    "SNe_Gal_File = '../Data/3.SNe+GalData.csv'\n",
    "SNe_Gal_Data = Table.read(SNe_Gal_File, format='csv') \n",
    "\n",
    "intenFile = '../Data/3.IntenData.csv'\n",
    "intenData = Table.read(intenFile, format='csv')\n",
    "\n",
    "database  = join(SNe_Gal_Data, intenData, keys=('SN_name', 'galaxy'))\n"
   ]
  },
  {
   "cell_type": "code",
   "execution_count": 3,
   "id": "coastal-drinking",
   "metadata": {},
   "outputs": [
    {
     "name": "stdout",
     "output_type": "stream",
     "text": [
      "0 ASASSN-14ha II True\n",
      "1 SN1901B I False\n",
      "2 SN1923A II True\n",
      "3 SN1926A II True\n",
      "4 SN1935C unclassified False\n",
      "5 SN1940E I False\n",
      "6 SN1950B unclassified False\n",
      "7 SN1957D unclassified False\n",
      "8 SN1959E I False\n",
      "9 SN1960F Ia False\n",
      "10 SN1961I II True\n",
      "11 SN1964F II True\n",
      "12 SN1967H II True\n",
      "13 SN1968L II True\n",
      "14 SN1972Q II True\n",
      "15 SN1973R II True\n",
      "16 SN1979C II True\n",
      "17 SN1981B Ia False\n",
      "18 SN1983N Ib True\n",
      "19 SN1983V Ic True\n",
      "20 SN1984J II True\n",
      "21 SN1985P II True\n",
      "22 SN1986G Ia False\n",
      "23 SN1986I II True\n",
      "24 SN1986L II True\n",
      "25 SN1988A II True\n",
      "26 SN1988M II True\n",
      "27 SN1989B Ia False\n",
      "28 SN1989M Ia False\n",
      "29 SN1992bd II True\n",
      "30 SN1993Z Ia False\n",
      "31 SN1995V II True\n",
      "32 SN1996cr II True\n",
      "33 SN1999em II True\n",
      "34 SN1999eu II True\n",
      "35 SN1999gn II True\n",
      "36 SN2001du II True\n",
      "37 SN2003jg Ic True\n",
      "38 SN2005at Ic True\n",
      "39 SN2005df Ia False\n",
      "40 SN2006X Ia False\n",
      "41 SN2006ov II True\n",
      "42 SN2007it II True\n",
      "43 SN2008bk II True\n",
      "44 SN2008eh unclassified False\n",
      "45 SN2009hd II True\n",
      "46 SN2009ib II True\n",
      "47 SN2010el Ia False\n",
      "48 SN2011ja II True\n",
      "49 SN2012A II True\n",
      "50 SN2012cg Ia False\n",
      "51 SN2012fr Ia False\n",
      "52 SN2013ej II True\n",
      "53 SN2014L Ic True\n",
      "54 SN2014dt Ia False\n",
      "55 SN2016adj IIb True\n",
      "56 SN2016cok II True\n",
      "57 SN2017gax Ib/c True\n",
      "58 SN2018ivc II True\n",
      "59 SN2019ehk Ib True\n",
      "60 SN2020jfo II True\n",
      "61 SN2020nvb Ia False\n",
      "62 SN2020oi Ic True\n"
     ]
    }
   ],
   "source": [
    "# Make flags for CCSNe\n",
    "#This database is only holding the SNe that have 150pc maps and is missing 1988A, 1989M, 2018ivc, 2017gax\n",
    "CCSNeFlags = []\n",
    "for i in range(len(database[\"SN_name\"])):\n",
    "    if database[\"SN_type\"][i] == \"II\" or database[\"SN_type\"][i] == \"Ib\" or database[\"SN_type\"][i] == \"Ic\" or \\\n",
    "        database[\"SN_type\"][i] == \"IIb\" or database[\"SN_type\"][i]  == \"Ib/c\":        \n",
    "        CCSNeFlags.append(True)        \n",
    "    else:            \n",
    "        CCSNeFlags.append(False)        \n",
    "    print(i, database[\"SN_name\"][i], database[\"SN_type\"][i], CCSNeFlags[i])\n"
   ]
  },
  {
   "cell_type": "code",
   "execution_count": 4,
   "id": "pursuant-retro",
   "metadata": {},
   "outputs": [],
   "source": [
    "import matplotlib.pyplot as plt\n",
    "%matplotlib inline\n",
    "\n",
    "def setupBar(low, high, resArray, resStr, flagArr):\n",
    "    '''\n",
    "    set up figure 2 barplot.\n",
    "    \n",
    "    '''\n",
    "    lowStr = \"No or Weak Detection (S/N < \" + str(low) + \")\"\n",
    "    midStr = \"Moderate Detection (\" + str(low) + \" $\\leq$ S/N < \" + str(high) + \")\"\n",
    "    upStr  = \"Strong Detection (\" + str(high) + \" $\\leq$ S/N)\" \n",
    "\n",
    "    x = [lowStr, midStr, upStr]\n",
    "    x_pos = [i for i, _ in enumerate(x)]\n",
    "\n",
    "    lowCtr, midCtr, upCtr = 0,0,0\n",
    "\n",
    "    for i in range(len(resArray)):\n",
    "        if(flagArr[i] == True):\n",
    "            if resArray[i] < low:\n",
    "                lowCtr += 1\n",
    "            elif resArray[i] > low and resArray[i] < high:\n",
    "                midCtr += 1\n",
    "            elif resArray[i] > high:\n",
    "                upCtr += 1\n",
    "\n",
    "    bars = [lowCtr, midCtr, upCtr]\n",
    "\n",
    "    return(x, x_pos, bars)    \n"
   ]
  },
  {
   "cell_type": "code",
   "execution_count": 5,
   "id": "variable-generation",
   "metadata": {},
   "outputs": [
    {
     "name": "stdout",
     "output_type": "stream",
     "text": [
      "['No or Weak Detection (S/N < 3.0)', 'Moderate Detection (3.0 $\\\\leq$ S/N < 7.0)', 'Strong Detection (7.0 $\\\\leq$ S/N)'] [0, 1, 2] [1, 3, 3]\n"
     ]
    },
    {
     "data": {
      "image/png": "[encoded data removed]",
      "text/plain": [
       "<Figure size 576x288 with 1 Axes>"
      ]
     },
     "metadata": {
      "needs_background": "light"
     },
     "output_type": "display_data"
    },
    {
     "data": {
      "text/plain": [
       "<Figure size 432x288 with 0 Axes>"
      ]
     },
     "metadata": {},
     "output_type": "display_data"
    },
    {
     "name": "stdout",
     "output_type": "stream",
     "text": [
      "[25, 6, 28]\n",
      "63\n"
     ]
    }
   ],
   "source": [
    "low, high = 3.0, 7.0\n",
    "flagArray = np.repeat([True],len(database))\n",
    "x60, x_pos60, bar60     = setupBar(low, high, database['pc60SNR'], '60pc', flagArray)\n",
    "x90, x_pos90, bar90     = setupBar(low, high, database['pc90SNR'], '90pc', flagArray)\n",
    "x120, x_pos120, bar120   = setupBar(low, high, database['pc120SNR'], '120pc', flagArray)\n",
    "x150, x_pos150, bar150   = setupBar(low, high, database['pc150SNR'], '150pc', flagArray)\n",
    "x500, x_pos500, bar500   = setupBar(low, high, database['pc500SNR'], '500pc', flagArray)\n",
    "x750, x_pos750, bar750   = setupBar(low, high, database['pc750SNR'], '750pc', flagArray)\n",
    "x1000, x_pos1000, bar1000 = setupBar(low, high, database['pc1000SNR'], '1000pc', flagArray)\n",
    "print(x60, x_pos60,bar60)\n",
    "sampleSize = len(database['SN_name'])\n",
    "N = 5\n",
    "ind = np.arange(N)  # the x locations for the groups\n",
    "width = 0.15  # the width of the bars\n",
    "\n",
    "fig = plt.figure()\n",
    "ax = fig.add_subplot(111)\n",
    "fig.set_figheight(4)\n",
    "fig.set_figwidth(8)\n",
    "ax.grid(True, alpha = 0.25)\n",
    "ax.axhline(y=0.16, ls = '--', color = 'k', alpha = 0.3, zorder=0)\n",
    "ax.axhline(y=0.50, ls = '--', color = 'k', alpha = 0.3)\n",
    "ax.axhline(y=0.84, ls = '--', color = 'k', alpha = 0.3)\n",
    "rects1 = ax.bar(ind[0], bar60[0]/sampleSize, width, color='purple')\n",
    "rects2 = ax.bar(ind[1], bar90[0]/sampleSize, width, color='purple')\n",
    "rects3 = ax.bar(ind[2], bar150[0]/sampleSize, width, color='purple')\n",
    "rects4 = ax.bar(ind[3], bar500[0]/sampleSize, width, color='purple')\n",
    "rects7 = ax.bar(ind[4], bar1000[0]/sampleSize, width, color='purple')\n",
    "rects1 = ax.bar(ind[0]+width, bar60[1]/sampleSize, width, color='orange')\n",
    "rects2 = ax.bar(ind[1]+width, bar90[1]/sampleSize, width, color='orange')\n",
    "rects3 = ax.bar(ind[2]+width, bar150[1]/sampleSize, width, color='orange')\n",
    "rects4 = ax.bar(ind[3]+width, bar500[1]/sampleSize, width, color='orange')\n",
    "rects8 = ax.bar(ind[4]+width, bar1000[1]/sampleSize, width, color='orange')\n",
    "rects1 = ax.bar(ind[0]+2*width, bar60[2]/sampleSize, width, color='black')\n",
    "rects2 = ax.bar(ind[1]+2*width, bar90[2]/sampleSize, width, color='black')\n",
    "rects3 = ax.bar(ind[2]+2*width, bar150[2]/sampleSize, width, color='black')\n",
    "rects4 = ax.bar(ind[3]+2*width, bar500[2]/sampleSize, width, color='black')\n",
    "rects9 = ax.bar(ind[4]+2*width, bar1000[2]/sampleSize, width, color='black')\n",
    "ax.set_ylabel('Fraction of Supernova')\n",
    "ax.set_ylim(0.0,1.01)\n",
    "ax.set_xticks(ind + width)\n",
    "ax.tick_params(axis='y', direction='in')\n",
    "ax.set_xticklabels(['60pc', '90pc', '150pc', '500pc', '1000pc'])\n",
    "ax.set_xlabel(\"PHANGS-ALMA CO 2-1 Map Resolution\")\n",
    "ax.legend((rects7[0], rects8[0],rects9[0]), (x60))\n",
    "plt.show()\n",
    "plt.tight_layout()\n",
    "fig.savefig('../Figures/SNR_Dist_BySNR.png', dpi=300)\n",
    "plt.show()\n",
    "plt.close()\n",
    "\n",
    "print(bar150)\n",
    "print(sampleSize)"
   ]
  },
  {
   "cell_type": "code",
   "execution_count": 6,
   "id": "2e3cc074",
   "metadata": {
    "scrolled": true
   },
   "outputs": [
    {
     "name": "stdout",
     "output_type": "stream",
     "text": [
      "[1, 3, 3]\n",
      "[0.14285714285714285, 0.42857142857142855, 0.42857142857142855]\n",
      "7\n",
      "3\n"
     ]
    },
    {
     "data": {
      "image/png": "[encoded data removed]",
      "text/plain": [
       "<Figure size 864x180 with 2 Axes>"
      ]
     },
     "metadata": {
      "needs_background": "light"
     },
     "output_type": "display_data"
    }
   ],
   "source": [
    "import seaborn as sns\n",
    "\n",
    "# Assign counts per day per type for multi colored bar plot\n",
    "\n",
    "counts, normVals = [],[]\n",
    "resolutions = ['60pc (7 SNe)', '90pc (19 SNe)', \"120pc (47 SNe)\", \"150pc (59 SNe)\", \"500pc (62 SNe)\", \"750pc (63 SNe)\", \"1kpc (63 SNe)\"]\n",
    "classifications = [\"Weak/Non-Detection\", \"Moderate\", \"Strong\"]\n",
    "barcounts = [bar60, bar90, bar120, bar150, bar500, bar750, bar1000]\n",
    "\n",
    "for i in range(len(resolutions)):\n",
    "    numWeak   = barcounts[i][0] \n",
    "    numMod    = barcounts[i][1]  \n",
    "    numStrong = barcounts[i][2] \n",
    "    sumNum    = numWeak + numMod + numStrong \n",
    "    counts.append([numWeak, numMod, numStrong])\n",
    "    normVals.append([numWeak/sumNum, numMod/sumNum, numStrong/sumNum])\n",
    "print(counts[0])\n",
    "print(normVals[0])\n",
    "print(len(resolutions))\n",
    "print(len(classifications))\n",
    "    \n",
    "indRes, indClass, indNorm, indSum = [],[],[],[]\n",
    "for i in range(len(resolutions)):\n",
    "    sum = 0\n",
    "    for j in range(len(classifications)):\n",
    "        indRes.append(resolutions[i])\n",
    "        indClass.append(classifications[j])\n",
    "        indNorm.append(normVals[i][j])\n",
    "        sum += normVals[i][j] \n",
    "        indSum.append(sum)\n",
    "\n",
    "        \n",
    "f, ax = plt.subplots(nrows = 1, ncols = 2, figsize = (12,2.5))\n",
    "sns.histplot(y=indRes, hue=indClass, weights = indSum, multiple=\"stack\", discrete = True, fill=True, palette=\"inferno\", alpha = 1.0,legend=None, ax=ax[0])\n",
    "ax[0].set_xlabel(\"Fraction of resolution's subsample\", fontsize = 12)\n",
    "ax[0].set_xlim(0,1.0)\n",
    "ax[0].set_title(\"Supernova Explosion Sites\")\n",
    "# ax[0].legend(labels=[\"Strong\", \"Moderate\", \"Weak/Non-Detection\"],framealpha=1, borderaxespad = 1, borderpad = 0.4,title=\"CO(2-1) Emission\")\n",
    "\n",
    "allPixBarCounts = [[0.7225745935322494, 0.16582436155313618, 0.1116010449146144],[0.709862625761676, 0.16617325695966084, 0.12396411727866319],[0.7030797656198061, 0.16483370368654218, 0.13208653069365175],[0.650282301428791, 0.18230903753517524, 0.16740866103603386],[0.33570131204953363, 0.19528065871809588, 0.46901802923237046],[0.2300366615297458, 0.15399188823943524, 0.6159714502308189],[0.17725459314299602, 0.11364070378138234, 0.7091047030756217]]\n",
    "# Assign counts per day per type for multi colored bar plot\n",
    "\n",
    "counts, normVals = [],[]\n",
    "resolutions = ['60pc', '90pc', \"120pc\", \"150pc\", \"500pc\", \"750pc\", \"1kpc\"]\n",
    "classifications = [\"Weak/Non-Detection\", \"Moderate\", \"Strong\"]\n",
    "\n",
    "for i in range(len(resolutions)):\n",
    "    numWeak   = allPixBarCounts[i][0] \n",
    "    numMod    = allPixBarCounts[i][1]  \n",
    "    numStrong = allPixBarCounts[i][2] \n",
    "    sumNum    = numWeak + numMod + numStrong \n",
    "    counts.append([numWeak, numMod, numStrong])\n",
    "    normVals.append([numWeak/sumNum, numMod/sumNum, numStrong/sumNum])\n",
    "    \n",
    "indRes, indClass, indNorm, indSum = [],[],[],[]\n",
    "for i in range(len(resolutions)):\n",
    "    sum = 0\n",
    "    for j in range(len(classifications)):\n",
    "        indRes.append(resolutions[i])\n",
    "        indClass.append(classifications[j])\n",
    "        indNorm.append(normVals[i][j])\n",
    "        sum += normVals[i][j] \n",
    "        indSum.append(sum)\n",
    "\n",
    "        \n",
    "sns.histplot(y=indRes, hue=indClass, weights = indSum, multiple=\"stack\", discrete = True, fill=True, palette=\"inferno\", alpha = 1.0,legend=None, ax=ax[1])\n",
    "ax[1].set_title(\"All Map Pixels\")\n",
    "ax[1].set_xlabel(\"Fraction of resolution's subsample\", fontsize = 12)\n",
    "ax[1].set_xlim(0,1.0)\n",
    "axbox = ax[0].get_position()\n",
    "\n",
    "ax[0].legend(labels=[\"Strong\", \"Marginal\", \"Non-Detection\"],framealpha=1, loc=\"lower right\",borderaxespad = 1.0, borderpad = 0.4,title=\"CO(2-1) Emission\",bbox_to_anchor=[axbox.x0+2.54*axbox.width, axbox.y0-0.13])\n",
    "\n",
    "f.savefig(\"../Figures/HorizontalBarPlot.png\", bbox_inches = \"tight\", dpi = 300)\n",
    "\n"
   ]
  },
  {
   "cell_type": "code",
   "execution_count": 7,
   "id": "e9198d3d",
   "metadata": {},
   "outputs": [
    {
     "name": "stdout",
     "output_type": "stream",
     "text": [
      "[0.7030797656198061, 0.16483370368654218, 0.13208653069365175]\n",
      "[0.7030797656198061, 0.16483370368654218, 0.13208653069365175]\n",
      "7\n",
      "3\n"
     ]
    },
    {
     "data": {
      "image/png": "[encoded data removed]",
      "text/plain": [
       "<Figure size 360x180 with 1 Axes>"
      ]
     },
     "metadata": {
      "needs_background": "light"
     },
     "output_type": "display_data"
    }
   ],
   "source": [
    "allPixBarCounts = [[0.7225745935322494, 0.16582436155313618, 0.1116010449146144],[0.709862625761676, 0.16617325695966084, 0.12396411727866319],[0.7030797656198061, 0.16483370368654218, 0.13208653069365175],[0.650282301428791, 0.18230903753517524, 0.16740866103603386],[0.33570131204953363, 0.19528065871809588, 0.46901802923237046],[0.2300366615297458, 0.15399188823943524, 0.6159714502308189],[0.17725459314299602, 0.11364070378138234, 0.7091047030756217]]\n",
    "# Assign counts per day per type for multi colored bar plot\n",
    "\n",
    "counts, normVals = [],[]\n",
    "resolutions = ['60pc', '90pc', \"120pc\", \"150pc\", \"500pc\", \"750pc\", \"1kpc\"]\n",
    "classifications = [\"Weak/Non-Detection\", \"Moderate\", \"Strong\"]\n",
    "\n",
    "for i in range(len(resolutions)):\n",
    "    numWeak   = allPixBarCounts[i][0] \n",
    "    numMod    = allPixBarCounts[i][1]  \n",
    "    numStrong = allPixBarCounts[i][2] \n",
    "    sumNum    = numWeak + numMod + numStrong \n",
    "    counts.append([numWeak, numMod, numStrong])\n",
    "    normVals.append([numWeak/sumNum, numMod/sumNum, numStrong/sumNum])\n",
    "print(counts[2])\n",
    "print(normVals[2])\n",
    "print(len(resolutions))\n",
    "print(len(classifications))\n",
    "    \n",
    "indRes, indClass, indNorm, indSum = [],[],[],[]\n",
    "for i in range(len(resolutions)):\n",
    "    sum = 0\n",
    "    for j in range(len(classifications)):\n",
    "        indRes.append(resolutions[i])\n",
    "        indClass.append(classifications[j])\n",
    "        indNorm.append(normVals[i][j])\n",
    "        sum += normVals[i][j] \n",
    "        indSum.append(sum)\n",
    "\n",
    "        \n",
    "f, ax = plt.subplots(nrows = 1, ncols = 1, figsize = (5,2.5))\n",
    "sns.histplot(y=indRes, hue=indClass, weights = indSum, multiple=\"stack\", discrete = True, fill=True, palette=\"inferno\", alpha = 1.0,legend=None)\n",
    "ax.set_xlabel(\"Fraction of resolution's subsample\", fontsize = 12)\n",
    "ax.set_xlim(0,1.0)\n",
    "# ax.legend.remove()\n",
    "f.savefig(\"../Figures/HorizontalBarPlotAllSNe.png\", bbox_inches = \"tight\", dpi = 300)\n",
    "\n"
   ]
  },
  {
   "cell_type": "code",
   "execution_count": 8,
   "id": "85132d2e",
   "metadata": {},
   "outputs": [
    {
     "name": "stdout",
     "output_type": "stream",
     "text": [
      "1000 :  63  SNe: 6.35  % non 6.35  % moderate 87.3  % strong\n",
      "750 :  63  SNe: 7.94  % non 11.11  % moderate 80.95  % strong\n",
      "500 :  62  SNe: 14.52  % non 12.9  % moderate 72.58  % strong\n",
      "150 :  59  SNe: 42.37  % non 10.17  % moderate 47.46  % strong\n",
      "120 :  47  SNe: 38.3  % non 17.02  % moderate 44.68  % strong\n",
      "90 :  19  SNe: 42.11  % non 21.05  % moderate 36.84  % strong\n",
      "60 :  7  SNe: 14.29  % non 42.86  % moderate 42.86  % strong\n"
     ]
    }
   ],
   "source": [
    "def printStats(bar, res):\n",
    "    numSNe = np.sum(bar)\n",
    "    nodet = bar[0]\n",
    "    modet = bar[1]\n",
    "    hidet = bar[2]\n",
    "    noPer = round(nodet/numSNe*100, 2)\n",
    "    moPer = round(modet/numSNe*100, 2)\n",
    "    hiPer = round(hidet/numSNe*100, 2)\n",
    "    print(res,\": \",numSNe,\" SNe:\",noPer,\" % non\",moPer,\" % moderate\",hiPer,\" % strong\")\n",
    "        \n",
    "\n",
    "\n",
    "printStats(bar1000, \"1000\")\n",
    "printStats(bar750, \"750\")\n",
    "printStats(bar500, \"500\")\n",
    "printStats(bar150, \"150\")\n",
    "printStats(bar120, \"120\")\n",
    "printStats(bar90, \"90\")\n",
    "printStats(bar60, \"60\")"
   ]
  },
  {
   "cell_type": "code",
   "execution_count": 9,
   "id": "3726a5dc",
   "metadata": {},
   "outputs": [
    {
     "name": "stdout",
     "output_type": "stream",
     "text": [
      "1000 :  43  SNe: 6.98  % non 6.98  % moderate 86.05  % strong\n",
      "750 :  43  SNe: 9.3  % non 6.98  % moderate 83.72  % strong\n",
      "500 :  42  SNe: 11.9  % non 14.29  % moderate 73.81  % strong\n",
      "150 :  40  SNe: 40.0  % non 12.5  % moderate 47.5  % strong\n",
      "120 :  31  SNe: 35.48  % non 19.35  % moderate 45.16  % strong\n",
      "90 :  13  SNe: 46.15  % non 23.08  % moderate 30.77  % strong\n",
      "60 :  5  SNe: 20.0  % non 60.0  % moderate 20.0  % strong\n"
     ]
    }
   ],
   "source": [
    "\n",
    "x60, x_pos60, bar60CC     = setupBar(low, high, database['pc60SNR'], '60pc', CCSNeFlags)\n",
    "x90, x_pos90, bar90CC     = setupBar(low, high, database['pc90SNR'], '90pc', CCSNeFlags)\n",
    "x120, x_pos120, bar120CC   = setupBar(low, high, database['pc120SNR'], '120pc', CCSNeFlags)\n",
    "x150, x_pos150, bar150CC   = setupBar(low, high, database['pc150SNR'], '150pc', CCSNeFlags)\n",
    "x500, x_pos500, bar500CC   = setupBar(low, high, database['pc500SNR'], '500pc', CCSNeFlags)\n",
    "x750, x_pos750, bar750CC   = setupBar(low, high, database['pc750SNR'], '750pc', CCSNeFlags)\n",
    "x1000, x_pos1000, bar1000CC = setupBar(low, high, database['pc1000SNR'], '1000pc', CCSNeFlags)\n",
    "\n",
    "printStats(bar1000CC, \"1000\")\n",
    "printStats(bar750CC, \"750\")\n",
    "printStats(bar500CC, \"500\")\n",
    "printStats(bar150CC, \"150\")\n",
    "printStats(bar120CC, \"120\")\n",
    "printStats(bar90CC, \"90\")\n",
    "printStats(bar60CC, \"60\")"
   ]
  },
  {
   "cell_type": "code",
   "execution_count": null,
   "id": "84a2d214",
   "metadata": {},
   "outputs": [],
   "source": []
  },
  {
   "cell_type": "code",
   "execution_count": null,
   "id": "naked-darkness",
   "metadata": {
    "scrolled": true
   },
   "outputs": [],
   "source": []
  },
  {
   "cell_type": "code",
   "execution_count": null,
   "id": "parallel-legislature",
   "metadata": {},
   "outputs": [],
   "source": []
  },
  {
   "cell_type": "code",
   "execution_count": null,
   "id": "c950df16",
   "metadata": {},
   "outputs": [],
   "source": []
  }
 ],
 "metadata": {
  "kernelspec": {
   "display_name": "Python 3",
   "language": "python",
   "name": "python3"
  },
  "language_info": {
   "codemirror_mode": {
    "name": "ipython",
    "version": 3
   },
   "file_extension": ".py",
   "mimetype": "text/x-python",
   "name": "python",
   "nbconvert_exporter": "python",
   "pygments_lexer": "ipython3",
   "version": "3.8.10"
  }
 },
 "nbformat": 4,
 "nbformat_minor": 5
}
