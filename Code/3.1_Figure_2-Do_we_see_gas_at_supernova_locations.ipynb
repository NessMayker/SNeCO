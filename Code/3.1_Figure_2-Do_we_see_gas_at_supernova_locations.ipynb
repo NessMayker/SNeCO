{
 "cells": [
  {
   "cell_type": "markdown",
   "id": "coordinated-understanding",
   "metadata": {},
   "source": [
    "This notebook will analyze the intensities and errors of CO 2-1 emission at the locations of all of the SNe in our sample across all of the resolutions in the survey.\n",
    "\n",
    "We will use this to uncover what resolution will be best for this study.\n",
    "\n",
    "This notebook produces figure 2 and the SNR percentiles table.\n"
   ]
  },
  {
   "cell_type": "code",
   "execution_count": 1,
   "id": "auburn-bearing",
   "metadata": {},
   "outputs": [],
   "source": [
    "import numpy as np\n",
    "import astropy\n",
    "import astropy.io.fits as pyfits\n",
    "from astropy.table import Table, join\n",
    "from astropy.io import ascii\n",
    "\n",
    "import sys\n",
    "#sys.path.append('/home/mayker.1/Desktop/NessPythonFunctions')\n",
    "sys.path.append('/Users/nessmayker/Desktop/NessPythonFunctions')\n",
    "from detectionFraction import detecFrac\n",
    "from cumulativeDistFunc import makeCDF\n",
    "from findPercentiles import findStats"
   ]
  },
  {
   "cell_type": "code",
   "execution_count": 2,
   "id": "known-corruption",
   "metadata": {},
   "outputs": [],
   "source": [
    "#import SNe data \n",
    "\n",
    "SNe_Gal_File = '../Data/3.SNe+GalData.csv'\n",
    "SNe_Gal_Data = Table.read(SNe_Gal_File, format='csv') \n",
    "\n",
    "intenFile = '../Data/3.IntenData.csv'\n",
    "intenData = Table.read(intenFile, format='csv')\n",
    "\n",
    "database  = join(SNe_Gal_Data, intenData, keys=('SN_name', 'galaxy'))\n"
   ]
  },
  {
   "cell_type": "code",
   "execution_count": 3,
   "id": "coastal-drinking",
   "metadata": {},
   "outputs": [
    {
     "data": {
      "text/html": [
       "<i>Table length=66</i>\n",
       "<table id=\"table140530323569744\" class=\"table-striped table-bordered table-condensed\">\n",
       "<thead><tr><th>galaxy</th><th>SN_name</th><th>SN_type</th><th>SN_ra</th><th>SN_dec</th><th>SN_xCoord</th><th>SN_yCoord</th><th>SN_co21int</th><th>SN_co21err</th><th>SN_co21ew</th><th>map_beamsize</th><th>orient_ra</th><th>orient_dec</th><th>dist</th><th>orient_posang</th><th>orient_incl</th><th>size_r25</th><th>telOrient</th><th>NatRes</th><th>NatInt</th><th>pc60Int</th><th>pc90Int</th><th>pc120Int</th><th>pc150Int</th><th>pc500Int</th><th>pc750Int</th><th>pc1000Int</th><th>NatErr</th><th>pc60Err</th><th>pc90Err</th><th>pc120Err</th><th>pc150Err</th><th>pc500Err</th><th>pc750Err</th><th>pc1000Err</th><th>NatEW</th><th>pc60EW</th><th>pc90EW</th><th>pc120EW</th><th>pc150EW</th><th>pc500EW</th><th>pc750EW</th><th>pc1000EW</th><th>NatSNR</th><th>pc60SNR</th><th>pc90SNR</th><th>pc120SNR</th><th>pc150SNR</th><th>pc500SNR</th><th>pc750SNR</th><th>pc1000SNR</th><th>alphaCO</th></tr></thead>\n",
       "<thead><tr><th>str8</th><th>str11</th><th>str12</th><th>float64</th><th>float64</th><th>float64</th><th>float64</th><th>float64</th><th>float64</th><th>float64</th><th>float64</th><th>float64</th><th>float64</th><th>float64</th><th>float64</th><th>float64</th><th>float64</th><th>str9</th><th>float64</th><th>float64</th><th>float64</th><th>float64</th><th>float64</th><th>float64</th><th>float64</th><th>float64</th><th>float64</th><th>float64</th><th>float64</th><th>float64</th><th>float64</th><th>float64</th><th>float64</th><th>float64</th><th>float64</th><th>float64</th><th>float64</th><th>float64</th><th>float64</th><th>float64</th><th>float64</th><th>float64</th><th>float64</th><th>float64</th><th>float64</th><th>float64</th><th>float64</th><th>float64</th><th>float64</th><th>float64</th><th>float64</th><th>float64</th></tr></thead>\n",
       "<tr><td>ngc1566</td><td>ASASSN-14ha</td><td>II</td><td>65.0059</td><td>-54.9381</td><td>258.9038295074317</td><td>423.1062029210927</td><td>68.05383</td><td>1.8849889</td><td>12.188041</td><td>0.0003484111476313</td><td>65.00159</td><td>-54.93801</td><td>17.69</td><td>214.7</td><td>29.5</td><td>216.83093</td><td>12m+7m+tp</td><td>107.5715044627487</td><td>68.0538330078125</td><td>nan</td><td>nan</td><td>65.95396423339844</td><td>61.926334381103516</td><td>27.371265411376953</td><td>26.06928253173828</td><td>27.377416610717773</td><td>1.8849889039993286</td><td>nan</td><td>nan</td><td>1.6742128133773804</td><td>1.3591481447219849</td><td>0.5764862298965454</td><td>0.3906446397304535</td><td>0.27018043398857117</td><td>12.188040733337402</td><td>nan</td><td>nan</td><td>12.932862281799316</td><td>13.762829780578613</td><td>19.730430603027344</td><td>29.85703468322754</td><td>43.81895446777344</td><td>36.10304170142571</td><td>nan</td><td>nan</td><td>39.39401473122755</td><td>45.56260818335635</td><td>47.47947824580116</td><td>66.73400804814882</td><td>101.33012300911419</td><td>4.304510126195559</td></tr>\n",
       "<tr><td>ngc4321</td><td>SN1901B</td><td>I</td><td>185.6971</td><td>15.8238</td><td>545.5920792633563</td><td>276.5735561756638</td><td>5.0824146</td><td>1.0344207</td><td>2.544713</td><td>0.000462934650464</td><td>185.72887</td><td>15.822304</td><td>15.21</td><td>156.2</td><td>38.5</td><td>182.86105</td><td>12m+7m+tp</td><td>122.89275219530901</td><td>5.6628522872924805</td><td>nan</td><td>nan</td><td>5.6628522872924805</td><td>5.4790143966674805</td><td>6.016371250152588</td><td>5.822849273681641</td><td>5.013950347900391</td><td>1.029056191444397</td><td>nan</td><td>nan</td><td>1.029056191444397</td><td>0.8251489996910095</td><td>0.23007987439632416</td><td>0.13967318832874298</td><td>0.08780597150325775</td><td>2.744281053543091</td><td>nan</td><td>nan</td><td>2.744281053543091</td><td>4.029609203338623</td><td>10.151252746582031</td><td>13.131563186645508</td><td>13.50499439239502</td><td>5.502957306290559</td><td>nan</td><td>nan</td><td>5.502957306290559</td><td>6.640030344482253</td><td>26.149054826886275</td><td>41.68909826828498</td><td>57.102612294590514</td><td>7.542486704286047</td></tr>\n",
       "<tr><td>ngc5236</td><td>SN1923A</td><td>II</td><td>204.2883</td><td>-29.8389</td><td>399.09014170428725</td><td>813.7841220160797</td><td>3.1662843</td><td>0.6370633</td><td>6.310522</td><td>0.000594044605435</td><td>204.2539</td><td>-29.865625</td><td>4.89</td><td>225.0</td><td>24.0</td><td>408.43347</td><td>12m+7m+tp</td><td>50.69968757298903</td><td>3.1662843227386475</td><td>2.982912540435791</td><td>2.6480391025543213</td><td>2.569227695465088</td><td>2.6020655632019043</td><td>4.148641109466553</td><td>4.5491557121276855</td><td>5.028407096862793</td><td>0.6370633244514465</td><td>0.5877888202667236</td><td>0.46251943707466125</td><td>0.36471322178840637</td><td>0.2875167727470398</td><td>0.03622424229979515</td><td>0.017963431775569916</td><td>0.015305337496101856</td><td>6.310522079467773</td><td>5.9792962074279785</td><td>5.600820541381836</td><td>6.416561603546143</td><td>7.461651802062988</td><td>6.986499786376953</td><td>7.857295036315918</td><td>8.778962135314941</td><td>4.970124948669784</td><td>5.07480312245854</td><td>5.725249341525223</td><td>7.044514818702302</td><td>9.050134843754762</td><td>114.52664972622529</td><td>253.2453580676322</td><td>328.5394456766136</td><td>6.692307692307692</td></tr>\n",
       "<tr><td>ngc4303</td><td>SN1926A</td><td>II</td><td>185.4754</td><td>4.4934</td><td>248.12510207394456</td><td>387.43756648042245</td><td>-0.81909573</td><td>0.8172306</td><td>nan</td><td>0.000503635821363</td><td>185.47888</td><td>4.473744</td><td>16.99</td><td>312.4</td><td>23.5</td><td>206.59573</td><td>12m+7m+tp</td><td>149.34385530047734</td><td>-0.7315931916236877</td><td>nan</td><td>nan</td><td>nan</td><td>-0.7315931916236877</td><td>0.13160844147205353</td><td>0.38786447048187256</td><td>0.5659606456756592</td><td>0.8364595770835876</td><td>nan</td><td>nan</td><td>nan</td><td>0.8364595770835876</td><td>0.30151838064193726</td><td>0.19038888812065125</td><td>0.1036238819360733</td><td>nan</td><td>nan</td><td>nan</td><td>nan</td><td>nan</td><td>nan</td><td>nan</td><td>1.8840171098709106</td><td>-0.8746306595884423</td><td>nan</td><td>nan</td><td>nan</td><td>-0.8746306595884423</td><td>0.43648563378410676</td><td>2.0372222050904525</td><td>5.461681565112629</td><td>6.037231630177928</td></tr>\n",
       "<tr><td>ngc1511</td><td>SN1935C</td><td>unclassified</td><td>59.9373</td><td>-67.6374</td><td>112.46713980638378</td><td>194.45954575675466</td><td>2.5883038</td><td>0.76610756</td><td>nan</td><td>0.0004017774799122</td><td>59.90246</td><td>-67.63393</td><td>15.28</td><td>297.0</td><td>72.7</td><td>110.94844</td><td>12m+7m+tp</td><td>107.1485534400328</td><td>2.5365307331085205</td><td>nan</td><td>nan</td><td>2.2158656120300293</td><td>1.6356202363967896</td><td>0.9448716640472412</td><td>1.5689282417297363</td><td>1.971544861793518</td><td>0.7649294137954712</td><td>nan</td><td>nan</td><td>0.6497625112533569</td><td>0.5155167579650879</td><td>0.16385939717292786</td><td>0.10642682760953903</td><td>0.08075990527868271</td><td>nan</td><td>nan</td><td>nan</td><td>nan</td><td>nan</td><td>4.277022838592529</td><td>15.667864799499512</td><td>18.242801666259766</td><td>3.3160324173215083</td><td>nan</td><td>nan</td><td>3.410270019665714</td><td>3.172778015700428</td><td>5.766356280745239</td><td>14.741849183796523</td><td>24.412421671251327</td><td>8.975586228757539</td></tr>\n",
       "<tr><td>ngc0253</td><td>SN1940E</td><td>I</td><td>11.8783</td><td>-25.2934</td><td>296.9010534051223</td><td>236.26662905273994</td><td>219.30367</td><td>1.465811</td><td>45.862267</td><td>0.00232543637022</td><td>11.887966</td><td>-25.288443</td><td>3.7</td><td>52.48</td><td>75.0</td><td>803.7504</td><td>7m+tp</td><td>150.1701284517627</td><td>219.3036651611328</td><td>nan</td><td>nan</td><td>nan</td><td>219.3036651611328</td><td>153.83908081054688</td><td>153.87240600585938</td><td>142.72422790527344</td><td>1.465811014175415</td><td>nan</td><td>nan</td><td>nan</td><td>1.465811014175415</td><td>0.18237826228141785</td><td>0.11332354694604874</td><td>0.09203742444515228</td><td>45.862266540527344</td><td>nan</td><td>nan</td><td>nan</td><td>45.862266540527344</td><td>60.678550720214844</td><td>65.11054229736328</td><td>69.24812316894531</td><td>149.61251009871899</td><td>nan</td><td>nan</td><td>nan</td><td>149.61251009871899</td><td>843.5165402177496</td><td>1357.8149480188367</td><td>1550.7194900953239</td><td>4.478273076921023</td></tr>\n",
       "<tr><td>ngc5236</td><td>SN1950B</td><td>unclassified</td><td>204.2203</td><td>-29.8655</td><td>823.9876389446778</td><td>622.0369070359835</td><td>59.00484</td><td>0.7553258</td><td>5.7882247</td><td>0.000594044605435</td><td>204.2539</td><td>-29.865625</td><td>4.89</td><td>225.0</td><td>24.0</td><td>408.43347</td><td>12m+7m+tp</td><td>50.69968757298903</td><td>59.00484085083008</td><td>61.97102737426758</td><td>66.926513671875</td><td>65.21820068359375</td><td>60.489627838134766</td><td>25.73519515991211</td><td>19.1654109954834</td><td>15.898970603942871</td><td>0.7553257942199707</td><td>0.6509345769882202</td><td>0.4620504677295685</td><td>0.3590238690376282</td><td>0.28912103176116943</td><td>0.05459396913647652</td><td>0.0361986942589283</td><td>0.028373947367072105</td><td>5.788224697113037</td><td>6.1064043045043945</td><td>6.681667804718018</td><td>7.089045524597168</td><td>7.4819512367248535</td><td>10.048575401306152</td><td>11.714366912841797</td><td>13.406866073608398</td><td>78.11839778590472</td><td>95.20315799016012</td><td>144.84676100586944</td><td>181.65421942115617</td><td>209.21905082333365</td><td>471.3926385454423</td><td>529.4503403463596</td><td>560.3369315611541</td><td>6.692307692307692</td></tr>\n",
       "<tr><td>ngc5236</td><td>SN1957D</td><td>unclassified</td><td>204.2647</td><td>-29.828</td><td>546.7621815937086</td><td>892.0135629822324</td><td>41.320827</td><td>0.6190958</td><td>5.3402543</td><td>0.000594044605435</td><td>204.2539</td><td>-29.865625</td><td>4.89</td><td>225.0</td><td>24.0</td><td>408.43347</td><td>12m+7m+tp</td><td>50.69968757298903</td><td>41.32082748413086</td><td>38.47781753540039</td><td>31.9638671875</td><td>27.746055603027344</td><td>24.640588760375977</td><td>11.980267524719238</td><td>9.125162124633789</td><td>7.795499324798584</td><td>0.6190958023071289</td><td>0.5349265336990356</td><td>0.38571351766586304</td><td>0.29857003688812256</td><td>0.24190394580364227</td><td>0.039763133972883224</td><td>0.021127168089151382</td><td>0.019038310274481773</td><td>5.340254306793213</td><td>5.422938346862793</td><td>5.8041486740112305</td><td>6.14930534362793</td><td>6.498789310455322</td><td>9.267144203186035</td><td>9.767258644104004</td><td>10.247411727905273</td><td>66.74383404013439</td><td>71.93103185464543</td><td>82.86945031361267</td><td>92.92980599196594</td><td>101.86104521162784</td><td>301.29082714881764</td><td>431.91600909917884</td><td>409.46382385874733</td><td>6.692307692307692</td></tr>\n",
       "<tr><td>ngc4321</td><td>SN1959E</td><td>I</td><td>185.7454</td><td>15.817</td><td>126.93916867260555</td><td>215.7177371879258</td><td>18.02512</td><td>1.2416003</td><td>7.186052</td><td>0.000462934650464</td><td>185.72887</td><td>15.822304</td><td>15.21</td><td>156.2</td><td>38.5</td><td>182.86105</td><td>12m+7m+tp</td><td>122.89275219530901</td><td>18.02511978149414</td><td>nan</td><td>nan</td><td>18.02511978149414</td><td>17.461816787719727</td><td>13.887474060058594</td><td>12.916528701782227</td><td>11.592008590698242</td><td>1.2416002750396729</td><td>nan</td><td>nan</td><td>1.2416002750396729</td><td>0.9864739775657654</td><td>0.25559762120246887</td><td>0.13395258784294128</td><td>0.07527998089790344</td><td>7.186051845550537</td><td>nan</td><td>nan</td><td>7.186051845550537</td><td>7.293866157531738</td><td>10.673908233642578</td><td>12.660531044006348</td><td>14.531937599182129</td><td>14.517651247232676</td><td>nan</td><td>nan</td><td>14.517651247232676</td><td>17.701244214073146</td><td>54.33334627577689</td><td>96.42612292736584</td><td>153.98527540036983</td><td>5.659849041259581</td></tr>\n",
       "<tr><td>ngc4496a</td><td>SN1960F</td><td>Ia</td><td>187.9252</td><td>3.9466</td><td>66.42165125156563</td><td>353.7510142763567</td><td>0.02642009</td><td>0.8255818</td><td>nan</td><td>0.0003482539090036</td><td>187.91354</td><td>3.939608</td><td>14.86</td><td>51.1</td><td>53.8</td><td>101.18619</td><td>12m+7m+tp</td><td>90.32171534735664</td><td>-0.14958108961582184</td><td>nan</td><td>-0.14958108961582184</td><td>0.0033578493166714907</td><td>0.011322998441755772</td><td>2.1311988830566406</td><td>1.8560802936553955</td><td>1.4647822380065918</td><td>0.8218817710876465</td><td>nan</td><td>0.8218817710876465</td><td>0.6448138952255249</td><td>0.5600752830505371</td><td>0.21820303797721863</td><td>0.14184796810150146</td><td>0.09608122706413269</td><td>nan</td><td>nan</td><td>nan</td><td>nan</td><td>nan</td><td>6.038199424743652</td><td>6.539390563964844</td><td>7.151946067810059</td><td>-0.18199830544711074</td><td>nan</td><td>-0.18199830544711074</td><td>0.0052074704678891515</td><td>0.020216922232460074</td><td>9.767044963320572</td><td>13.08499739895639</td><td>15.245249074815343</td><td>8.54564705154689</td></tr>\n",
       "<tr><td>...</td><td>...</td><td>...</td><td>...</td><td>...</td><td>...</td><td>...</td><td>...</td><td>...</td><td>...</td><td>...</td><td>...</td><td>...</td><td>...</td><td>...</td><td>...</td><td>...</td><td>...</td><td>...</td><td>...</td><td>...</td><td>...</td><td>...</td><td>...</td><td>...</td><td>...</td><td>...</td><td>...</td><td>...</td><td>...</td><td>...</td><td>...</td><td>...</td><td>...</td><td>...</td><td>...</td><td>...</td><td>...</td><td>...</td><td>...</td><td>...</td><td>...</td><td>...</td><td>...</td><td>...</td><td>...</td><td>...</td><td>...</td><td>...</td><td>...</td><td>...</td><td>...</td></tr>\n",
       "<tr><td>ngc5128</td><td>SN2016adj</td><td>II</td><td>201.3505</td><td>-43.016</td><td>226.2426565431022</td><td>145.08138963317262</td><td>67.57131</td><td>1.4254165</td><td>35.12788</td><td>0.002258955715078</td><td>201.36507</td><td>-43.01911</td><td>3.69</td><td>32.17</td><td>45.33</td><td>767.57574</td><td>7m+tp</td><td>145.48273291568873</td><td>67.5713119506836</td><td>nan</td><td>nan</td><td>nan</td><td>67.5713119506836</td><td>67.86510467529297</td><td>53.374263763427734</td><td>43.1256217956543</td><td>1.4254164695739746</td><td>nan</td><td>nan</td><td>nan</td><td>1.4254164695739746</td><td>0.17181427776813507</td><td>0.11165882647037506</td><td>0.09297400712966919</td><td>35.12788009643555</td><td>nan</td><td>nan</td><td>nan</td><td>35.12788009643555</td><td>67.25611877441406</td><td>84.099365234375</td><td>96.3857650756836</td><td>47.40461008625722</td><td>nan</td><td>nan</td><td>nan</td><td>47.40461008625722</td><td>394.99106568359554</td><td>478.0120430299239</td><td>463.8460052120563</td><td>6.692307692307692</td></tr>\n",
       "<tr><td>ngc3627</td><td>SN2016cok</td><td>II</td><td>170.0797</td><td>12.9825</td><td>61.367765356577905</td><td>351.20979461614627</td><td>4.8749094</td><td>1.2110753</td><td>3.370604</td><td>0.0004517319625788</td><td>170.06252</td><td>12.9915</td><td>11.32</td><td>173.1</td><td>57.3</td><td>308.40494</td><td>12m+7m+tp</td><td>89.24925814494215</td><td>5.635207653045654</td><td>nan</td><td>5.635207653045654</td><td>5.622877597808838</td><td>5.222754001617432</td><td>5.127786159515381</td><td>4.81063175201416</td><td>4.497220516204834</td><td>1.2083773612976074</td><td>nan</td><td>1.2083773612976074</td><td>0.8673669099807739</td><td>0.687687337398529</td><td>0.2002759575843811</td><td>0.11007487028837204</td><td>0.06649507582187653</td><td>3.4816348552703857</td><td>nan</td><td>3.4816348552703857</td><td>4.639389991760254</td><td>5.337199687957764</td><td>10.03156852722168</td><td>12.52772331237793</td><td>16.16504669189453</td><td>4.663450204822049</td><td>nan</td><td>4.663450204822049</td><td>6.4826978445989765</td><td>7.59466361758925</td><td>25.603603255048327</td><td>43.70326977820968</td><td>67.63238421220467</td><td>6.168073625198267</td></tr>\n",
       "<tr><td>ngc1672</td><td>SN2017gax</td><td>Ib/c</td><td>71.4561</td><td>-59.2451</td><td>141.99209028039974</td><td>128.8067849585691</td><td>7.5910697</td><td>0.95719075</td><td>5.087848</td><td>0.0005367684873776</td><td>71.42704</td><td>-59.247257</td><td>19.4</td><td>134.3</td><td>42.6</td><td>184.55309</td><td>12m+7m+tp</td><td>181.746522057697</td><td>7.59106969833374</td><td>nan</td><td>nan</td><td>nan</td><td>nan</td><td>4.8297224044799805</td><td>3.625150680541992</td><td>2.992654323577881</td><td>0.957190752029419</td><td>nan</td><td>nan</td><td>nan</td><td>nan</td><td>0.3606569766998291</td><td>0.22742220759391785</td><td>0.15168558061122894</td><td>5.08784818649292</td><td>nan</td><td>nan</td><td>nan</td><td>nan</td><td>6.036718368530273</td><td>6.427026748657227</td><td>7.19545841217041</td><td>7.9305715002357555</td><td>nan</td><td>nan</td><td>nan</td><td>nan</td><td>13.391457025659331</td><td>15.94017892489644</td><td>19.729326357315873</td><td>5.932093701759772</td></tr>\n",
       "<tr><td>ngc1068</td><td>SN2018ivc</td><td>II</td><td>40.672</td><td>-0.0088</td><td>41.400000046852824</td><td>53.87249997022789</td><td>127.77749</td><td>0.6721418</td><td>32.0753</td><td>0.002414131938401</td><td>40.66973</td><td>-0.0132779</td><td>13.97</td><td>72.65</td><td>34.7</td><td>183.28261</td><td>7m+tp</td><td>588.6196760664847</td><td>127.7774887084961</td><td>nan</td><td>nan</td><td>nan</td><td>nan</td><td>nan</td><td>128.53480529785156</td><td>122.50003814697266</td><td>0.6721417903900146</td><td>nan</td><td>nan</td><td>nan</td><td>nan</td><td>nan</td><td>0.4782250225543976</td><td>0.3369501829147339</td><td>32.07529830932617</td><td>nan</td><td>nan</td><td>nan</td><td>nan</td><td>nan</td><td>36.46405792236328</td><td>44.54560470581055</td><td>190.10496079160973</td><td>nan</td><td>nan</td><td>nan</td><td>nan</td><td>nan</td><td>268.77473832568194</td><td>363.55533950836764</td><td>6.692307692307692</td></tr>\n",
       "<tr><td>ngc4321</td><td>SN2019ehk</td><td>Ib</td><td>185.7339</td><td>15.8261</td><td>226.5345602297337</td><td>297.43737308210586</td><td>1.0024955</td><td>1.6639854</td><td>4.194681</td><td>0.000462934650464</td><td>185.72887</td><td>15.822304</td><td>15.21</td><td>156.2</td><td>38.5</td><td>182.86105</td><td>12m+7m+tp</td><td>122.89275219530901</td><td>1.5133963823318481</td><td>nan</td><td>nan</td><td>1.5133963823318481</td><td>0.8952587246894836</td><td>2.3367867469787598</td><td>2.8451578617095947</td><td>4.028997898101807</td><td>1.640323281288147</td><td>nan</td><td>nan</td><td>1.640323281288147</td><td>1.2844109535217285</td><td>0.3841516077518463</td><td>0.22884510457515717</td><td>0.13870589435100555</td><td>5.009367942810059</td><td>nan</td><td>nan</td><td>5.009367942810059</td><td>4.499788761138916</td><td>5.565593719482422</td><td>8.745107650756836</td><td>15.169445991516113</td><td>0.922620802616041</td><td>nan</td><td>nan</td><td>0.922620802616041</td><td>0.697018911458807</td><td>6.082980520774688</td><td>12.432679593437358</td><td>29.047056125142948</td><td>4.702632352030898</td></tr>\n",
       "<tr><td>ngc0628</td><td>SN2019krl</td><td>II</td><td>24.2068</td><td>15.7795</td><td>227.48504797816918</td><td>732.1448775793053</td><td>0.2809551</td><td>1.2958647</td><td>nan</td><td>0.0003114595189268</td><td>24.173855</td><td>15.783643</td><td>9.84</td><td>20.7</td><td>8.9</td><td>296.56592</td><td>12m+7m+tp</td><td>53.490181864724654</td><td>0.6559359431266785</td><td>0.7540172934532166</td><td>0.963236927986145</td><td>0.9129124879837036</td><td>0.762334406375885</td><td>0.4191957712173462</td><td>0.4084402322769165</td><td>0.44735729694366455</td><td>1.2892513275146484</td><td>1.097657322883606</td><td>0.7536418437957764</td><td>0.5805757641792297</td><td>0.46779823303222656</td><td>0.13918526470661163</td><td>0.08817216753959656</td><td>0.06793549656867981</td><td>nan</td><td>nan</td><td>nan</td><td>nan</td><td>nan</td><td>nan</td><td>nan</td><td>5.315189838409424</td><td>0.5087727498339347</td><td>0.6869332329258933</td><td>1.2781096696206868</td><td>1.5724261057888012</td><td>1.629622244262235</td><td>3.0117826919463653</td><td>4.632303409049043</td><td>6.585030205695279</td><td>6.892366043319281</td></tr>\n",
       "<tr><td>ngc0300</td><td>SN2019qyl</td><td>II</td><td>13.7399</td><td>-37.6444</td><td>124.97990204934794</td><td>202.45166439134732</td><td>-0.41793606</td><td>0.4800788</td><td>nan</td><td>0.002271061982879</td><td>13.723024</td><td>-37.684475</td><td>2.09</td><td>114.3</td><td>39.8</td><td>582.26587</td><td>7m+tp</td><td>82.84239405142596</td><td>-0.6273980736732483</td><td>nan</td><td>-0.6273980736732483</td><td>-0.3393101096153259</td><td>-0.10330438613891602</td><td>0.502941370010376</td><td>0.46108144521713257</td><td>0.40174049139022827</td><td>0.49926596879959106</td><td>nan</td><td>0.49926596879959106</td><td>0.24836020171642303</td><td>0.1649596244096756</td><td>0.03243602439761162</td><td>0.025462361052632332</td><td>0.02488075941801071</td><td>nan</td><td>nan</td><td>nan</td><td>nan</td><td>nan</td><td>6.742672920227051</td><td>6.879421234130859</td><td>6.8938374519348145</td><td>-1.2566409747127996</td><td>nan</td><td>-1.2566409747127996</td><td>-1.366201618739017</td><td>-0.6262404300967648</td><td>15.505641623805456</td><td>18.10835390575319</td><td>16.146633012311348</td><td>9.413450498015168</td></tr>\n",
       "<tr><td>ngc4303</td><td>SN2020jfo</td><td>II</td><td>185.4602</td><td>4.4817</td><td>384.5072981494762</td><td>282.48710935329683</td><td>2.1475408</td><td>0.9978762</td><td>nan</td><td>0.000503635821363</td><td>185.47888</td><td>4.473744</td><td>16.99</td><td>312.4</td><td>23.5</td><td>206.59573</td><td>12m+7m+tp</td><td>149.34385530047734</td><td>1.0464355945587158</td><td>nan</td><td>nan</td><td>nan</td><td>1.0464355945587158</td><td>2.5613107681274414</td><td>3.167485475540161</td><td>3.705984592437744</td><td>0.9930329918861389</td><td>nan</td><td>nan</td><td>nan</td><td>0.9930329918861389</td><td>0.29517826437950134</td><td>0.18679603934288025</td><td>0.1123926192522049</td><td>nan</td><td>nan</td><td>nan</td><td>nan</td><td>nan</td><td>5.4874982833862305</td><td>7.451867580413818</td><td>7.868338108062744</td><td>1.053777269344441</td><td>nan</td><td>nan</td><td>nan</td><td>1.053777269344441</td><td>8.67716589333436</td><td>16.956919893392215</td><td>32.973558380391964</td><td>6.0190855883983465</td></tr>\n",
       "<tr><td>ngc4457</td><td>SN2020nvb</td><td>Ia</td><td>187.245</td><td>3.5728</td><td>183.98007804730452</td><td>193.58000473666854</td><td>14.789048</td><td>2.2111452</td><td>6.346348</td><td>0.0003086113495887</td><td>187.24593</td><td>3.57062</td><td>15.1</td><td>78.7</td><td>17.4</td><td>83.77631</td><td>12m+7m+tp</td><td>81.33289080602722</td><td>14.789048194885254</td><td>nan</td><td>14.358511924743652</td><td>13.185251235961914</td><td>12.403838157653809</td><td>23.569425582885742</td><td>26.61707878112793</td><td>25.024417877197266</td><td>2.2111451625823975</td><td>nan</td><td>1.9452532529830933</td><td>1.473581075668335</td><td>1.22211754322052</td><td>0.4214463531970978</td><td>0.22742220759391785</td><td>0.15869341790676117</td><td>6.346347808837891</td><td>nan</td><td>6.596534729003906</td><td>7.62722635269165</td><td>8.198078155517578</td><td>36.12444305419922</td><td>48.075889587402344</td><td>52.21161651611328</td><td>6.688411256370485</td><td>nan</td><td>7.381307242501471</td><td>8.947760970655661</td><td>10.149464121893919</td><td>55.92509083086794</td><td>117.03816906330907</td><td>157.6903327641486</td><td>4.6830318889565286</td></tr>\n",
       "<tr><td>ngc4321</td><td>SN2020oi</td><td>Ic</td><td>185.7289</td><td>15.8236</td><td>269.85879623875906</td><td>275.31590763214297</td><td>14.004269</td><td>2.045856</td><td>10.249046</td><td>0.000462934650464</td><td>185.72887</td><td>15.822304</td><td>15.21</td><td>156.2</td><td>38.5</td><td>182.86105</td><td>12m+7m+tp</td><td>122.89275219530901</td><td>14.004268646240234</td><td>nan</td><td>nan</td><td>14.004268646240234</td><td>18.59952735900879</td><td>108.41178131103516</td><td>107.30286407470703</td><td>91.300048828125</td><td>2.04585599899292</td><td>nan</td><td>nan</td><td>2.04585599899292</td><td>1.651200294494629</td><td>0.5148394703865051</td><td>0.29392296075820923</td><td>0.17174988985061646</td><td>10.249046325683594</td><td>nan</td><td>nan</td><td>10.249046325683594</td><td>12.527762413024902</td><td>44.11170959472656</td><td>49.51082229614258</td><td>52.91892623901367</td><td>6.845187859328265</td><td>nan</td><td>nan</td><td>6.845187859328265</td><td>11.26424663381096</td><td>210.57395080770954</td><td>365.0713908090288</td><td>531.5872336659743</td><td>4.245052818092701</td></tr>\n",
       "</table>"
      ],
      "text/plain": [
       "<Table length=66>\n",
       " galaxy    SN_name     SN_type    ...     pc1000SNR           alphaCO      \n",
       "  str8      str11       str12     ...      float64            float64      \n",
       "-------- ----------- ------------ ... ------------------ ------------------\n",
       " ngc1566 ASASSN-14ha           II ... 101.33012300911419  4.304510126195559\n",
       " ngc4321     SN1901B            I ... 57.102612294590514  7.542486704286047\n",
       " ngc5236     SN1923A           II ...  328.5394456766136  6.692307692307692\n",
       " ngc4303     SN1926A           II ...  5.461681565112629  6.037231630177928\n",
       " ngc1511     SN1935C unclassified ... 24.412421671251327  8.975586228757539\n",
       " ngc0253     SN1940E            I ... 1550.7194900953239  4.478273076921023\n",
       " ngc5236     SN1950B unclassified ...  560.3369315611541  6.692307692307692\n",
       " ngc5236     SN1957D unclassified ... 409.46382385874733  6.692307692307692\n",
       " ngc4321     SN1959E            I ... 153.98527540036983  5.659849041259581\n",
       "ngc4496a     SN1960F           Ia ... 15.245249074815343   8.54564705154689\n",
       "     ...         ...          ... ...                ...                ...\n",
       " ngc5128   SN2016adj           II ...  463.8460052120563  6.692307692307692\n",
       " ngc3627   SN2016cok           II ...  67.63238421220467  6.168073625198267\n",
       " ngc1672   SN2017gax         Ib/c ... 19.729326357315873  5.932093701759772\n",
       " ngc1068   SN2018ivc           II ... 363.55533950836764  6.692307692307692\n",
       " ngc4321   SN2019ehk           Ib ... 29.047056125142948  4.702632352030898\n",
       " ngc0628   SN2019krl           II ...  6.585030205695279  6.892366043319281\n",
       " ngc0300   SN2019qyl           II ... 16.146633012311348  9.413450498015168\n",
       " ngc4303   SN2020jfo           II ... 32.973558380391964 6.0190855883983465\n",
       " ngc4457   SN2020nvb           Ia ...  157.6903327641486 4.6830318889565286\n",
       " ngc4321    SN2020oi           Ic ...  531.5872336659743  4.245052818092701"
      ]
     },
     "execution_count": 3,
     "metadata": {},
     "output_type": "execute_result"
    }
   ],
   "source": [
    "database"
   ]
  },
  {
   "cell_type": "code",
   "execution_count": 4,
   "id": "pursuant-retro",
   "metadata": {},
   "outputs": [],
   "source": [
    "import matplotlib.pyplot as plt\n",
    "%matplotlib inline\n",
    "\n",
    "def setupBar(low, high, resArray, resStr):\n",
    "    '''\n",
    "    set up figure 2 barplot.\n",
    "    \n",
    "    '''\n",
    "    lowStr = \"No or Weak Detection (SNR < \" + str(low) + \")\"\n",
    "    midStr = \"Moderate Detection (\" + str(low) + \" < SNR < \" + str(high) + \")\"\n",
    "    upStr  = \"Strong Detection (\" + str(high) + \" < SNR)\" \n",
    "\n",
    "    x = [lowStr, midStr, upStr]\n",
    "    x_pos = [i for i, _ in enumerate(x)]\n",
    "\n",
    "    lowCtr, midCtr, upCtr = 0,0,0\n",
    "\n",
    "    for i in range(len(resArray)):\n",
    "        if resArray[i] < low:\n",
    "            lowCtr += 1\n",
    "        elif resArray[i] > low and resArray[i] < high:\n",
    "            midCtr += 1\n",
    "        elif resArray[i] > high:\n",
    "            upCtr += 1\n",
    "    \n",
    "    bars = [lowCtr, midCtr, upCtr]\n",
    "\n",
    "    return(x, x_pos, bars)    \n"
   ]
  },
  {
   "cell_type": "code",
   "execution_count": 5,
   "id": "variable-generation",
   "metadata": {},
   "outputs": [
    {
     "data": {
      "image/png": "[encoded data removed]",
      "text/plain": [
       "<Figure size 432x288 with 1 Axes>"
      ]
     },
     "metadata": {
      "needs_background": "light"
     },
     "output_type": "display_data"
    }
   ],
   "source": [
    "low, high = 3.0, 7.0\n",
    "x60, x_pos60, bar60     = setupBar(low, high, database['pc60SNR'], '60pc')\n",
    "x90, x_pos90, bar90     = setupBar(low, high, database['pc90SNR'], '90pc')\n",
    "x150, x_pos150, bar150   = setupBar(low, high, database['pc150SNR'], '150pc')\n",
    "x500, x_pos500, bar500   = setupBar(low, high, database['pc500SNR'], '500pc')\n",
    "x1000, x_pos1000, bar1000 = setupBar(low, high, database['pc1000SNR'], '1000pc')\n",
    "\n",
    "sampleSize = len(database['SN_name'])\n",
    "N = 5\n",
    "ind = np.arange(N)  # the x locations for the groups\n",
    "width = 0.15  # the width of the bars\n",
    "\n",
    "fig = plt.figure()\n",
    "ax = fig.add_subplot(111)\n",
    "ax.grid(True, alpha = 0.25)\n",
    "ax.axhline(y=0.16, ls = '--', color = 'k', alpha = 0.3, zorder=0)\n",
    "ax.axhline(y=0.50, ls = '--', color = 'k', alpha = 0.3)\n",
    "ax.axhline(y=0.84, ls = '--', color = 'k', alpha = 0.3)\n",
    "rects1 = ax.bar(ind[0], bar60[0]/sampleSize, width, color='purple')\n",
    "rects2 = ax.bar(ind[1], bar90[0]/sampleSize, width, color='purple')\n",
    "rects3 = ax.bar(ind[2], bar150[0]/sampleSize, width, color='purple')\n",
    "rects4 = ax.bar(ind[3], bar500[0]/sampleSize, width, color='purple')\n",
    "rects7 = ax.bar(ind[4], bar1000[0]/sampleSize, width, color='purple')\n",
    "rects1 = ax.bar(ind[0]+width, bar60[1]/sampleSize, width, color='orange')\n",
    "rects2 = ax.bar(ind[1]+width, bar90[1]/sampleSize, width, color='orange')\n",
    "rects3 = ax.bar(ind[2]+width, bar150[1]/sampleSize, width, color='orange')\n",
    "rects4 = ax.bar(ind[3]+width, bar500[1]/sampleSize, width, color='orange')\n",
    "rects8 = ax.bar(ind[4]+width, bar1000[1]/sampleSize, width, color='orange')\n",
    "rects1 = ax.bar(ind[0]+2*width, bar60[2]/sampleSize, width, color='black')\n",
    "rects2 = ax.bar(ind[1]+2*width, bar90[2]/sampleSize, width, color='black')\n",
    "rects3 = ax.bar(ind[2]+2*width, bar150[2]/sampleSize, width, color='black')\n",
    "rects4 = ax.bar(ind[3]+2*width, bar500[2]/sampleSize, width, color='black')\n",
    "rects9 = ax.bar(ind[4]+2*width, bar1000[2]/sampleSize, width, color='black')\n",
    "ax.set_ylabel('Fraction of Supernova')\n",
    "ax.set_ylim(0.0,1.01)\n",
    "ax.set_title('Distribution of CO 2-1 Emission across Resolutions')\n",
    "ax.set_xticks(ind + width)\n",
    "ax.tick_params(axis='y', direction='in')\n",
    "ax.set_xticklabels(['60pc', '90pc', '150pc', '500pc', '1000pc'])\n",
    "\n",
    "ax.legend((rects7[0], rects8[0],rects9[0]), (x60))\n",
    "plt.show()\n",
    "fig.savefig('../Figures/SNR_Dist_BySNR.png')"
   ]
  },
  {
   "cell_type": "markdown",
   "id": "intermediate-target",
   "metadata": {},
   "source": [
    "Wefind that the 50th percentile SNR value at 60pc is 3.9, at90pc it is 6.0, 7.7 at 150pc, and then rises rapidly to 25at 500pc.  Statement:  something like We detect almost100% at 1kpc scales and 50% at MC cloud scales.  Spellout the 40-40-20 (?)  of the high resolution compare withthe numbers from the lower resolution. . . (shatter secondparagraph into more than one paragraph) (we detect ev-erything at 1kpc 1 paragraph, split of others gets anotherparagraph"
   ]
  },
  {
   "cell_type": "code",
   "execution_count": 7,
   "id": "norman-morgan",
   "metadata": {},
   "outputs": [],
   "source": [
    "def percentiles(array):\n",
    "\n",
    "    vals = np.sort(array)\n",
    "    \n",
    "    for i in range(len(vals)):\n",
    "        if vals[i] < 0.0:\n",
    "            vals[i] = 0.0\n",
    "    \n",
    "    vals = vals[np.isfinite(vals)]\n",
    "    \n",
    "    percentile = np.linspace(0,1,len(vals))\n",
    "    stats = findStats(percentile, vals)\n",
    "\n",
    "    return(stats, len(vals))"
   ]
  },
  {
   "cell_type": "code",
   "execution_count": 8,
   "id": "naked-darkness",
   "metadata": {},
   "outputs": [
    {
     "name": "stdout",
     "output_type": "stream",
     "text": [
      "['Resolution', 'Percent Sample Size', '5th Percentile', '16th Percentile', '50th Percentile', '84th Percentile', '95th Percentile']\n",
      "\n",
      "60pc & 12.0 & 0.69 & 2.86 & 5.71 & 95.2 & 171.16 \\\n",
      "90pc & 33.0 & 0.0 & 1.28 & 5.73 & 36.83 & 144.85 \\\n",
      "120pc & 76.0 & 0.0 & 0.58 & 6.48 & 42.76 & 137.31 \\\n",
      "150pc & 94.0 & 0.0 & 0.79 & 7.59 & 61.79 & 149.61 \\\n",
      "500pc & 98.0 & 0.0 & 3.46 & 18.82 & 229.35 & 471.39 \\\n",
      "750pc & 100.0 & 0.0 & 5.19 & 29.95 & 360.06 & 553.04 \\\n",
      "1000pc & 100.0 & 0.0 & 7.43 & 46.18 & 409.46 & 641.17 \\\n"
     ]
    }
   ],
   "source": [
    "# Make Latex Table 1\n",
    "\n",
    "stats60, len60 = percentiles(database['pc60SNR'])\n",
    "stats90, len90 = percentiles(database['pc90SNR'])\n",
    "stats120, len120 = percentiles(database['pc120SNR'])\n",
    "stats150, len150 = percentiles(database['pc150SNR'])\n",
    "stats500, len500 = percentiles(database['pc500SNR'])\n",
    "stats750, len750 = percentiles(database['pc750SNR'])\n",
    "stats1000, len1000 = percentiles(database['pc1000SNR'])\n",
    "\n",
    "\n",
    "columns  = [\"Resolution\", \"Percent Sample Size\", \"5th Percentile\" ,\"16th Percentile\" ,\"50th Percentile\" ,\"84th Percentile\" ,\"95th Percentile\"]\n",
    "stats_60 = [\"60pc\", round(len60/66.*100,0), 0.69, 2.86, 5.71, 95.2, 171.16]\n",
    "stats_90 = [\"90pc\", round(len90/66.*100,0), 0.0, 1.28, 5.73, 36.83, 144.85]\n",
    "stats_120 = [\"120pc\", round(len120/66.*100,0), 0.0, 0.58, 6.48, 42.76, 137.31]\n",
    "stats_150 = [\"150pc\", round(len150/66.*100,0), 0.0, 0.79, 7.59, 61.79, 149.61]\n",
    "stats_500 = [\"500pc\", round(len500/66.*100,0), 0.0, 3.46, 18.82, 229.35, 471.39]\n",
    "stats_750 = [\"750pc\", round(len750/66.*100,0), 0.0, 5.19, 29.95, 360.06, 553.04]\n",
    "stats_1000 = [\"1000pc\", round(len1000/66.*100,0), 0.0, 7.43, 46.18, 409.46, 641.17]\n",
    "\n",
    "statsArr = [stats_60,stats_90,stats_120,stats_150,stats_500,stats_750,stats_1000]\n",
    "print(columns)\n",
    "print()\n",
    "\n",
    "for i in range(len(statsArr)):\n",
    "    for j in range(len(stats_60)):\n",
    "        print(statsArr[i][j], end=\" \")\n",
    "        if j < len(stats_60)-1: print(\"&\", end = \" \")\n",
    "        else: print(\"\\\\\")\n",
    "\n"
   ]
  },
  {
   "cell_type": "code",
   "execution_count": null,
   "id": "parallel-legislature",
   "metadata": {},
   "outputs": [],
   "source": []
  }
 ],
 "metadata": {
  "kernelspec": {
   "display_name": "Python 3",
   "language": "python",
   "name": "python3"
  },
  "language_info": {
   "codemirror_mode": {
    "name": "ipython",
    "version": 3
   },
   "file_extension": ".py",
   "mimetype": "text/x-python",
   "name": "python",
   "nbconvert_exporter": "python",
   "pygments_lexer": "ipython3",
   "version": "3.6.8"
  }
 },
 "nbformat": 4,
 "nbformat_minor": 5
}
