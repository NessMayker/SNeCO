{
 "cells": [
  {
   "cell_type": "markdown",
   "id": "coordinated-understanding",
   "metadata": {},
   "source": [
    "This notebook will analyze the intensities and errors of CO 2-1 emission at the locations of all of the SNe in our sample across all of the resolutions in the survey.\n",
    "\n",
    "We will use this to uncover what resolution will be best for this study.\n",
    "\n",
    "This notebook produces figure 2 and the MGSD percentiles table.\n"
   ]
  },
  {
   "cell_type": "code",
   "execution_count": 1,
   "id": "auburn-bearing",
   "metadata": {},
   "outputs": [],
   "source": [
    "import numpy as np\n",
    "import astropy\n",
    "import astropy.io.fits as pyfits\n",
    "from astropy.table import Table, join\n",
    "from astropy.io import ascii\n",
    "\n",
    "import sys\n",
    "sys.path.append('/home/mayker.1/Desktop/PythonFunctions')\n",
    "#sys.path.append('/Users/nessmayker/Desktop/PythonFunctions')\n",
    "from detectionFraction import detecFrac\n",
    "from cumulativeDistFunc import makeCDF\n",
    "from findPercentiles import findStats"
   ]
  },
  {
   "cell_type": "code",
   "execution_count": 2,
   "id": "known-corruption",
   "metadata": {},
   "outputs": [],
   "source": [
    "#import SNe data \n",
    "\n",
    "SNe_Gal_File = '../Data/3.SNe+GalData.csv'\n",
    "SNe_Gal_Data = Table.read(SNe_Gal_File, format='csv') \n",
    "\n",
    "intenFile = '../Data/3.IntenData.csv'\n",
    "intenData = Table.read(intenFile, format='csv')\n",
    "\n",
    "database  = join(SNe_Gal_Data, intenData, keys=('SN_name', 'galaxy'))\n"
   ]
  },
  {
   "cell_type": "code",
   "execution_count": 3,
   "id": "coastal-drinking",
   "metadata": {},
   "outputs": [
    {
     "name": "stdout",
     "output_type": "stream",
     "text": [
      "0 ASASSN-14ha II\n",
      "1 SN1901B I\n",
      "2 SN1923A II\n",
      "3 SN1926A II\n",
      "4 SN1935C unclassified\n",
      "5 SN1940E I\n",
      "6 SN1950B unclassified\n",
      "7 SN1957D unclassified\n",
      "8 SN1959E I\n",
      "9 SN1960F Ia\n",
      "10 SN1961I II\n",
      "11 SN1964F II\n",
      "12 SN1967H II\n",
      "13 SN1968L II\n",
      "14 SN1972Q II\n",
      "15 SN1973R II\n",
      "16 SN1979C II\n",
      "17 SN1981B Ia\n",
      "18 SN1983N Ib\n",
      "19 SN1983V Ic\n",
      "20 SN1984J II\n",
      "21 SN1985P II\n",
      "22 SN1986G Ia\n",
      "23 SN1986I II\n",
      "24 SN1986L II\n",
      "25 SN1988A II\n",
      "26 SN1988M II\n",
      "27 SN1989B Ia\n",
      "28 SN1989M Ia\n",
      "29 SN1992bd II\n",
      "30 SN1993Z Ia\n",
      "31 SN1995V II\n",
      "32 SN1996cr II\n",
      "33 SN1999em II\n",
      "34 SN1999eu II\n",
      "35 SN1999gn II\n",
      "36 SN2001du II\n",
      "37 SN2003jg Ic\n",
      "38 SN2005at Ic\n",
      "39 SN2005df Ia\n",
      "40 SN2006X Ia\n",
      "41 SN2006ov II\n",
      "42 SN2007it II\n",
      "43 SN2008bk II\n",
      "44 SN2008eh unclassified\n",
      "45 SN2009hd II\n",
      "46 SN2009ib II\n",
      "47 SN2010el Ia\n",
      "48 SN2011ja II\n",
      "49 SN2012A II\n",
      "50 SN2012cg Ia\n",
      "51 SN2012fr Ia\n",
      "52 SN2013ej II\n",
      "53 SN2014L Ic\n",
      "54 SN2014dt Ia\n",
      "55 SN2016adj IIb\n",
      "56 SN2016cok II\n",
      "57 SN2017gax Ib/c\n",
      "58 SN2018ivc II\n",
      "59 SN2019ehk Ib\n",
      "60 SN2020jfo II\n",
      "61 SN2020nvb Ia\n",
      "62 SN2020oi Ic\n"
     ]
    }
   ],
   "source": [
    "\n",
    "#This database is only holding the SNe that have 150pc maps and is missing 1988A, 1989M, 2018ivc, 2017gax\n",
    "\n",
    "for i in range(len(database[\"SN_name\"])):\n",
    "    print(i, database[\"SN_name\"][i], database[\"SN_type\"][i])"
   ]
  },
  {
   "cell_type": "code",
   "execution_count": 12,
   "id": "pursuant-retro",
   "metadata": {},
   "outputs": [],
   "source": [
    "import matplotlib.pyplot as plt\n",
    "%matplotlib inline\n",
    "\n",
    "def setupBar(low, high, resArray, resStr):\n",
    "    '''\n",
    "    set up figure 2 barplot.\n",
    "    \n",
    "    '''\n",
    "    lowStr = \"No or Weak Detection (S/N < \" + str(low) + \")\"\n",
    "    midStr = \"Moderate Detection (\" + str(low) + \" $\\leq$ S/N < \" + str(high) + \")\"\n",
    "    upStr  = \"Strong Detection (\" + str(high) + \" $\\leq$ S/N)\" \n",
    "\n",
    "    x = [lowStr, midStr, upStr]\n",
    "    x_pos = [i for i, _ in enumerate(x)]\n",
    "\n",
    "    lowCtr, midCtr, upCtr = 0,0,0\n",
    "\n",
    "    for i in range(len(resArray)):\n",
    "        if resArray[i] < low:\n",
    "            lowCtr += 1\n",
    "        elif resArray[i] > low and resArray[i] < high:\n",
    "            midCtr += 1\n",
    "        elif resArray[i] > high:\n",
    "            upCtr += 1\n",
    "    \n",
    "    bars = [lowCtr, midCtr, upCtr]\n",
    "\n",
    "    return(x, x_pos, bars)    \n"
   ]
  },
  {
   "cell_type": "code",
   "execution_count": 13,
   "id": "variable-generation",
   "metadata": {},
   "outputs": [
    {
     "data": {
      "image/png": "[encoded data removed]",
      "text/plain": [
       "<Figure size 576x288 with 1 Axes>"
      ]
     },
     "metadata": {
      "needs_background": "light"
     },
     "output_type": "display_data"
    },
    {
     "data": {
      "text/plain": [
       "<Figure size 432x288 with 0 Axes>"
      ]
     },
     "metadata": {},
     "output_type": "display_data"
    },
    {
     "name": "stdout",
     "output_type": "stream",
     "text": [
      "[25, 6, 28]\n",
      "63\n"
     ]
    }
   ],
   "source": [
    "low, high = 3.0, 7.0\n",
    "x60, x_pos60, bar60     = setupBar(low, high, database['pc60SNR'], '60pc')\n",
    "x90, x_pos90, bar90     = setupBar(low, high, database['pc90SNR'], '90pc')\n",
    "x120, x_pos120, bar120   = setupBar(low, high, database['pc120SNR'], '120pc')\n",
    "x150, x_pos150, bar150   = setupBar(low, high, database['pc150SNR'], '150pc')\n",
    "x500, x_pos500, bar500   = setupBar(low, high, database['pc500SNR'], '500pc')\n",
    "x750, x_pos750, bar750   = setupBar(low, high, database['pc750SNR'], '750pc')\n",
    "x1000, x_pos1000, bar1000 = setupBar(low, high, database['pc1000SNR'], '1000pc')\n",
    "\n",
    "sampleSize = len(database['SN_name'])\n",
    "N = 5\n",
    "ind = np.arange(N)  # the x locations for the groups\n",
    "width = 0.15  # the width of the bars\n",
    "\n",
    "fig = plt.figure()\n",
    "ax = fig.add_subplot(111)\n",
    "fig.set_figheight(4)\n",
    "fig.set_figwidth(8)\n",
    "ax.grid(True, alpha = 0.25)\n",
    "ax.axhline(y=0.16, ls = '--', color = 'k', alpha = 0.3, zorder=0)\n",
    "ax.axhline(y=0.50, ls = '--', color = 'k', alpha = 0.3)\n",
    "ax.axhline(y=0.84, ls = '--', color = 'k', alpha = 0.3)\n",
    "rects1 = ax.bar(ind[0], bar60[0]/sampleSize, width, color='purple')\n",
    "rects2 = ax.bar(ind[1], bar90[0]/sampleSize, width, color='purple')\n",
    "rects3 = ax.bar(ind[2], bar150[0]/sampleSize, width, color='purple')\n",
    "rects4 = ax.bar(ind[3], bar500[0]/sampleSize, width, color='purple')\n",
    "rects7 = ax.bar(ind[4], bar1000[0]/sampleSize, width, color='purple')\n",
    "rects1 = ax.bar(ind[0]+width, bar60[1]/sampleSize, width, color='orange')\n",
    "rects2 = ax.bar(ind[1]+width, bar90[1]/sampleSize, width, color='orange')\n",
    "rects3 = ax.bar(ind[2]+width, bar150[1]/sampleSize, width, color='orange')\n",
    "rects4 = ax.bar(ind[3]+width, bar500[1]/sampleSize, width, color='orange')\n",
    "rects8 = ax.bar(ind[4]+width, bar1000[1]/sampleSize, width, color='orange')\n",
    "rects1 = ax.bar(ind[0]+2*width, bar60[2]/sampleSize, width, color='black')\n",
    "rects2 = ax.bar(ind[1]+2*width, bar90[2]/sampleSize, width, color='black')\n",
    "rects3 = ax.bar(ind[2]+2*width, bar150[2]/sampleSize, width, color='black')\n",
    "rects4 = ax.bar(ind[3]+2*width, bar500[2]/sampleSize, width, color='black')\n",
    "rects9 = ax.bar(ind[4]+2*width, bar1000[2]/sampleSize, width, color='black')\n",
    "ax.set_ylabel('Fraction of Supernova')\n",
    "ax.set_ylim(0.0,1.01)\n",
    "ax.set_xticks(ind + width)\n",
    "ax.tick_params(axis='y', direction='in')\n",
    "ax.set_xticklabels(['60pc', '90pc', '150pc', '500pc', '1000pc'])\n",
    "ax.set_xlabel(\"PHANGS-ALMA CO 2-1 Map Resolution\")\n",
    "ax.legend((rects7[0], rects8[0],rects9[0]), (x60))\n",
    "plt.show()\n",
    "plt.tight_layout()\n",
    "fig.savefig('../Figures/SNR_Dist_BySNR.png', dpi=300)\n",
    "plt.show()\n",
    "plt.close()\n",
    "\n",
    "print(bar150)\n",
    "print(sampleSize)"
   ]
  },
  {
   "cell_type": "code",
   "execution_count": 6,
   "id": "85132d2e",
   "metadata": {},
   "outputs": [
    {
     "name": "stdout",
     "output_type": "stream",
     "text": [
      "1000 :  63  SNe: 6.35  % non 6.35  % moderate 87.3  % strong\n",
      "750 :  63  SNe: 7.94  % non 11.11  % moderate 80.95  % strong\n",
      "500 :  62  SNe: 14.52  % non 12.9  % moderate 72.58  % strong\n",
      "150 :  59  SNe: 42.37  % non 10.17  % moderate 47.46  % strong\n",
      "120 :  47  SNe: 38.3  % non 17.02  % moderate 44.68  % strong\n",
      "90 :  19  SNe: 42.11  % non 21.05  % moderate 36.84  % strong\n",
      "60 :  7  SNe: 14.29  % non 42.86  % moderate 42.86  % strong\n"
     ]
    }
   ],
   "source": [
    "def printStats(bar, res):\n",
    "    numSNe = np.sum(bar)\n",
    "    nodet = bar[0]\n",
    "    modet = bar[1]\n",
    "    hidet = bar[2]\n",
    "    noPer = round(nodet/numSNe*100, 2)\n",
    "    moPer = round(modet/numSNe*100, 2)\n",
    "    hiPer = round(hidet/numSNe*100, 2)\n",
    "    print(res,\": \",numSNe,\" SNe:\",noPer,\" % non\",moPer,\" % moderate\",hiPer,\" % strong\")\n",
    "        \n",
    "\n",
    "\n",
    "printStats(bar1000, \"1000\")\n",
    "printStats(bar750, \"750\")\n",
    "printStats(bar500, \"500\")\n",
    "printStats(bar150, \"150\")\n",
    "printStats(bar120, \"120\")\n",
    "printStats(bar90, \"90\")\n",
    "printStats(bar60, \"60\")"
   ]
  },
  {
   "cell_type": "code",
   "execution_count": 7,
   "id": "3726a5dc",
   "metadata": {},
   "outputs": [],
   "source": [
    "# for i in range(len(database)):\n",
    "#     print(database['pc1000Int'][i],database['galaxy'][i])\n",
    "    "
   ]
  },
  {
   "cell_type": "code",
   "execution_count": 8,
   "id": "84a2d214",
   "metadata": {},
   "outputs": [],
   "source": [
    "\n",
    "def percentiles(array):\n",
    "\n",
    "    vals = np.asarray(array)\n",
    "    \n",
    "    for i in range(len(vals)):\n",
    "        if vals[i] < 0.0:\n",
    "            vals[i] = 0.0\n",
    "    \n",
    "    vals = vals[np.isfinite(vals)]\n",
    "    \n",
    "    percentile = np.linspace(0,1,len(vals))\n",
    "    stats = findStats(percentile, vals)\n",
    "\n",
    "    return(stats, len(vals))\n",
    "\n",
    "def mgsdPercentiles(res):\n",
    "\n",
    "    msgdStr = \"pc\" + str(res) + \"mgsd\"\n",
    "    errStr = \"pc\" + str(res) + \"mgsdErr\"\n",
    "\n",
    "    mgsdgroup = database.group_by([msgdStr, errStr])\n",
    "\n",
    "    mgsdSort, errSort = [],[]\n",
    "    \n",
    "    # remove nans and set negative values to zero\n",
    "    for i in range(len(mgsdgroup)):\n",
    "        if np.isfinite(mgsdgroup[msgdStr][i]):\n",
    "            if mgsdgroup[msgdStr][i] < 0:\n",
    "                mgsdgroup[msgdStr][i] = 0.0\n",
    "            if mgsdgroup[errStr][i] < 0:\n",
    "                mgsdgroup[errStr][i] = 0.0\n",
    "            mgsdSort.append(mgsdgroup[msgdStr][i])\n",
    "            errSort.append(mgsdgroup[errStr][i])\n",
    "        else:\n",
    "            pass\n",
    "\n",
    "    # find normalized cumulative dictribution    \n",
    "    mgsdSort = np.sort(mgsdSort)\n",
    "    errSort = np.sort(errSort)\n",
    "    mgsdCS = np.cumsum(mgsdSort)/np.sum(mgsdSort)\n",
    "    errCS = np.cumsum(errSort)/np.sum(errSort)\n",
    "\n",
    "    # find three sigmas\n",
    "    percentiles = np.interp([0.16,0.5,0.84],mgsdCS,mgsdSort)\n",
    "    for i in range(len(percentiles)):\n",
    "        percentiles[i] = round(percentiles[i],2)\n",
    "    print(res, len(mgsdSort), percentiles)\n"
   ]
  },
  {
   "cell_type": "code",
   "execution_count": 9,
   "id": "naked-darkness",
   "metadata": {
    "scrolled": true
   },
   "outputs": [
    {
     "name": "stdout",
     "output_type": "stream",
     "text": [
      "60 7 [134.26 352.67 599.54]\n",
      "90 19 [ 70.34 362.44 619.8 ]\n",
      "120 47 [ 91.73 423.39 958.5 ]\n",
      "150 59 [124.67 600.78 980.43]\n",
      "500 62 [ 76.53 482.53 858.01]\n",
      "750 63 [ 82.63 457.53 778.93]\n",
      "1000 63 [ 75.64 381.39 690.91]\n"
     ]
    }
   ],
   "source": [
    "# Find entries for Latex Table : MGSD Percentiles at all resolutions at locations of SNe\n",
    "\n",
    "pc60mgsdTiles = mgsdPercentiles(60)\n",
    "pc90mgsdTiles = mgsdPercentiles(90)\n",
    "pc120mgsdTiles = mgsdPercentiles(120)\n",
    "pc150mgsdTiles = mgsdPercentiles(150)\n",
    "pc500mgsdTiles = mgsdPercentiles(500)\n",
    "pc750mgsdTiles = mgsdPercentiles(750)\n",
    "pc1000mgsdTiles = mgsdPercentiles(1000)\n"
   ]
  },
  {
   "cell_type": "code",
   "execution_count": 10,
   "id": "parallel-legislature",
   "metadata": {},
   "outputs": [
    {
     "name": "stdout",
     "output_type": "stream",
     "text": [
      "63\n"
     ]
    }
   ],
   "source": [
    "print(len(database))"
   ]
  },
  {
   "cell_type": "code",
   "execution_count": 11,
   "id": "c950df16",
   "metadata": {},
   "outputs": [],
   "source": [
    "# calculate the percentile of CO2-1 emission from the entire galaxy\n",
    "for i in range(len(database[\"galaxy\"])):\n",
    "    \n",
    "    # pull all intensity values for each galaxy\n",
    "    galaxy = database[\"galaxy\"][i]\n"
   ]
  }
 ],
 "metadata": {
  "kernelspec": {
   "display_name": "Python 3",
   "language": "python",
   "name": "python3"
  },
  "language_info": {
   "codemirror_mode": {
    "name": "ipython",
    "version": 3
   },
   "file_extension": ".py",
   "mimetype": "text/x-python",
   "name": "python",
   "nbconvert_exporter": "python",
   "pygments_lexer": "ipython3",
   "version": "3.8.10"
  }
 },
 "nbformat": 4,
 "nbformat_minor": 5
}
