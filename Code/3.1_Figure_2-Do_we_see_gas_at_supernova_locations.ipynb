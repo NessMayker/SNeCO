{
 "cells": [
  {
   "cell_type": "markdown",
   "id": "coordinated-understanding",
   "metadata": {},
   "source": [
    "This notebook will analyze the intensities and errors of CO 2-1 emission at the locations of all of the SNe in our sample across all of the resolutions in the survey.\n",
    "\n",
    "We will use this to uncover what resolution will be best for this study.\n",
    "\n",
    "This notebook produces figure 2 and the MGSD percentiles table.\n"
   ]
  },
  {
   "cell_type": "code",
   "execution_count": 1,
   "id": "auburn-bearing",
   "metadata": {},
   "outputs": [],
   "source": [
    "import numpy as np\n",
    "import astropy\n",
    "import astropy.io.fits as pyfits\n",
    "from astropy.table import Table, join\n",
    "from astropy.io import ascii\n",
    "import matplotlib.colors as mcolors\n",
    "\n",
    "import sys\n",
    "sys.path.append('/home/mayker.1/Desktop/PythonFunctions')\n",
    "#sys.path.append('/Users/nessmayker/Desktop/PythonFunctions')\n",
    "from detectionFraction import detecFrac\n",
    "from cumulativeDistFunc import makeCDF\n",
    "from findPercentiles import findStats\n",
    "\n",
    "teal = \"#00cc99\"\n",
    "darkpurple = '#5B2489'\n",
    "seafoam = \"#A3C1AD\"\n",
    "palepurple = \"#C1A3B7\"\n",
    "tan = \"#C8B989\"\n",
    "blue = \"#8998c8\"\n",
    "green = \"#BDD9BF\"\n",
    "purple = \"#A997DF\"\n"
   ]
  },
  {
   "cell_type": "code",
   "execution_count": 2,
   "id": "known-corruption",
   "metadata": {},
   "outputs": [],
   "source": [
    "#import SNe data \n",
    "\n",
    "SNe_Gal_File = '../Data/3.SNe+GalData.csv'\n",
    "SNe_Gal_Data = Table.read(SNe_Gal_File, format='csv') \n",
    "\n",
    "intenFile = '../Data/3.IntenData.csv'\n",
    "intenData = Table.read(intenFile, format='csv')\n",
    "\n",
    "database  = join(SNe_Gal_Data, intenData, keys=('SN_name', 'galaxy'))\n"
   ]
  },
  {
   "cell_type": "code",
   "execution_count": 3,
   "id": "coastal-drinking",
   "metadata": {},
   "outputs": [],
   "source": [
    "# Make flags for CCSNe\n",
    "#This database is only holding the SNe that have 150pc maps and is missing 1988A, 1989M, 2018ivc, 2017gax\n",
    "CCSNeFlags = []\n",
    "for i in range(len(database[\"SN_name\"])):\n",
    "    if database[\"SN_type\"][i] == \"II\" or database[\"SN_type\"][i] == \"Ib\" or database[\"SN_type\"][i] == \"Ic\" or \\\n",
    "        database[\"SN_type\"][i] == \"IIb\" or database[\"SN_type\"][i]  == \"Ib/c\":        \n",
    "        CCSNeFlags.append(True)        \n",
    "    else:            \n",
    "        CCSNeFlags.append(False)        \n",
    "    #print(i, database[\"SN_name\"][i], database[\"SN_type\"][i], CCSNeFlags[i])\n"
   ]
  },
  {
   "cell_type": "code",
   "execution_count": 4,
   "id": "pursuant-retro",
   "metadata": {},
   "outputs": [],
   "source": [
    "import matplotlib.pyplot as plt\n",
    "%matplotlib inline\n",
    "\n",
    "def setupBar(low, resArray, resStr, flagArr):\n",
    "    '''\n",
    "    set up figure 2 barplot.\n",
    "    \n",
    "    '''\n",
    "    lowStr = \"Nondetection (S/N < \" + str(low) + \")\"\n",
    "    upStr  = \"Detection (\" + str(low) + \" $\\leq$ S/N)\" \n",
    "\n",
    "    x = [lowStr, upStr]\n",
    "    x_pos = [i for i, _ in enumerate(x)]\n",
    "\n",
    "    lowCtr, upCtr = 0,0\n",
    "\n",
    "    for i in range(len(resArray)):\n",
    "        if(flagArr[i] == True):\n",
    "            if resArray[i] < low:\n",
    "                lowCtr += 1\n",
    "            elif resArray[i] >= low:\n",
    "                upCtr += 1\n",
    "\n",
    "    bars = [lowCtr, upCtr]\n",
    "\n",
    "    return(x, x_pos, bars)    \n"
   ]
  },
  {
   "cell_type": "code",
   "execution_count": 5,
   "id": "variable-generation",
   "metadata": {},
   "outputs": [
    {
     "name": "stdout",
     "output_type": "stream",
     "text": [
      "['Nondetection (S/N < 3.0)', 'Detection (3.0 $\\\\leq$ S/N)'] [0, 1] [1, 6]\n"
     ]
    },
    {
     "data": {
      "image/png": "[encoded data removed]",
      "text/plain": [
       "<Figure size 576x288 with 1 Axes>"
      ]
     },
     "metadata": {
      "needs_background": "light"
     },
     "output_type": "display_data"
    },
    {
     "data": {
      "text/plain": [
       "<Figure size 432x288 with 0 Axes>"
      ]
     },
     "metadata": {},
     "output_type": "display_data"
    },
    {
     "name": "stdout",
     "output_type": "stream",
     "text": [
      "[25, 34]\n",
      "63\n"
     ]
    }
   ],
   "source": [
    "low = 3.0\n",
    "flagArray = np.repeat([True],len(database))\n",
    "x60, x_pos60, bar60     = setupBar(low, database['pc60SNR'], '60pc', flagArray)\n",
    "x90, x_pos90, bar90     = setupBar(low, database['pc90SNR'], '90pc', flagArray)\n",
    "x120, x_pos120, bar120   = setupBar(low, database['pc120SNR'], '120pc', flagArray)\n",
    "x150, x_pos150, bar150   = setupBar(low, database['pc150SNR'], '150pc', flagArray)\n",
    "x500, x_pos500, bar500   = setupBar(low, database['pc500SNR'], '500pc', flagArray)\n",
    "x750, x_pos750, bar750   = setupBar(low, database['pc750SNR'], '750pc', flagArray)\n",
    "x1000, x_pos1000, bar1000 = setupBar(low, database['pc1000SNR'], '1000pc', flagArray)\n",
    "print(x60, x_pos60,bar60)\n",
    "sampleSize = len(database['SN_name'])\n",
    "N = 5\n",
    "ind = np.arange(N)  # the x locations for the groups\n",
    "width = 0.15  # the width of the bars\n",
    "\n",
    "fig = plt.figure()\n",
    "ax = fig.add_subplot(111)\n",
    "fig.set_figheight(4)\n",
    "fig.set_figwidth(8)\n",
    "ax.grid(True, alpha = 0.25)\n",
    "ax.axhline(y=0.16, ls = '--', color = 'k', alpha = 0.3, zorder=0)\n",
    "ax.axhline(y=0.50, ls = '--', color = 'k', alpha = 0.3)\n",
    "ax.axhline(y=0.84, ls = '--', color = 'k', alpha = 0.3)\n",
    "rects1 = ax.bar(ind[0], bar60[0]/sampleSize, width, color=teal)\n",
    "rects2 = ax.bar(ind[1], bar90[0]/sampleSize, width, color=teal)\n",
    "rects3 = ax.bar(ind[2], bar150[0]/sampleSize, width, color=teal)\n",
    "rects4 = ax.bar(ind[3], bar500[0]/sampleSize, width, color=teal)\n",
    "rects7 = ax.bar(ind[4], bar1000[0]/sampleSize, width, color=teal)\n",
    "rects1 = ax.bar(ind[0]+width, bar60[1]/sampleSize, width, color=darkpurple)\n",
    "rects2 = ax.bar(ind[1]+width, bar90[1]/sampleSize, width, color=darkpurple)\n",
    "rects3 = ax.bar(ind[2]+width, bar150[1]/sampleSize, width, color=darkpurple)\n",
    "rects4 = ax.bar(ind[3]+width, bar500[1]/sampleSize, width, color=darkpurple)\n",
    "rects8 = ax.bar(ind[4]+width, bar1000[1]/sampleSize, width, color=darkpurple)\n",
    "# rects1 = ax.bar(ind[0]+2*width, bar60[2]/sampleSize, width, color='black')\n",
    "# rects2 = ax.bar(ind[1]+2*width, bar90[2]/sampleSize, width, color='black')\n",
    "# rects3 = ax.bar(ind[2]+2*width, bar150[2]/sampleSize, width, color='black')\n",
    "# rects4 = ax.bar(ind[3]+2*width, bar500[2]/sampleSize, width, color='black')\n",
    "# rects9 = ax.bar(ind[4]+2*width, bar1000[2]/sampleSize, width, color='black')\n",
    "ax.set_ylabel('Fraction of Supernova')\n",
    "ax.set_ylim(0.0,1.01)\n",
    "ax.set_xticks(ind + width)\n",
    "ax.tick_params(axis='y', direction='in')\n",
    "ax.set_xticklabels(['60pc', '90pc', '150pc', '500pc', '1000pc'])\n",
    "ax.set_xlabel(\"PHANGS-ALMA CO 2-1 Map Resolution\")\n",
    "ax.legend((rects7[0], rects8[0]), (x60))\n",
    "plt.show()\n",
    "plt.tight_layout()\n",
    "fig.savefig('../Figures/SNR_Dist_BySNR.png', dpi=300)\n",
    "plt.show()\n",
    "plt.close()\n",
    "\n",
    "print(bar150)\n",
    "print(sampleSize)"
   ]
  },
  {
   "cell_type": "code",
   "execution_count": 19,
   "id": "2e3cc074",
   "metadata": {
    "scrolled": true
   },
   "outputs": [
    {
     "name": "stdout",
     "output_type": "stream",
     "text": [
      "['Nondetection (S/N < 3.0)', 'Detection (3.0 $\\\\leq$ S/N)']\n",
      "[8, 11]\n"
     ]
    },
    {
     "data": {
      "image/png": "[encoded data removed]",
      "text/plain": [
       "<Figure size 792x180 with 2 Axes>"
      ]
     },
     "metadata": {
      "needs_background": "light"
     },
     "output_type": "display_data"
    }
   ],
   "source": [
    "import seaborn as sns\n",
    "\n",
    "# Assign counts per day per type for multi colored bar plot\n",
    "\n",
    "counts, normVals = [],[]\n",
    "resolutions = ['60pc (7 SNe)', '90pc (19 SNe)', \"120pc (47 SNe)\", \"150pc (59 SNe)\", \"500pc (62 SNe)\", \"750pc (63 SNe)\", \"1kpc (63 SNe)\"]\n",
    "classifications = [\"Nondetection\", \"Detection\"]\n",
    "barcounts = [bar60, bar90, bar120, bar150, bar500, bar750, bar1000]\n",
    "print(x60)\n",
    "print(bar90)\n",
    "for i in range(len(resolutions)):\n",
    "    numWeak   = barcounts[i][0] \n",
    "    numMod    = barcounts[i][1]  \n",
    "    sumNum    = numWeak + numMod \n",
    "    counts.append([numWeak, numMod])\n",
    "    normVals.append([numWeak/sumNum, numMod/sumNum])\n",
    "\n",
    "    \n",
    "indRes, indClass, indNorm, indSum = [],[],[],[]\n",
    "for i in range(len(resolutions)):\n",
    "    sum = 0\n",
    "    for j in range(len(classifications)):\n",
    "        indRes.append(resolutions[i])\n",
    "        indClass.append(classifications[j])\n",
    "        indNorm.append(normVals[i][j])\n",
    "        sum += normVals[i][j] \n",
    "        indSum.append(sum)\n",
    "\n",
    "        \n",
    "f, ax = plt.subplots(nrows = 1, ncols = 2, figsize = (11,2.5))\n",
    "sns.histplot(y=indRes, hue=indClass, weights = indSum, multiple=\"stack\", discrete = True, fill=True, palette=[\"#5E0E82\" , \"#E4792A\"], alpha = 1,legend=None, ax=ax[0])\n",
    "ax[0].set_xlabel(\"Fraction of resolution's subsample\", fontsize = 12)\n",
    "ax[0].set_xlim(0,1.0)\n",
    "ax[0].set_title(\"Supernova Explosion Sites\")\n",
    "# ax[0].legend(labels=[\"Strong\", \"Moderate\", \"Weak/Non-Detection\"],framealpha=1, borderaxespad = 1, borderpad = 0.4,title=\"CO(2-1) Emission\")\n",
    "\n",
    "allPixBarCounts = [[0.7225745935322494, 0.16582436155313618, 0.1116010449146144],[0.709862625761676, 0.16617325695966084, 0.12396411727866319],[0.7030797656198061, 0.16483370368654218, 0.13208653069365175],[0.650282301428791, 0.18230903753517524, 0.16740866103603386],[0.33570131204953363, 0.19528065871809588, 0.46901802923237046],[0.2300366615297458, 0.15399188823943524, 0.6159714502308189],[0.17725459314299602, 0.11364070378138234, 0.7091047030756217]]\n",
    "# Assign counts per day per type for multi colored bar plot\n",
    "\n",
    "counts, normVals = [],[]\n",
    "resolutions = ['60pc', '90pc', \"120pc\", \"150pc\", \"500pc\", \"750pc\", \"1kpc\"]\n",
    "classifications = [\"Nondetection\", \"Detection\"]\n",
    "\n",
    "for i in range(len(resolutions)):\n",
    "    numWeak   = allPixBarCounts[i][0]\n",
    "    numMod    = allPixBarCounts[i][2] + allPixBarCounts[i][1]  \n",
    "    sumNum    = numWeak + numMod \n",
    "    counts.append([numWeak, numMod])\n",
    "    normVals.append([numWeak/sumNum, numMod/sumNum])\n",
    "    \n",
    "indRes, indClass, indNorm, indSum = [],[],[],[]\n",
    "for i in range(len(resolutions)):\n",
    "    sum = 0\n",
    "    for j in range(len(classifications)):\n",
    "        indRes.append(resolutions[i])\n",
    "        indClass.append(classifications[j])\n",
    "        indNorm.append(normVals[i][j])\n",
    "        sum += normVals[i][j] \n",
    "        indSum.append(sum)\n",
    "\n",
    "        \n",
    "sns.histplot(y=indRes, hue=indClass, weights = indSum, multiple=\"stack\", discrete = True, fill=True, palette=[\"#5E0E82\" , \"#E4792A\"], alpha = 1,legend=None, ax=ax[1])\n",
    "ax[1].set_title(\"All Map Pixels\")\n",
    "ax[1].set_xlabel(\"Fraction of resolution's subsample\", fontsize = 12)\n",
    "ax[1].set_xlim(0,1.0)\n",
    "axbox = ax[0].get_position()\n",
    "\n",
    "ax[0].legend(labels=[\"Detection\", \"Nondetection\"],framealpha=1, loc=\"lower right\",borderaxespad = 1.0, borderpad = 0.4,title=\"CO(2-1) Emission\",bbox_to_anchor=[axbox.x0+2.54*axbox.width, axbox.y0-0.13])\n",
    "\n",
    "f.savefig(\"../Figures/HorizontalBarPlot.png\", bbox_inches = \"tight\", dpi = 300)\n",
    "\n"
   ]
  },
  {
   "cell_type": "code",
   "execution_count": 7,
   "id": "e9198d3d",
   "metadata": {},
   "outputs": [
    {
     "name": "stdout",
     "output_type": "stream",
     "text": [
      "[0.7030797656198061, 0.16483370368654218, 0.13208653069365175]\n",
      "[0.7030797656198061, 0.16483370368654218, 0.13208653069365175]\n",
      "7\n",
      "3\n"
     ]
    },
    {
     "data": {
      "image/png": "[encoded data removed]",
      "text/plain": [
       "<Figure size 360x180 with 1 Axes>"
      ]
     },
     "metadata": {
      "needs_background": "light"
     },
     "output_type": "display_data"
    }
   ],
   "source": [
    "allPixBarCounts = [[0.7225745935322494, 0.16582436155313618, 0.1116010449146144],[0.709862625761676, 0.16617325695966084, 0.12396411727866319],[0.7030797656198061, 0.16483370368654218, 0.13208653069365175],[0.650282301428791, 0.18230903753517524, 0.16740866103603386],[0.33570131204953363, 0.19528065871809588, 0.46901802923237046],[0.2300366615297458, 0.15399188823943524, 0.6159714502308189],[0.17725459314299602, 0.11364070378138234, 0.7091047030756217]]\n",
    "# Assign counts per day per type for multi colored bar plot\n",
    "\n",
    "counts, normVals = [],[]\n",
    "resolutions = ['60pc', '90pc', \"120pc\", \"150pc\", \"500pc\", \"750pc\", \"1kpc\"]\n",
    "classifications = [\"Weak/Non-Detection\", \"Moderate\", \"Strong\"]\n",
    "\n",
    "for i in range(len(resolutions)):\n",
    "    numWeak   = allPixBarCounts[i][0] \n",
    "    numMod    = allPixBarCounts[i][1]  \n",
    "    numStrong = allPixBarCounts[i][2] \n",
    "    sumNum    = numWeak + numMod + numStrong \n",
    "    counts.append([numWeak, numMod, numStrong])\n",
    "    normVals.append([numWeak/sumNum, numMod/sumNum, numStrong/sumNum])\n",
    "print(counts[2])\n",
    "print(normVals[2])\n",
    "print(len(resolutions))\n",
    "print(len(classifications))\n",
    "    \n",
    "indRes, indClass, indNorm, indSum = [],[],[],[]\n",
    "for i in range(len(resolutions)):\n",
    "    sum = 0\n",
    "    for j in range(len(classifications)):\n",
    "        indRes.append(resolutions[i])\n",
    "        indClass.append(classifications[j])\n",
    "        indNorm.append(normVals[i][j])\n",
    "        sum += normVals[i][j] \n",
    "        indSum.append(sum)\n",
    "\n",
    "        \n",
    "f, ax = plt.subplots(nrows = 1, ncols = 1, figsize = (5,2.5))\n",
    "sns.histplot(y=indRes, hue=indClass, weights = indSum, multiple=\"stack\", discrete = True, fill=True, palette=\"inferno\", alpha = 1.0,legend=None)\n",
    "ax.set_xlabel(\"Fraction of resolution's subsample\", fontsize = 12)\n",
    "ax.set_xlim(0,1.0)\n",
    "# ax.legend.remove()\n",
    "f.savefig(\"../Figures/HorizontalBarPlotAllSNe.png\", bbox_inches = \"tight\", dpi = 300)\n",
    "\n"
   ]
  },
  {
   "cell_type": "code",
   "execution_count": 8,
   "id": "85132d2e",
   "metadata": {},
   "outputs": [
    {
     "ename": "IndexError",
     "evalue": "list index out of range",
     "output_type": "error",
     "traceback": [
      "\u001b[0;31m---------------------------------------------------------------------------\u001b[0m",
      "\u001b[0;31mIndexError\u001b[0m                                Traceback (most recent call last)",
      "\u001b[0;32m<ipython-input-8-263f3c5f44d7>\u001b[0m in \u001b[0;36m<module>\u001b[0;34m\u001b[0m\n\u001b[1;32m     11\u001b[0m \u001b[0;34m\u001b[0m\u001b[0m\n\u001b[1;32m     12\u001b[0m \u001b[0;34m\u001b[0m\u001b[0m\n\u001b[0;32m---> 13\u001b[0;31m \u001b[0mprintStats\u001b[0m\u001b[0;34m(\u001b[0m\u001b[0mbar1000\u001b[0m\u001b[0;34m,\u001b[0m \u001b[0;34m\"1000\"\u001b[0m\u001b[0;34m)\u001b[0m\u001b[0;34m\u001b[0m\u001b[0;34m\u001b[0m\u001b[0m\n\u001b[0m\u001b[1;32m     14\u001b[0m \u001b[0mprintStats\u001b[0m\u001b[0;34m(\u001b[0m\u001b[0mbar750\u001b[0m\u001b[0;34m,\u001b[0m \u001b[0;34m\"750\"\u001b[0m\u001b[0;34m)\u001b[0m\u001b[0;34m\u001b[0m\u001b[0;34m\u001b[0m\u001b[0m\n\u001b[1;32m     15\u001b[0m \u001b[0mprintStats\u001b[0m\u001b[0;34m(\u001b[0m\u001b[0mbar500\u001b[0m\u001b[0;34m,\u001b[0m \u001b[0;34m\"500\"\u001b[0m\u001b[0;34m)\u001b[0m\u001b[0;34m\u001b[0m\u001b[0;34m\u001b[0m\u001b[0m\n",
      "\u001b[0;32m<ipython-input-8-263f3c5f44d7>\u001b[0m in \u001b[0;36mprintStats\u001b[0;34m(bar, res)\u001b[0m\n\u001b[1;32m      3\u001b[0m     \u001b[0mnodet\u001b[0m \u001b[0;34m=\u001b[0m \u001b[0mbar\u001b[0m\u001b[0;34m[\u001b[0m\u001b[0;36m0\u001b[0m\u001b[0;34m]\u001b[0m\u001b[0;34m\u001b[0m\u001b[0;34m\u001b[0m\u001b[0m\n\u001b[1;32m      4\u001b[0m     \u001b[0mmodet\u001b[0m \u001b[0;34m=\u001b[0m \u001b[0mbar\u001b[0m\u001b[0;34m[\u001b[0m\u001b[0;36m1\u001b[0m\u001b[0;34m]\u001b[0m\u001b[0;34m\u001b[0m\u001b[0;34m\u001b[0m\u001b[0m\n\u001b[0;32m----> 5\u001b[0;31m     \u001b[0mhidet\u001b[0m \u001b[0;34m=\u001b[0m \u001b[0mbar\u001b[0m\u001b[0;34m[\u001b[0m\u001b[0;36m2\u001b[0m\u001b[0;34m]\u001b[0m\u001b[0;34m\u001b[0m\u001b[0;34m\u001b[0m\u001b[0m\n\u001b[0m\u001b[1;32m      6\u001b[0m     \u001b[0mnoPer\u001b[0m \u001b[0;34m=\u001b[0m \u001b[0mround\u001b[0m\u001b[0;34m(\u001b[0m\u001b[0mnodet\u001b[0m\u001b[0;34m/\u001b[0m\u001b[0mnumSNe\u001b[0m\u001b[0;34m*\u001b[0m\u001b[0;36m100\u001b[0m\u001b[0;34m,\u001b[0m \u001b[0;36m2\u001b[0m\u001b[0;34m)\u001b[0m\u001b[0;34m\u001b[0m\u001b[0;34m\u001b[0m\u001b[0m\n\u001b[1;32m      7\u001b[0m     \u001b[0mmoPer\u001b[0m \u001b[0;34m=\u001b[0m \u001b[0mround\u001b[0m\u001b[0;34m(\u001b[0m\u001b[0mmodet\u001b[0m\u001b[0;34m/\u001b[0m\u001b[0mnumSNe\u001b[0m\u001b[0;34m*\u001b[0m\u001b[0;36m100\u001b[0m\u001b[0;34m,\u001b[0m \u001b[0;36m2\u001b[0m\u001b[0;34m)\u001b[0m\u001b[0;34m\u001b[0m\u001b[0;34m\u001b[0m\u001b[0m\n",
      "\u001b[0;31mIndexError\u001b[0m: list index out of range"
     ]
    }
   ],
   "source": [
    "def printStats(bar, res):\n",
    "    numSNe = np.sum(bar)\n",
    "    nodet = bar[0]\n",
    "    modet = bar[1]\n",
    "    hidet = bar[2]\n",
    "    noPer = round(nodet/numSNe*100, 2)\n",
    "    moPer = round(modet/numSNe*100, 2)\n",
    "    hiPer = round(hidet/numSNe*100, 2)\n",
    "    print(res,\": \",numSNe,\" SNe:\",noPer,\" % non\",moPer,\" % moderate\",hiPer,\" % strong\")\n",
    "        \n",
    "\n",
    "\n",
    "printStats(bar1000, \"1000\")\n",
    "printStats(bar750, \"750\")\n",
    "printStats(bar500, \"500\")\n",
    "printStats(bar150, \"150\")\n",
    "printStats(bar120, \"120\")\n",
    "printStats(bar90, \"90\")\n",
    "printStats(bar60, \"60\")"
   ]
  },
  {
   "cell_type": "code",
   "execution_count": null,
   "id": "3726a5dc",
   "metadata": {},
   "outputs": [],
   "source": [
    "\n",
    "x60, x_pos60, bar60CC     = setupBar(low, high, database['pc60SNR'], '60pc', CCSNeFlags)\n",
    "x90, x_pos90, bar90CC     = setupBar(low, high, database['pc90SNR'], '90pc', CCSNeFlags)\n",
    "x120, x_pos120, bar120CC   = setupBar(low, high, database['pc120SNR'], '120pc', CCSNeFlags)\n",
    "x150, x_pos150, bar150CC   = setupBar(low, high, database['pc150SNR'], '150pc', CCSNeFlags)\n",
    "x500, x_pos500, bar500CC   = setupBar(low, high, database['pc500SNR'], '500pc', CCSNeFlags)\n",
    "x750, x_pos750, bar750CC   = setupBar(low, high, database['pc750SNR'], '750pc', CCSNeFlags)\n",
    "x1000, x_pos1000, bar1000CC = setupBar(low, high, database['pc1000SNR'], '1000pc', CCSNeFlags)\n",
    "\n",
    "printStats(bar1000CC, \"1000\")\n",
    "printStats(bar750CC, \"750\")\n",
    "printStats(bar500CC, \"500\")\n",
    "printStats(bar150CC, \"150\")\n",
    "printStats(bar120CC, \"120\")\n",
    "printStats(bar90CC, \"90\")\n",
    "printStats(bar60CC, \"60\")"
   ]
  },
  {
   "cell_type": "code",
   "execution_count": null,
   "id": "84a2d214",
   "metadata": {},
   "outputs": [],
   "source": []
  },
  {
   "cell_type": "code",
   "execution_count": null,
   "id": "naked-darkness",
   "metadata": {
    "scrolled": true
   },
   "outputs": [],
   "source": []
  },
  {
   "cell_type": "code",
   "execution_count": null,
   "id": "parallel-legislature",
   "metadata": {},
   "outputs": [],
   "source": []
  },
  {
   "cell_type": "code",
   "execution_count": null,
   "id": "c950df16",
   "metadata": {},
   "outputs": [],
   "source": []
  }
 ],
 "metadata": {
  "kernelspec": {
   "display_name": "Python 3",
   "language": "python",
   "name": "python3"
  },
  "language_info": {
   "codemirror_mode": {
    "name": "ipython",
    "version": 3
   },
   "file_extension": ".py",
   "mimetype": "text/x-python",
   "name": "python",
   "nbconvert_exporter": "python",
   "pygments_lexer": "ipython3",
   "version": "3.8.10"
  }
 },
 "nbformat": 4,
 "nbformat_minor": 5
}
