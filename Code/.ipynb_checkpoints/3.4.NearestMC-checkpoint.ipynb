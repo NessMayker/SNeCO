{
 "cells": [
  {
   "cell_type": "markdown",
   "metadata": {},
   "source": [
    "This notebook calculates the distance to the nearest 10^5.5 and 10^ 6.5 Msun molecular cloud from the locations of each of the SNe located within 150pc maps."
   ]
  },
  {
   "cell_type": "code",
   "execution_count": 2,
   "metadata": {},
   "outputs": [],
   "source": [
    "#import packages and initialize settings\n",
    "import time\n",
    "import os\n",
    "import numpy as np\n",
    "import matplotlib.pyplot as plt\n",
    "import astropy.io.fits as pyfits\n",
    "from astropy.io import ascii\n",
    "from astropy.table import Table\n",
    "from progressbar import progressbar\n",
    "from astropy.wcs import WCS\n",
    "from reproject import reproject_interp\n",
    "\n",
    "import sys\n",
    "sys.path.append('/home/mayker.1/Desktop/PythonFunctions')\n",
    "from deprojectGalaxy import deproject"
   ]
  },
  {
   "cell_type": "code",
   "execution_count": 3,
   "metadata": {},
   "outputs": [
    {
     "data": {
      "text/html": [
       "<i>Table length=1</i>\n",
       "<table id=\"table139838034797616\" class=\"table-striped table-bordered table-condensed\">\n",
       "<thead><tr><th>galaxy</th><th>SN_name</th><th>SN_type</th><th>SN_ra</th><th>SN_dec</th><th>SN_xCoord</th><th>SN_yCoord</th><th>SN_co21int</th><th>SN_co21err</th><th>SN_co21ew</th><th>map_beamsize</th><th>orient_ra</th><th>orient_dec</th><th>dist</th><th>orient_posang</th><th>orient_incl</th><th>size_r25</th><th>telOrient</th><th>ImageFile150</th><th>ErrFile150</th><th>AlphaCOFile</th></tr></thead>\n",
       "<thead><tr><th>str8</th><th>str11</th><th>str12</th><th>float64</th><th>float64</th><th>float64</th><th>float64</th><th>float64</th><th>float64</th><th>float64</th><th>float64</th><th>float64</th><th>float64</th><th>float64</th><th>float64</th><th>float64</th><th>float64</th><th>str9</th><th>str112</th><th>str113</th><th>str74</th></tr></thead>\n",
       "<tr><td>circinus</td><td>SN1996cr</td><td>II</td><td>213.2918</td><td>-65.3457</td><td>86.56761411031889</td><td>84.63433198287285</td><td>186.84804</td><td>2.137819</td><td>34.56537</td><td>0.002032163908078</td><td>213.29124</td><td>-65.33915</td><td>4.2</td><td>36.74</td><td>64.3</td><td>262.49515</td><td>7m+tp</td><td>/data/tycho/0/leroy.42/reduction/alma/phangs-alma/derived/circinus/circinus_7m+tp_co21_150pc_broad_mom0.fits</td><td>/data/tycho/0/leroy.42/reduction/alma/phangs-alma/derived/circinus/circinus_7m+tp_co21_150pc_broad_emom0.fits</td><td>/data/kant/0/sun.1608/PHANGS/ALMA/alphaCO/ESO097-013_alphaCO21_Sun+20.fits</td></tr>\n",
       "</table>"
      ],
      "text/plain": [
       "<Table length=1>\n",
       " galaxy  ...\n",
       "  str8   ...\n",
       "-------- ...\n",
       "circinus ..."
      ]
     },
     "execution_count": 3,
     "metadata": {},
     "output_type": "execute_result"
    }
   ],
   "source": [
    "# Unpack master table to get SNe information\n",
    "database = Table.read('../Data/3.SNe+GalData.csv', format = \"csv\")\n",
    "\n",
    "centerCoords = [(database[\"orient_ra\"][i], database[\"orient_dec\"][i]) for i in range(len(database))]    \n",
    "SNe, SNra, SNdec  = database[\"SN_name\"], database[\"SN_ra\"], database[\"SN_dec\"]\n",
    "database[0:1]"
   ]
  },
  {
   "cell_type": "code",
   "execution_count": 4,
   "metadata": {},
   "outputs": [],
   "source": [
    "SNra  = np.array(SNra)\n",
    "SNdec = np.array(SNdec)\n",
    "massCutA = 10**5.5\n",
    "massCutB = 10**6.5\n"
   ]
  },
  {
   "cell_type": "code",
   "execution_count": 5,
   "metadata": {},
   "outputs": [],
   "source": [
    "def angDistToPc(x,galDist):\n",
    "    return(galDist*1000*np.tan(x*np.pi/180))\n",
    "\n",
    "def findNearest(x1,x2,y1,y2):\n",
    "    # Where x1 & y1 are 1d arrays of map coordinates\n",
    "    # x2,y2 are the coords of the SNe\n",
    "    n = len(x1)\n",
    "    m = len(x2)\n",
    "    if n != 0:\n",
    "        x1Vec = np.tile(x1, (m,1)) #constant x along column\n",
    "        y1Vec = np.tile(y1, (m,1)) #constant y along column\n",
    "        x2Vec = np.tile(x2, (n,1)) #constant x along column\n",
    "        y2Vec = np.tile(y2, (n,1)) #constant y along column\n",
    "        x2Vec = np.transpose(x2Vec) #constant x along rows\n",
    "        y2Vec = np.transpose(y2Vec) #constant y along rows\n",
    "\n",
    "        dist = np.sqrt((x1Vec-x2Vec)**2 + (y1Vec-y2Vec)**2)    \n",
    "\n",
    "        mindist = np.nanmin(dist, axis = 1)\n",
    "    else: \n",
    "        mindist = float(\"nan\")\n",
    "    \n",
    "    return(mindist)\n",
    "\n",
    "def deprojectMap(galaxy, image, errimage, alphaCOimg, centerCoord, pa, incl, galDist, SNra, SNdec, SNe):\n",
    "#convert pixel map to x' and y'\n",
    "    \n",
    "    if os.path.isfile(image):\n",
    "\n",
    "        # read in fits files\n",
    "        area = (150.0/2.0)**2*np.pi/np.log(2.0)\n",
    "        hdu_int  = pyfits.open(image)\n",
    "        intMap      = hdu_int[0].data\n",
    "\n",
    "        hdu_err = pyfits.open(errimage)\n",
    "        errMap      = hdu_err[0].data\n",
    "\n",
    "        if(os.path.isfile(alphaCOimg)):\n",
    "            hdu_aco  = pyfits.open(alphaCOimg)\n",
    "\n",
    "            acoMap, footprint = reproject_interp(hdu_aco, hdu_int[0].header) \n",
    "\n",
    "            massMap = intMap * acoMap * area\n",
    "        else: massMap = intMap * 6.7 * area\n",
    "\n",
    "        #Convert x & y pixels to ra and dec\n",
    "        wcs      = WCS(hdu_int[0].header, naxis=2)\n",
    "        naxis    = wcs._naxis # size of image naxis[0] = x and [1] = y\n",
    "        grid     = np.indices((naxis[1],naxis[0]))\n",
    "        ra, dec  = wcs.wcs_pix2world(grid[1],grid[0],0)\n",
    "\n",
    "        #deproject ra and dec to dx and dy\n",
    "        radius, projang, dx, dy = deproject(center_coord=centerCoord, incl=incl, pa=pa, ra=ra, dec=dec,return_offset=True)\n",
    "        plt.imshow(intMap, origin='lower', interpolation='nearest', zorder=1)\n",
    "\n",
    "        #flatten data structures \n",
    "        f_int  = intMap.flatten()\n",
    "        f_err  = errMap.flatten()\n",
    "        f_mass = massMap.flatten()\n",
    "        f_ra   = ra.flatten()\n",
    "        f_dec  = dec.flatten()    \n",
    "        f_dx   = dx.flatten()\n",
    "        f_dy   = dy.flatten()\n",
    "\n",
    "        #remove nans\n",
    "        keep  = np.where(np.isfinite(f_int))\n",
    "        ra    = f_ra[keep]\n",
    "        dec   = f_dec[keep]\n",
    "        inten = f_int[keep]\n",
    "        err   = f_err[keep]\n",
    "        mass  = f_mass[keep]\n",
    "        dx    = f_dx[keep]\n",
    "        dy    = f_dy[keep]\n",
    "\n",
    "        SNR = []\n",
    "        for i in range(len(inten)):\n",
    "            if err[i] == 0.0:\n",
    "                SNR.append(0.0)\n",
    "            elif inten[i] < 0.0:\n",
    "                SNR.append(0.0)           \n",
    "            else:\n",
    "                SNR.append(inten[i]/err[i])       \n",
    "        \n",
    "        mass = mass.tolist()\n",
    "        dx   = dx.tolist()\n",
    "        dy   = dy.tolist()\n",
    "        \n",
    "        print(\"at Mass cutoff A for\", galaxy)\n",
    "        \n",
    "        rmIdxs = [i for i, (a,b) in enumerate(zip(mass,SNR)) if (a < 10**5.5) or (b < 3.0)]\n",
    "        for index in sorted(rmIdxs, reverse=True):\n",
    "            del SNR[index]\n",
    "            del mass[index]\n",
    "            del dx[index]\n",
    "            del dy[index]\n",
    "        \n",
    "        sndxArr, sndyArr = [],[]\n",
    "        for j in range(len(SNe)):\n",
    "            SNradius, SNprojang, SNdx, SNdy = deproject(center_coord=centerCoord, incl=incl, pa=pa, ra=SNra[j], dec=SNdec[j], return_offset=True)           \n",
    "            sndxArr.append(SNdx)\n",
    "            sndyArr.append(SNdy)\n",
    "                    \n",
    "        nearestMCx55 = findNearest(dx, sndxArr, dy, sndyArr)\n",
    "        nearestMC55 = angDistToPc(nearestMCx55,galDist)\n",
    "        \n",
    "        print(\"Nearest 55\", nearestMC55, galaxy)        \n",
    "        \n",
    "        rmIdxs = [i for i, (a) in enumerate(mass) if (a < 10**6.5)]\n",
    "        for index in sorted(rmIdxs, reverse=True):\n",
    "            del mass[index]\n",
    "            del dx[index]\n",
    "            del dy[index]\n",
    "            \n",
    "        nearestMCx65 = findNearest(dx, sndxArr, dy, sndyArr)\n",
    "        nearestMC65 = angDistToPc(nearestMCx65,galDist)                    \n",
    "        \n",
    "        print(\"Nearest 65\", nearestMC65, galaxy)        \n",
    "        \n",
    "        print(\"done with\", galaxy, \" \", SNe)  \n",
    "        return(nearestMC55, nearestMC65)\n",
    "    else:\n",
    "        print(\"No file for \", galaxy)\n",
    "        return(float(\"nan\"), float(\"nan\"))\n",
    "\n"
   ]
  },
  {
   "cell_type": "markdown",
   "metadata": {},
   "source": [
    "[None, array([0.01364605]), array([0.55655997]), array([0.01321117]), array([0.00491407]), array([0.01275901]), array([0.1489542]), array([0.19534568]), array([0.35979567]), array([0.01287783]), array([0.01284268]), array([1.22508167]), array([0.01592836]), array([0.00761477]), array([0.00716833]), array([0.00421925]), None, array([0.07117317]), array([0.00321098]), array([0.0076644]), array([0.58246467]), array([0.01154423]), array([0.00611075]), array([0.00733605]), array([0.01245564]), array([0.01044295]), array([0.0040826]), array([0.00808865]), array([0.01097162]), array([0.02066585]), array([0.08586097]), array([0.03508382]), array([0.02765949]), array([0.0155404]), array([0.03955008]), array([0.02026862]), array([0.2480944]), array([0.10081377]), array([0.0106565]), array([0.00660132]), array([0.06650442]), array([0.01621761]), array([0.03209613]), array([0.38714994]), array([0.00946752]), array([0.29470551]), array([0.10821323]), array([0.37426845]), None, None, array([5800.10100662]), array([0.01400941]), array([0.01271513]), array([0.00453499]), array([0.00497956]), array([0.00238751]), array([0.05432539]), array([0.00023186]), array([0.0098961]), array([0.01070017]), array([0.99123115])]\n",
    "\n",
    "[0.03220571, 0.03057009, 0.31916941, 0.75480179, 0.02805144]"
   ]
  },
  {
   "cell_type": "code",
   "execution_count": 6,
   "metadata": {},
   "outputs": [],
   "source": [
    "gal_group = database.group_by(\"galaxy\")\n",
    "# print(gal_group)"
   ]
  },
  {
   "cell_type": "code",
   "execution_count": 7,
   "metadata": {},
   "outputs": [
    {
     "data": {
      "text/plain": [
       "array([ 0,  1,  2,  3,  5,  6,  7,  9, 12, 13, 14, 18, 20, 21, 22, 23, 25,\n",
       "       26, 31, 35, 42, 48, 49, 50, 52, 53, 55, 56, 58, 63, 64, 65, 66])"
      ]
     },
     "execution_count": 7,
     "metadata": {},
     "output_type": "execute_result"
    }
   ],
   "source": [
    "gal_group.groups.indices"
   ]
  },
  {
   "cell_type": "code",
   "execution_count": 8,
   "metadata": {},
   "outputs": [],
   "source": [
    "#Set up sorted lists to make fewer runs with code above\n",
    "gal, img, ers, aco, ccs, pas, inc, gds, SNr, SNd, SNa = [],[],[],[],[],[],[],[],[],[],[]\n",
    "gala, imgs, errs, alco, cocs, pans, incl, gdis, SNrs, SNdc, SNea = [],[],[],[],[],[],[],[],[],[],[]\n",
    "for i in range(len(database)):\n",
    "    gal.append(database[\"galaxy\"][i]) \n",
    "    img.append(database[\"ImageFile150\"][i])\n",
    "    ers.append(database[\"ErrFile150\"][i])\n",
    "    aco.append(database[\"AlphaCOFile\"][i])\n",
    "    ccs.append(centerCoords[i])\n",
    "    pas.append(database[\"orient_posang\"][i])\n",
    "    inc.append(database[\"orient_incl\"][i])\n",
    "    gds.append(database[\"dist\"][i])\n",
    "    SNr.append(SNra[i])\n",
    "    SNd.append(SNdec[i])\n",
    "    SNa.append(SNe[i])\n",
    "    \n",
    "    if (i+1) in gal_group.groups.indices:\n",
    "        gala.append(gal) \n",
    "        imgs.append(img)\n",
    "        errs.append(ers)\n",
    "        alco.append(aco)\n",
    "        cocs.append(ccs)\n",
    "        pans.append(pas)\n",
    "        incl.append(inc)\n",
    "        gdis.append(gds)\n",
    "        SNrs.append(SNr)\n",
    "        SNdc.append(SNd)\n",
    "        SNea.append(SNa) \n",
    "        gal, img, ers, aco, ccs, pas, inc, gds, SNr, SNd, SNa = [],[],[],[],[],[],[],[],[],[],[]\n",
    "    else:\n",
    "        pass\n",
    "        "
   ]
  },
  {
   "cell_type": "code",
   "execution_count": 9,
   "metadata": {},
   "outputs": [
    {
     "name": "stdout",
     "output_type": "stream",
     "text": [
      "[['SN1996cr'], ['SN1940E'], ['SN2019qyl'], ['SN2019krl', 'SN2013ej'], ['SN2018ivc'], ['SN1995V'], ['SN1999eu', 'SN1992bd'], ['SN2001du', 'SN1983V', 'SN2012fr'], ['SN1985P'], ['SN1935C'], ['SN1984J', 'SN1986L', 'SN2005df', 'SN2009ib'], ['SN2010el', 'ASASSN-14ha'], ['SN1999em'], ['SN2017gax'], ['SN1993Z'], ['SN2003jg', 'SN2008eh'], ['SN2012A'], ['SN2009hd', 'SN1997bs', 'SN1973R', 'SN1989B', 'SN2016cok'], ['SN1972Q', 'SN1967H', 'SN2014L', 'SN1986I'], ['SN2006ov', 'SN2020jfo', 'SN2014dt', 'SN1964F', 'SN1961I', 'SN1999gn', 'SN1926A'], ['SN2006X', 'SN1959E', 'SN2020oi', 'SN1979C', 'SN1901B', 'SN2019ehk'], ['SN2012cg'], ['SN2020nvb'], ['SN1988M', 'SN1960F'], ['SN1981B'], ['SN1988A', 'SN1989M'], ['SN2011ja'], ['SN1986G', 'SN2016adj'], ['SN1957D', 'SN1923A', 'SN1950B', 'SN1983N', 'SN1968L'], ['SN2007it'], ['SN2005at'], ['SN2008bk']]\n"
     ]
    }
   ],
   "source": [
    "#for i in range(len(gal_group.groups.indices)-1):\n",
    "print(SNea)"
   ]
  },
  {
   "cell_type": "code",
   "execution_count": 10,
   "metadata": {
    "scrolled": true
   },
   "outputs": [
    {
     "name": "stdout",
     "output_type": "stream",
     "text": [
      "at Mass cutoff A for circinus\n",
      "Nearest 55 [0.03220571] circinus\n",
      "Nearest 65 [0.03220571] circinus\n",
      "done with circinus   ['SN1996cr']\n",
      "at Mass cutoff A for ngc0253\n",
      "Nearest 55 [0.03057009] ngc0253\n",
      "Nearest 65 [0.03057009] ngc0253\n",
      "done with ngc0253   ['SN1940E']\n",
      "at Mass cutoff A for ngc0300\n",
      "Nearest 55 [0.31916941] ngc0300\n",
      "Nearest 65 nan ngc0300\n",
      "done with ngc0300   ['SN2019qyl']\n",
      "at Mass cutoff A for ngc0628\n",
      "Nearest 55 [0.75480179 0.09787336] ngc0628\n",
      "Nearest 65 [1.38461405 1.90558439] ngc0628\n",
      "done with ngc0628   ['SN2019krl', 'SN2013ej']\n",
      "No file for  ngc1068\n",
      "at Mass cutoff A for ngc1087\n",
      "Nearest 55 [0.01364605] ngc1087\n",
      "Nearest 65 [0.64031667] ngc1087\n",
      "done with ngc1087   ['SN1995V']\n",
      "at Mass cutoff A for ngc1097\n",
      "Nearest 55 [0.55655997 0.01321117] ngc1097\n",
      "Nearest 65 [6.54995977 0.01321117] ngc1097\n",
      "done with ngc1097   ['SN1999eu', 'SN1992bd']\n",
      "at Mass cutoff A for ngc1365\n",
      "Nearest 55 [0.17545338 0.01275901 0.3627857 ] ngc1365\n",
      "Nearest 65 [2.33406823 0.45816414 1.0996273 ] ngc1365\n",
      "done with ngc1365   ['SN2001du', 'SN1983V', 'SN2012fr']\n",
      "at Mass cutoff A for ngc1433\n",
      "Nearest 55 [0.19534568] ngc1433\n",
      "Nearest 65 [4.41164456] ngc1433\n",
      "done with ngc1433   ['SN1985P']\n",
      "at Mass cutoff A for ngc1511\n",
      "Nearest 55 [0.35979567] ngc1511\n",
      "Nearest 65 [1.08437977] ngc1511\n",
      "done with ngc1511   ['SN1935C']\n",
      "at Mass cutoff A for ngc1559\n",
      "Nearest 55 [0.01287783 0.250405   1.22508167 0.01592836] ngc1559\n",
      "Nearest 65 [0.11665648 1.11731879 3.55454634 0.51152872] ngc1559\n",
      "done with ngc1559   ['SN1984J', 'SN1986L', 'SN2005df', 'SN2009ib']\n",
      "at Mass cutoff A for ngc1566\n",
      "Nearest 55 [0.00761477 0.00716833] ngc1566\n",
      "Nearest 65 [0.03594087 0.00716833] ngc1566\n",
      "done with ngc1566   ['SN2010el', 'ASASSN-14ha']\n",
      "at Mass cutoff A for ngc1637\n",
      "Nearest 55 [0.00421925] ngc1637\n",
      "Nearest 65 [0.95979274] ngc1637\n",
      "done with ngc1637   ['SN1999em']\n",
      "No file for  ngc1672\n",
      "at Mass cutoff A for ngc2775\n",
      "Nearest 55 [0.18460691] ngc2775\n",
      "Nearest 65 nan ngc2775\n",
      "done with ngc2775   ['SN1993Z']\n",
      "at Mass cutoff A for ngc2997\n",
      "Nearest 55 [0.00321098 0.0076644 ] ngc2997\n",
      "Nearest 65 [0.00321098 0.07017227] ngc2997\n",
      "done with ngc2997   ['SN2003jg', 'SN2008eh']\n",
      "at Mass cutoff A for ngc3239\n",
      "Nearest 55 [0.81649887] ngc3239\n",
      "Nearest 65 nan ngc3239\n",
      "done with ngc3239   ['SN2012A']\n",
      "at Mass cutoff A for ngc3627\n",
      "Nearest 55 [0.01154423 0.00611075 0.00733605 0.01245564 0.01044295] ngc3627\n",
      "Nearest 65 [0.01154423 0.21746589 0.12007247 0.01245564 0.52804187] ngc3627\n",
      "done with ngc3627   ['SN2009hd', 'SN1997bs', 'SN1973R', 'SN1989B', 'SN2016cok']\n",
      "at Mass cutoff A for ngc4254\n",
      "Nearest 55 [0.0040826  0.00808865 0.01097162 0.02066585] ngc4254\n",
      "Nearest 65 [0.87389887 0.2057637  0.01097162 0.09032157] ngc4254\n",
      "done with ngc4254   ['SN1972Q', 'SN1967H', 'SN2014L', 'SN1986I']\n",
      "at Mass cutoff A for ngc4303\n",
      "Nearest 55 [0.10946816 0.06258017 0.05928866 0.01926747 0.2711221  0.02026862\n",
      " 0.34278674] ngc4303\n",
      "Nearest 65 [0.21102594 0.43839402 0.24083996 1.53421436 0.79675325 0.11709577\n",
      " 1.37406907] ngc4303\n",
      "done with ngc4303   ['SN2006ov', 'SN2020jfo', 'SN2014dt', 'SN1964F', 'SN1961I', 'SN1999gn', 'SN1926A']\n",
      "at Mass cutoff A for ngc4321\n",
      "Nearest 55 [0.12665805 0.0106565  0.00660132 0.09696834 0.01621761 0.08157655] ngc4321\n",
      "Nearest 65 [0.35970454 0.02815114 0.00660132 1.08899143 0.37523614 1.06406242] ngc4321\n",
      "done with ngc4321   ['SN2006X', 'SN1959E', 'SN2020oi', 'SN1979C', 'SN1901B', 'SN2019ehk']\n",
      "at Mass cutoff A for ngc4424\n",
      "Nearest 55 [0.41066955] ngc4424\n",
      "Nearest 65 [0.57546565] ngc4424\n",
      "done with ngc4424   ['SN2012cg']\n",
      "at Mass cutoff A for ngc4457\n",
      "Nearest 55 [0.00946752] ngc4457\n",
      "Nearest 65 [0.09702469] ngc4457\n",
      "done with ngc4457   ['SN2020nvb']\n",
      "at Mass cutoff A for ngc4496a\n",
      "Nearest 55 [0.29470551 0.10821323] ngc4496a\n",
      "Nearest 65 nan ngc4496a\n",
      "done with ngc4496a   ['SN1988M', 'SN1960F']\n",
      "at Mass cutoff A for ngc4536\n",
      "Nearest 55 [0.37426845] ngc4536\n",
      "Nearest 65 [8.75535418] ngc4536\n",
      "done with ngc4536   ['SN1981B']\n",
      "No file for  ngc4579\n",
      "at Mass cutoff A for ngc4945\n",
      "Nearest 55 [5800.10100662] ngc4945\n",
      "Nearest 65 [-4404.1434576] ngc4945\n",
      "done with ngc4945   ['SN2011ja']\n",
      "at Mass cutoff A for ngc5128\n",
      "Nearest 55 [0.01400941 0.01271513] ngc5128\n",
      "Nearest 65 [0.1109446  0.01271513] ngc5128\n",
      "done with ngc5128   ['SN1986G', 'SN2016adj']\n",
      "at Mass cutoff A for ngc5236\n",
      "Nearest 55 [0.00453499 0.00497956 0.00238751 0.05432539 0.00023186] ngc5236\n",
      "Nearest 65 [4.53499390e-03 7.01276289e-01 2.38751306e-03 1.10859798e+00\n",
      " 2.31861748e-04] ngc5236\n",
      "done with ngc5236   ['SN1957D', 'SN1923A', 'SN1950B', 'SN1983N', 'SN1968L']\n",
      "at Mass cutoff A for ngc5530\n",
      "Nearest 55 [0.0098961] ngc5530\n",
      "Nearest 65 [1.36962551] ngc5530\n",
      "done with ngc5530   ['SN2007it']\n",
      "at Mass cutoff A for ngc6744\n",
      "Nearest 55 [0.01070017] ngc6744\n",
      "Nearest 65 [10.47224615] ngc6744\n",
      "done with ngc6744   ['SN2005at']\n",
      "at Mass cutoff A for ngc7793\n",
      "Nearest 55 [0.99123115] ngc7793\n",
      "Nearest 65 nan ngc7793\n",
      "done with ngc7793   ['SN2008bk']\n"
     ]
    },
    {
     "data": {
      "image/png": "[encoded data removed]",
      "text/plain": [
       "<Figure size 432x288 with 1 Axes>"
      ]
     },
     "metadata": {
      "needs_background": "light"
     },
     "output_type": "display_data"
    }
   ],
   "source": [
    "\n",
    "nearest55, nearest65 = [],[]\n",
    "for i in range(len(gala)):\n",
    "    near55, near65 = deprojectMap(gala[i][0], imgs[i][0], errs[i][0], alco[i][0], cocs[i][0], pans[i][0], incl[i][0], gdis[i][0], SNrs[i], SNdc[i], SNea[i])\n",
    "    nearest55.append(near55)\n",
    "    nearest65.append(near65)"
   ]
  },
  {
   "cell_type": "code",
   "execution_count": 11,
   "metadata": {
    "scrolled": true
   },
   "outputs": [
    {
     "name": "stdout",
     "output_type": "stream",
     "text": [
      "64\n"
     ]
    }
   ],
   "source": [
    "nearest55Array = [0.03220571, 0.03057009, 0.31916941, 0.75480179, 0.09787336, 'nan', 0.55655997, 0.01321117, \n",
    "                  0.17545338, \n",
    " 0.01275901, 0.3627857, 0.19534568, 0.35979567, 0.01287783, 0.250405, 1.22508167, 0.01592836, 0.00761477, \n",
    " 0.00716833, 0.00421925, \"nan\", 0.18460691, 0.00321098, 0.0076644, 0.81649887, 0.01154423, 0.00611075, \n",
    " 0.00733605, 0.01245564, 0.01044295, 0.0040826 , 0.00808865, 0.01097162, 0.02066585, 0.10946816, 0.06258017, \n",
    " 0.05928866, 0.01926747, 0.2711221, 0.02026862, 0.34278674, 0.12665805, 0.0106565 , 0.00660132, 0.09696834, \n",
    " 0.01621761, 0.08157655, 0.41066955, 0.00946752, 0.29470551, 0.10821323, 0.37426845, \"nan\", 5800.10100662, \n",
    " 0.01400941, 0.01271513, 0.00453499, 0.00497956, 0.00238751, 0.05432539, 0.00023186, 0.0098961, 0.01070017, \n",
    "                  0.99123115]\n",
    "print(len(nearest55Array))"
   ]
  },
  {
   "cell_type": "code",
   "execution_count": 21,
   "metadata": {},
   "outputs": [
    {
     "name": "stdout",
     "output_type": "stream",
     "text": [
      "[0.03220571074533962, 0.03057009156537961, 0.31916941389924186, 0.7548017888319929, 0.09787335683310962, nan, 0.013646047502189571, 0.5565599733157864, 0.013211165591673027, 0.1754533798560515, 0.012759013584611812, 0.36278570368097374, 0.19534567604068137, 0.35979566719711, 0.012877828305613197, 0.25040500480337446, 1.2250816695880822, 0.01592835670677876, 0.007614765089822284, 0.007168330791430103, 0.004219252731837075, nan, 0.1846069112016708, 0.003210982238446186, 0.007664398908642832, 0.8164988728454339, 0.011544233889814256, 0.006110750871314156, 0.007336047333005576, 0.012455637161524646, 0.010442954646936868, 0.004082603353940458, 0.008088649613442416, 0.010971624901057561, 0.020665852834243447, 0.10946815538240745, 0.06258017443150858, 0.05928866404829043, 0.019267465489400375, 0.2711220951817008, 0.020268616500006675, 0.3427867435920636, 0.12665804626520982, 0.01065649565432733, 0.006601320975171955, 0.09696833984548939, 0.016217608974124317, 0.0815765457719991, 0.41066954858178306, 0.009467521539560363, 0.2947055075548076, 0.1082132339328936, 0.3742684537021926, nan, 5800.101006617638, 0.014009407348392162, 0.012715134597078114, 0.004534993900911394, 0.00497955838549907, 0.002387513060892807, 0.054325387077456724, 0.00023186174840574992, 0.00989609605449723, 0.010700171202121602, 0.9912311519693374]\n",
      "[0.03220571074533962, 0.03057009156537961, nan, 1.3846140460480563, 1.905584387738541, nan, 0.6403166744441255, 6.54995976974598, 0.013211165591673027, 2.334068232562677, 0.45816414488350593, 1.0996273043580715, 4.411644558910841, 1.0843797730063711, 0.11665647594219354, 1.1173187896395431, 3.554546343488202, 0.5115287225841316, 0.03594087356802813, 0.007168330791430103, 0.9597927376487922, nan, nan, 0.003210982238446186, 0.07017226738951436, nan, 0.011544233889814256, 0.21746589383613807, 0.12007247155352718, 0.012455637161524646, 0.5280418741973071, 0.8738988670893203, 0.2057636952278847, 0.010971624901057561, 0.09032157257879365, 0.2110259372270622, 0.4383940231835825, 0.24083996113327605, 1.53421436355777, 0.7967532484440808, 0.11709576862267128, 1.3740690652957785, 0.3597045382219446, 0.02815113692543749, 0.006601320975171955, 1.0889914322166658, 0.3752361429425682, 1.064062416921636, 0.5754656488040157, 0.09702469083668529, nan, 8.755354183994626, nan, -4404.1434576020565, 0.11094459532315315, 0.012715134597078114, 0.004534993900911394, 0.7012762889030039, 0.002387513060892807, 1.1085979762056477, 0.00023186174840574992, 1.3696255052591002, 10.47224615370096, nan]\n"
     ]
    }
   ],
   "source": [
    "n55A = []\n",
    "for i in range(len(nearest55)):\n",
    "    if(type(nearest55[i])!= float):\n",
    "        for j in range(len(nearest55[i])):\n",
    "            n55A.append(nearest55[i][j])\n",
    "    else:\n",
    "        n55A.append(nearest55[i])\n",
    "print(n55A)\n",
    "\n",
    "n65A = []\n",
    "for i in range(len(nearest65)):\n",
    "    if(type(nearest65[i])!= np.float64 and type(nearest65[i]) != float):\n",
    "        for j in range(len(nearest65[i])):\n",
    "            n65A.append(nearest65[i][j])\n",
    "    else:\n",
    "        n65A.append(nearest65[i])\n",
    "print(n65A)"
   ]
  },
  {
   "cell_type": "code",
   "execution_count": 24,
   "metadata": {},
   "outputs": [],
   "source": [
    "with open(\"../Data/NearestMCtoSNe.txt\", \"w\") as textFile:\n",
    "    print(\"# Nearest55MassArrayDistances, Nearest65MassArrayDistances (in pc)\", file=textFile)\n",
    "    print(n55A, n65A, file=textFile)"
   ]
  },
  {
   "cell_type": "code",
   "execution_count": 22,
   "metadata": {},
   "outputs": [
    {
     "name": "stdout",
     "output_type": "stream",
     "text": [
      " dist\n",
      "-----\n",
      "  4.2\n",
      "  3.7\n",
      " 2.09\n",
      " 9.84\n",
      " 9.84\n",
      "13.97\n",
      "15.85\n",
      "13.58\n",
      "13.58\n",
      "19.57\n",
      "  ...\n",
      " 3.47\n",
      " 3.69\n",
      " 3.69\n",
      " 4.89\n",
      " 4.89\n",
      " 4.89\n",
      " 4.89\n",
      " 4.89\n",
      "12.27\n",
      " 9.39\n",
      " 3.62\n",
      "Length = 66 rows\n"
     ]
    }
   ],
   "source": [
    "print(database[\"dist\"])"
   ]
  },
  {
   "cell_type": "code",
   "execution_count": null,
   "metadata": {},
   "outputs": [],
   "source": []
  }
 ],
 "metadata": {
  "kernelspec": {
   "display_name": "Python 3",
   "language": "python",
   "name": "python3"
  },
  "language_info": {
   "codemirror_mode": {
    "name": "ipython",
    "version": 3
   },
   "file_extension": ".py",
   "mimetype": "text/x-python",
   "name": "python",
   "nbconvert_exporter": "python",
   "pygments_lexer": "ipython3",
   "version": "3.8.8"
  }
 },
 "nbformat": 4,
 "nbformat_minor": 2
}
