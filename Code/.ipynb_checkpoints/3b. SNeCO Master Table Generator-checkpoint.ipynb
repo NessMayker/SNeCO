{
 "cells": [
  {
   "cell_type": "markdown",
   "id": "premier-promise",
   "metadata": {},
   "source": [
    "This notebook takes all of the preliminary SNeCO data and organizes it, preparing it for when we begin making intensity measurements in section 3.\n",
    "\n",
    "To run this notebook we need '2.SNeCOMasterCatManualClean.txt' (see prepwork below). Once this prepwork is done, it is not needed to repeat unless we update the sample / redownload the OSC.\n",
    "\n",
    "We also need \"0.PHANGS_v1p6.csv\" to pull other galaxy information from the survey.\n",
    "\n",
    "      *PREPWORK* \n",
    "    After looking at the galaxy images from #2. We find we need to remove one SN that isnt within the region covered by the PHANGS-ALMA footprint. We remove this (SN2003gd from NGC0628) and also the 6 candidate SNe, the one duplicate entry, and the LRN, and begin to perform some rudimentary stats in small tables.\n",
    "\n",
    "    Before we run this code we do the following prep:\n",
    "\n",
    "    We take the 2.SNeCOMasterCat.txt file and manually remove the following SNe:\n",
    "\n",
    "    AT2020nqq (LRN) \n",
    "    AT2019pck (Candidate) \n",
    "    AT2019npi (Candidate) \n",
    "    AT2019npd (Candidate) \n",
    "    AT2020cuh (Candidate) \n",
    "    AT2020hol (Candidate) \n",
    "    AT2020juh (Candidate) \n",
    "    PTSS-19clju (Duplicate) \n",
    "    SN2003gd (Out of Map)\n",
    "\n",
    "    *also shortened type IIn, IIb to II and type Ia-91bg to Ia, etc.\n",
    "\n",
    "    Then we save this as 2.SNeCOMasterCatManualClean.txt\n",
    "    \n",
    "    *MORE PREPWORK* Changed 'name' column to 'galaxy' & 'eso097-013' to 'circinus' in 0.PHANGS_v1p6.csv file\n",
    "    "
   ]
  },
  {
   "cell_type": "code",
   "execution_count": 144,
   "id": "wicked-oriental",
   "metadata": {},
   "outputs": [],
   "source": [
    "# IMPORT PACKAGES\n",
    "\n",
    "import numpy as np\n",
    "from matplotlib import pyplot as plt\n",
    "import astropy.io.fits as pyfits\n",
    "from astropy.table import Table, join\n",
    "from astropy.wcs import WCS\n",
    "from astropy.io import ascii\n",
    "import astropy\n",
    "from astropy.io import fits"
   ]
  },
  {
   "cell_type": "code",
   "execution_count": 145,
   "id": "adapted-blogger",
   "metadata": {},
   "outputs": [],
   "source": [
    "# DEFINE METHODS\n",
    "\n",
    "def printTable(tableName, decimal):\n",
    "    \"\"\"\n",
    "    Prints data table with floats displayed with specified decimal places.\n",
    "\n",
    "    Parameters\n",
    "    ----------\n",
    "    tableName : string \n",
    "        name of data table\n",
    "    decimal   : int    \n",
    "        number of decimals to display in table\n",
    "        \n",
    "    \"\"\"\n",
    "    \n",
    "    for col in tableName.itercols():\n",
    "        if col.info.dtype.kind == 'f':        \n",
    "            col.info.format = '.' + str(decimal) + 'f'\n",
    "    \n",
    "    return(tableName)    \n"
   ]
  },
  {
   "cell_type": "code",
   "execution_count": 146,
   "id": "matched-explosion",
   "metadata": {},
   "outputs": [
    {
     "data": {
      "text/html": [
       "<i>Table length=58</i>\n",
       "<table id=\"table140642529718960\" class=\"table-striped table-bordered table-condensed\">\n",
       "<thead><tr><th>galaxy</th><th>SN_name</th><th>SN_type</th><th>SN_ra</th><th>SN_dec</th><th>SN_xCoord</th><th>SN_yCoord</th><th>SN_co21int</th><th>SN_co21err</th><th>SN_co21ew</th><th>map_beamsize</th></tr></thead>\n",
       "<thead><tr><th>str8</th><th>str11</th><th>str12</th><th>float64</th><th>float64</th><th>float64</th><th>float64</th><th>float64</th><th>float64</th><th>float64</th><th>float64</th></tr></thead>\n",
       "<tr><td>circinus</td><td>SN1996cr</td><td>II</td><td>213.29</td><td>-65.35</td><td>86.57</td><td>84.63</td><td>186.85</td><td>2.14</td><td>34.57</td><td>0.00</td></tr>\n",
       "<tr><td>ngc0253</td><td>SN1940E</td><td>I</td><td>11.88</td><td>-25.29</td><td>296.90</td><td>236.27</td><td>218.99</td><td>1.44</td><td>45.86</td><td>0.00</td></tr>\n",
       "<tr><td>ngc0300</td><td>SN2019qyl</td><td>II</td><td>13.74</td><td>-37.64</td><td>124.98</td><td>202.45</td><td>-0.53</td><td>0.45</td><td>nan</td><td>0.00</td></tr>\n",
       "<tr><td>ngc0628</td><td>SN2013ej</td><td>II</td><td>24.20</td><td>15.76</td><td>333.46</td><td>356.78</td><td>0.97</td><td>1.41</td><td>nan</td><td>0.00</td></tr>\n",
       "<tr><td>ngc0628</td><td>SN2019krl</td><td>II</td><td>24.21</td><td>15.78</td><td>227.49</td><td>732.14</td><td>1.40</td><td>1.02</td><td>nan</td><td>0.00</td></tr>\n",
       "<tr><td>ngc1087</td><td>SN1995V</td><td>II</td><td>41.61</td><td>-0.50</td><td>161.42</td><td>287.65</td><td>11.79</td><td>1.04</td><td>5.18</td><td>0.00</td></tr>\n",
       "<tr><td>ngc1097</td><td>SN1999eu</td><td>II</td><td>41.59</td><td>-30.32</td><td>245.25</td><td>7.22</td><td>0.00</td><td>0.75</td><td>nan</td><td>0.00</td></tr>\n",
       "<tr><td>ngc1097</td><td>SN1992bd</td><td>II</td><td>41.58</td><td>-30.28</td><td>291.51</td><td>315.43</td><td>296.06</td><td>2.02</td><td>45.83</td><td>0.00</td></tr>\n",
       "<tr><td>ngc1365</td><td>SN2012fr</td><td>Ia</td><td>53.40</td><td>-36.13</td><td>390.29</td><td>389.85</td><td>-2.32</td><td>1.12</td><td>nan</td><td>0.00</td></tr>\n",
       "<tr><td>ngc1365</td><td>SN2001du</td><td>II</td><td>53.37</td><td>-36.14</td><td>673.90</td><td>205.70</td><td>3.07</td><td>1.34</td><td>nan</td><td>0.00</td></tr>\n",
       "<tr><td>...</td><td>...</td><td>...</td><td>...</td><td>...</td><td>...</td><td>...</td><td>...</td><td>...</td><td>...</td><td>...</td></tr>\n",
       "<tr><td>ngc4457</td><td>SN2020nvb</td><td>Ia</td><td>187.24</td><td>3.57</td><td>183.98</td><td>193.58</td><td>14.79</td><td>2.21</td><td>6.35</td><td>0.00</td></tr>\n",
       "<tr><td>ngc4496a</td><td>SN1960F</td><td>Ia</td><td>187.93</td><td>3.95</td><td>66.42</td><td>353.75</td><td>0.03</td><td>0.83</td><td>nan</td><td>0.00</td></tr>\n",
       "<tr><td>ngc4496a</td><td>SN1988M</td><td>II</td><td>187.92</td><td>3.92</td><td>121.83</td><td>67.86</td><td>0.00</td><td>0.52</td><td>nan</td><td>0.00</td></tr>\n",
       "<tr><td>ngc4536</td><td>SN1981B</td><td>Ia</td><td>188.62</td><td>2.20</td><td>356.97</td><td>540.05</td><td>0.04</td><td>0.34</td><td>nan</td><td>0.00</td></tr>\n",
       "<tr><td>ngc4579</td><td>SN1988A</td><td>II</td><td>189.43</td><td>11.81</td><td>233.14</td><td>131.83</td><td>0.74</td><td>0.55</td><td>nan</td><td>0.00</td></tr>\n",
       "<tr><td>ngc4579</td><td>SN1989M</td><td>Ia</td><td>189.42</td><td>11.82</td><td>316.77</td><td>263.74</td><td>7.69</td><td>0.58</td><td>4.37</td><td>0.00</td></tr>\n",
       "<tr><td>ngc5128</td><td>SN1986G</td><td>Ia</td><td>201.40</td><td>-43.03</td><td>158.37</td><td>116.91</td><td>9.32</td><td>0.94</td><td>8.59</td><td>0.00</td></tr>\n",
       "<tr><td>ngc5128</td><td>SN2016adj</td><td>II</td><td>201.35</td><td>-43.02</td><td>226.24</td><td>145.08</td><td>67.16</td><td>1.36</td><td>35.13</td><td>0.00</td></tr>\n",
       "<tr><td>ngc5530</td><td>SN2007it</td><td>II</td><td>214.61</td><td>-43.38</td><td>390.26</td><td>373.08</td><td>3.08</td><td>1.39</td><td>1.78</td><td>0.00</td></tr>\n",
       "<tr><td>ngc6744</td><td>SN2005at</td><td>Ic</td><td>287.47</td><td>-63.82</td><td>228.62</td><td>1000.61</td><td>4.84</td><td>1.50</td><td>3.26</td><td>0.00</td></tr>\n",
       "</table>"
      ],
      "text/plain": [
       "<Table length=58>\n",
       " galaxy   SN_name  SN_type  SN_ra  ... SN_co21err SN_co21ew map_beamsize\n",
       "  str8     str11    str12  float64 ...  float64    float64    float64   \n",
       "-------- --------- ------- ------- ... ---------- --------- ------------\n",
       "circinus  SN1996cr      II  213.29 ...       2.14     34.57         0.00\n",
       " ngc0253   SN1940E       I   11.88 ...       1.44     45.86         0.00\n",
       " ngc0300 SN2019qyl      II   13.74 ...       0.45       nan         0.00\n",
       " ngc0628  SN2013ej      II   24.20 ...       1.41       nan         0.00\n",
       " ngc0628 SN2019krl      II   24.21 ...       1.02       nan         0.00\n",
       " ngc1087   SN1995V      II   41.61 ...       1.04      5.18         0.00\n",
       " ngc1097  SN1999eu      II   41.59 ...       0.75       nan         0.00\n",
       " ngc1097  SN1992bd      II   41.58 ...       2.02     45.83         0.00\n",
       " ngc1365  SN2012fr      Ia   53.40 ...       1.12       nan         0.00\n",
       " ngc1365  SN2001du      II   53.37 ...       1.34       nan         0.00\n",
       "     ...       ...     ...     ... ...        ...       ...          ...\n",
       " ngc4457 SN2020nvb      Ia  187.24 ...       2.21      6.35         0.00\n",
       "ngc4496a   SN1960F      Ia  187.93 ...       0.83       nan         0.00\n",
       "ngc4496a   SN1988M      II  187.92 ...       0.52       nan         0.00\n",
       " ngc4536   SN1981B      Ia  188.62 ...       0.34       nan         0.00\n",
       " ngc4579   SN1988A      II  189.43 ...       0.55       nan         0.00\n",
       " ngc4579   SN1989M      Ia  189.42 ...       0.58      4.37         0.00\n",
       " ngc5128   SN1986G      Ia  201.40 ...       0.94      8.59         0.00\n",
       " ngc5128 SN2016adj      II  201.35 ...       1.36     35.13         0.00\n",
       " ngc5530  SN2007it      II  214.61 ...       1.39      1.78         0.00\n",
       " ngc6744  SN2005at      Ic  287.47 ...       1.50      3.26         0.00"
      ]
     },
     "execution_count": 146,
     "metadata": {},
     "output_type": "execute_result"
    }
   ],
   "source": [
    "# Turn file into dataStructure and clean\n",
    "\n",
    "dataFile = '../Data/2.SNeCOMasterCatManualClean.txt'\n",
    "galaxy, SNname, SNtype = np.genfromtxt(dataFile,  dtype=str, unpack=True, delimiter = ',', usecols=(0,1,6))\n",
    "ra, dec, xVal, yVal, co_21_int, co_21_err, co_21_ew, beamsize  = np.genfromtxt(dataFile,  dtype=float, unpack=True, delimiter = ',', usecols=(2,3,4,5,7,8,9,10))\n",
    "\n",
    "# remove spaces and \" \" from SN data\n",
    "galaxy = [x.strip() for x in galaxy]\n",
    "SNname = [x[2:-2] for x in SNname]\n",
    "SNtype = [x.strip() for x in SNtype]\n",
    "\n",
    "# build table \n",
    "data = Table({'galaxy'       : galaxy,\n",
    "              'SN_name'      : SNname,\n",
    "              'SN_type'      : SNtype,\n",
    "              'SN_ra'        : ra,\n",
    "              'SN_dec'       : dec,\n",
    "              'SN_xCoord'    : xVal,\n",
    "              'SN_yCoord'    : yVal,\n",
    "              'SN_co21int'   : co_21_int,\n",
    "              'SN_co21err'   : co_21_err,\n",
    "              'SN_co21ew'    : co_21_ew,\n",
    "              'map_beamsize' : beamsize,\n",
    "             },\n",
    "             names=['galaxy', 'SN_name','SN_type','SN_ra','SN_dec','SN_xCoord', 'SN_yCoord', 'SN_co21int', 'SN_co21err', \"SN_co21ew\", 'map_beamsize'])\n",
    "\n",
    "printTable(data, 2)"
   ]
  },
  {
   "cell_type": "code",
   "execution_count": 147,
   "id": "alpine-calcium",
   "metadata": {},
   "outputs": [],
   "source": [
    "# Pull Galaxy data from PHANGS survey\n",
    "\n",
    "PHANGS_data = '../Data/0.PHANGS_v1p6.csv'\n",
    "PHANGSTable = Table.read(PHANGS_data, format='csv')  \n",
    "\n",
    "PHANGS_clean = PHANGSTable['galaxy', 'orient_ra', 'orient_dec', 'dist', 'orient_posang', 'orient_incl', 'size_r25']"
   ]
  },
  {
   "cell_type": "code",
   "execution_count": 153,
   "id": "geological-album",
   "metadata": {},
   "outputs": [
    {
     "data": {
      "text/plain": [
       "['galaxy',\n",
       " 'SN_name',\n",
       " 'SN_type',\n",
       " 'SN_ra',\n",
       " 'SN_dec',\n",
       " 'SN_xCoord',\n",
       " 'SN_yCoord',\n",
       " 'SN_co21int',\n",
       " 'SN_co21err',\n",
       " 'SN_co21ew',\n",
       " 'map_beamsize',\n",
       " 'orient_ra',\n",
       " 'orient_dec',\n",
       " 'dist',\n",
       " 'orient_posang',\n",
       " 'orient_incl',\n",
       " 'size_r25']"
      ]
     },
     "execution_count": 153,
     "metadata": {},
     "output_type": "execute_result"
    }
   ],
   "source": [
    "SN_plus_gal_data = join(data, PHANGS_clean, keys='galaxy')\n",
    "\n",
    "# SN_plus_gal_data.colnames"
   ]
  },
  {
   "cell_type": "code",
   "execution_count": 154,
   "id": "moving-knowing",
   "metadata": {},
   "outputs": [],
   "source": [
    "ascii.write(SN_plus_gal_data, '../Data/3.SNe+GalData.csv', format='csv', fast_writer=False)  "
   ]
  }
 ],
 "metadata": {
  "kernelspec": {
   "display_name": "Python 3",
   "language": "python",
   "name": "python3"
  },
  "language_info": {
   "codemirror_mode": {
    "name": "ipython",
    "version": 3
   },
   "file_extension": ".py",
   "mimetype": "text/x-python",
   "name": "python",
   "nbconvert_exporter": "python",
   "pygments_lexer": "ipython3",
   "version": "3.6.8"
  }
 },
 "nbformat": 4,
 "nbformat_minor": 5
}
