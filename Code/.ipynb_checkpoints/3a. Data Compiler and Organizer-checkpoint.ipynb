{
 "cells": [
  {
   "cell_type": "markdown",
   "id": "limiting-mustang",
   "metadata": {},
   "source": [
    "This notebook takes all of the preliminary SNeCO data and organizes it, preparing it for when we begin making intensity measurements in section 3.\n",
    "\n",
    "To run this notebook we need '2.SNeCOMasterCatManualClean.txt' (see prepwork below). Once this prepwork is done, it is not needed to repeat unless we update the sample / redownload the OSC.\n",
    "\n",
    "We also need \"0.PHANGS_v1p6.csv\" to pull other galaxy information from the survey.\n",
    "\n",
    "      *PREPWORK* \n",
    "    After looking at the galaxy images from #2. We find we need to remove one SN that isnt within the region covered by the PHANGS-ALMA footprint. We remove this (SN2003gd from NGC0628) and also the 6 candidate SNe, the one duplicate entry, and the LRN, and begin to perform some rudimentary stats in small tables.\n",
    "\n",
    "    Before we run this code we do the following prep:\n",
    "\n",
    "    We take the 2.SNeCOMasterCat.txt file and manually remove the following SNe:\n",
    "\n",
    "    AT2020nqq (LRN) \n",
    "    AT2019pck (Candidate) \n",
    "    AT2019npi (Candidate) \n",
    "    AT2019npd (Candidate) \n",
    "    AT2020cuh (Candidate) \n",
    "    AT2020hol (Candidate) \n",
    "    AT2020juh (Candidate) \n",
    "    PTSS-19clju (Duplicate) \n",
    "    SN2003gd (Out of Map)\n",
    "\n",
    "    *also shortened type IIn, IIb to II and type Ia-91bg to Ia, etc.\n",
    "\n",
    "    Then we save this as 2.SNeCOMasterCatManualClean.txt\n",
    "    \n",
    "    *MORE PREPWORK* Changed 'name' column to 'galaxy' & 'eso097-013' to 'circinus' in 0.PHANGS_v1p6.csv file\n",
    "    "
   ]
  },
  {
   "cell_type": "code",
   "execution_count": 1,
   "id": "expanded-giant",
   "metadata": {},
   "outputs": [],
   "source": [
    "# IMPORT PACKAGES\n",
    "\n",
    "import numpy as np\n",
    "from matplotlib import pyplot as plt\n",
    "import astropy.io.fits as pyfits\n",
    "from astropy.table import Table, join\n",
    "from astropy.wcs import WCS\n",
    "from astropy.io import ascii\n",
    "import astropy\n",
    "from astropy.io import fits"
   ]
  },
  {
   "cell_type": "code",
   "execution_count": 2,
   "id": "aging-angola",
   "metadata": {},
   "outputs": [],
   "source": [
    "# Turn file into dataStructure and clean\n",
    "\n",
    "dataFile = '../Data/2.SNeCOMasterCatManualClean.txt'\n",
    "galaxy, SNname, SNtype = np.genfromtxt(dataFile,  dtype=str, unpack=True, delimiter = ',', usecols=(0,1,6))\n",
    "ra, dec, xVal, yVal, co_21_int, co_21_err, co_21_ew, beamsize  = np.genfromtxt(dataFile,  dtype=float, unpack=True, delimiter = ',', usecols=(2,3,4,5,7,8,9,10))\n",
    "\n",
    "# remove spaces and \" \" from SN data\n",
    "galaxy = [x.strip() for x in galaxy]\n",
    "SNname = [x[2:-2] for x in SNname]\n",
    "SNtype = [x.strip() for x in SNtype]\n",
    "\n",
    "# build table \n",
    "data = Table({'galaxy'       : galaxy,\n",
    "              'SN_name'      : SNname,\n",
    "              'SN_type'      : SNtype,\n",
    "              'SN_ra'        : ra,\n",
    "              'SN_dec'       : dec,\n",
    "              'SN_xCoord'    : xVal,\n",
    "              'SN_yCoord'    : yVal,\n",
    "              'SN_co21int'   : co_21_int,\n",
    "              'SN_co21err'   : co_21_err,\n",
    "              'SN_co21ew'    : co_21_ew,\n",
    "              'map_beamsize' : beamsize,\n",
    "             },\n",
    "             names=['galaxy', 'SN_name','SN_type','SN_ra','SN_dec','SN_xCoord', 'SN_yCoord', 'SN_co21int', 'SN_co21err', \"SN_co21ew\", 'map_beamsize'])\n"
   ]
  },
  {
   "cell_type": "code",
   "execution_count": 3,
   "id": "fundamental-laundry",
   "metadata": {},
   "outputs": [],
   "source": [
    "# Pull Galaxy data from PHANGS survey\n",
    "\n",
    "PHANGS_data = '../Data/0.PHANGS_v1p6.csv'\n",
    "PHANGSTable = Table.read(PHANGS_data, format='csv')  \n",
    "\n",
    "PHANGS_clean = PHANGSTable['galaxy', 'orient_ra', 'orient_dec', 'dist', 'orient_posang', 'orient_incl', 'size_r25']"
   ]
  },
  {
   "cell_type": "code",
   "execution_count": 4,
   "id": "external-architect",
   "metadata": {},
   "outputs": [],
   "source": [
    "SN_plus_gal_data = join(data, PHANGS_clean, keys='galaxy')\n",
    "\n",
    "# SN_plus_gal_data.colnames"
   ]
  },
  {
   "cell_type": "code",
   "execution_count": 5,
   "id": "computational-candy",
   "metadata": {},
   "outputs": [
    {
     "name": "stderr",
     "output_type": "stream",
     "text": [
      "WARNING: AstropyDeprecationWarning: ../Data/3.SNe+GalData.csv already exists. Automatically overwriting ASCII files is deprecated. Use the argument 'overwrite=True' in the future. [astropy.io.ascii.ui]\n"
     ]
    }
   ],
   "source": [
    "ascii.write(SN_plus_gal_data, '../Data/3.SNe+GalData.csv', format='csv', fast_writer=False)  "
   ]
  }
 ],
 "metadata": {
  "kernelspec": {
   "display_name": "Python 3",
   "language": "python",
   "name": "python3"
  },
  "language_info": {
   "codemirror_mode": {
    "name": "ipython",
    "version": 3
   },
   "file_extension": ".py",
   "mimetype": "text/x-python",
   "name": "python",
   "nbconvert_exporter": "python",
   "pygments_lexer": "ipython3",
   "version": "3.6.8"
  }
 },
 "nbformat": 4,
 "nbformat_minor": 5
}
