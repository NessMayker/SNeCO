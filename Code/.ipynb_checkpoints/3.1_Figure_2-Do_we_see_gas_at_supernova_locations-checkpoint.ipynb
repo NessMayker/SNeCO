{
 "cells": [
  {
   "cell_type": "markdown",
   "id": "coordinated-understanding",
   "metadata": {},
   "source": [
    "This notebook will analyze the intensities and errors of CO 2-1 emission at the locations of all of the SNe in our sample across all of the resolutions in the survey.\n",
    "\n",
    "We will use this to uncover what resolution will be best for this study."
   ]
  },
  {
   "cell_type": "code",
   "execution_count": 3,
   "id": "auburn-bearing",
   "metadata": {},
   "outputs": [],
   "source": [
    "import numpy as np\n",
    "from matplotlib import pyplot as plt\n",
    "import astropy\n",
    "import astropy.io.fits as pyfits\n",
    "from astropy.table import Table, join\n",
    "from astropy.io import ascii\n",
    "\n",
    "import sys\n",
    "sys.path.append('/Users/nessmayker/Desktop/NessPythonFunctions')\n",
    "from detectionFraction import detecFrac\n",
    "from cumulativeDistFunc import makeCDF\n",
    "from findPercentiles import findStats"
   ]
  },
  {
   "cell_type": "code",
   "execution_count": 9,
   "id": "known-corruption",
   "metadata": {},
   "outputs": [],
   "source": [
    "#import SNe data \n",
    "\n",
    "SNe_Gal_File = '../Data/3.SNe+GalData.csv'\n",
    "SNe_Gal_Data = Table.read(SNe_Gal_File, format='csv') \n",
    "\n",
    "intenFile = '../Data/3.IntenData.csv'\n",
    "intenData = Table.read(intenFile, format='csv')\n",
    "\n",
    "database  = join(SNe_Gal_Data, intenData, keys='galaxy')\n"
   ]
  },
  {
   "cell_type": "code",
   "execution_count": 6,
   "id": "correct-tablet",
   "metadata": {},
   "outputs": [],
   "source": [
    "\n"
   ]
  },
  {
   "cell_type": "code",
   "execution_count": 7,
   "id": "coastal-drinking",
   "metadata": {},
   "outputs": [
    {
     "data": {
      "text/html": [
       "<i>Table length=222</i>\n",
       "<table id=\"table140584468311008\" class=\"table-striped table-bordered table-condensed\">\n",
       "<thead><tr><th>galaxy</th><th>SN_name</th><th>SN_type</th><th>SN_ra</th><th>SN_dec</th><th>SN_xCoord</th><th>SN_yCoord</th><th>SN_co21int</th><th>SN_co21err</th><th>SN_co21ew</th><th>map_beamsize</th><th>orient_ra</th><th>orient_dec</th><th>dist</th><th>orient_posang</th><th>orient_incl</th><th>size_r25</th><th>telOrient</th><th>SN</th><th>NatRes</th><th>NatInt</th><th>pc60Int</th><th>pc90Int</th><th>pc120Int</th><th>pc150Int</th><th>pc500Int</th><th>pc750Int</th><th>pc1000Int</th><th>pc1250Int</th><th>NatErr</th><th>pc60Err</th><th>pc90Err</th><th>pc120Err</th><th>pc150Err</th><th>pc500Err</th><th>pc750Err</th><th>pc1000Err</th><th>pc1250Err</th><th>NatEW</th><th>pc60EW</th><th>pc90EW</th><th>pc120EW</th><th>pc150EW</th><th>pc500EW</th><th>pc750EW</th><th>pc1000EW</th><th>pc1250EW</th><th>NatSNR</th><th>pc60SNR</th><th>pc90SNR</th><th>pc120SNR</th><th>pc150SNR</th><th>pc500SNR</th><th>pc750SNR</th><th>pc1000SNR</th><th>pc1250SNR</th><th>alphaCO</th></tr></thead>\n",
       "<thead><tr><th>str8</th><th>str11</th><th>str12</th><th>float64</th><th>float64</th><th>float64</th><th>float64</th><th>float64</th><th>float64</th><th>float64</th><th>float64</th><th>float64</th><th>float64</th><th>float64</th><th>float64</th><th>float64</th><th>float64</th><th>str9</th><th>str11</th><th>float64</th><th>float64</th><th>float64</th><th>float64</th><th>float64</th><th>float64</th><th>float64</th><th>float64</th><th>float64</th><th>float64</th><th>float64</th><th>float64</th><th>float64</th><th>float64</th><th>float64</th><th>float64</th><th>float64</th><th>float64</th><th>float64</th><th>float64</th><th>float64</th><th>float64</th><th>float64</th><th>float64</th><th>float64</th><th>float64</th><th>float64</th><th>float64</th><th>float64</th><th>float64</th><th>float64</th><th>float64</th><th>float64</th><th>float64</th><th>float64</th><th>float64</th><th>float64</th><th>float64</th></tr></thead>\n",
       "<tr><td>circinus</td><td>SN1996cr</td><td>II</td><td>213.2918</td><td>-65.3457</td><td>86.56761411031889</td><td>84.63433198287285</td><td>186.84804</td><td>2.137819</td><td>34.56537</td><td>0.002032163908078</td><td>213.29124</td><td>-65.33915</td><td>4.2</td><td>36.74</td><td>64.3</td><td>262.49515</td><td>7m+tp</td><td>SN1996cr</td><td>148.96539476404914</td><td>186.84803771972656</td><td>nan</td><td>nan</td><td>nan</td><td>186.84803771972656</td><td>111.39796447753906</td><td>97.68943786621094</td><td>nan</td><td>nan</td><td>2.1378190517425537</td><td>nan</td><td>nan</td><td>nan</td><td>2.1378190517425537</td><td>0.24664470553398132</td><td>0.17664189636707306</td><td>nan</td><td>nan</td><td>34.56536865234375</td><td>nan</td><td>nan</td><td>nan</td><td>34.56536865234375</td><td>49.76144790649414</td><td>69.42247772216797</td><td>nan</td><td>nan</td><td>0.0</td><td>nan</td><td>nan</td><td>nan</td><td>0.0</td><td>0.0</td><td>0.0</td><td>nan</td><td>nan</td><td>5.011212121095752</td></tr>\n",
       "<tr><td>ngc0253</td><td>SN1940E</td><td>I</td><td>11.8783</td><td>-25.2934</td><td>296.9010534051223</td><td>236.26662905273994</td><td>219.30367</td><td>1.465811</td><td>45.862267</td><td>0.00232543637022</td><td>11.887966</td><td>-25.288443</td><td>3.7</td><td>52.48</td><td>75.0</td><td>803.7504</td><td>7m+tp</td><td>SN1940E</td><td>150.1701284517627</td><td>219.3036651611328</td><td>nan</td><td>nan</td><td>nan</td><td>219.3036651611328</td><td>153.83908081054688</td><td>153.87240600585938</td><td>nan</td><td>nan</td><td>1.465811014175415</td><td>nan</td><td>nan</td><td>nan</td><td>1.465811014175415</td><td>0.18237826228141785</td><td>0.11332354694604874</td><td>nan</td><td>nan</td><td>45.862266540527344</td><td>nan</td><td>nan</td><td>nan</td><td>45.862266540527344</td><td>60.678550720214844</td><td>65.11054229736328</td><td>nan</td><td>nan</td><td>0.0</td><td>nan</td><td>nan</td><td>nan</td><td>0.0</td><td>0.0</td><td>0.0</td><td>nan</td><td>nan</td><td>4.478273076921023</td></tr>\n",
       "<tr><td>ngc0300</td><td>SN2019qyl</td><td>II</td><td>13.7399</td><td>-37.6444</td><td>124.97990204934794</td><td>202.45166439134732</td><td>-0.41793606</td><td>0.4800788</td><td>nan</td><td>0.002271061982879</td><td>13.723024</td><td>-37.684475</td><td>2.09</td><td>114.3</td><td>39.8</td><td>582.26587</td><td>7m+tp</td><td>SN2019qyl</td><td>82.84239405142596</td><td>-0.6273980736732483</td><td>nan</td><td>-0.6273980736732483</td><td>-0.3393101096153259</td><td>-0.10330438613891602</td><td>0.502941370010376</td><td>0.46108144521713257</td><td>nan</td><td>nan</td><td>0.49926596879959106</td><td>nan</td><td>0.49926596879959106</td><td>0.24836020171642303</td><td>0.1649596244096756</td><td>0.03243602439761162</td><td>0.025462361052632332</td><td>nan</td><td>nan</td><td>nan</td><td>nan</td><td>nan</td><td>nan</td><td>nan</td><td>6.742672920227051</td><td>6.879421234130859</td><td>nan</td><td>nan</td><td>0.0</td><td>nan</td><td>0.0</td><td>0.0</td><td>0.0</td><td>0.0</td><td>0.0</td><td>nan</td><td>nan</td><td>9.413450498015168</td></tr>\n",
       "<tr><td>ngc0628</td><td>SN2019krl</td><td>II</td><td>24.2068</td><td>15.7795</td><td>227.48504797816918</td><td>732.1448775793053</td><td>0.2809551</td><td>1.2958647</td><td>nan</td><td>0.0003114595189268</td><td>24.173855</td><td>15.783643</td><td>9.84</td><td>20.7</td><td>8.9</td><td>296.56592</td><td>12m+7m+tp</td><td>SN2013ej</td><td>53.490181864724654</td><td>5.771303653717041</td><td>4.944133281707764</td><td>2.7272579669952393</td><td>1.8072082996368408</td><td>1.341525912284851</td><td>0.6933073997497559</td><td>0.5306633114814758</td><td>nan</td><td>nan</td><td>1.9949342012405396</td><td>1.7279061079025269</td><td>1.2605571746826172</td><td>1.0164546966552734</td><td>0.8571658730506897</td><td>0.18906767666339874</td><td>0.1100897341966629</td><td>nan</td><td>nan</td><td>nan</td><td>nan</td><td>nan</td><td>nan</td><td>nan</td><td>nan</td><td>1.9705547094345093</td><td>nan</td><td>nan</td><td>0.0</td><td>0.0</td><td>0.0</td><td>0.0</td><td>0.0</td><td>0.0</td><td>0.0</td><td>nan</td><td>nan</td><td>7.274922328337008</td></tr>\n",
       "<tr><td>ngc0628</td><td>SN2019krl</td><td>II</td><td>24.2068</td><td>15.7795</td><td>227.48504797816918</td><td>732.1448775793053</td><td>0.2809551</td><td>1.2958647</td><td>nan</td><td>0.0003114595189268</td><td>24.173855</td><td>15.783643</td><td>9.84</td><td>20.7</td><td>8.9</td><td>296.56592</td><td>12m+7m+tp</td><td>SN2019krl</td><td>53.490181864724654</td><td>0.6559359431266785</td><td>0.7540172934532166</td><td>0.963236927986145</td><td>0.9129124879837036</td><td>0.762334406375885</td><td>0.4191957712173462</td><td>0.4084402322769165</td><td>nan</td><td>nan</td><td>1.2892513275146484</td><td>1.097657322883606</td><td>0.7536418437957764</td><td>0.5805757641792297</td><td>0.46779823303222656</td><td>0.13918526470661163</td><td>0.08817216753959656</td><td>nan</td><td>nan</td><td>nan</td><td>nan</td><td>nan</td><td>nan</td><td>nan</td><td>nan</td><td>nan</td><td>nan</td><td>nan</td><td>0.0</td><td>0.0</td><td>0.0</td><td>0.0</td><td>0.0</td><td>0.0</td><td>0.0</td><td>nan</td><td>nan</td><td>6.892366043319281</td></tr>\n",
       "<tr><td>ngc0628</td><td>SN2013ej</td><td>II</td><td>24.2007</td><td>15.7586</td><td>333.46022572413716</td><td>356.77980642079694</td><td>5.7713037</td><td>1.9949342</td><td>nan</td><td>0.0003114595189268</td><td>24.173855</td><td>15.783643</td><td>9.84</td><td>20.7</td><td>8.9</td><td>296.56592</td><td>12m+7m+tp</td><td>SN2013ej</td><td>53.490181864724654</td><td>5.771303653717041</td><td>4.944133281707764</td><td>2.7272579669952393</td><td>1.8072082996368408</td><td>1.341525912284851</td><td>0.6933073997497559</td><td>0.5306633114814758</td><td>nan</td><td>nan</td><td>1.9949342012405396</td><td>1.7279061079025269</td><td>1.2605571746826172</td><td>1.0164546966552734</td><td>0.8571658730506897</td><td>0.18906767666339874</td><td>0.1100897341966629</td><td>nan</td><td>nan</td><td>nan</td><td>nan</td><td>nan</td><td>nan</td><td>nan</td><td>nan</td><td>1.9705547094345093</td><td>nan</td><td>nan</td><td>0.0</td><td>0.0</td><td>0.0</td><td>0.0</td><td>0.0</td><td>0.0</td><td>0.0</td><td>nan</td><td>nan</td><td>7.274922328337008</td></tr>\n",
       "<tr><td>ngc0628</td><td>SN2013ej</td><td>II</td><td>24.2007</td><td>15.7586</td><td>333.46022572413716</td><td>356.77980642079694</td><td>5.7713037</td><td>1.9949342</td><td>nan</td><td>0.0003114595189268</td><td>24.173855</td><td>15.783643</td><td>9.84</td><td>20.7</td><td>8.9</td><td>296.56592</td><td>12m+7m+tp</td><td>SN2019krl</td><td>53.490181864724654</td><td>0.6559359431266785</td><td>0.7540172934532166</td><td>0.963236927986145</td><td>0.9129124879837036</td><td>0.762334406375885</td><td>0.4191957712173462</td><td>0.4084402322769165</td><td>nan</td><td>nan</td><td>1.2892513275146484</td><td>1.097657322883606</td><td>0.7536418437957764</td><td>0.5805757641792297</td><td>0.46779823303222656</td><td>0.13918526470661163</td><td>0.08817216753959656</td><td>nan</td><td>nan</td><td>nan</td><td>nan</td><td>nan</td><td>nan</td><td>nan</td><td>nan</td><td>nan</td><td>nan</td><td>nan</td><td>0.0</td><td>0.0</td><td>0.0</td><td>0.0</td><td>0.0</td><td>0.0</td><td>0.0</td><td>nan</td><td>nan</td><td>6.892366043319281</td></tr>\n",
       "<tr><td>ngc1068</td><td>SN2018ivc</td><td>II</td><td>40.672</td><td>-0.0088</td><td>41.400000046852824</td><td>53.87249997022789</td><td>127.77749</td><td>0.6721418</td><td>32.0753</td><td>0.002414131938401</td><td>40.66973</td><td>-0.0132779</td><td>13.97</td><td>72.65</td><td>34.7</td><td>183.28261</td><td>7m+tp</td><td>SN2018ivc</td><td>588.6196760664847</td><td>127.7774887084961</td><td>nan</td><td>nan</td><td>nan</td><td>nan</td><td>nan</td><td>128.53480529785156</td><td>nan</td><td>nan</td><td>0.6721417903900146</td><td>nan</td><td>nan</td><td>nan</td><td>nan</td><td>nan</td><td>0.4782250225543976</td><td>nan</td><td>nan</td><td>32.07529830932617</td><td>nan</td><td>nan</td><td>nan</td><td>nan</td><td>nan</td><td>36.46405792236328</td><td>nan</td><td>nan</td><td>0.0</td><td>nan</td><td>nan</td><td>nan</td><td>nan</td><td>nan</td><td>0.0</td><td>nan</td><td>nan</td><td>6.692307692307692</td></tr>\n",
       "<tr><td>ngc1087</td><td>SN1995V</td><td>II</td><td>41.6115</td><td>-0.4988</td><td>161.4198245203906</td><td>287.6499560537321</td><td>11.513839</td><td>1.1399242</td><td>5.175495</td><td>0.0004451676280474</td><td>41.60492</td><td>-0.498717</td><td>15.85</td><td>359.1</td><td>42.9</td><td>89.14999</td><td>12m+7m+tp</td><td>SN1995V</td><td>123.1488071983115</td><td>15.466903686523438</td><td>nan</td><td>nan</td><td>15.466903686523438</td><td>12.753849029541016</td><td>4.536659240722656</td><td>4.371304512023926</td><td>nan</td><td>nan</td><td>1.1405595541000366</td><td>nan</td><td>nan</td><td>1.1405595541000366</td><td>0.9069606065750122</td><td>0.2801399230957031</td><td>0.1639837622642517</td><td>nan</td><td>nan</td><td>6.007981300354004</td><td>nan</td><td>nan</td><td>6.007981300354004</td><td>6.287197589874268</td><td>8.803016662597656</td><td>14.90282154083252</td><td>nan</td><td>nan</td><td>0.0</td><td>nan</td><td>nan</td><td>0.0</td><td>0.0</td><td>0.0</td><td>0.0</td><td>nan</td><td>nan</td><td>6.6412306805812955</td></tr>\n",
       "<tr><td>ngc1097</td><td>SN1999eu</td><td>II</td><td>41.5866</td><td>-30.3184</td><td>245.2470996170838</td><td>7.223039949207134</td><td>0.0</td><td>0.7541714</td><td>nan</td><td>0.0004711325009833</td><td>41.578957</td><td>-30.274675</td><td>13.58</td><td>122.4</td><td>48.6</td><td>317.0452</td><td>12m+7m+tp</td><td>SN1992bd</td><td>111.66580536484963</td><td>282.0977783203125</td><td>nan</td><td>nan</td><td>282.0977783203125</td><td>260.3741149902344</td><td>223.9143524169922</td><td>193.74581909179688</td><td>nan</td><td>nan</td><td>2.054412841796875</td><td>nan</td><td>nan</td><td>2.054412841796875</td><td>1.491909384727478</td><td>0.4566611051559448</td><td>0.2543865442276001</td><td>nan</td><td>nan</td><td>46.925418853759766</td><td>nan</td><td>nan</td><td>46.925418853759766</td><td>49.31303024291992</td><td>98.3154525756836</td><td>110.4483871459961</td><td>nan</td><td>nan</td><td>0.0</td><td>nan</td><td>nan</td><td>0.0</td><td>0.0</td><td>0.0</td><td>0.0</td><td>nan</td><td>nan</td><td>4.205018277201822</td></tr>\n",
       "<tr><td>...</td><td>...</td><td>...</td><td>...</td><td>...</td><td>...</td><td>...</td><td>...</td><td>...</td><td>...</td><td>...</td><td>...</td><td>...</td><td>...</td><td>...</td><td>...</td><td>...</td><td>...</td><td>...</td><td>...</td><td>...</td><td>...</td><td>...</td><td>...</td><td>...</td><td>...</td><td>...</td><td>...</td><td>...</td><td>...</td><td>...</td><td>...</td><td>...</td><td>...</td><td>...</td><td>...</td><td>...</td><td>...</td><td>...</td><td>...</td><td>...</td><td>...</td><td>...</td><td>...</td><td>...</td><td>...</td><td>...</td><td>...</td><td>...</td><td>...</td><td>...</td><td>...</td><td>...</td><td>...</td><td>...</td><td>...</td><td>...</td></tr>\n",
       "<tr><td>ngc5236</td><td>SN1923A</td><td>II</td><td>204.2883</td><td>-29.8389</td><td>399.09014170428725</td><td>813.7841220160797</td><td>3.1662843</td><td>0.6370633</td><td>6.310522</td><td>0.000594044605435</td><td>204.2539</td><td>-29.865625</td><td>4.89</td><td>225.0</td><td>24.0</td><td>408.43347</td><td>12m+7m+tp</td><td>SN1950B</td><td>50.69968757298903</td><td>59.00484085083008</td><td>61.97102737426758</td><td>66.926513671875</td><td>65.21820068359375</td><td>60.489627838134766</td><td>25.73519515991211</td><td>19.1654109954834</td><td>nan</td><td>nan</td><td>0.7553257942199707</td><td>0.6509345769882202</td><td>0.4620504677295685</td><td>0.3590238690376282</td><td>0.28912103176116943</td><td>0.05459396913647652</td><td>0.0361986942589283</td><td>nan</td><td>nan</td><td>5.788224697113037</td><td>6.1064043045043945</td><td>6.681667804718018</td><td>7.089045524597168</td><td>7.4819512367248535</td><td>10.048575401306152</td><td>11.714366912841797</td><td>nan</td><td>nan</td><td>0.0</td><td>0.0</td><td>0.0</td><td>0.0</td><td>0.0</td><td>0.0</td><td>0.0</td><td>nan</td><td>nan</td><td>6.692307692307692</td></tr>\n",
       "<tr><td>ngc5236</td><td>SN1923A</td><td>II</td><td>204.2883</td><td>-29.8389</td><td>399.09014170428725</td><td>813.7841220160797</td><td>3.1662843</td><td>0.6370633</td><td>6.310522</td><td>0.000594044605435</td><td>204.2539</td><td>-29.865625</td><td>4.89</td><td>225.0</td><td>24.0</td><td>408.43347</td><td>12m+7m+tp</td><td>SN1923A</td><td>50.69968757298903</td><td>3.1662843227386475</td><td>2.982912540435791</td><td>2.6480391025543213</td><td>2.569227695465088</td><td>2.6020655632019043</td><td>4.148641109466553</td><td>4.5491557121276855</td><td>nan</td><td>nan</td><td>0.6370633244514465</td><td>0.5877888202667236</td><td>0.46251943707466125</td><td>0.36471322178840637</td><td>0.2875167727470398</td><td>0.03622424229979515</td><td>0.017963431775569916</td><td>nan</td><td>nan</td><td>6.310522079467773</td><td>5.9792962074279785</td><td>5.600820541381836</td><td>6.416561603546143</td><td>7.461651802062988</td><td>6.986499786376953</td><td>7.857295036315918</td><td>nan</td><td>nan</td><td>0.0</td><td>0.0</td><td>0.0</td><td>0.0</td><td>0.0</td><td>0.0</td><td>0.0</td><td>nan</td><td>nan</td><td>6.692307692307692</td></tr>\n",
       "<tr><td>ngc5236</td><td>SN1957D</td><td>unclassified</td><td>204.2647</td><td>-29.828</td><td>546.7621815937086</td><td>892.0135629822324</td><td>41.320827</td><td>0.6190958</td><td>5.3402543</td><td>0.000594044605435</td><td>204.2539</td><td>-29.865625</td><td>4.89</td><td>225.0</td><td>24.0</td><td>408.43347</td><td>12m+7m+tp</td><td>SN1968L</td><td>50.69968757298903</td><td>157.89561462402344</td><td>164.29913330078125</td><td>181.96917724609375</td><td>202.79049682617188</td><td>222.9096221923828</td><td>205.35548400878906</td><td>137.11279296875</td><td>nan</td><td>nan</td><td>1.1755878925323486</td><td>0.9599323868751526</td><td>0.6156549453735352</td><td>0.4450325667858124</td><td>0.3551063537597656</td><td>0.07494845986366272</td><td>0.05347259342670441</td><td>nan</td><td>nan</td><td>14.017309188842773</td><td>15.185856819152832</td><td>20.49120330810547</td><td>25.899349212646484</td><td>30.699535369873047</td><td>45.719520568847656</td><td>42.519447326660156</td><td>nan</td><td>nan</td><td>0.0</td><td>0.0</td><td>0.0</td><td>0.0</td><td>0.0</td><td>0.0</td><td>0.0</td><td>nan</td><td>nan</td><td>6.692307692307692</td></tr>\n",
       "<tr><td>ngc5236</td><td>SN1957D</td><td>unclassified</td><td>204.2647</td><td>-29.828</td><td>546.7621815937086</td><td>892.0135629822324</td><td>41.320827</td><td>0.6190958</td><td>5.3402543</td><td>0.000594044605435</td><td>204.2539</td><td>-29.865625</td><td>4.89</td><td>225.0</td><td>24.0</td><td>408.43347</td><td>12m+7m+tp</td><td>SN1983N</td><td>50.69968757298903</td><td>2.6424331665039062</td><td>2.4482614994049072</td><td>2.1019954681396484</td><td>1.7675092220306396</td><td>1.519982933998108</td><td>1.9745068550109863</td><td>2.062988519668579</td><td>nan</td><td>nan</td><td>0.6879773736000061</td><td>0.6159759163856506</td><td>0.47682079672813416</td><td>0.37394005060195923</td><td>0.29029086232185364</td><td>0.05323296785354614</td><td>0.026526829227805138</td><td>nan</td><td>nan</td><td>nan</td><td>nan</td><td>3.8591697216033936</td><td>3.6428279876708984</td><td>3.5471982955932617</td><td>8.638157844543457</td><td>10.044561386108398</td><td>nan</td><td>nan</td><td>0.0</td><td>0.0</td><td>0.0</td><td>0.0</td><td>0.0</td><td>0.0</td><td>0.0</td><td>nan</td><td>nan</td><td>6.692307692307692</td></tr>\n",
       "<tr><td>ngc5236</td><td>SN1957D</td><td>unclassified</td><td>204.2647</td><td>-29.828</td><td>546.7621815937086</td><td>892.0135629822324</td><td>41.320827</td><td>0.6190958</td><td>5.3402543</td><td>0.000594044605435</td><td>204.2539</td><td>-29.865625</td><td>4.89</td><td>225.0</td><td>24.0</td><td>408.43347</td><td>12m+7m+tp</td><td>SN1957D</td><td>50.69968757298903</td><td>41.32082748413086</td><td>38.47781753540039</td><td>31.9638671875</td><td>27.746055603027344</td><td>24.640588760375977</td><td>11.980267524719238</td><td>9.125162124633789</td><td>nan</td><td>nan</td><td>0.6190958023071289</td><td>0.5349265336990356</td><td>0.38571351766586304</td><td>0.29857003688812256</td><td>0.24190394580364227</td><td>0.039763133972883224</td><td>0.021127168089151382</td><td>nan</td><td>nan</td><td>5.340254306793213</td><td>5.422938346862793</td><td>5.8041486740112305</td><td>6.14930534362793</td><td>6.498789310455322</td><td>9.267144203186035</td><td>9.767258644104004</td><td>nan</td><td>nan</td><td>0.0</td><td>0.0</td><td>0.0</td><td>0.0</td><td>0.0</td><td>0.0</td><td>0.0</td><td>nan</td><td>nan</td><td>6.692307692307692</td></tr>\n",
       "<tr><td>ngc5236</td><td>SN1957D</td><td>unclassified</td><td>204.2647</td><td>-29.828</td><td>546.7621815937086</td><td>892.0135629822324</td><td>41.320827</td><td>0.6190958</td><td>5.3402543</td><td>0.000594044605435</td><td>204.2539</td><td>-29.865625</td><td>4.89</td><td>225.0</td><td>24.0</td><td>408.43347</td><td>12m+7m+tp</td><td>SN1950B</td><td>50.69968757298903</td><td>59.00484085083008</td><td>61.97102737426758</td><td>66.926513671875</td><td>65.21820068359375</td><td>60.489627838134766</td><td>25.73519515991211</td><td>19.1654109954834</td><td>nan</td><td>nan</td><td>0.7553257942199707</td><td>0.6509345769882202</td><td>0.4620504677295685</td><td>0.3590238690376282</td><td>0.28912103176116943</td><td>0.05459396913647652</td><td>0.0361986942589283</td><td>nan</td><td>nan</td><td>5.788224697113037</td><td>6.1064043045043945</td><td>6.681667804718018</td><td>7.089045524597168</td><td>7.4819512367248535</td><td>10.048575401306152</td><td>11.714366912841797</td><td>nan</td><td>nan</td><td>0.0</td><td>0.0</td><td>0.0</td><td>0.0</td><td>0.0</td><td>0.0</td><td>0.0</td><td>nan</td><td>nan</td><td>6.692307692307692</td></tr>\n",
       "<tr><td>ngc5236</td><td>SN1957D</td><td>unclassified</td><td>204.2647</td><td>-29.828</td><td>546.7621815937086</td><td>892.0135629822324</td><td>41.320827</td><td>0.6190958</td><td>5.3402543</td><td>0.000594044605435</td><td>204.2539</td><td>-29.865625</td><td>4.89</td><td>225.0</td><td>24.0</td><td>408.43347</td><td>12m+7m+tp</td><td>SN1923A</td><td>50.69968757298903</td><td>3.1662843227386475</td><td>2.982912540435791</td><td>2.6480391025543213</td><td>2.569227695465088</td><td>2.6020655632019043</td><td>4.148641109466553</td><td>4.5491557121276855</td><td>nan</td><td>nan</td><td>0.6370633244514465</td><td>0.5877888202667236</td><td>0.46251943707466125</td><td>0.36471322178840637</td><td>0.2875167727470398</td><td>0.03622424229979515</td><td>0.017963431775569916</td><td>nan</td><td>nan</td><td>6.310522079467773</td><td>5.9792962074279785</td><td>5.600820541381836</td><td>6.416561603546143</td><td>7.461651802062988</td><td>6.986499786376953</td><td>7.857295036315918</td><td>nan</td><td>nan</td><td>0.0</td><td>0.0</td><td>0.0</td><td>0.0</td><td>0.0</td><td>0.0</td><td>0.0</td><td>nan</td><td>nan</td><td>6.692307692307692</td></tr>\n",
       "<tr><td>ngc5530</td><td>SN2007it</td><td>II</td><td>214.6067</td><td>-43.3817</td><td>390.2595866318546</td><td>373.0812908090254</td><td>3.082237</td><td>1.3917842</td><td>1.7829744</td><td>0.0003125321832383</td><td>214.6138</td><td>-43.38826</td><td>12.27</td><td>305.4</td><td>61.9</td><td>144.91765</td><td>12m+7m+tp</td><td>SN2007it</td><td>66.92936060767958</td><td>3.0822370052337646</td><td>nan</td><td>2.91845703125</td><td>2.717349052429199</td><td>2.6960041522979736</td><td>3.178579092025757</td><td>2.8175623416900635</td><td>nan</td><td>nan</td><td>1.3917841911315918</td><td>nan</td><td>1.036899209022522</td><td>0.8315346837043762</td><td>0.7069326043128967</td><td>0.20708198845386505</td><td>0.09793970733880997</td><td>nan</td><td>nan</td><td>1.782974362373352</td><td>nan</td><td>1.731729507446289</td><td>1.738126516342163</td><td>2.3076536655426025</td><td>9.691722869873047</td><td>12.280269622802734</td><td>nan</td><td>nan</td><td>0.0</td><td>nan</td><td>0.0</td><td>0.0</td><td>0.0</td><td>0.0</td><td>0.0</td><td>nan</td><td>nan</td><td>6.177527322244585</td></tr>\n",
       "<tr><td>ngc6744</td><td>SN2005at</td><td>Ic</td><td>287.4733</td><td>-63.8231</td><td>228.6160557905061</td><td>1000.6074709654724</td><td>4.835074</td><td>1.5029258</td><td>3.258406</td><td>0.000315039978844</td><td>287.44208</td><td>-63.85754</td><td>9.39</td><td>14.0</td><td>52.7</td><td>470.02527</td><td>12m+7m+tp</td><td>SN2005at</td><td>51.6307732695387</td><td>7.229698657989502</td><td>6.997596740722656</td><td>6.566884517669678</td><td>6.086116790771484</td><td>5.614461898803711</td><td>2.4364371299743652</td><td>1.9405158758163452</td><td>nan</td><td>nan</td><td>1.5039339065551758</td><td>1.2251667976379395</td><td>0.7975918650627136</td><td>0.6099556088447571</td><td>0.494907021522522</td><td>0.1175248920917511</td><td>0.05488153547048569</td><td>nan</td><td>nan</td><td>3.072154998779297</td><td>4.0313615798950195</td><td>3.929675817489624</td><td>4.277412414550781</td><td>4.484193325042725</td><td>5.497471809387207</td><td>5.942809581756592</td><td>nan</td><td>nan</td><td>0.0</td><td>0.0</td><td>0.0</td><td>0.0</td><td>0.0</td><td>0.0</td><td>0.0</td><td>nan</td><td>nan</td><td>5.5539691629719385</td></tr>\n",
       "<tr><td>ngc7793</td><td>SN2008bk</td><td>II</td><td>359.4601</td><td>-32.556</td><td>104.61854343784563</td><td>146.2301768465765</td><td>-0.0075710528</td><td>0.17158689</td><td>nan</td><td>0.002219068508634</td><td>359.45758</td><td>-32.591072</td><td>3.62</td><td>290.0</td><td>50.0</td><td>310.54272</td><td>7m+tp</td><td>SN2008bk</td><td>140.20278751803758</td><td>-0.007571052759885788</td><td>nan</td><td>nan</td><td>nan</td><td>-0.007571052759885788</td><td>0.10425052046775818</td><td>0.08598671108484268</td><td>nan</td><td>nan</td><td>0.17158688604831696</td><td>nan</td><td>nan</td><td>nan</td><td>0.17158688604831696</td><td>0.022268299013376236</td><td>0.01656349003314972</td><td>nan</td><td>nan</td><td>nan</td><td>nan</td><td>nan</td><td>nan</td><td>nan</td><td>2.3429856300354004</td><td>2.625314235687256</td><td>nan</td><td>nan</td><td>0.0</td><td>nan</td><td>nan</td><td>nan</td><td>0.0</td><td>0.0</td><td>0.0</td><td>nan</td><td>nan</td><td>6.692307692307692</td></tr>\n",
       "</table>"
      ],
      "text/plain": [
       "<Table length=222>\n",
       " galaxy   SN_name    SN_type    ... pc1000SNR pc1250SNR      alphaCO      \n",
       "  str8     str11      str12     ...  float64   float64       float64      \n",
       "-------- --------- ------------ ... --------- --------- ------------------\n",
       "circinus  SN1996cr           II ...       nan       nan  5.011212121095752\n",
       " ngc0253   SN1940E            I ...       nan       nan  4.478273076921023\n",
       " ngc0300 SN2019qyl           II ...       nan       nan  9.413450498015168\n",
       " ngc0628 SN2019krl           II ...       nan       nan  7.274922328337008\n",
       " ngc0628 SN2019krl           II ...       nan       nan  6.892366043319281\n",
       " ngc0628  SN2013ej           II ...       nan       nan  7.274922328337008\n",
       " ngc0628  SN2013ej           II ...       nan       nan  6.892366043319281\n",
       " ngc1068 SN2018ivc           II ...       nan       nan  6.692307692307692\n",
       " ngc1087   SN1995V           II ...       nan       nan 6.6412306805812955\n",
       " ngc1097  SN1999eu           II ...       nan       nan  4.205018277201822\n",
       "     ...       ...          ... ...       ...       ...                ...\n",
       " ngc5236   SN1923A           II ...       nan       nan  6.692307692307692\n",
       " ngc5236   SN1923A           II ...       nan       nan  6.692307692307692\n",
       " ngc5236   SN1957D unclassified ...       nan       nan  6.692307692307692\n",
       " ngc5236   SN1957D unclassified ...       nan       nan  6.692307692307692\n",
       " ngc5236   SN1957D unclassified ...       nan       nan  6.692307692307692\n",
       " ngc5236   SN1957D unclassified ...       nan       nan  6.692307692307692\n",
       " ngc5236   SN1957D unclassified ...       nan       nan  6.692307692307692\n",
       " ngc5530  SN2007it           II ...       nan       nan  6.177527322244585\n",
       " ngc6744  SN2005at           Ic ...       nan       nan 5.5539691629719385\n",
       " ngc7793  SN2008bk           II ...       nan       nan  6.692307692307692"
      ]
     },
     "execution_count": 7,
     "metadata": {},
     "output_type": "execute_result"
    }
   ],
   "source": [
    "database"
   ]
  },
  {
   "cell_type": "code",
   "execution_count": null,
   "id": "pursuant-retro",
   "metadata": {},
   "outputs": [],
   "source": []
  }
 ],
 "metadata": {
  "kernelspec": {
   "display_name": "Python 3",
   "language": "python",
   "name": "python3"
  },
  "language_info": {
   "codemirror_mode": {
    "name": "ipython",
    "version": 3
   },
   "file_extension": ".py",
   "mimetype": "text/x-python",
   "name": "python",
   "nbconvert_exporter": "python",
   "pygments_lexer": "ipython3",
   "version": "3.6.8"
  }
 },
 "nbformat": 4,
 "nbformat_minor": 5
}
