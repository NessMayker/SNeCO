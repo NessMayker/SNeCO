{
 "cells": [
  {
   "cell_type": "markdown",
   "id": "bd3d650d",
   "metadata": {},
   "source": [
    "This notebook plots the nearest MC Histograms in "
   ]
  },
  {
   "cell_type": "code",
   "execution_count": 1,
   "id": "ddda3fb7",
   "metadata": {},
   "outputs": [],
   "source": [
    "#import packages and initialize settings\n",
    "import os\n",
    "import numpy as np\n",
    "from astropy.io import fits\n",
    "import astropy.io.fits as pyfits\n",
    "from astropy.wcs import WCS\n",
    "from matplotlib import pyplot as plt\n",
    "from astropy.coordinates import SkyCoord\n",
    "import astropy.units as u\n",
    "from astropy.table import Table\n",
    "from astropy.io import ascii\n",
    "import seaborn as sns\n",
    "\n",
    "plt.rc('text',usetex=True)\n",
    "fontsize=20\n",
    "plt.rc('xtick',labelsize=fontsize)\n",
    "plt.rc('ytick',labelsize=fontsize)\n",
    "\n",
    "import sys\n",
    "sys.path.append('/Users/mayker.1/Desktop/NessPythonFunctions')\n",
    "from deprojectGalaxy import deproject"
   ]
  },
  {
   "cell_type": "code",
   "execution_count": 2,
   "id": "33a9dbcc",
   "metadata": {},
   "outputs": [
    {
     "data": {
      "text/html": [
       "<i>Table length=1</i>\n",
       "<table id=\"table140259647697056\" class=\"table-striped table-bordered table-condensed\">\n",
       "<thead><tr><th>Names</th><th>MCSN55Int</th><th>MCSN55Intval</th><th>MCSN6Int</th><th>MCSN6Intval</th><th>MCSN65Int</th><th>MCSN65Intval</th><th>MCSN7Int</th><th>MCSN7Intval</th><th>MCSN75Int</th><th>MCSN75Intval</th><th>MCSN55Mass</th><th>MCSN55Massval</th><th>MCSN6Mass</th><th>MCSN6Massval</th><th>MCSN65Mass</th><th>MCSN65Massval</th><th>MCSN7Mass</th><th>MCSN7Massval</th><th>MCSN75Mass</th><th>MCSN75Massval</th><th>MCSN_SNR_7</th><th>MCSN_SNR_7_val</th><th>MCSN_SNR_9</th><th>MCSN_SNR_9_val</th><th>MCSN_SNR_1</th><th>MCSN_SNR_1_val</th><th>MCSN_SNR_3</th><th>MCSN_SNR_3_val</th><th>MCSN_SNR_5</th><th>MCSN_SNR_5_val</th></tr></thead>\n",
       "<thead><tr><th>str20</th><th>float64</th><th>float64</th><th>float64</th><th>float64</th><th>float64</th><th>float64</th><th>float64</th><th>float64</th><th>float64</th><th>float64</th><th>float64</th><th>float64</th><th>float64</th><th>float64</th><th>float64</th><th>float64</th><th>float64</th><th>float64</th><th>float64</th><th>float64</th><th>float64</th><th>float64</th><th>float64</th><th>float64</th><th>float64</th><th>float64</th><th>float64</th><th>float64</th><th>float64</th><th>float64</th></tr></thead>\n",
       "<tr><td>circinus_SN1996cr_</td><td>32.20571074533962</td><td>170.42623901367188</td><td>32.20571074533962</td><td>170.42623901367188</td><td>32.20571074533962</td><td>170.42623901367188</td><td>32.20571074533962</td><td>170.42623901367188</td><td>32.2670317391334</td><td>201.25888061523438</td><td>32.20571074533962</td><td>170.42623901367188</td><td>32.20571074533962</td><td>21802756.354290895</td><td>32.20571074533962</td><td>21802756.354290895</td><td>32.20571074533962</td><td>21802756.354290895</td><td>470.4417934320387</td><td>39057194.333950214</td><td>32.20571074533962</td><td>81.27533721923828</td><td>32.20571074533962</td><td>81.27533721923828</td><td>32.20571074533962</td><td>81.27533721923828</td><td>32.20571074533962</td><td>81.27533721923828</td><td>32.20571074533962</td><td>81.27533721923828</td></tr>\n",
       "</table>"
      ],
      "text/plain": [
       "<Table length=1>\n",
       "      Names            MCSN55Int     ...     MCSN_SNR_5      MCSN_SNR_5_val \n",
       "      str20             float64      ...      float64           float64     \n",
       "------------------ ----------------- ... ----------------- -----------------\n",
       "circinus_SN1996cr_ 32.20571074533962 ... 32.20571074533962 81.27533721923828"
      ]
     },
     "execution_count": 2,
     "metadata": {},
     "output_type": "execute_result"
    }
   ],
   "source": [
    "database = Table.read('../Data/3.SNe+GalData.csv', format = \"csv\")\n",
    "histTable = Table.read('../Data/3.HistData.csv', format='csv')  \n",
    "histTable[0:1]"
   ]
  },
  {
   "cell_type": "code",
   "execution_count": 3,
   "id": "6569c580",
   "metadata": {},
   "outputs": [],
   "source": [
    "# Remove nans and negative values from histogram\n",
    "\n",
    "def cleanHist(distArr, valArr):\n",
    "    cleanDist, cleanVals = [],[]\n",
    "    for i in range(len(distArr)):\n",
    "        if np.isfinite(distArr[i]) and distArr[i] >= 0.0:\n",
    "            cleanDist.append(distArr[i])\n",
    "            cleanVals.append(valArr[i])\n",
    "    for i in range(len(cleanDist)):\n",
    "        if cleanDist[i] >= 1000:\n",
    "            cleanDist[i] = 1001\n",
    "    return(cleanDist, cleanVals)\n",
    "            \n",
    "Dist55_ca, vals55_ca = cleanHist(histTable[\"MCSN55Int\"],histTable[\"MCSN55Intval\"])\n",
    "Dist65_ca, vals65_ca = cleanHist(histTable[\"MCSN65Int\"],histTable[\"MCSN65Intval\"])\n",
    "Dist55_mda, vals55_mda = cleanHist(histTable[\"MCSN55Mass\"],histTable[\"MCSN55Massval\"])\n",
    "Dist65_mda, vals65_mda = cleanHist(histTable[\"MCSN65Mass\"],histTable[\"MCSN65Massval\"])   \n",
    "\n",
    "def cleanHistSNR(SNRArr, valArr):\n",
    "    cleanSNR, cleanVals = [],[]\n",
    "    for i in range(len(SNRArr)):\n",
    "        if np.isfinite(SNRArr[i]) and SNRArr[i] >= 0.0:\n",
    "            cleanSNR.append(SNRArr[i])\n",
    "            cleanVals.append(valArr[i])\n",
    "    return(cleanSNR, cleanVals)\n",
    "\n",
    "SNR_3_dist, SNR_3_val = cleanHistSNR(histTable[\"MCSN_SNR_3\"],histTable[\"MCSN_SNR_3_val\"])\n",
    "SNR_7_dist, SNR_7_val = cleanHistSNR(histTable[\"MCSN_SNR_7\"],histTable[\"MCSN_SNR_7_val\"])"
   ]
  },
  {
   "cell_type": "code",
   "execution_count": 4,
   "id": "d174aa40",
   "metadata": {},
   "outputs": [],
   "source": [
    "sns.color_palette(\"dark\")\n",
    "\n",
    "wisteria = \"#9371af\"\n",
    "cashmere = \"#4f718c\"\n"
   ]
  },
  {
   "cell_type": "code",
   "execution_count": null,
   "id": "0551a8e4",
   "metadata": {},
   "outputs": [],
   "source": [
    "\n"
   ]
  },
  {
   "cell_type": "code",
   "execution_count": 5,
   "id": "979ab678",
   "metadata": {},
   "outputs": [
    {
     "name": "stdout",
     "output_type": "stream",
     "text": [
      "[[41.  6.  3.  5.  1.  1.  0.  1.  1.  1.  1.]\n",
      " [42.  5.  6.  3.  1.  0.  0.  1.  1.  1.  1.]]\n"
     ]
    },
    {
     "data": {
      "image/png": "[encoded data removed]",
      "text/plain": [
       "<Figure size 1368x324 with 2 Axes>"
      ]
     },
     "metadata": {},
     "output_type": "display_data"
    }
   ],
   "source": [
    "# Make histogram of nearest MC 10^5.5 & 6.5\n",
    "\n",
    "#set up bins\n",
    "#bins = [50,100,150,200,250,300,350,400,450,500,550,600,650,700,750,800,850,900,950,1000]\n",
    "bins = [0,100,200,300,400,500,600,700,800,900,1000,1100]\n",
    "ticks = [50,150,250,350,450,550,650,750,850,950,1050]\n",
    "tickLabels = [\"0-100\", \"101-200\", \"201-300\", \"301-400\", \"401-500\", \"501-600\", \"601-700\", \"701-800\", \"801-900\", \"901-1000\", \"1000+\"]\n",
    "\n",
    "sns.set_style(\"whitegrid\", {'axes.linewidth': 1, 'axes.edgecolor':'black'})\n",
    "sns.color_palette(\"dark\")\n",
    "\n",
    "f, ax = plt.subplots(nrows = 1, ncols = 2, sharex = False, sharey = True, figsize = (19,4.5))\n",
    "\n",
    "ax[0].set_xticks(ticks=ticks)\n",
    "ax[1].set_xticks(ticks=ticks)\n",
    "ax[0].set_xticklabels([\"0-100\", \"101-200\", \"201-300\", \"301-400\", \"401-500\", \"501-600\", \"601-700\", \"701-800\", \"801-900\", \"901-1000\", \"1000+\"],fontsize = 12)\n",
    "ax[1].set_xticklabels([\"0-100\", \"101-200\", \"201-300\", \"301-400\", \"401-500\", \"501-600\", \"601-700\", \"701-800\", \"801-900\", \"901-1000\", \"1000+\"],fontsize = 12)\n",
    "#ax[0].set_xticklabels([\"0\", \"100\", \"200\", \"300\", \"400\", \"500\", \"600\", \"700\", \"800\", \"900\", \"1000\"])\n",
    "#ax[1].set_xticklabels([\"0\", \"100\", \"200\", \"300\", \"400\", \"500\", \"600\", \"700\", \"800\", \"900\", \"1000\"])\n",
    "n, bins, patches = ax[0].hist([Dist55_ca,Dist55_mda], color = [cashmere, wisteria],label = [\"Constant Alpha CO\",\"Metallicity Dependent Alpha CO\"], bins=bins, width = 40, alpha = 0.9)\n",
    "ax[1].hist([Dist65_ca,Dist65_mda], color = [cashmere, wisteria],label = [\"Constant Alpha CO\",\"Metallicity Dependent Alpha CO\"], bins=bins, width = 40, alpha = 0.9)\n",
    "ax[0].grid(True, alpha = 0.75)\n",
    "ax[1].grid(True, alpha = 0.75)\n",
    "ax[0].set_title(r'$10^{5.5} M_{Sun}$', fontsize = 18)\n",
    "ax[1].set_title(r'$10^{6.5} M_{Sun}$', fontsize = 18)\n",
    "f.suptitle(\"Distance from SN Explosion Site to Nearest GMC\", fontsize = 20)\n",
    "f.subplots_adjust(wspace = 0.1, top = 0.85)\n",
    "ax[1].legend(loc = \"upper right\", fontsize = 14)\n",
    "ax[0].set_ylabel(\"Count\", fontsize = 14)\n",
    "ax[0].set_xlabel(\"Distance [pc]\", fontsize = 14)\n",
    "ax[1].set_xlabel(\"Distance [pc]\", fontsize = 14)\n",
    "sns.despine(left = False)\n",
    "\n",
    "f.savefig(\"../Figures/NearestMCHist.png\")\n",
    "print(n)"
   ]
  },
  {
   "cell_type": "code",
   "execution_count": 6,
   "id": "e9ebe8d2",
   "metadata": {},
   "outputs": [
    {
     "name": "stdout",
     "output_type": "stream",
     "text": [
      "[[43.  8.  4.  3.  1.  0.  0.  0.  1.  0.  0.]\n",
      " [32.  8.  4.  2.  4.  2.  1.  3.  1.  1.  1.]]\n"
     ]
    },
    {
     "data": {
      "image/png": "[encoded data removed]",
      "text/plain": [
       "<Figure size 756x324 with 1 Axes>"
      ]
     },
     "metadata": {},
     "output_type": "display_data"
    }
   ],
   "source": [
    "# Make histogram of nearest MC 10^5.5 & 6.5\n",
    "\n",
    "#set up bins\n",
    "#bins = [50,100,150,200,250,300,350,400,450,500,550,600,650,700,750,800,850,900,950,1000]\n",
    "bins = [0,100,200,300,400,500,600,700,800,900,1000,1100]\n",
    "ticks = [50,150,250,350,450,550,650,750,850,950,1050]\n",
    "tickLabels = [\"0-100\", \"101-200\", \"201-300\", \"301-400\", \"401-500\", \"501-600\", \"601-700\", \"701-800\", \"801-900\", \"901-1000\", \"1000+\"]\n",
    "\n",
    "sns.set_style(\"whitegrid\", {'axes.linewidth': 1, 'axes.edgecolor':'black'})\n",
    "sns.color_palette(\"dark\")\n",
    "\n",
    "f, ax = plt.subplots(nrows = 1, ncols = 1, figsize = (10.5,4.5))\n",
    "\n",
    "ax.set_xticks(ticks=ticks)\n",
    "ax.set_xticklabels([\"0-100\", \"101-200\", \"201-300\", \"301-400\", \"401-500\", \"501-600\", \"601-700\", \"701-800\", \"801-900\", \"901-1000\", \"1000+\"], fontsize = 12)\n",
    "n,bins,patches = ax.hist([SNR_3_dist,SNR_7_dist], color = [cashmere, wisteria],label = [r\"S/N $>=$ 3\",r\"S/N $>=$ 7\"], bins=bins, width = 40, alpha = 0.9)\n",
    "ax.grid(True, alpha = 0.75)\n",
    "f.suptitle(\"Distance from SN Explosion Site to Nearest CO 2-1 Detection\", fontsize = 20)\n",
    "ax.legend(loc = \"upper right\", fontsize = 14)\n",
    "ax.set_ylabel(\"Count\", fontsize = 14)\n",
    "ax.set_xlabel(\"Distance [pc]\", fontsize = 14)\n",
    "\n",
    "sns.despine(left = False)\n",
    "\n",
    "f.savefig(\"../Figures/NearestMCHist_SNR.png\")\n",
    "print(n)"
   ]
  },
  {
   "cell_type": "code",
   "execution_count": null,
   "id": "0ba141b8",
   "metadata": {},
   "outputs": [],
   "source": []
  }
 ],
 "metadata": {
  "kernelspec": {
   "display_name": "Python 3",
   "language": "python",
   "name": "python3"
  },
  "language_info": {
   "codemirror_mode": {
    "name": "ipython",
    "version": 3
   },
   "file_extension": ".py",
   "mimetype": "text/x-python",
   "name": "python",
   "nbconvert_exporter": "python",
   "pygments_lexer": "ipython3",
   "version": "3.8.8"
  }
 },
 "nbformat": 4,
 "nbformat_minor": 5
}
