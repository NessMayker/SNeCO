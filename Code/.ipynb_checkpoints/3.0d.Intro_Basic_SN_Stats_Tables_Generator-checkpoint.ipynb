{
 "cells": [
  {
   "cell_type": "raw",
   "id": "dietary-gnome",
   "metadata": {},
   "source": [
    "This notebook reports basic statistics of the SNeCO Supernova sample used in the intro to section 3.\n",
    "\n",
    "*****  PREPWORK  *****\n",
    "After looking at the galaxy images from #2. We find we need to remove one SN that isnt within the region covered by the PHANGS-ALMA footprint. We remove this (SN2003gd from NGC0628) and also the 6 candidate SNe, the one duplicate entry, and the LRN, and begin to perform some rudimentary stats in small tables.\n",
    "\n",
    "Before we run this code we do the following prep:\n",
    "\n",
    "We take the 2.SNeCOMasterCat.txt file and manually remove the following SNe:\n",
    "\n",
    "Previously Removed\n",
    "AT2020nqq   (LRN) \n",
    "PTSS-19clju (Duplicate)\n",
    "\n",
    "Recently commented out\n",
    "AT2018eoq   (Candidate)\n",
    "AT2019pck   (Candidate)\n",
    "AT2019npi   (Candidate)\n",
    "AT2019npd   (Candidate)\n",
    "AT2020hol   (Candidate)\n",
    "AT2020juh   (Candidate)\n",
    "AT2020cwh   (Candidate)\n",
    "SN2003gd    (Out of Map ngc0628)\n",
    "SN2005af    (Out of Map ngc4945)\n",
    "ngc5236,PS  (Not in Map & Also not good data on this one)\n",
    "\n",
    "*also shortened type IIn, IIb to II and type Ia-91bg to Ia, etc.\n",
    "\n",
    "Then we save this as 2.SNeCOMasterCatManualClean.txt\n",
    "\n",
    "We turn this file into a dataframe and use to make basic tables of stats.\n",
    "**********************"
   ]
  },
  {
   "cell_type": "code",
   "execution_count": 1,
   "id": "auburn-bearing",
   "metadata": {},
   "outputs": [],
   "source": [
    "import numpy as np\n",
    "import astropy\n",
    "import astropy.io.fits as pyfits\n",
    "from astropy.table import Table, join\n",
    "from astropy.io import ascii\n",
    "\n",
    "import sys\n",
    "sys.path.append('/home/mayker.1/Desktop/PythonFunctions')\n",
    "#sys.path.append('/Users/nessmayker/Desktop/NessPythonFunctions')\n",
    "from detectionFraction import detecFrac\n",
    "from cumulativeDistFunc import makeCDF\n",
    "from findPercentiles import findStats"
   ]
  },
  {
   "cell_type": "code",
   "execution_count": 2,
   "id": "nutritional-ethnic",
   "metadata": {},
   "outputs": [
    {
     "name": "stdout",
     "output_type": "stream",
     "text": [
      "number of OSC objects is:  80  in  35  galaxies.\n"
     ]
    }
   ],
   "source": [
    "# OSC Object Stats\n",
    "\n",
    "OSC_File = '../Data/2.SNeCOMasterCat.txt'\n",
    "OSC_Objects = Table.read(OSC_File, format='csv') \n",
    "\n",
    "\n",
    "OSC_Objects_by_name = OSC_Objects.group_by('#Galaxy')\n",
    "numGals = len(OSC_Objects_by_name.groups.indices)\n",
    "\n",
    "\n",
    "#OSC_Objects\n",
    "print(\"number of OSC objects is: \", len(OSC_Objects['#Galaxy']), \" in \", numGals, \" galaxies.\" )"
   ]
  },
  {
   "cell_type": "code",
   "execution_count": 3,
   "id": "known-corruption",
   "metadata": {},
   "outputs": [],
   "source": [
    "# import SNe data \n",
    "\n",
    "SNe_Gal_File = '../Data/3.SNe+GalData.csv'\n",
    "SNe_Gal_Data = Table.read(SNe_Gal_File, format='csv') \n",
    "\n",
    "intenFile = '../Data/3.IntenData.csv'\n",
    "intenData = Table.read(intenFile, format='csv')\n",
    "\n",
    "database  = join(SNe_Gal_Data, intenData, keys=('SN_name', 'galaxy'))\n",
    "\n",
    "#database"
   ]
  },
  {
   "cell_type": "code",
   "execution_count": 4,
   "id": "coastal-drinking",
   "metadata": {},
   "outputs": [
    {
     "name": "stdout",
     "output_type": "stream",
     "text": [
      "number of final supernova sample is:  63  supernovae in  32  galaxies.\n"
     ]
    }
   ],
   "source": [
    "# Cleaned Sample Stats\n",
    "\n",
    "database_by_name = database.group_by('galaxy')\n",
    "numGals = len(database_by_name.groups.indices)\n",
    "\n",
    "print(\"number of final supernova sample is: \", len(database['galaxy']), \" supernovae in \", numGals, \" galaxies.\" )"
   ]
  },
  {
   "cell_type": "code",
   "execution_count": 5,
   "id": "helpful-election",
   "metadata": {},
   "outputs": [
    {
     "data": {
      "text/html": [
       "<i>Table length=63</i>\n",
       "<table id=\"table140536201625760\" class=\"table-striped table-bordered table-condensed\">\n",
       "<thead><tr><th>galaxy</th><th>SN_name</th><th>SN_type</th><th>SN_ra</th><th>SN_dec</th><th>SN_xCoord</th><th>SN_yCoord</th><th>SN_co21int</th><th>SN_co21err</th><th>SN_co21ew</th><th>map_beamsize</th><th>orient_ra</th><th>orient_dec</th><th>dist</th><th>orient_posang</th><th>orient_incl</th><th>size_r25</th><th>telOrient</th><th>ImageFile150</th><th>ErrFile150</th><th>AlphaCOFile</th><th>NatRes</th><th>NatInt</th><th>pc60Int</th><th>pc90Int</th><th>pc120Int</th><th>pc150Int</th><th>pc500Int</th><th>pc750Int</th><th>pc1000Int</th><th>NatErr</th><th>pc60Err</th><th>pc90Err</th><th>pc120Err</th><th>pc150Err</th><th>pc500Err</th><th>pc750Err</th><th>pc1000Err</th><th>NatEW</th><th>pc60EW</th><th>pc90EW</th><th>pc120EW</th><th>pc150EW</th><th>pc500EW</th><th>pc750EW</th><th>pc1000EW</th><th>NatSNR</th><th>pc60SNR</th><th>pc90SNR</th><th>pc120SNR</th><th>pc150SNR</th><th>pc500SNR</th><th>pc750SNR</th><th>pc1000SNR</th><th>alphaCO</th><th>pc60mgsd</th><th>pc90mgsd</th><th>pc120mgsd</th><th>pc150mgsd</th><th>pc500mgsd</th><th>pc750mgsd</th><th>pc1000mgsd</th><th>pc60mgsdErr</th><th>pc90mgsdErr</th><th>pc120mgsdErr</th><th>pc150mgsdErr</th><th>pc500mgsdErr</th><th>pc750mgsdErr</th><th>pc1000mgsdErr</th></tr></thead>\n",
       "<thead><tr><th>str8</th><th>str11</th><th>str12</th><th>float64</th><th>float64</th><th>float64</th><th>float64</th><th>float64</th><th>float64</th><th>float64</th><th>float64</th><th>float64</th><th>float64</th><th>float64</th><th>float64</th><th>float64</th><th>float64</th><th>str9</th><th>str112</th><th>str113</th><th>str80</th><th>float64</th><th>float64</th><th>float64</th><th>float64</th><th>float64</th><th>float64</th><th>float64</th><th>float64</th><th>float64</th><th>float64</th><th>float64</th><th>float64</th><th>float64</th><th>float64</th><th>float64</th><th>float64</th><th>float64</th><th>float64</th><th>float64</th><th>float64</th><th>float64</th><th>float64</th><th>float64</th><th>float64</th><th>float64</th><th>float64</th><th>float64</th><th>float64</th><th>float64</th><th>float64</th><th>float64</th><th>float64</th><th>float64</th><th>float64</th><th>float64</th><th>float64</th><th>float64</th><th>float64</th><th>float64</th><th>float64</th><th>float64</th><th>float64</th><th>float64</th><th>float64</th><th>float64</th><th>float64</th><th>float64</th><th>float64</th></tr></thead>\n",
       "<tr><td>ngc1566</td><td>ASASSN-14ha</td><td>II</td><td>65.0059</td><td>-54.9381</td><td>258.9038295074317</td><td>423.1062029210927</td><td>68.05383</td><td>1.8849889</td><td>12.188041</td><td>0.0003484111476313</td><td>65.00159</td><td>-54.93801</td><td>17.69</td><td>214.7</td><td>29.5</td><td>216.83093</td><td>12m+7m+tp</td><td>/data/tycho/0/leroy.42/reduction/alma/phangs-alma/derived/ngc1566/ngc1566_12m+7m+tp_co21_150pc_broad_mom0.fits</td><td>/data/tycho/0/leroy.42/reduction/alma/phangs-alma/derived/ngc1566/ngc1566_12m+7m+tp_co21_150pc_broad_emom0.fits</td><td>/data/kant/0/sun.1608/PHANGS/ALMA/alphaCO/v1p0/NGC1566_alphaCO21_scaling.fits</td><td>107.5715044627487</td><td>67.5704116821289</td><td>nan</td><td>nan</td><td>65.49005889892578</td><td>61.47018814086914</td><td>27.1928653717041</td><td>26.058115005493164</td><td>27.509992599487305</td><td>1.9442304372787476</td><td>nan</td><td>nan</td><td>1.7264034748077393</td><td>1.4010099172592163</td><td>0.592937171459198</td><td>0.40141287446022034</td><td>0.27739909291267395</td><td>12.188040733337402</td><td>nan</td><td>nan</td><td>12.932862281799316</td><td>13.762829780578613</td><td>19.730430603027344</td><td>29.85703468322754</td><td>43.81895446777344</td><td>34.75432252603976</td><td>nan</td><td>nan</td><td>37.93438779206528</td><td>43.875626705857115</td><td>45.86129303511769</td><td>64.91599214532792</td><td>99.17116999422753</td><td>4.303624864500107</td><td>nan</td><td>nan</td><td>281.84464585499353</td><td>264.544630108544</td><td>117.02789155066972</td><td>112.14435165964373</td><td>118.3926881733675</td><td>nan</td><td>nan</td><td>7.4297929203419715</td><td>6.0294211153280015</td><td>2.551779154178168</td><td>1.7275304274574643</td><td>1.193821633648759</td></tr>\n",
       "<tr><td>ngc4321</td><td>SN1901B</td><td>I</td><td>185.6971</td><td>15.8238</td><td>545.5920792633563</td><td>276.5735561756638</td><td>5.0824146</td><td>1.0344207</td><td>2.544713</td><td>0.000462934650464</td><td>185.72887</td><td>15.822304</td><td>15.21</td><td>156.2</td><td>38.5</td><td>182.86105</td><td>12m+7m+tp</td><td>/data/tycho/0/leroy.42/reduction/alma/phangs-alma/derived/ngc4321/ngc4321_12m+7m+tp_co21_150pc_broad_mom0.fits</td><td>/data/tycho/0/leroy.42/reduction/alma/phangs-alma/derived/ngc4321/ngc4321_12m+7m+tp_co21_150pc_broad_emom0.fits</td><td>/data/kant/0/sun.1608/PHANGS/ALMA/alphaCO/v1p0/NGC4321_alphaCO21_scaling.fits</td><td>122.89275219530901</td><td>6.170846462249756</td><td>nan</td><td>nan</td><td>6.170846462249756</td><td>5.9207563400268555</td><td>6.212408065795898</td><td>6.033936977386475</td><td>5.244757175445557</td><td>1.2138640880584717</td><td>nan</td><td>nan</td><td>1.2138640880584717</td><td>0.9734418988227844</td><td>0.27170467376708984</td><td>0.1647694706916809</td><td>0.10345045477151871</td><td>2.744281053543091</td><td>nan</td><td>nan</td><td>2.744281053543091</td><td>4.029609203338623</td><td>10.151252746582031</td><td>13.131563186645508</td><td>13.50499439239502</td><td>5.08363870630672</td><td>nan</td><td>nan</td><td>5.08363870630672</td><td>6.082290424510207</td><td>22.864560920734426</td><td>36.6204792189766</td><td>50.698251515947014</td><td>7.541920043432683</td><td>nan</td><td>nan</td><td>46.540030618587096</td><td>44.65387091312968</td><td>46.853484909408955</td><td>45.50747023056068</td><td>39.55553926443023</td><td>nan</td><td>nan</td><td>9.154865895731323</td><td>7.341620967848728</td><td>2.0491749249783533</td><td>1.2426781735553822</td><td>0.7802150583435432</td></tr>\n",
       "<tr><td>ngc5236</td><td>SN1923A</td><td>II</td><td>204.2883</td><td>-29.8389</td><td>399.09014170428725</td><td>813.7841220160797</td><td>3.1662843</td><td>0.6370633</td><td>6.310522</td><td>0.000594044605435</td><td>204.2539</td><td>-29.865625</td><td>4.89</td><td>225.0</td><td>24.0</td><td>408.43347</td><td>12m+7m+tp</td><td>/data/tycho/0/leroy.42/reduction/alma/phangs-alma/derived/ngc5236/ngc5236_12m+7m+tp_co21_150pc_broad_mom0.fits</td><td>/data/tycho/0/leroy.42/reduction/alma/phangs-alma/derived/ngc5236/ngc5236_12m+7m+tp_co21_150pc_broad_emom0.fits</td><td>/data/kant/0/sun.1608/PHANGS/ALMA/alphaCO/v1p0/NGC5236_alphaCO21_scaling.fits</td><td>50.69968757298903</td><td>3.2454817295074463</td><td>3.041576385498047</td><td>2.633491039276123</td><td>2.526012659072876</td><td>2.545790910720825</td><td>4.164422988891602</td><td>4.582225322723389</td><td>5.0682878494262695</td><td>0.6980839371681213</td><td>0.6445639133453369</td><td>0.5080330967903137</td><td>0.40101930499076843</td><td>0.3165229260921478</td><td>0.040937453508377075</td><td>0.02114437334239483</td><td>0.018885672092437744</td><td>6.310522079467773</td><td>5.9792962074279785</td><td>5.600820541381836</td><td>6.416561603546143</td><td>7.461651802062988</td><td>6.986499786376953</td><td>7.857295036315918</td><td>8.778962135314941</td><td>4.649128216118556</td><td>4.718812708133207</td><td>5.183699754827339</td><td>6.298980192813973</td><td>8.042990573073627</td><td>101.72647861546716</td><td>216.71133253856945</td><td>268.36682457574426</td><td>5.968234117784875</td><td>18.152839955778244</td><td>15.717291069488505</td><td>15.075834933835232</td><td>15.193876170110657</td><td>24.85425136319052</td><td>27.347793506455538</td><td>30.24872846170039</td><td>3.8469083387205734</td><td>3.032060461227856</td><td>2.3933770979362827</td><td>1.889082926564257</td><td>0.2443243067239282</td><td>0.12619457038126183</td><td>0.11271411251938461</td></tr>\n",
       "<tr><td>ngc4303</td><td>SN1926A</td><td>II</td><td>185.4754</td><td>4.4934</td><td>248.12510207394456</td><td>387.43756648042245</td><td>-0.81909573</td><td>0.8172306</td><td>nan</td><td>0.000503635821363</td><td>185.47888</td><td>4.473744</td><td>16.99</td><td>312.4</td><td>23.5</td><td>206.59573</td><td>12m+7m+tp</td><td>/data/tycho/0/leroy.42/reduction/alma/phangs-alma/derived/ngc4303/ngc4303_12m+7m+tp_co21_150pc_broad_mom0.fits</td><td>/data/tycho/0/leroy.42/reduction/alma/phangs-alma/derived/ngc4303/ngc4303_12m+7m+tp_co21_150pc_broad_emom0.fits</td><td>/data/kant/0/sun.1608/PHANGS/ALMA/alphaCO/v1p0/NGC4303_alphaCO21_scaling.fits</td><td>149.34385530047734</td><td>-0.9256303906440735</td><td>nan</td><td>nan</td><td>nan</td><td>-0.9256303906440735</td><td>-0.017320869490504265</td><td>0.37765076756477356</td><td>0.6259422898292542</td><td>0.9652729630470276</td><td>nan</td><td>nan</td><td>nan</td><td>0.9652729630470276</td><td>0.3479021191596985</td><td>0.21922288835048676</td><td>0.11918622255325317</td><td>nan</td><td>nan</td><td>nan</td><td>nan</td><td>nan</td><td>nan</td><td>nan</td><td>1.8840171098709106</td><td>-0.9589312309361526</td><td>nan</td><td>nan</td><td>nan</td><td>-0.9589312309361526</td><td>-0.04978661679997821</td><td>1.722679462926322</td><td>5.2518007234399855</td><td>6.034802902418104</td><td>nan</td><td>nan</td><td>nan</td><td>-5.585996968025258</td><td>-0.10452803347370032</td><td>2.2790479482003203</td><td>3.777438347407817</td><td>nan</td><td>nan</td><td>nan</td><td>5.825232079021925</td><td>2.099520718462357</td><td>1.3229669228939973</td><td>0.7192653617926223</td></tr>\n",
       "<tr><td>ngc1511</td><td>SN1935C</td><td>unclassified</td><td>59.9373</td><td>-67.6374</td><td>112.46713980638378</td><td>194.45954575675466</td><td>2.5883038</td><td>0.76610756</td><td>nan</td><td>0.0004017774799122</td><td>59.90246</td><td>-67.63393</td><td>15.28</td><td>297.0</td><td>72.7</td><td>110.94844</td><td>12m+7m+tp</td><td>/data/tycho/0/leroy.42/reduction/alma/phangs-alma/derived/ngc1511/ngc1511_12m+7m+tp_co21_150pc_broad_mom0.fits</td><td>/data/tycho/0/leroy.42/reduction/alma/phangs-alma/derived/ngc1511/ngc1511_12m+7m+tp_co21_150pc_broad_emom0.fits</td><td>/data/kant/0/sun.1608/PHANGS/ALMA/alphaCO/v1p0/NGC1511_alphaCO21_scaling.fits</td><td>107.1485534400328</td><td>2.4725115299224854</td><td>nan</td><td>nan</td><td>2.206209659576416</td><td>1.6127102375030518</td><td>0.9019374251365662</td><td>1.5616151094436646</td><td>2.019327402114868</td><td>0.8322710990905762</td><td>nan</td><td>nan</td><td>0.7069286704063416</td><td>0.5607772469520569</td><td>0.178204745054245</td><td>0.11592230945825577</td><td>0.08798500895500183</td><td>nan</td><td>nan</td><td>nan</td><td>nan</td><td>nan</td><td>4.277022838592529</td><td>15.667864799499512</td><td>18.242801666259766</td><td>2.9708006593334817</td><td>nan</td><td>nan</td><td>3.120837719466506</td><td>2.875848202238007</td><td>5.061242476242813</td><td>13.471221516734968</td><td>22.950812031486098</td><td>8.975586228764765</td><td>nan</td><td>nan</td><td>19.80202503826188</td><td>14.475019798720345</td><td>8.095417132263314</td><td>14.016411070953538</td><td>18.12464722178954</td><td>nan</td><td>nan</td><td>6.345099238818145</td><td>5.0333045351475</td><td>1.5994920556094172</td><td>1.040470684380128</td><td>0.789717034714259</td></tr>\n",
       "<tr><td>ngc0253</td><td>SN1940E</td><td>I</td><td>11.8783</td><td>-25.2934</td><td>296.9010534051223</td><td>236.26662905273994</td><td>219.30367</td><td>1.465811</td><td>45.862267</td><td>0.00232543637022</td><td>11.887966</td><td>-25.288443</td><td>3.7</td><td>52.48</td><td>75.0</td><td>803.7504</td><td>7m+tp</td><td>/data/tycho/0/leroy.42/reduction/alma/phangs-alma/derived/ngc0253/ngc0253_7m+tp_co21_150pc_broad_mom0.fits</td><td>/data/tycho/0/leroy.42/reduction/alma/phangs-alma/derived/ngc0253/ngc0253_7m+tp_co21_150pc_broad_emom0.fits</td><td>/data/kant/0/sun.1608/PHANGS/ALMA/alphaCO/v1p0/NGC0253_alphaCO21_scaling.fits</td><td>150.1701284517627</td><td>219.3036651611328</td><td>nan</td><td>nan</td><td>nan</td><td>219.3036651611328</td><td>153.83908081054688</td><td>153.87240600585938</td><td>142.72422790527344</td><td>1.465811014175415</td><td>nan</td><td>nan</td><td>nan</td><td>1.465811014175415</td><td>0.18237826228141785</td><td>0.11332354694604874</td><td>0.09203742444515228</td><td>45.862266540527344</td><td>nan</td><td>nan</td><td>nan</td><td>45.862266540527344</td><td>60.678550720214844</td><td>65.11054229736328</td><td>69.24812316894531</td><td>149.61251009871899</td><td>nan</td><td>nan</td><td>nan</td><td>149.61251009871899</td><td>843.5165402177496</td><td>1357.8149480188367</td><td>1550.7194900953239</td><td>4.479999295527447</td><td>nan</td><td>nan</td><td>nan</td><td>982.4802654284622</td><td>689.1989736558401</td><td>689.3482705073634</td><td>639.4044404703238</td><td>nan</td><td>nan</td><td>nan</td><td>6.566832310882233</td><td>0.8170544865402719</td><td>0.50768941048497</td><td>0.41232759667644286</td></tr>\n",
       "<tr><td>ngc5236</td><td>SN1950B</td><td>unclassified</td><td>204.2203</td><td>-29.8655</td><td>823.9876389446778</td><td>622.0369070359835</td><td>59.00484</td><td>0.7553258</td><td>5.7882247</td><td>0.000594044605435</td><td>204.2539</td><td>-29.865625</td><td>4.89</td><td>225.0</td><td>24.0</td><td>408.43347</td><td>12m+7m+tp</td><td>/data/tycho/0/leroy.42/reduction/alma/phangs-alma/derived/ngc5236/ngc5236_12m+7m+tp_co21_150pc_broad_mom0.fits</td><td>/data/tycho/0/leroy.42/reduction/alma/phangs-alma/derived/ngc5236/ngc5236_12m+7m+tp_co21_150pc_broad_emom0.fits</td><td>/data/kant/0/sun.1608/PHANGS/ALMA/alphaCO/v1p0/NGC5236_alphaCO21_scaling.fits</td><td>50.69968757298903</td><td>59.583003997802734</td><td>62.433616638183594</td><td>67.23001861572266</td><td>65.45752716064453</td><td>60.68531036376953</td><td>25.781206130981445</td><td>19.218088150024414</td><td>15.967820167541504</td><td>0.8506538271903992</td><td>0.7330889701843262</td><td>0.5201269388198853</td><td>0.4038389325141907</td><td>0.32495999336242676</td><td>0.06123722717165947</td><td>0.041298795491456985</td><td>0.033832672983407974</td><td>5.788224697113037</td><td>6.1064043045043945</td><td>6.681667804718018</td><td>7.089045524597168</td><td>7.4819512367248535</td><td>10.048575401306152</td><td>11.714366912841797</td><td>13.406866073608398</td><td>70.0437734990246</td><td>85.16512889627221</td><td>129.25694402266623</td><td>162.08820371310878</td><td>186.74701995112184</td><td>421.0054458983238</td><td>465.34258254577526</td><td>471.9644875642061</td><td>5.51702041727061</td><td>344.44753771690495</td><td>370.90938535642505</td><td>361.13051380932137</td><td>334.8020963053202</td><td>142.23544060648686</td><td>106.02658470459104</td><td>88.09478988363189</td><td>4.044466816182813</td><td>2.8695509410417683</td><td>2.2279876359695576</td><td>1.7928109181766303</td><td>0.33784703260308385</td><td>0.2278462979350516</td><td>0.18665554762030154</td></tr>\n",
       "<tr><td>ngc5236</td><td>SN1957D</td><td>unclassified</td><td>204.2647</td><td>-29.828</td><td>546.7621815937086</td><td>892.0135629822324</td><td>41.320827</td><td>0.6190958</td><td>5.3402543</td><td>0.000594044605435</td><td>204.2539</td><td>-29.865625</td><td>4.89</td><td>225.0</td><td>24.0</td><td>408.43347</td><td>12m+7m+tp</td><td>/data/tycho/0/leroy.42/reduction/alma/phangs-alma/derived/ngc5236/ngc5236_12m+7m+tp_co21_150pc_broad_mom0.fits</td><td>/data/tycho/0/leroy.42/reduction/alma/phangs-alma/derived/ngc5236/ngc5236_12m+7m+tp_co21_150pc_broad_emom0.fits</td><td>/data/kant/0/sun.1608/PHANGS/ALMA/alphaCO/v1p0/NGC5236_alphaCO21_scaling.fits</td><td>50.69968757298903</td><td>41.36034393310547</td><td>38.501529693603516</td><td>31.9804630279541</td><td>27.75986671447754</td><td>24.643875122070312</td><td>11.990213394165039</td><td>9.148086547851562</td><td>7.823264122009277</td><td>0.666938841342926</td><td>0.5762447714805603</td><td>0.41536277532577515</td><td>0.3214409649372101</td><td>0.26038581132888794</td><td>0.04305550456047058</td><td>0.023344073444604874</td><td>0.02128056064248085</td><td>5.340254306793213</td><td>5.422938346862793</td><td>5.8041486740112305</td><td>6.14930534362793</td><td>6.498789310455322</td><td>9.267144203186035</td><td>9.767258644104004</td><td>10.247411727905273</td><td>62.01519745022444</td><td>66.81454062425688</td><td>76.99405177286614</td><td>86.36069991856863</td><td>94.64369427926755</td><td>278.4827054418798</td><td>391.88047319846856</td><td>367.62490676078613</td><td>5.949818126728154</td><td>229.07709927776446</td><td>190.27793862488085</td><td>165.16615817335597</td><td>146.62657491411895</td><td>71.33958899594185</td><td>54.42945116728521</td><td>46.546998683312815</td><td>3.42855158678736</td><td>2.4713329698014106</td><td>1.9125152798564016</td><td>1.5492482201874345</td><td>0.2561724214893146</td><td>0.13889299133238342</td><td>0.1266154654575703</td></tr>\n",
       "<tr><td>ngc4321</td><td>SN1959E</td><td>I</td><td>185.7454</td><td>15.817</td><td>126.93916867260555</td><td>215.7177371879258</td><td>18.02512</td><td>1.2416003</td><td>7.186052</td><td>0.000462934650464</td><td>185.72887</td><td>15.822304</td><td>15.21</td><td>156.2</td><td>38.5</td><td>182.86105</td><td>12m+7m+tp</td><td>/data/tycho/0/leroy.42/reduction/alma/phangs-alma/derived/ngc4321/ngc4321_12m+7m+tp_co21_150pc_broad_mom0.fits</td><td>/data/tycho/0/leroy.42/reduction/alma/phangs-alma/derived/ngc4321/ngc4321_12m+7m+tp_co21_150pc_broad_emom0.fits</td><td>/data/kant/0/sun.1608/PHANGS/ALMA/alphaCO/v1p0/NGC4321_alphaCO21_scaling.fits</td><td>122.89275219530901</td><td>17.931827545166016</td><td>nan</td><td>nan</td><td>17.931827545166016</td><td>17.329782485961914</td><td>13.814295768737793</td><td>12.935508728027344</td><td>11.65188980102539</td><td>1.3531885147094727</td><td>nan</td><td>nan</td><td>1.3531885147094727</td><td>1.0754051208496094</td><td>0.2787444591522217</td><td>0.1457546502351761</td><td>0.08170046657323837</td><td>7.186051845550537</td><td>nan</td><td>nan</td><td>7.186051845550537</td><td>7.293866157531738</td><td>10.673908233642578</td><td>12.660531044006348</td><td>14.531937599182129</td><td>13.25153690726968</td><td>nan</td><td>nan</td><td>13.25153690726968</td><td>16.114654979763117</td><td>49.558996834422594</td><td>88.74851476200462</td><td>142.61717576092838</td><td>5.666640005089257</td><td>nan</td><td>nan</td><td>101.61321133179923</td><td>98.20163871444694</td><td>78.28064104526483</td><td>73.300871244421</td><td>66.02706488138199</td><td>nan</td><td>nan</td><td>7.668032171880011</td><td>6.093933679484244</td><td>1.5795445034289477</td><td>0.8259391319504411</td><td>0.46296713231837017</td></tr>\n",
       "<tr><td>ngc4496a</td><td>SN1960F</td><td>Ia</td><td>187.9252</td><td>3.9466</td><td>66.42165125156563</td><td>353.7510142763567</td><td>0.02642009</td><td>0.8255818</td><td>nan</td><td>0.0003482539090036</td><td>187.91354</td><td>3.939608</td><td>14.86</td><td>51.1</td><td>53.8</td><td>101.18619</td><td>12m+7m+tp</td><td>/data/tycho/0/leroy.42/reduction/alma/phangs-alma/derived/ngc4496a/ngc4496a_12m+7m+tp_co21_150pc_broad_mom0.fits</td><td>/data/tycho/0/leroy.42/reduction/alma/phangs-alma/derived/ngc4496a/ngc4496a_12m+7m+tp_co21_150pc_broad_emom0.fits</td><td>/data/kant/0/sun.1608/PHANGS/ALMA/alphaCO/v1p0/NGC4496A_alphaCO21_scaling.fits</td><td>90.32171534735664</td><td>-0.3033433258533478</td><td>nan</td><td>-0.3033433258533478</td><td>-0.06782698631286621</td><td>-0.042533956468105316</td><td>2.156248092651367</td><td>1.8859795331954956</td><td>1.4939630031585693</td><td>0.8615610003471375</td><td>nan</td><td>0.8615610003471375</td><td>0.675987720489502</td><td>0.5871729254722595</td><td>0.22897031903266907</td><td>0.14924068748950958</td><td>0.10139285027980804</td><td>nan</td><td>nan</td><td>nan</td><td>nan</td><td>nan</td><td>6.038199424743652</td><td>6.539390563964844</td><td>7.151946067810059</td><td>-0.35208572083825246</td><td>nan</td><td>-0.35208572083825246</td><td>-0.10033760119747553</td><td>-0.07243855195451242</td><td>9.417151103954733</td><td>12.63716728273625</td><td>14.734401873857626</td><td>8.536847498141164</td><td>nan</td><td>-2.589595712388972</td><td>-0.5790286384114469</td><td>-0.36310589986079006</td><td>18.40756113512248</td><td>16.100319659505406</td><td>12.753734325829692</td><td>nan</td><td>7.355014870309459</td><td>5.770804080434953</td><td>5.012605719794086</td><td>1.954684695182625</td><td>1.2740449896156871</td><td>0.8655753002405809</td></tr>\n",
       "<tr><td>...</td><td>...</td><td>...</td><td>...</td><td>...</td><td>...</td><td>...</td><td>...</td><td>...</td><td>...</td><td>...</td><td>...</td><td>...</td><td>...</td><td>...</td><td>...</td><td>...</td><td>...</td><td>...</td><td>...</td><td>...</td><td>...</td><td>...</td><td>...</td><td>...</td><td>...</td><td>...</td><td>...</td><td>...</td><td>...</td><td>...</td><td>...</td><td>...</td><td>...</td><td>...</td><td>...</td><td>...</td><td>...</td><td>...</td><td>...</td><td>...</td><td>...</td><td>...</td><td>...</td><td>...</td><td>...</td><td>...</td><td>...</td><td>...</td><td>...</td><td>...</td><td>...</td><td>...</td><td>...</td><td>...</td><td>...</td><td>...</td><td>...</td><td>...</td><td>...</td><td>...</td><td>...</td><td>...</td><td>...</td><td>...</td><td>...</td><td>...</td><td>...</td><td>...</td></tr>\n",
       "<tr><td>ngc4254</td><td>SN2014L</td><td>Ic</td><td>184.7029</td><td>14.4121</td><td>266.1503904555237</td><td>160.92822020115597</td><td>43.083294</td><td>1.0075488</td><td>7.9191947</td><td>0.000494815869629</td><td>184.7068</td><td>14.416412</td><td>13.1</td><td>68.1</td><td>34.4</td><td>151.0502</td><td>12m+7m+tp</td><td>/data/tycho/0/leroy.42/reduction/alma/phangs-alma/derived/ngc4254/ngc4254_12m+7m+tp_co21_150pc_broad_mom0.fits</td><td>/data/tycho/0/leroy.42/reduction/alma/phangs-alma/derived/ngc4254/ngc4254_12m+7m+tp_co21_150pc_broad_emom0.fits</td><td>/data/kant/0/sun.1608/PHANGS/ALMA/alphaCO/v1p0/NGC4254_alphaCO21_scaling.fits</td><td>113.13377612114876</td><td>42.471534729003906</td><td>nan</td><td>nan</td><td>42.471534729003906</td><td>44.8104362487793</td><td>37.55014419555664</td><td>30.816030502319336</td><td>27.01165771484375</td><td>1.3062145709991455</td><td>nan</td><td>nan</td><td>1.3062145709991455</td><td>0.9495238065719604</td><td>0.25436732172966003</td><td>0.14091558754444122</td><td>0.09083516895771027</td><td>7.91919469833374</td><td>nan</td><td>nan</td><td>7.91919469833374</td><td>8.315178871154785</td><td>12.341151237487793</td><td>15.408178329467773</td><td>18.813976287841797</td><td>32.514975465720546</td><td>nan</td><td>nan</td><td>32.514975465720546</td><td>47.19253581493357</td><td>147.62173041812616</td><td>218.68432754183945</td><td>297.3700387723113</td><td>5.041903528917619</td><td>nan</td><td>nan</td><td>214.137380828712</td><td>225.92989665505831</td><td>189.32420453094247</td><td>155.37145293687684</td><td>136.1901723543855</td><td>nan</td><td>nan</td><td>6.585807855044205</td><td>4.787407431146458</td><td>1.2824954970700961</td><td>0.7104827981198178</td><td>0.4579821589177075</td></tr>\n",
       "<tr><td>ngc4303</td><td>SN2014dt</td><td>Ia</td><td>185.4899</td><td>4.4718</td><td>117.55593676008563</td><td>193.2507615691672</td><td>0.83079255</td><td>0.97850513</td><td>nan</td><td>0.000503635821363</td><td>185.47888</td><td>4.473744</td><td>16.99</td><td>312.4</td><td>23.5</td><td>206.59573</td><td>12m+7m+tp</td><td>/data/tycho/0/leroy.42/reduction/alma/phangs-alma/derived/ngc4303/ngc4303_12m+7m+tp_co21_150pc_broad_mom0.fits</td><td>/data/tycho/0/leroy.42/reduction/alma/phangs-alma/derived/ngc4303/ngc4303_12m+7m+tp_co21_150pc_broad_emom0.fits</td><td>/data/kant/0/sun.1608/PHANGS/ALMA/alphaCO/v1p0/NGC4303_alphaCO21_scaling.fits</td><td>149.34385530047734</td><td>1.2786945104599</td><td>nan</td><td>nan</td><td>nan</td><td>1.2786945104599</td><td>7.3714094161987305</td><td>8.077857971191406</td><td>7.585595607757568</td><td>0.9955321550369263</td><td>nan</td><td>nan</td><td>nan</td><td>0.9955321550369263</td><td>0.28358590602874756</td><td>0.16101515293121338</td><td>0.10144851356744766</td><td>nan</td><td>nan</td><td>nan</td><td>nan</td><td>nan</td><td>6.591657638549805</td><td>8.04549789428711</td><td>9.11156177520752</td><td>1.2844331586783055</td><td>nan</td><td>nan</td><td>nan</td><td>1.2844331586783055</td><td>25.993567590948892</td><td>50.16830915685504</td><td>74.77286104063332</td><td>5.105068947737125</td><td>nan</td><td>nan</td><td>nan</td><td>6.52782363899076</td><td>37.63155331169319</td><td>41.23802189296006</td><td>38.72498858725429</td><td>nan</td><td>nan</td><td>nan</td><td>5.082260291152834</td><td>1.4477256028832577</td><td>0.8219934573442818</td><td>0.5179016564072655</td></tr>\n",
       "<tr><td>ngc5128</td><td>SN2016adj</td><td>IIb</td><td>201.3505</td><td>-43.016</td><td>226.2426565431022</td><td>145.08138963317262</td><td>67.57131</td><td>1.4254165</td><td>35.12788</td><td>0.002258955715078</td><td>201.36507</td><td>-43.01911</td><td>3.69</td><td>32.17</td><td>45.33</td><td>767.57574</td><td>7m+tp</td><td>/data/tycho/0/leroy.42/reduction/alma/phangs-alma/derived/ngc5128/ngc5128_7m+tp_co21_150pc_broad_mom0.fits</td><td>/data/tycho/0/leroy.42/reduction/alma/phangs-alma/derived/ngc5128/ngc5128_7m+tp_co21_150pc_broad_emom0.fits</td><td>/data/kant/0/sun.1608/PHANGS/ALMA/alphaCO/v1p0/NGC5128_alphaCO21_scaling.fits</td><td>145.48273291568873</td><td>67.5713119506836</td><td>nan</td><td>nan</td><td>nan</td><td>67.5713119506836</td><td>67.86510467529297</td><td>53.374263763427734</td><td>43.1256217956543</td><td>1.4254164695739746</td><td>nan</td><td>nan</td><td>nan</td><td>1.4254164695739746</td><td>0.17181427776813507</td><td>0.11165882647037506</td><td>0.09297400712966919</td><td>35.12788009643555</td><td>nan</td><td>nan</td><td>nan</td><td>35.12788009643555</td><td>67.25611877441406</td><td>84.099365234375</td><td>96.3857650756836</td><td>47.40461008625722</td><td>nan</td><td>nan</td><td>nan</td><td>47.40461008625722</td><td>394.99106568359554</td><td>478.0120430299239</td><td>463.8460052120563</td><td>4.342529442607942</td><td>nan</td><td>nan</td><td>nan</td><td>293.4304116214894</td><td>294.70621517812964</td><td>231.77931187020712</td><td>187.27428237840357</td><td>nan</td><td>nan</td><td>nan</td><td>6.189912987103253</td><td>0.7461085598685457</td><td>0.48488174147465474</td><td>0.4037423633578292</td></tr>\n",
       "<tr><td>ngc3627</td><td>SN2016cok</td><td>II</td><td>170.0797</td><td>12.9825</td><td>61.367765356577905</td><td>351.20979461614627</td><td>4.8749094</td><td>1.2110753</td><td>3.370604</td><td>0.0004517319625788</td><td>170.06252</td><td>12.9915</td><td>11.32</td><td>173.1</td><td>57.3</td><td>308.40494</td><td>12m+7m+tp</td><td>/data/tycho/0/leroy.42/reduction/alma/phangs-alma/derived/ngc3627/ngc3627_12m+7m+tp_co21_150pc_broad_mom0.fits</td><td>/data/tycho/0/leroy.42/reduction/alma/phangs-alma/derived/ngc3627/ngc3627_12m+7m+tp_co21_150pc_broad_emom0.fits</td><td>/data/kant/0/sun.1608/PHANGS/ALMA/alphaCO/v1p0/NGC3627_alphaCO21_scaling.fits</td><td>89.24925814494215</td><td>3.447918653488159</td><td>nan</td><td>3.447918653488159</td><td>3.8477632999420166</td><td>3.6405117511749268</td><td>4.7616472244262695</td><td>4.767528057098389</td><td>4.777758598327637</td><td>1.6142840385437012</td><td>nan</td><td>1.6142840385437012</td><td>1.1600689888000488</td><td>0.9202136993408203</td><td>0.26981982588768005</td><td>0.149191215634346</td><td>0.08997344970703125</td><td>3.4816348552703857</td><td>nan</td><td>3.4816348552703857</td><td>4.639389991760254</td><td>5.337199687957764</td><td>10.03156852722168</td><td>12.52772331237793</td><td>16.16504669189453</td><td>2.135881029089924</td><td>nan</td><td>2.135881029089924</td><td>3.3168400647637886</td><td>3.9561590462984264</td><td>17.64750684558086</td><td>31.955822846722846</td><td>53.101871873145086</td><td>6.169747163148866</td><td>nan</td><td>21.27278633112663</td><td>23.739726704285577</td><td>22.461037049221616</td><td>29.37815945481965</td><td>29.41444270551541</td><td>29.477562558242038</td><td>nan</td><td>9.959724367321495</td><td>7.157332352706075</td><td>5.6774858609987495</td><td>1.664720105331835</td><td>0.920472079426737</td><td>0.5551134360886733</td></tr>\n",
       "<tr><td>ngc1672</td><td>SN2017gax</td><td>Ib/c</td><td>71.4561</td><td>-59.2451</td><td>141.99209028039974</td><td>128.8067849585691</td><td>7.5910697</td><td>0.95719075</td><td>5.087848</td><td>0.0005367684873776</td><td>71.42704</td><td>-59.247257</td><td>19.4</td><td>134.3</td><td>42.6</td><td>184.55309</td><td>12m+7m+tp</td><td>/data/tycho/0/leroy.42/reduction/alma/phangs-alma/derived/ngc1672/ngc1672_12m+7m+tp_co21_150pc_broad_mom0.fits</td><td>/data/tycho/0/leroy.42/reduction/alma/phangs-alma/derived/ngc1672/ngc1672_12m+7m+tp_co21_150pc_broad_emom0.fits</td><td>/data/kant/0/sun.1608/PHANGS/ALMA/alphaCO/v1p0/NGC1672_alphaCO21_scaling.fits</td><td>181.746522057697</td><td>7.968021392822266</td><td>nan</td><td>nan</td><td>nan</td><td>nan</td><td>4.921538352966309</td><td>3.655991315841675</td><td>3.0297727584838867</td><td>1.0036436319351196</td><td>nan</td><td>nan</td><td>nan</td><td>nan</td><td>0.3785824179649353</td><td>0.23900316655635834</td><td>0.15954037010669708</td><td>5.08784818649292</td><td>nan</td><td>nan</td><td>nan</td><td>nan</td><td>6.036718368530273</td><td>6.427026748657227</td><td>7.19545841217041</td><td>7.9390942554571575</td><td>nan</td><td>nan</td><td>nan</td><td>nan</td><td>12.99991261987805</td><td>15.296832123684732</td><td>18.99063388443716</td><td>5.921435494903507</td><td>nan</td><td>nan</td><td>nan</td><td>nan</td><td>29.142571892783646</td><td>21.648716746683874</td><td>17.940603953578197</td><td>nan</td><td>nan</td><td>nan</td><td>nan</td><td>2.241751367483963</td><td>1.4152418338411552</td><td>0.9447080104198385</td></tr>\n",
       "<tr><td>ngc1068</td><td>SN2018ivc</td><td>II</td><td>40.672</td><td>-0.0088</td><td>41.400000046852824</td><td>53.87249997022789</td><td>127.77749</td><td>0.6721418</td><td>32.0753</td><td>0.002414131938401</td><td>40.66973</td><td>-0.0132779</td><td>13.97</td><td>72.65</td><td>34.7</td><td>183.28261</td><td>7m+tp</td><td>/data/tycho/0/leroy.42/reduction/alma/phangs-alma/derived/ngc1068/ngc1068_7m+tp_co21_150pc_broad_mom0.fits</td><td>/data/tycho/0/leroy.42/reduction/alma/phangs-alma/derived/ngc1068/ngc1068_7m+tp_co21_150pc_broad_emom0.fits</td><td>/data/kant/0/sun.1608/PHANGS/ALMA/alphaCO/v1p0/NGC1068_alphaCO21_scaling.fits</td><td>588.6196760664847</td><td>127.7774887084961</td><td>nan</td><td>nan</td><td>nan</td><td>nan</td><td>nan</td><td>128.53480529785156</td><td>122.50003814697266</td><td>0.6721417903900146</td><td>nan</td><td>nan</td><td>nan</td><td>nan</td><td>nan</td><td>0.4782250225543976</td><td>0.3369501829147339</td><td>32.07529830932617</td><td>nan</td><td>nan</td><td>nan</td><td>nan</td><td>nan</td><td>36.46405792236328</td><td>44.54560470581055</td><td>190.10496079160973</td><td>nan</td><td>nan</td><td>nan</td><td>nan</td><td>nan</td><td>268.77473832568194</td><td>363.55533950836764</td><td>6.692307692307692</td><td>nan</td><td>nan</td><td>nan</td><td>nan</td><td>nan</td><td>860.1944662240835</td><td>819.8079475989707</td><td>nan</td><td>nan</td><td>nan</td><td>nan</td><td>nan</td><td>3.2004289970948143</td><td>2.2549743010447574</td></tr>\n",
       "<tr><td>ngc4321</td><td>SN2019ehk</td><td>Ib</td><td>185.7339</td><td>15.8261</td><td>226.5345602297337</td><td>297.43737308210586</td><td>1.0024955</td><td>1.6639854</td><td>4.194681</td><td>0.000462934650464</td><td>185.72887</td><td>15.822304</td><td>15.21</td><td>156.2</td><td>38.5</td><td>182.86105</td><td>12m+7m+tp</td><td>/data/tycho/0/leroy.42/reduction/alma/phangs-alma/derived/ngc4321/ngc4321_12m+7m+tp_co21_150pc_broad_mom0.fits</td><td>/data/tycho/0/leroy.42/reduction/alma/phangs-alma/derived/ngc4321/ngc4321_12m+7m+tp_co21_150pc_broad_emom0.fits</td><td>/data/kant/0/sun.1608/PHANGS/ALMA/alphaCO/v1p0/NGC4321_alphaCO21_scaling.fits</td><td>122.89275219530901</td><td>0.8533687591552734</td><td>nan</td><td>nan</td><td>0.8533687591552734</td><td>0.2082773596048355</td><td>2.4250617027282715</td><td>2.966567039489746</td><td>4.255796909332275</td><td>1.927997350692749</td><td>nan</td><td>nan</td><td>1.927997350692749</td><td>1.5100401639938354</td><td>0.45335203409194946</td><td>0.2685282230377197</td><td>0.16156423091888428</td><td>5.009367942810059</td><td>nan</td><td>nan</td><td>5.009367942810059</td><td>4.499788761138916</td><td>5.565593719482422</td><td>8.745107650756836</td><td>15.169445991516113</td><td>0.4426192592270157</td><td>nan</td><td>nan</td><td>0.4426192592270157</td><td>0.1379283575173076</td><td>5.349180152209082</td><td>11.047505569174518</td><td>26.341207364574164</td><td>4.7004750944643545</td><td>nan</td><td>nan</td><td>4.011238598803313</td><td>0.9790025415633256</td><td>11.39894213621356</td><td>13.944274485180404</td><td>20.004267379414735</td><td>nan</td><td>nan</td><td>9.062503529124525</td><td>7.097906182493893</td><td>2.1309699452739634</td><td>1.262210224549571</td><td>0.7594286435905033</td></tr>\n",
       "<tr><td>ngc4303</td><td>SN2020jfo</td><td>II</td><td>185.4602</td><td>4.4817</td><td>384.5072981494762</td><td>282.48710935329683</td><td>2.1475408</td><td>0.9978762</td><td>nan</td><td>0.000503635821363</td><td>185.47888</td><td>4.473744</td><td>16.99</td><td>312.4</td><td>23.5</td><td>206.59573</td><td>12m+7m+tp</td><td>/data/tycho/0/leroy.42/reduction/alma/phangs-alma/derived/ngc4303/ngc4303_12m+7m+tp_co21_150pc_broad_mom0.fits</td><td>/data/tycho/0/leroy.42/reduction/alma/phangs-alma/derived/ngc4303/ngc4303_12m+7m+tp_co21_150pc_broad_emom0.fits</td><td>/data/kant/0/sun.1608/PHANGS/ALMA/alphaCO/v1p0/NGC4303_alphaCO21_scaling.fits</td><td>149.34385530047734</td><td>1.3566794395446777</td><td>nan</td><td>nan</td><td>nan</td><td>1.3566794395446777</td><td>2.7067763805389404</td><td>3.2575535774230957</td><td>3.7856345176696777</td><td>1.066467523574829</td><td>nan</td><td>nan</td><td>nan</td><td>1.066467523574829</td><td>0.315779447555542</td><td>0.1994115263223648</td><td>0.11968716233968735</td><td>nan</td><td>nan</td><td>nan</td><td>nan</td><td>nan</td><td>5.4874982833862305</td><td>7.451867580413818</td><td>7.868338108062744</td><td>1.2721244759493942</td><td>nan</td><td>nan</td><td>nan</td><td>1.2721244759493942</td><td>8.571730685743407</td><td>16.335833928461074</td><td>31.62941157319418</td><td>6.020168475470855</td><td>nan</td><td>nan</td><td>nan</td><td>8.167438793266337</td><td>16.29524983626963</td><td>19.611021353959828</td><td>22.790157582929307</td><td>nan</td><td>nan</td><td>nan</td><td>6.420314165538657</td><td>1.901045475375476</td><td>1.200490984411427</td><td>0.7205368816359483</td></tr>\n",
       "<tr><td>ngc4457</td><td>SN2020nvb</td><td>Ia</td><td>187.245</td><td>3.5728</td><td>183.98007804730452</td><td>193.58000473666854</td><td>14.789048</td><td>2.2111452</td><td>6.346348</td><td>0.0003086113495887</td><td>187.24593</td><td>3.57062</td><td>15.1</td><td>78.7</td><td>17.4</td><td>83.77631</td><td>12m+7m+tp</td><td>/data/tycho/0/leroy.42/reduction/alma/phangs-alma/derived/ngc4457/ngc4457_12m+7m+tp_co21_150pc_broad_mom0.fits</td><td>/data/tycho/0/leroy.42/reduction/alma/phangs-alma/derived/ngc4457/ngc4457_12m+7m+tp_co21_150pc_broad_emom0.fits</td><td>/data/kant/0/sun.1608/PHANGS/ALMA/alphaCO/v1p0/NGC4457_alphaCO21_scaling.fits</td><td>81.33289080602722</td><td>14.789048194885254</td><td>nan</td><td>14.358511924743652</td><td>13.185251235961914</td><td>12.403838157653809</td><td>23.569425582885742</td><td>26.61707878112793</td><td>25.024417877197266</td><td>2.2111451625823975</td><td>nan</td><td>1.9452532529830933</td><td>1.473581075668335</td><td>1.22211754322052</td><td>0.4214463531970978</td><td>0.22742220759391785</td><td>0.15869341790676117</td><td>6.346347808837891</td><td>nan</td><td>6.596534729003906</td><td>7.62722635269165</td><td>8.198078155517578</td><td>36.12444305419922</td><td>48.075889587402344</td><td>52.21161651611328</td><td>6.688411256370485</td><td>nan</td><td>7.381307242501471</td><td>8.947760970655661</td><td>10.149464121893919</td><td>55.92509083086794</td><td>117.03816906330907</td><td>157.6903327641486</td><td>4.685476556258602</td><td>nan</td><td>67.27647100614597</td><td>61.779185554479305</td><td>58.11789289531281</td><td>110.43399101309289</td><td>124.7136986250632</td><td>117.25132329762644</td><td>nan</td><td>9.114438512838067</td><td>6.904429583790317</td><td>5.726203097752106</td><td>1.9746770076256843</td><td>1.065581422053879</td><td>0.7435542892346785</td></tr>\n",
       "<tr><td>ngc4321</td><td>SN2020oi</td><td>Ic</td><td>185.7289</td><td>15.8236</td><td>269.85879623875906</td><td>275.31590763214297</td><td>14.004269</td><td>2.045856</td><td>10.249046</td><td>0.000462934650464</td><td>185.72887</td><td>15.822304</td><td>15.21</td><td>156.2</td><td>38.5</td><td>182.86105</td><td>12m+7m+tp</td><td>/data/tycho/0/leroy.42/reduction/alma/phangs-alma/derived/ngc4321/ngc4321_12m+7m+tp_co21_150pc_broad_mom0.fits</td><td>/data/tycho/0/leroy.42/reduction/alma/phangs-alma/derived/ngc4321/ngc4321_12m+7m+tp_co21_150pc_broad_emom0.fits</td><td>/data/kant/0/sun.1608/PHANGS/ALMA/alphaCO/v1p0/NGC4321_alphaCO21_scaling.fits</td><td>122.89275219530901</td><td>14.31391429901123</td><td>nan</td><td>nan</td><td>14.31391429901123</td><td>18.77669906616211</td><td>108.43074798583984</td><td>107.32831573486328</td><td>91.32445526123047</td><td>2.0576884746551514</td><td>nan</td><td>nan</td><td>2.0576884746551514</td><td>1.6606816053390503</td><td>0.5176824331283569</td><td>0.295414537191391</td><td>0.1725476235151291</td><td>10.249046325683594</td><td>nan</td><td>nan</td><td>10.249046325683594</td><td>12.527762413024902</td><td>44.11170959472656</td><td>49.51082229614258</td><td>52.91892623901367</td><td>6.956307757621135</td><td>nan</td><td>nan</td><td>6.956307757621135</td><td>11.306621935111153</td><td>209.45417701464663</td><td>363.314265964265</td><td>529.2710116823085</td><td>4.246785193560719</td><td>nan</td><td>nan</td><td>60.78811930693794</td><td>79.74060757812262</td><td>460.4820950729784</td><td>455.80030211262726</td><td>387.8353444133918</td><td>nan</td><td>nan</td><td>8.738560947126036</td><td>7.052558052772524</td><td>2.198486091975993</td><td>1.2545620825069914</td><td>0.7327726927281395</td></tr>\n",
       "</table>"
      ],
      "text/plain": [
       "<Table length=63>\n",
       " galaxy    SN_name     SN_type    ...     pc750mgsdErr       pc1000mgsdErr   \n",
       "  str8      str11       str12     ...       float64             float64      \n",
       "-------- ----------- ------------ ... ------------------- -------------------\n",
       " ngc1566 ASASSN-14ha           II ...  1.7275304274574643   1.193821633648759\n",
       " ngc4321     SN1901B            I ...  1.2426781735553822  0.7802150583435432\n",
       " ngc5236     SN1923A           II ... 0.12619457038126183 0.11271411251938461\n",
       " ngc4303     SN1926A           II ...  1.3229669228939973  0.7192653617926223\n",
       " ngc1511     SN1935C unclassified ...   1.040470684380128   0.789717034714259\n",
       " ngc0253     SN1940E            I ...    0.50768941048497 0.41232759667644286\n",
       " ngc5236     SN1950B unclassified ...  0.2278462979350516 0.18665554762030154\n",
       " ngc5236     SN1957D unclassified ... 0.13889299133238342  0.1266154654575703\n",
       " ngc4321     SN1959E            I ...  0.8259391319504411 0.46296713231837017\n",
       "ngc4496a     SN1960F           Ia ...  1.2740449896156871  0.8655753002405809\n",
       "     ...         ...          ... ...                 ...                 ...\n",
       " ngc4254     SN2014L           Ic ...  0.7104827981198178  0.4579821589177075\n",
       " ngc4303    SN2014dt           Ia ...  0.8219934573442818  0.5179016564072655\n",
       " ngc5128   SN2016adj          IIb ... 0.48488174147465474  0.4037423633578292\n",
       " ngc3627   SN2016cok           II ...   0.920472079426737  0.5551134360886733\n",
       " ngc1672   SN2017gax         Ib/c ...  1.4152418338411552  0.9447080104198385\n",
       " ngc1068   SN2018ivc           II ...  3.2004289970948143  2.2549743010447574\n",
       " ngc4321   SN2019ehk           Ib ...   1.262210224549571  0.7594286435905033\n",
       " ngc4303   SN2020jfo           II ...   1.200490984411427  0.7205368816359483\n",
       " ngc4457   SN2020nvb           Ia ...   1.065581422053879  0.7435542892346785\n",
       " ngc4321    SN2020oi           Ic ...  1.2545620825069914  0.7327726927281395"
      ]
     },
     "execution_count": 5,
     "metadata": {},
     "output_type": "execute_result"
    }
   ],
   "source": [
    "database"
   ]
  },
  {
   "cell_type": "code",
   "execution_count": 6,
   "id": "activated-recipient",
   "metadata": {},
   "outputs": [
    {
     "name": "stdout",
     "output_type": "stream",
     "text": [
      "number of Type Ia:  13\n",
      "number of Type II:  34\n",
      "number of Type Ib/c:  9\n",
      "number of unclassified:  7\n",
      "\n",
      "total number of typed =  56\n",
      "\n",
      "percent II =  60.7\n",
      "percent Ia =  23.2\n",
      "percent Ibc =  16.1\n"
     ]
    }
   ],
   "source": [
    "# Type Statistics\n",
    "\n",
    "database_by_type = database.group_by('SN_type')\n",
    "numTypeII, numTypeIa, numTypeIbc, numUnclassified = 0,0,0,0\n",
    "\n",
    "# for key, group in zip(database_by_type.groups.keys, database_by_type.groups):\n",
    "#     print(key['SN_type'],\":\",len(group))\n",
    "#     print('')\n",
    "    \n",
    "for i in range(len(database['SN_type'])):\n",
    "    if database['SN_type'][i] == \"I\" or database['SN_type'][i] == \"unclassified\":\n",
    "        numUnclassified += 1\n",
    "    elif database['SN_type'][i] == \"II\":\n",
    "        numTypeII += 1\n",
    "    elif database['SN_type'][i] == \"Ia\":\n",
    "        numTypeIa += 1 \n",
    "    elif database['SN_type'][i] == \"Ib\" or database['SN_type'][i] == \"Ib/c\" or database['SN_type'][i] == \"Ic\"or database['SN_type'][i] == \"IIb\":\n",
    "        numTypeIbc += 1\n",
    "    else:\n",
    "        print(database['SN_type'][i], \"something fucked up.\")\n",
    "\n",
    "totalTyped = numTypeII + numTypeIa + numTypeIbc        \n",
    "        \n",
    "def percent(number, total):\n",
    "    per = round(number/total * 100, 1)\n",
    "    return(per)\n",
    "        \n",
    "perII = percent(numTypeII, totalTyped)\n",
    "perIa = percent(numTypeIa, totalTyped) \n",
    "perIbc = percent(numTypeIbc, totalTyped) \n",
    "    \n",
    "    \n",
    "print(\"number of Type Ia: \", numTypeIa)\n",
    "print(\"number of Type II: \", numTypeII)\n",
    "print(\"number of Type Ib/c: \", numTypeIbc)\n",
    "print(\"number of unclassified: \", numUnclassified)\n",
    "print()\n",
    "print(\"total number of typed = \", totalTyped)\n",
    "print()\n",
    "print(\"percent II = \", perII)\n",
    "print(\"percent Ia = \", perIa)\n",
    "print(\"percent Ibc = \", perIbc)"
   ]
  },
  {
   "cell_type": "code",
   "execution_count": null,
   "id": "c6f86fd3",
   "metadata": {},
   "outputs": [],
   "source": []
  }
 ],
 "metadata": {
  "kernelspec": {
   "display_name": "Python 3",
   "language": "python",
   "name": "python3"
  },
  "language_info": {
   "codemirror_mode": {
    "name": "ipython",
    "version": 3
   },
   "file_extension": ".py",
   "mimetype": "text/x-python",
   "name": "python",
   "nbconvert_exporter": "python",
   "pygments_lexer": "ipython3",
   "version": "3.8.10"
  }
 },
 "nbformat": 4,
 "nbformat_minor": 5
}
