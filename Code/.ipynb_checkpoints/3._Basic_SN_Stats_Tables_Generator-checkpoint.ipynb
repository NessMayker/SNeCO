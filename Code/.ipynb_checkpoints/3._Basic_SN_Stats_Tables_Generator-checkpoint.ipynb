{
 "cells": [
  {
   "cell_type": "markdown",
   "id": "posted-motion",
   "metadata": {},
   "source": [
    "This notebook takes '2.SNeCOMasterCatManualClean.txt' (see prepwork below) and converts it into a data frame and performs some basic statistics on the supernova sample.\n",
    "\n",
    "Honestly this code isn't doing a whole lot right now but keep it available to potentially run more simple statistics.\n",
    "\n",
    "*****  PREPWORK  *****\n",
    "After looking at the galaxy images from #2. We find we need to remove one SN that isnt within the region covered by the PHANGS-ALMA footprint. We remove this (SN2003gd from NGC0628) and also the 6 candidate SNe, the one duplicate entry, and the LRN, and begin to perform some rudimentary stats in small tables.\n",
    "\n",
    "Before we run this code we do the following prep:\n",
    "\n",
    "We take the 2.SNeCOMasterCat.txt file and manually remove the following SNe:\n",
    "\n",
    "Previously Removed\n",
    "AT2020nqq   (LRN) \n",
    "PTSS-19clju (Duplicate)\n",
    "\n",
    "Recently commented out\n",
    "AT2018eoq   (Candidate)\n",
    "AT2019pck   (Candidate)\n",
    "AT2019npi   (Candidate)\n",
    "AT2019npd   (Candidate)\n",
    "AT2020hol   (Candidate)\n",
    "AT2020juh   (Candidate)\n",
    "AT2020cwh   (Candidate)\n",
    "SN2003gd    (Out of Map ngc0628)\n",
    "SN2005af    (Out of Map ngc4945)\n",
    "ngc5236,PS  (Not in Map & Also not good data on this one)\n",
    "\n",
    "*also shortened type IIn, IIb to II and type Ia-91bg to Ia, etc.\n",
    "\n",
    "Then we save this as 2.SNeCOMasterCatManualClean.txt\n",
    "\n",
    "We turn this file into a dataframe and use to make basic tables of stats.\n",
    "**********************"
   ]
  },
  {
   "cell_type": "code",
   "execution_count": 4,
   "id": "advance-cedar",
   "metadata": {},
   "outputs": [],
   "source": [
    "import numpy as np\n",
    "from matplotlib import pyplot as plt\n",
    "import astropy.io.fits as pyfits\n",
    "from astropy.table import Table\n",
    "from astropy.wcs import WCS\n",
    "from astropy.io import ascii"
   ]
  },
  {
   "cell_type": "code",
   "execution_count": 7,
   "id": "static-animation",
   "metadata": {},
   "outputs": [
    {
     "data": {
      "text/html": [
       "<i>Table length=66</i>\n",
       "<table id=\"table140621604108608\" class=\"table-striped table-bordered table-condensed\">\n",
       "<thead><tr><th>Galaxy</th><th>SN Name</th><th>SN Type</th><th>ra</th><th>Dec</th><th>xCoord</th><th>yCoord</th><th>co21int</th><th>co21err</th><th>co21ew</th><th>beamsize</th></tr></thead>\n",
       "<thead><tr><th>str18</th><th>str7</th><th>str12</th><th>float64</th><th>float64</th><th>str18</th><th>str18</th><th>str18</th><th>str18</th><th>str18</th><th>str18</th></tr></thead>\n",
       "<tr><td>circinus</td><td>1996</td><td>II</td><td>213.2918</td><td>-65.3457</td><td>86.56761411031889</td><td>84.63433198287285</td><td>186.84804</td><td>2.137819</td><td>34.56537</td><td>0.002032163908078</td></tr>\n",
       "<tr><td>ngc0253</td><td>194</td><td>I</td><td>11.8783</td><td>-25.2934</td><td>296.9010534051223</td><td>236.26662905273994</td><td>219.30367</td><td>1.465811</td><td>45.862267</td><td>0.00232543637022</td></tr>\n",
       "<tr><td>ngc0300</td><td>2019q</td><td>II</td><td>13.7399</td><td>-37.6444</td><td>124.97990204934794</td><td>202.45166439134732</td><td>-0.41793606</td><td>0.4800788</td><td>nan</td><td>0.002271061982879</td></tr>\n",
       "<tr><td>ngc0628</td><td>2013</td><td>II</td><td>24.2007</td><td>15.7586</td><td>333.46022572413716</td><td>356.77980642079694</td><td>5.7713037</td><td>1.9949342</td><td>nan</td><td>0.0003114595189268</td></tr>\n",
       "<tr><td>ngc0628</td><td>2019k</td><td>II</td><td>24.2068</td><td>15.7795</td><td>227.48504797816918</td><td>732.1448775793053</td><td>0.2809551</td><td>1.2958647</td><td>nan</td><td>0.0003114595189268</td></tr>\n",
       "<tr><td>ngc1068</td><td>2018i</td><td>II</td><td>40.672</td><td>-0.0088</td><td>41.400000046852824</td><td>53.87249997022789</td><td>127.77749</td><td>0.6721418</td><td>32.0753</td><td>0.002414131938401</td></tr>\n",
       "<tr><td>ngc1087</td><td>199</td><td>II</td><td>41.6115</td><td>-0.4988</td><td>161.4198245203906</td><td>287.6499560537321</td><td>11.513839</td><td>1.1399242</td><td>5.175495</td><td>0.0004451676280474</td></tr>\n",
       "<tr><td>ngc1097</td><td>1999</td><td>II</td><td>41.5866</td><td>-30.3184</td><td>245.2470996170838</td><td>7.223039949207134</td><td>0.0</td><td>0.7541714</td><td>nan</td><td>0.0004711325009833</td></tr>\n",
       "<tr><td>ngc1097</td><td>1992</td><td>II</td><td>41.5792</td><td>-30.2756</td><td>291.5099030167368</td><td>315.426803230518</td><td>296.15988</td><td>2.0283754</td><td>45.82589</td><td>0.0004711325009833</td></tr>\n",
       "<tr><td>ngc1365</td><td>2012</td><td>Ia</td><td>53.4006</td><td>-36.1268</td><td>390.2906744443858</td><td>389.8499395285312</td><td>-2.3150725</td><td>1.1174963</td><td>nan</td><td>0.0003829740084505</td></tr>\n",
       "<tr><td>...</td><td>...</td><td>...</td><td>...</td><td>...</td><td>...</td><td>...</td><td>...</td><td>...</td><td>...</td><td>...</td></tr>\n",
       "<tr><td>ngc5128</td><td>198</td><td>Ia</td><td>201.4021</td><td>-43.0317</td><td>158.37238583480186</td><td>116.90819961198207</td><td>9.314563</td><td>0.9835508</td><td>8.594614</td><td>0.002258955715078</td></tr>\n",
       "<tr><td>ngc5128</td><td>2016a</td><td>II</td><td>201.3505</td><td>-43.016</td><td>226.2426565431022</td><td>145.08138963317262</td><td>67.57131</td><td>1.4254165</td><td>35.12788</td><td>0.002258955715078</td></tr>\n",
       "<tr><td>ngc5236</td><td>198</td><td>Ib</td><td>204.2135</td><td>-29.9006</td><td>866.565592737917</td><td>369.37333275036656</td><td>2.8444028</td><td>0.6853391</td><td>nan</td><td>0.000594044605435</td></tr>\n",
       "<tr><td>ngc5236</td><td>196</td><td>II</td><td>204.252</td><td>-29.8665</td><td>625.9979098150186</td><td>615.2835430994201</td><td>157.89561</td><td>1.1755879</td><td>14.017309</td><td>0.000594044605435</td></tr>\n",
       "<tr><td>ngc5236</td><td>192</td><td>II</td><td>204.2883</td><td>-29.8389</td><td>399.09014170428725</td><td>813.7841220160797</td><td>3.1662843</td><td>0.6370633</td><td>6.310522</td><td>0.000594044605435</td></tr>\n",
       "<tr><td>ngc5236</td><td>195</td><td>unclassified</td><td>204.2203</td><td>-29.8655</td><td>823.9876389446778</td><td>622.0369070359835</td><td>59.00484</td><td>0.7553258</td><td>5.7882247</td><td>0.000594044605435</td></tr>\n",
       "<tr><td>ngc5236</td><td>195</td><td>unclassified</td><td>204.2647</td><td>-29.828</td><td>546.7621815937086</td><td>892.0135629822324</td><td>41.320827</td><td>0.6190958</td><td>5.3402543</td><td>0.000594044605435</td></tr>\n",
       "<tr><td>ngc5530</td><td>2007</td><td>II</td><td>214.6067</td><td>-43.3817</td><td>390.2595866318546</td><td>373.0812908090254</td><td>3.082237</td><td>1.3917842</td><td>1.7829744</td><td>0.0003125321832383</td></tr>\n",
       "<tr><td>ngc6744</td><td>2005</td><td>Ic</td><td>287.4733</td><td>-63.8231</td><td>228.6160557905061</td><td>1000.6074709654724</td><td>4.835074</td><td>1.5029258</td><td>3.258406</td><td>0.000315039978844</td></tr>\n",
       "<tr><td>ngc7793</td><td>2008</td><td>II</td><td>359.4601</td><td>-32.556</td><td>104.61854343784563</td><td>146.2301768465765</td><td>-0.0075710528</td><td>0.17158689</td><td>nan</td><td>0.002219068508634</td></tr>\n",
       "</table>"
      ],
      "text/plain": [
       "<Table length=66>\n",
       " Galaxy  SN Name   SN Type    ...  co21err     co21ew       beamsize     \n",
       " str18     str7     str12     ...   str18      str18         str18       \n",
       "-------- ------- ------------ ... ---------- --------- ------------------\n",
       "circinus    1996           II ...   2.137819  34.56537  0.002032163908078\n",
       " ngc0253     194            I ...   1.465811 45.862267   0.00232543637022\n",
       " ngc0300   2019q           II ...  0.4800788       nan  0.002271061982879\n",
       " ngc0628    2013           II ...  1.9949342       nan 0.0003114595189268\n",
       " ngc0628   2019k           II ...  1.2958647       nan 0.0003114595189268\n",
       " ngc1068   2018i           II ...  0.6721418   32.0753  0.002414131938401\n",
       " ngc1087     199           II ...  1.1399242  5.175495 0.0004451676280474\n",
       " ngc1097    1999           II ...  0.7541714       nan 0.0004711325009833\n",
       " ngc1097    1992           II ...  2.0283754  45.82589 0.0004711325009833\n",
       " ngc1365    2012           Ia ...  1.1174963       nan 0.0003829740084505\n",
       "     ...     ...          ... ...        ...       ...                ...\n",
       " ngc5128     198           Ia ...  0.9835508  8.594614  0.002258955715078\n",
       " ngc5128   2016a           II ...  1.4254165  35.12788  0.002258955715078\n",
       " ngc5236     198           Ib ...  0.6853391       nan  0.000594044605435\n",
       " ngc5236     196           II ...  1.1755879 14.017309  0.000594044605435\n",
       " ngc5236     192           II ...  0.6370633  6.310522  0.000594044605435\n",
       " ngc5236     195 unclassified ...  0.7553258 5.7882247  0.000594044605435\n",
       " ngc5236     195 unclassified ...  0.6190958 5.3402543  0.000594044605435\n",
       " ngc5530    2007           II ...  1.3917842 1.7829744 0.0003125321832383\n",
       " ngc6744    2005           Ic ...  1.5029258  3.258406  0.000315039978844\n",
       " ngc7793    2008           II ... 0.17158689       nan  0.002219068508634"
      ]
     },
     "execution_count": 7,
     "metadata": {},
     "output_type": "execute_result"
    }
   ],
   "source": [
    "# Turn file into dataStructure and clean\n",
    "\n",
    "dataFile = '../Data/2.SNeCOMasterCatManualClean.txt'\n",
    "galaxy, SNname, SNtype, ra, dec, xVal, yVal, co_21_int, co_21_err, co_21_ew, beamsize  = np.genfromtxt(dataFile,  dtype=str, unpack=True, delimiter = ',')\n",
    "\n",
    "SNname = [x[2:-2] for x in SNname]\n",
    "SNtype = [x.strip() for x in SNtype]\n",
    "ra     = [float(x) for x in ra]\n",
    "ra     = [round(x,4) for x in ra]\n",
    "dec    = [float(x) for x in dec]\n",
    "dec    = [round(x,4) for x in dec]\n",
    "\n",
    "data = Table({'Galaxy'    : galaxy,\n",
    "              'SN Name'  : SNname,\n",
    "              'SN Type'  : SNtype,\n",
    "              'ra'       : ra,\n",
    "              'Dec'      : dec,\n",
    "              'xCoord'   : xVal,\n",
    "              'yCoord'   : yVal,\n",
    "              'co21int'  : co_21_int,\n",
    "              'co21err'  : co_21_err,\n",
    "              'co21ew'   : co_21_ew,\n",
    "              'beamsize' : beamsize,\n",
    "             },\n",
    "             names=['Galaxy', 'SN Name','SN Type','ra','Dec','xCoord', 'yCoord', 'co21int', 'co21err', \"co21ew\", 'beamsize'])\n",
    "\n",
    "data"
   ]
  },
  {
   "cell_type": "code",
   "execution_count": 8,
   "id": "broadband-fifteen",
   "metadata": {},
   "outputs": [
    {
     "name": "stdout",
     "output_type": "stream",
     "text": [
      "66 38 13 8 7\n",
      "64% 22% 14%\n"
     ]
    },
    {
     "name": "stderr",
     "output_type": "stream",
     "text": [
      "WARNING: AstropyDeprecationWarning: ../Data/3.TypeStats.txt already exists. Automatically overwriting ASCII files is deprecated. Use the argument 'overwrite=True' in the future. [astropy.io.ascii.ui]\n"
     ]
    }
   ],
   "source": [
    "counter, IICounter, IaCounter, IbcCounter, unknownCounter = 0,0,0,0,0\n",
    "\n",
    "for i in range(len(SNtype)):\n",
    "    counter = counter + 1\n",
    "    if(len(SNtype[i]) == 1 or len(SNtype[i]) > 5):\n",
    "        unknownCounter = unknownCounter + 1   \n",
    "    elif SNtype[i][1] == \"I\":\n",
    "        IICounter = IICounter + 1 \n",
    "    elif SNtype[i][1] == \"b\" or SNtype[i][1] == \"c\":\n",
    "        IbcCounter = IbcCounter + 1 \n",
    "    elif SNtype[i][1] == \"a\":\n",
    "        IaCounter = IaCounter + 1 \n",
    "    else:\n",
    "        print(\"something fucked up\")\n",
    "            \n",
    "print(counter, IICounter, IaCounter, IbcCounter, unknownCounter)\n",
    "\n",
    "knownCounter = counter - unknownCounter\n",
    "\n",
    "percentII = np.str(np.int(np.round(100*(IICounter/knownCounter)))) + \"%\"\n",
    "percentIa = np.str(np.int(np.round(100*(IaCounter/knownCounter)))) + \"%\"\n",
    "percentIbc = np.str(np.int(np.round(100*(IbcCounter/knownCounter)))) + \"%\"\n",
    "\n",
    "print(percentII, percentIa, percentIbc)\n",
    "\n",
    "types = [\"Type II\", \"Type Ia\", \"Type Ib/c\"]\n",
    "typePercents = [percentII, percentIa, percentIbc]\n",
    "\n",
    "\n",
    "typeStats = Table({'Types'    : types,\n",
    "              'Percent'  : typePercents},\n",
    "             names=['Types', 'Percent'])\n",
    "\n",
    "ascii.write(typeStats, '../Data/3.TypeStats.txt', Writer = ascii.Latex,\n",
    "            latexdict = {'tabletype': 'table*'})"
   ]
  },
  {
   "cell_type": "code",
   "execution_count": null,
   "id": "funky-madonna",
   "metadata": {},
   "outputs": [],
   "source": []
  }
 ],
 "metadata": {
  "kernelspec": {
   "display_name": "Python 3",
   "language": "python",
   "name": "python3"
  },
  "language_info": {
   "codemirror_mode": {
    "name": "ipython",
    "version": 3
   },
   "file_extension": ".py",
   "mimetype": "text/x-python",
   "name": "python",
   "nbconvert_exporter": "python",
   "pygments_lexer": "ipython3",
   "version": "3.6.8"
  }
 },
 "nbformat": 4,
 "nbformat_minor": 5
}
