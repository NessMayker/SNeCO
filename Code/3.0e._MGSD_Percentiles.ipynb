{
 "cells": [
  {
   "cell_type": "markdown",
   "id": "premier-promise",
   "metadata": {},
   "source": [
    "This notebook measures the intensities and errors of CO 2-1 emission at the locations of all of the SNe in our sample across all of the resolutions in the survey. This is used to prepare to answer the question in section 3.1 Do we see gas at supernova locations? \n",
    "\n",
    "We will use this to uncover what resolution will be best for this study."
   ]
  },
  {
   "cell_type": "code",
   "execution_count": 2,
   "id": "wicked-oriental",
   "metadata": {},
   "outputs": [],
   "source": [
    "# IMPORT PACKAGES\n",
    "\n",
    "#global\n",
    "import numpy as np\n",
    "import bisect\n",
    "from matplotlib import pyplot as plt\n",
    "import astropy\n",
    "import astropy.io.fits as pyfits\n",
    "from astropy.table import Table, join\n",
    "from astropy.wcs import WCS\n",
    "from astropy.io import ascii\n",
    "from astropy.io import fits\n",
    "import os\n",
    "from reproject import reproject_interp\n",
    "\n",
    "#local\n",
    "import sys\n",
    "sys.path.append('/home/maykerchen.1/Desktop/PythonFunctions')\n",
    "\n",
    "from findResolution import findRes\n",
    "from getMapValue    import getValue\n",
    "from nonZeroError   import findErrVals\n",
    "from nonZeroError   import nonZeroErrArray\n",
    "from nonZeroError   import findSignal\n",
    "from nonZeroError   import findSignalArray\n",
    "from findPercentiles import findStats"
   ]
  },
  {
   "cell_type": "code",
   "execution_count": 3,
   "id": "descending-heading",
   "metadata": {},
   "outputs": [],
   "source": [
    "# DEFINE FUNCTIONS\n",
    "\n",
    "def genFileName(galaxy, mapType, res, telOrient):\n",
    "    \n",
    "    \"\"\"\n",
    "    Generates the filenames for the CO maps.\n",
    "    \n",
    "    Parameters\n",
    "    ----------\n",
    "    galaxy    : string : name of galaxy\n",
    "    mapType   : string : \"int\", \"err\", or \"EW\"   \n",
    "    res       : string : resolution of map (\"\" (native), \"_60pc\", \"_90pc\", \"_120pc\", \"_150pc\", etc.)\n",
    "    telOrient : string : 12m+7m+tp, 7m+tp, etc.\n",
    "    \n",
    "    Returns\n",
    "    -------\n",
    "    fileName : string : full path to file on Tycho.\n",
    "        (/data/tycho/0/leroy.42/reduction/alma/phangs-alma/derived/ngc2997/ngc2997_12m+7m+tp_co21_150pc_broad_mom0.fits)\n",
    "\n",
    "    \"\"\"\n",
    "    \n",
    "    if mapType == \"int\":\n",
    "        mapTypeStr = \"_broad_mom0\"\n",
    "    elif mapType == \"err\":\n",
    "        mapTypeStr = \"_broad_emom0\"\n",
    "    elif mapType  == \"EW\":\n",
    "        mapTypeStr = \"_strict_ew\"\n",
    "    else:\n",
    "        print(\"Wrong Map Type.\")\n",
    "        \n",
    "    preamble = \"/data/tycho/0/leroy.42/reduction/alma/phangs-alma/derived/\" \n",
    "    \n",
    "    fileName = preamble + galaxy + \"/\" + galaxy + \"_\" + telOrient + \"_co21\" + res + mapTypeStr + \".fits\"\n",
    "    return(fileName)\n",
    "\n",
    "\n",
    "def getAlphaCO(acofileName, intfileName):\n",
    "    \"\"\"\n",
    "    Pulls the metallicity dependent Alpha CO values using Sun+2020 maps\n",
    "    or assigns a value of alpha CO = 4.35/0.65 if no Sun value is available.\n",
    "    \"\"\"\n",
    "\n",
    "    if(os.path.isfile(acofileName) == True) and (os.path.isfile(intfileName) == True):\n",
    "        hdu_int = pyfits.open(intfileName)\n",
    "        hdu_aco = pyfits.open(acofileName)\n",
    "        acoMap, footprint = reproject_interp(hdu_aco, hdu_int[0].header)\n",
    "\n",
    "    else:\n",
    "        #print(\"NO ACO file: \", acofileName)\n",
    "        acoMap = 4.35/0.65\n",
    "    \n",
    "    return(acoMap)\n"
   ]
  },
  {
   "cell_type": "code",
   "execution_count": 4,
   "id": "matched-explosion",
   "metadata": {},
   "outputs": [],
   "source": [
    "# import SNeCO data\n",
    "\n",
    "dataFile = '../Data/3.SNe+GalData.csv'\n",
    "dataTable = Table.read(dataFile, format='csv') \n",
    "#dataTable.colnames\n",
    "\n",
    "#import SNe data \n",
    "SNe_Gal_File = '../Data/3.SNe+GalData.csv'\n",
    "SNe_Gal_Data = Table.read(SNe_Gal_File, format='csv') \n",
    "\n",
    "intenFile = '../Data/3.IntenData.csv'\n",
    "intenData = Table.read(intenFile, format='csv')\n",
    "\n",
    "database  = join(SNe_Gal_Data, intenData, keys=('SN_name', 'galaxy'))"
   ]
  },
  {
   "cell_type": "code",
   "execution_count": 5,
   "id": "sublime-prince",
   "metadata": {},
   "outputs": [],
   "source": [
    "# pull galaxy names and telescope orientation to generate the file lists\n",
    "\n",
    "galaxies  = dataTable['galaxy']\n",
    "telOrient = dataTable['telOrient']\n",
    "SNname    = dataTable['SN_name']\n",
    "SNra      = dataTable['SN_ra']\n",
    "SNdec     = dataTable['SN_dec']\n",
    "beamsize  = dataTable['map_beamsize']\n",
    "telOrient = dataTable['telOrient']\n",
    "distance  = dataTable['dist']\n",
    "acoFile   = dataTable['AlphaCOFile']\n",
    "incl      = dataTable['orient_incl']"
   ]
  },
  {
   "cell_type": "code",
   "execution_count": 6,
   "id": "magnetic-geneva",
   "metadata": {},
   "outputs": [
    {
     "name": "stdout",
     "output_type": "stream",
     "text": [
      "Resolution:  60  Percentiles:  [ 17.09  46.89 201.26]\n",
      "Resolution:  90  Percentiles:  [ 14.12  42.72 194.38]\n",
      "Resolution:  120  Percentiles:  [ 13.78  47.9  297.08]\n",
      "Resolution:  150  Percentiles:  [ 12.97  45.78 274.2 ]\n",
      "Resolution:  500  Percentiles:  [ 10.01  32.   169.96]\n",
      "Resolution:  750  Percentiles:  [  9.89  28.96 142.56]\n",
      "Resolution:  1k  Percentiles:  [  9.93  27.21 120.93]\n",
      "[array([ 17.09,  46.89, 201.26]), array([ 14.12,  42.72, 194.38]), array([ 13.78,  47.9 , 297.08]), array([ 12.97,  45.78, 274.2 ]), array([ 10.01,  32.  , 169.96]), array([  9.89,  28.96, 142.56]), array([  9.93,  27.21, 120.93])]\n",
      "[[0.7225745935322494, 0.16582436155313618, 0.1116010449146144], [0.709862625761676, 0.16617325695966084, 0.12396411727866319], [0.7030797656198061, 0.16483370368654218, 0.13208653069365175], [0.650282301428791, 0.18230903753517524, 0.16740866103603386], [0.33570131204953363, 0.19528065871809588, 0.46901802923237046], [0.2300366615297458, 0.15399188823943524, 0.6159714502308189], [0.17725459314299602, 0.11364070378138234, 0.7091047030756217]]\n"
     ]
    }
   ],
   "source": [
    "# set up resolution array and galaxies without repeats\n",
    "res = ['60', '90', '120', '150', '500', '750', '1k']\n",
    "gals = list(dict.fromkeys(galaxies))\n",
    "acos = list(dict.fromkeys(acoFile))\n",
    "incls = list(dict.fromkeys(incl))\n",
    "percentilesArr, fracs = [],[]\n",
    "\n",
    "# find mgsd percentiles of all pixels from galaxy maps and weak. mod, strong percents of each resolution\n",
    "\n",
    "for i in range(len(res)):\n",
    "    weak, mod, strong = [],[],[]\n",
    "    resSMPixArr, resSNRPixArr = [],[]\n",
    "\n",
    "    resStr = \"_\" + res[i] +  \"pc\"\n",
    "\n",
    "    for j in range(len(gals)):\n",
    "        \n",
    "        IntFileName = genFileName(gals[j], \"int\", resStr, telOrient[j])\n",
    "        ErrFileName = genFileName(gals[j], \"err\", resStr, telOrient[j])\n",
    "        \n",
    "        if(os.path.isfile(IntFileName) == True and os.path.isfile(ErrFileName) == True):\n",
    "                        \n",
    "            hdulist = pyfits.open(IntFileName)\n",
    "            map = hdulist[0].data\n",
    "            flatmap=map.flatten()\n",
    "            \n",
    "            hdulistErr = pyfits.open(ErrFileName)\n",
    "            mapErr = hdulistErr[0].data\n",
    "            flatErrmap=mapErr.flatten()\n",
    "\n",
    "            #remove nans\n",
    "            keep  = np.where(np.isfinite(flatmap))\n",
    "            galIntPixArr = flatmap[keep]\n",
    "            galRawPixArr = flatmap[keep]\n",
    "            galErrPixArr = flatErrmap[keep]\n",
    "            \n",
    "            lowErr = findErrVals(galErrPixArr)\n",
    "            galErrPixArr = nonZeroErrArray(galErrPixArr, lowErr) \n",
    "            galIntPixArr = np.clip(galIntPixArr, 0, np.max(galIntPixArr))\n",
    "            galSNRPixArr = findSignalArray(galIntPixArr, galErrPixArr)\n",
    "\n",
    "            # get alphaco information\n",
    "            acoMap = getAlphaCO(acos[j], IntFileName)\n",
    "\n",
    "            if isinstance(acoMap, float) == False:\n",
    "                acoMap = acoMap.flatten()\n",
    "                acoMap = acoMap[keep]\n",
    "            \n",
    "            galSMPixArr = galRawPixArr * acoMap * np.cos(incls[j]* np.pi/180)\n",
    "            \n",
    "            #add to full list\n",
    "            resSMPixArr = np.concatenate((galSMPixArr, resSMPixArr), axis=0)\n",
    "            resSNRPixArr = np.concatenate((galSNRPixArr, resSNRPixArr), axis=0)\n",
    "            #print(\"file for \", gals[j], \" at resolution \", res[i])\n",
    "            \n",
    "        else:\n",
    "            pass\n",
    "            #print(\"No file for \", galaxies[j], \" at resolution \", res[i])\n",
    "                \n",
    "    resArr = np.sort(resSMPixArr)\n",
    "    resCS = np.cumsum(resArr)/np.sum(resArr)\n",
    "    perArr = np.interp([0.16, 0.5, 0.84],resCS,resArr)\n",
    "    for k in range(len(perArr)):\n",
    "        perArr[k] = round(perArr[k],2)\n",
    "    print(\"Resolution: \", res[i], \" Percentiles: \", perArr)\n",
    "    percentilesArr.append(perArr)\n",
    "    sortedRes = np.sort(resSNRPixArr)\n",
    "    idx3 = bisect.bisect_left(sortedRes,3)\n",
    "    idx7 = bisect.bisect_left(sortedRes,7)\n",
    "    numPix = len(sortedRes)\n",
    "    fracWeak = float(idx3)/numPix\n",
    "    fracMod = float(idx7-idx3)/numPix\n",
    "    fracStrong = float(numPix-idx7)/numPix\n",
    "    frac = [fracWeak, fracMod, fracStrong]\n",
    "    fracs.append(frac)\n",
    "print(percentilesArr)\n",
    "print(fracs)\n",
    "    \n",
    "    \n",
    "#write a return statement here to save these values for future plot\n",
    "# save the fraction of strong, mod, weak measurements"
   ]
  },
  {
   "cell_type": "code",
   "execution_count": 7,
   "id": "49a4fb57",
   "metadata": {},
   "outputs": [
    {
     "name": "stdout",
     "output_type": "stream",
     "text": [
      "All Pixel Stats\n",
      "Res  Weak   Mod     Strong\n",
      "60 [0.7225745935322494, 0.16582436155313618, 0.1116010449146144]\n",
      "90 [0.709862625761676, 0.16617325695966084, 0.12396411727866319]\n",
      "120 [0.7030797656198061, 0.16483370368654218, 0.13208653069365175]\n",
      "150 [0.650282301428791, 0.18230903753517524, 0.16740866103603386]\n",
      "500 [0.33570131204953363, 0.19528065871809588, 0.46901802923237046]\n",
      "750 [0.2300366615297458, 0.15399188823943524, 0.6159714502308189]\n",
      "1k [0.17725459314299602, 0.11364070378138234, 0.7091047030756217]\n"
     ]
    }
   ],
   "source": [
    "print(\"All Pixel Stats\")\n",
    "print(\"Res  Weak   Mod     Strong\")\n",
    "for i in range(len(res)):\n",
    "    print(res[i], fracs[i])"
   ]
  },
  {
   "cell_type": "code",
   "execution_count": 8,
   "id": "designed-attraction",
   "metadata": {},
   "outputs": [],
   "source": [
    "def mgsdPercentiles(res):\n",
    "\n",
    "    msgdStr = \"pc\" + str(res) + \"mgsd\"\n",
    "    errStr = \"pc\" + str(res) + \"mgsdErr\"\n",
    "\n",
    "    mgsdgroup = database.group_by([msgdStr, errStr])\n",
    "\n",
    "    mgsdNotNan = []\n",
    "    SNTilesArr = []\n",
    "    \n",
    "    # remove nans and set negative values to zero\n",
    "    for i in range(len(mgsdgroup)):\n",
    "        if np.isfinite(mgsdgroup[msgdStr][i]):\n",
    "            mgsdNotNan.append(mgsdgroup[msgdStr][i])\n",
    "\n",
    "    # find normalized cumulative dictribution    \n",
    "    mgsdSort = np.sort(mgsdNotNan)\n",
    "    \n",
    "    mgsdCS = np.cumsum(mgsdSort)/np.sum(mgsdSort)\n",
    "    tilesArr = np.interp([0.16, 0.5, 0.84],mgsdCS,mgsdSort)\n",
    "    for k in range(len(tilesArr)):\n",
    "        tilesArr[k] = round(tilesArr[k],2)\n",
    "    print(\"Resolution: \", res, \" Percentiles: \", tilesArr)\n",
    "    SNTilesArr.append(tilesArr)\n",
    "    \n",
    "    return(SNTilesArr)\n"
   ]
  },
  {
   "cell_type": "code",
   "execution_count": 9,
   "id": "computational-boards",
   "metadata": {},
   "outputs": [
    {
     "name": "stdout",
     "output_type": "stream",
     "text": [
      "Resolution:  60  Percentiles:  [128.56 324.77 548.54]\n",
      "Resolution:  90  Percentiles:  [ 87.94 293.84 583.09]\n",
      "Resolution:  120  Percentiles:  [ 70.3  325.93 789.23]\n",
      "Resolution:  150  Percentiles:  [ 76.21 317.94 740.26]\n",
      "Resolution:  500  Percentiles:  [ 60.96 216.03 645.07]\n",
      "Resolution:  750  Percentiles:  [ 57.95 209.31 545.31]\n",
      "Resolution:  1000  Percentiles:  [ 46.17 164.36 474.16]\n"
     ]
    }
   ],
   "source": [
    "# Find entries for Latex Table : MGSD Percentiles at all resolutions at locations of SNe\n",
    "\n",
    "pc60mgsdTiles = mgsdPercentiles(60)\n",
    "pc90mgsdTiles = mgsdPercentiles(90)\n",
    "pc120mgsdTiles = mgsdPercentiles(120)\n",
    "pc150mgsdTiles = mgsdPercentiles(150)\n",
    "pc500mgsdTiles = mgsdPercentiles(500)\n",
    "pc750mgsdTiles = mgsdPercentiles(750)\n",
    "pc1000mgsdTiles = mgsdPercentiles(1000)\n",
    "\n",
    "SNtiles = [pc60mgsdTiles,pc90mgsdTiles,pc120mgsdTiles,pc150mgsdTiles,pc500mgsdTiles,pc750mgsdTiles,pc1000mgsdTiles]"
   ]
  },
  {
   "cell_type": "code",
   "execution_count": 29,
   "id": "edf8593c",
   "metadata": {},
   "outputs": [
    {
     "name": "stdout",
     "output_type": "stream",
     "text": [
      "[128.56 324.77 548.54]\n",
      "293.84\n"
     ]
    }
   ],
   "source": [
    "print(SNtiles[0][0])\n",
    "print(SNtiles[1][0][1])"
   ]
  },
  {
   "cell_type": "code",
   "execution_count": 32,
   "id": "b5e091c8",
   "metadata": {},
   "outputs": [
    {
     "name": "stdout",
     "output_type": "stream",
     "text": [
      "[[array([128.56, 324.77, 548.54])], [array([ 87.94, 293.84, 583.09])], [array([ 70.3 , 325.93, 789.23])], [array([ 76.21, 317.94, 740.26])], [array([ 60.96, 216.03, 645.07])], [array([ 57.95, 209.31, 545.31])], [array([ 46.17, 164.36, 474.16])]]\n"
     ]
    },
    {
     "name": "stderr",
     "output_type": "stream",
     "text": [
      "<ipython-input-32-022a3aaba967>:27: UserWarning: FixedFormatter should only be used together with FixedLocator\n",
      "  ax.set_xticklabels([\"\", \"60 pc\", \"90 pc\", \"120 pc\", \"150 pc\", \"500 pc\", \"750 pc\", \"1 kpc\"], fontsize=14)\n"
     ]
    },
    {
     "data": {
      "image/png": "[encoded data removed]",
      "text/plain": [
       "<Figure size 1152x432 with 1 Axes>"
      ]
     },
     "metadata": {
      "needs_background": "light"
     },
     "output_type": "display_data"
    }
   ],
   "source": [
    "darkpurple = '#5B2489'\n",
    "tealgreen  = \"#00cc99\"\n",
    "\n",
    "xSN, ySN, errLowSN, errHighSN = [],[],[],[]\n",
    "xAP, yAP, errLowAP, errHighAP = [],[],[],[]\n",
    "\n",
    "for i in range(len(SNtiles)):\n",
    "    errLowSN.append(SNtiles[i][0][0])\n",
    "    ySN.append(SNtiles[i][0][1])\n",
    "    errHighSN.append(SNtiles[i][0][2])\n",
    "    xSN.append(i)\n",
    "    errLowAP.append(percentilesArr[i][0])\n",
    "    yAP.append(percentilesArr[i][1])\n",
    "    errHighAP.append(percentilesArr[i][2])\n",
    "    xAP.append(i+0.2)\n",
    "\n",
    "print(SNtiles) \n",
    "#print(ySN[0])\n",
    "\n",
    "# plot MGSD table using SNtiles and percentilesArr\n",
    "f, ax = plt.subplots(nrows = 1, ncols = 1, figsize = (16,6))\n",
    "ax.set_yscale('log')\n",
    "ax.errorbar(xSN, ySN, yerr=np.vstack([errLowSN, errHighSN]), ls=\"\", marker=\"o\",label=\"SN Locations\",color = darkpurple,mec='black', ms = 12)\n",
    "ax.errorbar(xAP, yAP, yerr=np.vstack([errLowAP, errHighAP]), ls=\"\", marker=\"^\", label=\"All Pixels\",color = tealgreen,mec='black', ms = 12)\n",
    "ax.legend(loc=\"best\", title = \"16-50-84 % by mass\", fontsize=16)\n",
    "ax.set_ylabel(r\"$\\Sigma_{mol}$  $[M_{sun}pc^{-2}]$\", fontsize = 16)\n",
    "ax.set_xticklabels([\"\", \"60 pc\", \"90 pc\", \"120 pc\", \"150 pc\", \"500 pc\", \"750 pc\", \"1 kpc\"], fontsize=14)\n",
    "ax.set_ylim(15, 3000)\n",
    "plt.savefig(\"../Figures/MGSDbyResolution.png\",dpi=300)\n",
    "plt.show()\n",
    "plt.close()"
   ]
  },
  {
   "cell_type": "code",
   "execution_count": null,
   "id": "7bc5feaa",
   "metadata": {},
   "outputs": [],
   "source": []
  },
  {
   "cell_type": "code",
   "execution_count": null,
   "id": "effad249",
   "metadata": {},
   "outputs": [],
   "source": []
  }
 ],
 "metadata": {
  "kernelspec": {
   "display_name": "Python 3",
   "language": "python",
   "name": "python3"
  },
  "language_info": {
   "codemirror_mode": {
    "name": "ipython",
    "version": 3
   },
   "file_extension": ".py",
   "mimetype": "text/x-python",
   "name": "python",
   "nbconvert_exporter": "python",
   "pygments_lexer": "ipython3",
   "version": "3.8.10"
  }
 },
 "nbformat": 4,
 "nbformat_minor": 5
}
