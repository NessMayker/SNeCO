{
 "cells": [
  {
   "cell_type": "markdown",
   "id": "premier-promise",
   "metadata": {},
   "source": [
    "This notebook measures the intensities and errors of CO 2-1 emission at the locations of all of the SNe in our sample across all of the resolutions in the survey. This is used to prepare to answer the question in section 3.1 Do we see gas at supernova locations? \n",
    "\n",
    "We will use this to uncover what resolution will be best for this study."
   ]
  },
  {
   "cell_type": "code",
   "execution_count": 1,
   "id": "wicked-oriental",
   "metadata": {},
   "outputs": [],
   "source": [
    "# IMPORT PACKAGES\n",
    "\n",
    "#global\n",
    "import numpy as np\n",
    "import bisect\n",
    "from matplotlib import pyplot as plt\n",
    "import astropy\n",
    "import astropy.io.fits as pyfits\n",
    "from astropy.table import Table, join\n",
    "from astropy.wcs import WCS\n",
    "from astropy.io import ascii\n",
    "from astropy.io import fits\n",
    "import os\n",
    "from reproject import reproject_interp\n",
    "\n",
    "#local\n",
    "import sys\n",
    "sys.path.append('/home/maykerchen.1/Desktop/PythonFunctions')\n",
    "\n",
    "from findResolution import findRes\n",
    "from getMapValue    import getValue\n",
    "from nonZeroError   import findErrVals\n",
    "from nonZeroError   import nonZeroErrArray\n",
    "from nonZeroError   import findSignal\n",
    "from nonZeroError   import findSignalArray\n",
    "from findPercentiles import findStats"
   ]
  },
  {
   "cell_type": "code",
   "execution_count": 2,
   "id": "descending-heading",
   "metadata": {},
   "outputs": [],
   "source": [
    "# DEFINE FUNCTIONS\n",
    "\n",
    "def genFileName(galaxy, mapType, res, telOrient):\n",
    "    \n",
    "    \"\"\"\n",
    "    Generates the filenames for the CO maps.\n",
    "    \n",
    "    Parameters\n",
    "    ----------\n",
    "    galaxy    : string : name of galaxy\n",
    "    mapType   : string : \"int\", \"err\", or \"EW\"   \n",
    "    res       : string : resolution of map (\"\" (native), \"_60pc\", \"_90pc\", \"_120pc\", \"_150pc\", etc.)\n",
    "    telOrient : string : 12m+7m+tp, 7m+tp, etc.\n",
    "    \n",
    "    Returns\n",
    "    -------\n",
    "    fileName : string : full path to file on Tycho.\n",
    "        (/data/tycho/0/leroy.42/reduction/alma/phangs-alma/derived/ngc2997/ngc2997_12m+7m+tp_co21_150pc_broad_mom0.fits)\n",
    "\n",
    "    \"\"\"\n",
    "    \n",
    "    if mapType == \"int\":\n",
    "        mapTypeStr = \"_broad_mom0\"\n",
    "    elif mapType == \"err\":\n",
    "        mapTypeStr = \"_broad_emom0\"\n",
    "    elif mapType  == \"EW\":\n",
    "        mapTypeStr = \"_strict_ew\"\n",
    "    else:\n",
    "        print(\"Wrong Map Type.\")\n",
    "        \n",
    "    preamble = \"/data/tycho/0/leroy.42/reduction/alma/phangs-alma/derived/\" \n",
    "    \n",
    "    fileName = preamble + galaxy + \"/\" + galaxy + \"_\" + telOrient + \"_co21\" + res + mapTypeStr + \".fits\"\n",
    "    return(fileName)\n",
    "\n",
    "\n",
    "def getAlphaCO(acofileName, intfileName):\n",
    "    \"\"\"\n",
    "    Pulls the metallicity dependent Alpha CO values using Sun+2020 maps\n",
    "    or assigns a value of alpha CO = 4.35/0.65 if no Sun value is available.\n",
    "    \"\"\"\n",
    "\n",
    "    if(os.path.isfile(acofileName) == True) and (os.path.isfile(intfileName) == True):\n",
    "        hdu_int = pyfits.open(intfileName)\n",
    "        hdu_aco = pyfits.open(acofileName)\n",
    "        acoMap, footprint = reproject_interp(hdu_aco, hdu_int[0].header)\n",
    "\n",
    "    else:\n",
    "        #print(\"NO ACO file: \", acofileName)\n",
    "        acoMap = 4.35/0.65\n",
    "    \n",
    "    return(acoMap)\n"
   ]
  },
  {
   "cell_type": "code",
   "execution_count": 3,
   "id": "matched-explosion",
   "metadata": {},
   "outputs": [],
   "source": [
    "# import SNeCO data\n",
    "\n",
    "dataFile = '../Data/3.SNe+GalData.csv'\n",
    "dataTable = Table.read(dataFile, format='csv') \n",
    "#dataTable.colnames\n",
    "\n",
    "#import SNe data \n",
    "SNe_Gal_File = '../Data/3.SNe+GalData.csv'\n",
    "SNe_Gal_Data = Table.read(SNe_Gal_File, format='csv') \n",
    "\n",
    "intenFile = '../Data/3.IntenData.csv'\n",
    "intenData = Table.read(intenFile, format='csv')\n",
    "\n",
    "database  = join(SNe_Gal_Data, intenData, keys=('SN_name', 'galaxy'))"
   ]
  },
  {
   "cell_type": "code",
   "execution_count": 4,
   "id": "sublime-prince",
   "metadata": {},
   "outputs": [],
   "source": [
    "# pull galaxy names and telescope orientation to generate the file lists\n",
    "\n",
    "galaxies  = dataTable['galaxy']\n",
    "telOrient = dataTable['telOrient']\n",
    "SNname    = dataTable['SN_name']\n",
    "SNra      = dataTable['SN_ra']\n",
    "SNdec     = dataTable['SN_dec']\n",
    "beamsize  = dataTable['map_beamsize']\n",
    "telOrient = dataTable['telOrient']\n",
    "distance  = dataTable['dist']\n",
    "acoFile   = dataTable['AlphaCOFile']\n",
    "incl      = dataTable['orient_incl']"
   ]
  },
  {
   "cell_type": "code",
   "execution_count": 5,
   "id": "7b06c6a1",
   "metadata": {},
   "outputs": [
    {
     "name": "stdout",
     "output_type": "stream",
     "text": [
      "Resolution:  60  Percentiles:  [ 25.77  64.41 263.61]\n",
      "Resolution:  90  Percentiles:  [ 20.53  55.1  237.39]\n",
      "Resolution:  120  Percentiles:  [ 19.86  60.74 362.01]\n",
      "Resolution:  150  Percentiles:  [ 17.82  55.43 325.09]\n",
      "Resolution:  500  Percentiles:  [ 10.82  33.11 176.32]\n",
      "Resolution:  750  Percentiles:  [ 10.11  29.24 143.9 ]\n",
      "Resolution:  1k  Percentiles:  [  9.99  27.27 121.18]\n",
      "[array([ 25.77,  64.41, 263.61]), array([ 20.53,  55.1 , 237.39]), array([ 19.86,  60.74, 362.01]), array([ 17.82,  55.43, 325.09]), array([ 10.82,  33.11, 176.32]), array([ 10.11,  29.24, 143.9 ]), array([  9.99,  27.27, 121.18])]\n"
     ]
    }
   ],
   "source": [
    "###### set up resolution array and galaxies without repeats\n",
    "res = ['60', '90', '120', '150', '500', '750', '1k']\n",
    "gals = list(dict.fromkeys(galaxies))\n",
    "acos = list(dict.fromkeys(acoFile))\n",
    "incls = list(dict.fromkeys(incl))\n",
    "dists = list(dict.fromkeys(distance))\n",
    "percentilesArr, fracs = [],[]\n",
    "\n",
    "# find mgsd percentiles of all pixels from galaxy maps and weak. mod, strong percents of each resolution\n",
    "\n",
    "for i in range(len(res)):\n",
    "    weak, mod, strong = [],[],[]\n",
    "    resSMPixArr, resSNRPixArr = [],[]\n",
    "\n",
    "    resStr = \"_\" + res[i] +  \"pc\"\n",
    "\n",
    "    for j in range(len(gals)):\n",
    "        \n",
    "        IntFileName = genFileName(gals[j], \"int\", resStr, telOrient[j])\n",
    "        ErrFileName = genFileName(gals[j], \"err\", resStr, telOrient[j])\n",
    "        \n",
    "        if(os.path.isfile(IntFileName) == True and os.path.isfile(ErrFileName) == True):\n",
    "                        \n",
    "            hdulist = pyfits.open(IntFileName)\n",
    "            intmap = hdulist[0].data\n",
    "            \n",
    "            hdulistErr = pyfits.open(ErrFileName)\n",
    "            errmap = hdulistErr[0].data\n",
    "            \n",
    "            cdelt1, cdelt2, distance_mpc = np.abs(hdulist[0].header['CDELT1']), np.abs(hdulistErr[0].header['CDELT2']), dists[i]\n",
    "            pixelArea = cdelt1*cdelt2 * (np.pi/180.0 * distance_mpc * 10**6)**2\n",
    "            beamArea = (150.0/2.0)**2*np.pi/np.log(2.0)\n",
    "            pixelsPerBeam = beamArea/pixelArea\n",
    "\n",
    "            #remove nans\n",
    "#             keep  = np.where(np.isfinite(flatmap))\n",
    "#             galIntPixArr = flatmap[keep]\n",
    "#             galRawPixArr = flatmap[keep]\n",
    "#             galErrPixArr = flatErrmap[keep]\n",
    "            \n",
    "#             lowErr = findErrVals(galErrPixArr)\n",
    "#             galErrPixArr = nonZeroErrArray(galErrPixArr, lowErr) \n",
    "#             galIntPixArr = np.clip(galIntPixArr, 0, np.max(galIntPixArr))\n",
    "#             galSNRPixArr = findSignalArray(galIntPixArr, galErrPixArr)\n",
    "\n",
    "\n",
    "        \n",
    "            f_int    = intmap.flatten()\n",
    "            f_err    = errmap.flatten()\n",
    "        \n",
    "            keep     = np.where(np.isfinite(f_int))\n",
    "            inten    = f_int[keep]\n",
    "            error    = f_err[keep]\n",
    "        \n",
    "            lowErr = findErrVals(error)\n",
    "        \n",
    "            for k in range(len(error)):\n",
    "            \n",
    "                if error[k] <= lowErr:\n",
    "                    error[k] == lowErr\n",
    "\n",
    "                elif np.isnan(error[j]):\n",
    "                    error[k] == lowErr\n",
    "\n",
    "                else:\n",
    "                    pass\n",
    "            SNRarr = []   \n",
    "            for m in range(len(inten)):\n",
    "                SNRarr.append(inten[m]/error[m])\n",
    "                \n",
    "\n",
    "            # get alphaco information\n",
    "            acoMap = getAlphaCO(acos[j], IntFileName)\n",
    "\n",
    "            if isinstance(acoMap, float) == False:\n",
    "                acoMap = acoMap.flatten()\n",
    "                acoMap = acoMap[keep]\n",
    "            \n",
    "            galSMPixArr = inten * acoMap * np.cos(incls[j]* np.pi/180)\n",
    "            \n",
    "            keepDetec  = np.where(np.asarray(SNRarr) > 3.0)\n",
    "            \n",
    "\n",
    "            \n",
    "            #add to full list\n",
    "            \n",
    "#             SM = galSMPixArr[keepDetec]/pixelsPerBeam             \n",
    "#             resSMPixArr = np.concatenate((SM, resSMPixArr), axis=0)\n",
    "\n",
    "            resSMPixArr = np.concatenate((galSMPixArr[keepDetec], resSMPixArr), axis=0)\n",
    "            #resSNRPixArr = np.concatenate((galSNRPixArr, resSNRPixArr), axis=0)\n",
    "            #print(\"file for \", gals[j], \" at resolution \", res[i])\n",
    "            \n",
    "        else:\n",
    "            pass\n",
    "            #print(\"No file for \", galaxies[j], \" at resolution \", res[i])\n",
    "    resArr = np.sort(resSMPixArr)\n",
    "    resCS = np.cumsum(resArr)/np.sum(resArr)\n",
    "    perArr = np.interp([0.16, 0.5, 0.84],resCS,resArr)\n",
    "    for k in range(len(perArr)):\n",
    "        perArr[k] = round(perArr[k],2)\n",
    "    print(\"Resolution: \", res[i], \" Percentiles: \", perArr)\n",
    "    percentilesArr.append(perArr)\n",
    "#     sortedRes = np.sort(resSNRPixArr)\n",
    "#     idx3 = bisect.bisect_left(sortedRes,3)\n",
    "#     idx7 = bisect.bisect_left(sortedRes,7)\n",
    "#     numPix = len(sortedRes)\n",
    "#     fracWeak = float(idx3)/numPix\n",
    "#     fracMod = float(idx7-idx3)/numPix\n",
    "#     fracStrong = float(numPix-idx7)/numPix\n",
    "#     frac = [fracWeak, fracMod, fracStrong]\n",
    "#     fracs.append(frac)\n",
    "print(percentilesArr)\n",
    "# print(fracs)\n",
    "    \n",
    "    \n",
    "#write a return statement here to save these values for future plot\n",
    "# save the fraction of strong, mod, weak measurements"
   ]
  },
  {
   "cell_type": "code",
   "execution_count": 6,
   "id": "49a4fb57",
   "metadata": {},
   "outputs": [],
   "source": [
    "# print(\"All Pixel Stats\")\n",
    "# print(\"Res  Weak   Mod     Strong\")\n",
    "# for i in range(len(res)):\n",
    "#     print(res[i], fracs[i])"
   ]
  },
  {
   "cell_type": "code",
   "execution_count": 7,
   "id": "0257028f",
   "metadata": {},
   "outputs": [
    {
     "data": {
      "text/html": [
       "<i>Table length=2</i>\n",
       "<table id=\"table140467924708128\" class=\"table-striped table-bordered table-condensed\">\n",
       "<thead><tr><th>galaxy</th><th>SN_name</th><th>SN_type</th><th>SN_ra</th><th>SN_dec</th><th>SN_xCoord</th><th>SN_yCoord</th><th>SN_co21int</th><th>SN_co21err</th><th>SN_co21ew</th><th>map_beamsize</th><th>orient_ra</th><th>orient_dec</th><th>dist</th><th>orient_posang</th><th>orient_incl</th><th>size_r25</th><th>telOrient</th><th>ImageFile150</th><th>ErrFile150</th><th>AlphaCOFile</th><th>PACovFile</th><th>IFRFile</th><th>MixedMaps</th><th>IFRResizedMaps</th><th>MassMaps</th><th>NatRes</th><th>NatInt</th><th>pc60Int</th><th>pc90Int</th><th>pc120Int</th><th>pc150Int</th><th>pc500Int</th><th>pc750Int</th><th>pc1000Int</th><th>NatErr</th><th>pc60Err</th><th>pc90Err</th><th>pc120Err</th><th>pc150Err</th><th>pc500Err</th><th>pc750Err</th><th>pc1000Err</th><th>NatEW</th><th>pc60EW</th><th>pc90EW</th><th>pc120EW</th><th>pc150EW</th><th>pc500EW</th><th>pc750EW</th><th>pc1000EW</th><th>NatSNR</th><th>pc60SNR</th><th>pc90SNR</th><th>pc120SNR</th><th>pc150SNR</th><th>pc500SNR</th><th>pc750SNR</th><th>pc1000SNR</th><th>alphaCO</th><th>pc60mgsd</th><th>pc90mgsd</th><th>pc120mgsd</th><th>pc150mgsd</th><th>pc500mgsd</th><th>pc750mgsd</th><th>pc1000mgsd</th><th>pc60mgsdErr</th><th>pc90mgsdErr</th><th>pc120mgsdErr</th><th>pc150mgsdErr</th><th>pc500mgsdErr</th><th>pc750mgsdErr</th><th>pc1000mgsdErr</th></tr></thead>\n",
       "<thead><tr><th>str8</th><th>str11</th><th>str12</th><th>float64</th><th>float64</th><th>float64</th><th>float64</th><th>float64</th><th>float64</th><th>float64</th><th>float64</th><th>float64</th><th>float64</th><th>float64</th><th>float64</th><th>float64</th><th>float64</th><th>str9</th><th>str112</th><th>str113</th><th>str80</th><th>str112</th><th>str97</th><th>str37</th><th>str54</th><th>str35</th><th>float64</th><th>float64</th><th>float64</th><th>float64</th><th>float64</th><th>float64</th><th>float64</th><th>float64</th><th>float64</th><th>float64</th><th>float64</th><th>float64</th><th>float64</th><th>float64</th><th>float64</th><th>float64</th><th>float64</th><th>float64</th><th>float64</th><th>float64</th><th>float64</th><th>float64</th><th>float64</th><th>float64</th><th>float64</th><th>float64</th><th>float64</th><th>float64</th><th>float64</th><th>float64</th><th>float64</th><th>float64</th><th>float64</th><th>float64</th><th>float64</th><th>float64</th><th>float64</th><th>float64</th><th>float64</th><th>float64</th><th>float64</th><th>float64</th><th>float64</th><th>float64</th><th>float64</th><th>float64</th><th>float64</th><th>float64</th></tr></thead>\n",
       "<tr><td>ngc1566</td><td>ASASSN-14ha</td><td>II</td><td>65.0059</td><td>-54.9381</td><td>258.9038295074317</td><td>423.1062029210927</td><td>68.05383</td><td>1.8849889</td><td>12.188041</td><td>0.0003484111476313</td><td>65.00159</td><td>-54.93801</td><td>17.69</td><td>214.7</td><td>29.5</td><td>216.83093</td><td>12m+7m+tp</td><td>/data/tycho/0/leroy.42/reduction/alma/phangs-alma/derived/ngc1566/ngc1566_12m+7m+tp_co21_150pc_broad_mom0.fits</td><td>/data/tycho/0/leroy.42/reduction/alma/phangs-alma/derived/ngc1566/ngc1566_12m+7m+tp_co21_150pc_broad_emom0.fits</td><td>/data/kant/0/sun.1608/PHANGS/ALMA/alphaCO/v1p0/NGC1566_alphaCO21_scaling.fits</td><td>/data/tycho/0/leroy.42/reduction/alma/phangs-alma/derived/ngc1566/ngc1566_12m+7m+tp_co21_150pc_coverage2d.fits</td><td>/data/tycho/0/leroy.42/projects/phangs_survey_2019/working_data/irac/ngc1566_irac1_gauss7p5.fits</td><td>../Data/MixedMaps/ngc1566_Mixed.fits</td><td>../Data/ReprojectedInfraredMaps/ngc1566_reshaped.fits</td><td>../Data/MassMaps/ngc1566_Mass.fits</td><td>107.5715044627487</td><td>67.5704116821289</td><td>nan</td><td>nan</td><td>65.49005889892578</td><td>61.47018814086914</td><td>27.1928653717041</td><td>26.058115005493164</td><td>27.509992599487305</td><td>1.9442304372787476</td><td>nan</td><td>nan</td><td>1.7264034748077393</td><td>1.4010099172592163</td><td>0.592937171459198</td><td>0.40141287446022034</td><td>0.27739909291267395</td><td>12.188040733337402</td><td>nan</td><td>nan</td><td>12.932862281799316</td><td>13.762829780578613</td><td>19.730430603027344</td><td>29.85703468322754</td><td>43.81895446777344</td><td>34.75432252603976</td><td>nan</td><td>nan</td><td>37.93438779206528</td><td>43.875626705857115</td><td>45.86129303511769</td><td>64.91599214532792</td><td>99.17116999422753</td><td>4.303624864500136</td><td>nan</td><td>nan</td><td>245.30509289005906</td><td>230.24792564528673</td><td>101.85589199496292</td><td>97.60547523445871</td><td>103.04375050932748</td><td>nan</td><td>nan</td><td>6.466562587873619</td><td>5.247741010946063</td><td>2.2209555216196826</td><td>1.5035659474471037</td><td>1.0390494587824806</td></tr>\n",
       "<tr><td>ngc4321</td><td>SN1901B</td><td>I</td><td>185.6971</td><td>15.8238</td><td>545.5920792633563</td><td>276.5735561756638</td><td>5.0824146</td><td>1.0344207</td><td>2.544713</td><td>0.000462934650464</td><td>185.72887</td><td>15.822304</td><td>15.21</td><td>156.2</td><td>38.5</td><td>182.86105</td><td>12m+7m+tp</td><td>/data/tycho/0/leroy.42/reduction/alma/phangs-alma/derived/ngc4321/ngc4321_12m+7m+tp_co21_150pc_broad_mom0.fits</td><td>/data/tycho/0/leroy.42/reduction/alma/phangs-alma/derived/ngc4321/ngc4321_12m+7m+tp_co21_150pc_broad_emom0.fits</td><td>/data/kant/0/sun.1608/PHANGS/ALMA/alphaCO/v1p0/NGC4321_alphaCO21_scaling.fits</td><td>/data/tycho/0/leroy.42/reduction/alma/phangs-alma/derived/ngc4321/ngc4321_12m+7m+tp_co21_150pc_coverage2d.fits</td><td>/data/tycho/0/leroy.42/projects/phangs_survey_2019/working_data/irac/ngc4321_irac1_gauss7p5.fits</td><td>../Data/MixedMaps/ngc4321_Mixed.fits</td><td>../Data/ReprojectedInfraredMaps/ngc4321_reshaped.fits</td><td>../Data/MassMaps/ngc4321_Mass.fits</td><td>122.89275219530901</td><td>6.170846462249756</td><td>nan</td><td>nan</td><td>6.170846462249756</td><td>5.9207563400268555</td><td>6.212408065795898</td><td>6.033936977386475</td><td>5.244757175445557</td><td>1.2138640880584717</td><td>nan</td><td>nan</td><td>1.2138640880584717</td><td>0.9734418988227844</td><td>0.27170467376708984</td><td>0.1647694706916809</td><td>0.10345045477151871</td><td>2.744281053543091</td><td>nan</td><td>nan</td><td>2.744281053543091</td><td>4.029609203338623</td><td>10.151252746582031</td><td>13.131563186645508</td><td>13.50499439239502</td><td>5.08363870630672</td><td>nan</td><td>nan</td><td>5.08363870630672</td><td>6.082290424510207</td><td>22.864560920734426</td><td>36.6204792189766</td><td>50.698251515947014</td><td>7.5419200434386395</td><td>nan</td><td>nan</td><td>36.42260758229612</td><td>34.946483611677635</td><td>36.667919467093895</td><td>35.61451740018332</td><td>30.956487677063475</td><td>nan</td><td>nan</td><td>7.164672724894972</td><td>5.745612453961666</td><td>1.6037010111067591</td><td>0.9725300749676699</td><td>0.6106026687592212</td></tr>\n",
       "</table>"
      ],
      "text/plain": [
       "<Table length=2>\n",
       " galaxy   SN_name   SN_type ...    pc750mgsdErr      pc1000mgsdErr   \n",
       "  str8     str11     str12  ...      float64            float64      \n",
       "------- ----------- ------- ... ------------------ ------------------\n",
       "ngc1566 ASASSN-14ha      II ... 1.5035659474471037 1.0390494587824806\n",
       "ngc4321     SN1901B       I ... 0.9725300749676699 0.6106026687592212"
      ]
     },
     "execution_count": 7,
     "metadata": {},
     "output_type": "execute_result"
    }
   ],
   "source": [
    "database[0:2]"
   ]
  },
  {
   "cell_type": "code",
   "execution_count": 8,
   "id": "designed-attraction",
   "metadata": {},
   "outputs": [],
   "source": [
    "def mgsdPercentiles(res):\n",
    "\n",
    "    msgdStr = \"pc\" + str(res) + \"mgsd\"\n",
    "    errStr = \"pc\" + str(res) + \"mgsdErr\"\n",
    "    SNRStr = 'pc' + str(res) + \"SNR\" \n",
    "\n",
    "    mgsdgroup = database.group_by([msgdStr, errStr, SNRStr])\n",
    "\n",
    "    mgsdNotNan = []\n",
    "    SNTilesArr = []\n",
    "    \n",
    "    # remove nans and set negative values to zero\n",
    "    for i in range(len(mgsdgroup)):\n",
    "        if np.isfinite(mgsdgroup[msgdStr][i]):\n",
    "            if mgsdgroup[SNRStr][i] < 3.0:\n",
    "                mgsdNotNan.append(0.0)\n",
    "            else:\n",
    "                mgsdNotNan.append(mgsdgroup[msgdStr][i])\n",
    "\n",
    "    # find normalized cumulative dictribution    \n",
    "    mgsdSort = np.sort(mgsdNotNan)\n",
    "    print(len(mgsdSort))\n",
    "    mgsdCS = np.cumsum(mgsdSort)/np.sum(mgsdSort)\n",
    "    tilesArr = np.interp([0.16, 0.5, 0.84],mgsdCS,mgsdSort)\n",
    "    for k in range(len(tilesArr)):\n",
    "        tilesArr[k] = round(tilesArr[k],2)\n",
    "    print(\"Resolution: \", res, \" Percentiles: \", tilesArr)\n",
    "    SNTilesArr.append(tilesArr)\n",
    "    \n",
    "    return(SNTilesArr)\n"
   ]
  },
  {
   "cell_type": "code",
   "execution_count": 9,
   "id": "computational-boards",
   "metadata": {},
   "outputs": [
    {
     "name": "stdout",
     "output_type": "stream",
     "text": [
      "7\n",
      "Resolution:  60  Percentiles:  [149.94 333.99 551.49]\n",
      "19\n",
      "Resolution:  90  Percentiles:  [105.87 301.14 585.97]\n",
      "47\n",
      "Resolution:  120  Percentiles:  [ 73.72 329.63 789.41]\n",
      "59\n",
      "Resolution:  150  Percentiles:  [ 77.04 319.69 742.1 ]\n",
      "62\n",
      "Resolution:  500  Percentiles:  [ 61.   216.7  645.44]\n",
      "63\n",
      "Resolution:  750  Percentiles:  [ 57.99 209.32 545.32]\n",
      "63\n",
      "Resolution:  1000  Percentiles:  [ 46.17 164.36 474.16]\n"
     ]
    }
   ],
   "source": [
    "# Find entries for Latex Table : MGSD Percentiles at all resolutions at locations of SNe\n",
    "\n",
    "pc60mgsdTiles = mgsdPercentiles(60)\n",
    "pc90mgsdTiles = mgsdPercentiles(90)\n",
    "pc120mgsdTiles = mgsdPercentiles(120)\n",
    "pc150mgsdTiles = mgsdPercentiles(150)\n",
    "pc500mgsdTiles = mgsdPercentiles(500)\n",
    "pc750mgsdTiles = mgsdPercentiles(750)\n",
    "pc1000mgsdTiles = mgsdPercentiles(1000)\n",
    "\n",
    "SNtiles = [pc60mgsdTiles,pc90mgsdTiles,pc120mgsdTiles,pc150mgsdTiles,pc500mgsdTiles,pc750mgsdTiles,pc1000mgsdTiles]"
   ]
  },
  {
   "cell_type": "code",
   "execution_count": 10,
   "id": "edf8593c",
   "metadata": {},
   "outputs": [
    {
     "name": "stdout",
     "output_type": "stream",
     "text": [
      "[149.94 333.99 551.49]\n",
      "301.14\n"
     ]
    }
   ],
   "source": [
    "print(SNtiles[0][0])\n",
    "print(SNtiles[1][0][1])"
   ]
  },
  {
   "cell_type": "code",
   "execution_count": 11,
   "id": "b5e091c8",
   "metadata": {},
   "outputs": [
    {
     "name": "stdout",
     "output_type": "stream",
     "text": [
      "[[array([149.94, 333.99, 551.49])], [array([105.87, 301.14, 585.97])], [array([ 73.72, 329.63, 789.41])], [array([ 77.04, 319.69, 742.1 ])], [array([ 61.  , 216.7 , 645.44])], [array([ 57.99, 209.32, 545.32])], [array([ 46.17, 164.36, 474.16])]]\n"
     ]
    },
    {
     "name": "stderr",
     "output_type": "stream",
     "text": [
      "<ipython-input-11-022a3aaba967>:27: UserWarning: FixedFormatter should only be used together with FixedLocator\n",
      "  ax.set_xticklabels([\"\", \"60 pc\", \"90 pc\", \"120 pc\", \"150 pc\", \"500 pc\", \"750 pc\", \"1 kpc\"], fontsize=14)\n"
     ]
    },
    {
     "data": {
      "image/png": "[encoded data removed]",
      "text/plain": [
       "<Figure size 1152x432 with 1 Axes>"
      ]
     },
     "metadata": {
      "needs_background": "light"
     },
     "output_type": "display_data"
    }
   ],
   "source": [
    "darkpurple = '#5B2489'\n",
    "tealgreen  = \"#00cc99\"\n",
    "\n",
    "xSN, ySN, errLowSN, errHighSN = [],[],[],[]\n",
    "xAP, yAP, errLowAP, errHighAP = [],[],[],[]\n",
    "\n",
    "for i in range(len(SNtiles)):\n",
    "    errLowSN.append(SNtiles[i][0][0])\n",
    "    ySN.append(SNtiles[i][0][1])\n",
    "    errHighSN.append(SNtiles[i][0][2])\n",
    "    xSN.append(i)\n",
    "    errLowAP.append(percentilesArr[i][0])\n",
    "    yAP.append(percentilesArr[i][1])\n",
    "    errHighAP.append(percentilesArr[i][2])\n",
    "    xAP.append(i+0.2)\n",
    "\n",
    "print(SNtiles) \n",
    "#print(ySN[0])\n",
    "\n",
    "# plot MGSD table using SNtiles and percentilesArr\n",
    "f, ax = plt.subplots(nrows = 1, ncols = 1, figsize = (16,6))\n",
    "ax.set_yscale('log')\n",
    "ax.errorbar(xSN, ySN, yerr=np.vstack([errLowSN, errHighSN]), ls=\"\", marker=\"o\",label=\"SN Locations\",color = darkpurple,mec='black', ms = 12)\n",
    "ax.errorbar(xAP, yAP, yerr=np.vstack([errLowAP, errHighAP]), ls=\"\", marker=\"^\", label=\"All Pixels\",color = tealgreen,mec='black', ms = 12)\n",
    "ax.legend(loc=\"best\", title = \"16-50-84 % by mass\", fontsize=16)\n",
    "ax.set_ylabel(r\"$\\Sigma_{mol}$  $[M_{sun}pc^{-2}]$\", fontsize = 16)\n",
    "ax.set_xticklabels([\"\", \"60 pc\", \"90 pc\", \"120 pc\", \"150 pc\", \"500 pc\", \"750 pc\", \"1 kpc\"], fontsize=14)\n",
    "ax.set_ylim(15, 3000)\n",
    "plt.savefig(\"../Figures/MGSDbyResolution.png\",dpi=300)\n",
    "plt.show()\n",
    "plt.close()"
   ]
  },
  {
   "cell_type": "code",
   "execution_count": null,
   "id": "7bc5feaa",
   "metadata": {},
   "outputs": [],
   "source": []
  },
  {
   "cell_type": "code",
   "execution_count": null,
   "id": "effad249",
   "metadata": {},
   "outputs": [],
   "source": []
  }
 ],
 "metadata": {
  "kernelspec": {
   "display_name": "Python 3",
   "language": "python",
   "name": "python3"
  },
  "language_info": {
   "codemirror_mode": {
    "name": "ipython",
    "version": 3
   },
   "file_extension": ".py",
   "mimetype": "text/x-python",
   "name": "python",
   "nbconvert_exporter": "python",
   "pygments_lexer": "ipython3",
   "version": "3.8.10"
  }
 },
 "nbformat": 4,
 "nbformat_minor": 5
}
