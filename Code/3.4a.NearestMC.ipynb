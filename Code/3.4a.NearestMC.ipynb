{
 "cells": [
  {
   "cell_type": "markdown",
   "metadata": {},
   "source": [
    "This notebook calculates the distance to the nearest 10^5.5 and 10^ 6.5 Msun molecular cloud from the locations of each of the SNe located within 150pc maps."
   ]
  },
  {
   "cell_type": "code",
   "execution_count": 1,
   "metadata": {},
   "outputs": [],
   "source": [
    "#import packages and initialize settings\n",
    "import time\n",
    "import os\n",
    "import numpy as np\n",
    "import matplotlib.pyplot as plt\n",
    "import astropy.io.fits as pyfits\n",
    "from astropy.io import ascii\n",
    "from astropy.table import Table\n",
    "from progressbar import progressbar\n",
    "from astropy.wcs import WCS\n",
    "from reproject import reproject_interp\n",
    "\n",
    "import sys\n",
    "sys.path.append('/home/mayker.1/Desktop/PythonFunctions')\n",
    "from FindNearestMC import nearestMCMethod"
   ]
  },
  {
   "cell_type": "code",
   "execution_count": 2,
   "metadata": {},
   "outputs": [
    {
     "data": {
      "text/html": [
       "<i>Table length=1</i>\n",
       "<table id=\"table140439532684192\" class=\"table-striped table-bordered table-condensed\">\n",
       "<thead><tr><th>galaxy</th><th>SN_name</th><th>SN_type</th><th>SN_ra</th><th>SN_dec</th><th>SN_xCoord</th><th>SN_yCoord</th><th>SN_co21int</th><th>SN_co21err</th><th>SN_co21ew</th><th>map_beamsize</th><th>orient_ra</th><th>orient_dec</th><th>dist</th><th>orient_posang</th><th>orient_incl</th><th>size_r25</th><th>telOrient</th><th>ImageFile150</th><th>ErrFile150</th><th>AlphaCOFile</th><th>NatRes</th><th>NatInt</th><th>pc60Int</th><th>pc90Int</th><th>pc120Int</th><th>pc150Int</th><th>pc500Int</th><th>pc750Int</th><th>pc1000Int</th><th>NatErr</th><th>pc60Err</th><th>pc90Err</th><th>pc120Err</th><th>pc150Err</th><th>pc500Err</th><th>pc750Err</th><th>pc1000Err</th><th>NatEW</th><th>pc60EW</th><th>pc90EW</th><th>pc120EW</th><th>pc150EW</th><th>pc500EW</th><th>pc750EW</th><th>pc1000EW</th><th>NatSNR</th><th>pc60SNR</th><th>pc90SNR</th><th>pc120SNR</th><th>pc150SNR</th><th>pc500SNR</th><th>pc750SNR</th><th>pc1000SNR</th><th>alphaCO</th><th>pc60mgsd</th><th>pc90mgsd</th><th>pc120mgsd</th><th>pc150mgsd</th><th>pc500mgsd</th><th>pc750mgsd</th><th>pc1000mgsd</th><th>pc60mgsdErr</th><th>pc90mgsdErr</th><th>pc120mgsdErr</th><th>pc150mgsdErr</th><th>pc500mgsdErr</th><th>pc750mgsdErr</th><th>pc1000mgsdErr</th><th>SN_percentile</th></tr></thead>\n",
       "<thead><tr><th>str8</th><th>str11</th><th>str12</th><th>float64</th><th>float64</th><th>float64</th><th>float64</th><th>float64</th><th>float64</th><th>float64</th><th>float64</th><th>float64</th><th>float64</th><th>float64</th><th>float64</th><th>float64</th><th>float64</th><th>str9</th><th>str112</th><th>str113</th><th>str74</th><th>float64</th><th>float64</th><th>float64</th><th>float64</th><th>float64</th><th>float64</th><th>float64</th><th>float64</th><th>float64</th><th>float64</th><th>float64</th><th>float64</th><th>float64</th><th>float64</th><th>float64</th><th>float64</th><th>float64</th><th>float64</th><th>float64</th><th>float64</th><th>float64</th><th>float64</th><th>float64</th><th>float64</th><th>float64</th><th>float64</th><th>float64</th><th>float64</th><th>float64</th><th>float64</th><th>float64</th><th>float64</th><th>float64</th><th>float64</th><th>float64</th><th>float64</th><th>float64</th><th>float64</th><th>float64</th><th>float64</th><th>float64</th><th>float64</th><th>float64</th><th>float64</th><th>float64</th><th>float64</th><th>float64</th><th>float64</th><th>str13</th></tr></thead>\n",
       "<tr><td>ngc1566</td><td>ASASSN-14ha</td><td>II</td><td>65.0059</td><td>-54.9381</td><td>258.9038295074317</td><td>423.1062029210927</td><td>68.05383</td><td>1.8849889</td><td>12.188041</td><td>0.0003484111476313</td><td>65.00159</td><td>-54.93801</td><td>17.69</td><td>214.7</td><td>29.5</td><td>216.83093</td><td>12m+7m+tp</td><td>/data/tycho/0/leroy.42/reduction/alma/phangs-alma/derived/ngc1566/ngc1566_12m+7m+tp_co21_150pc_broad_mom0.fits</td><td>/data/tycho/0/leroy.42/reduction/alma/phangs-alma/derived/ngc1566/ngc1566_12m+7m+tp_co21_150pc_broad_emom0.fits</td><td>/data/kant/0/sun.1608/PHANGS/ALMA/alphaCO/NGC1566_alphaCO21_Sun+20.fits</td><td>107.5715044627487</td><td>68.0538330078125</td><td>nan</td><td>nan</td><td>65.95396423339844</td><td>61.926334381103516</td><td>27.371265411376953</td><td>26.06928253173828</td><td>27.377416610717773</td><td>1.8849889039993286</td><td>nan</td><td>nan</td><td>1.6742128133773804</td><td>1.3591481447219849</td><td>0.5764862298965454</td><td>0.3906446397304535</td><td>0.27018043398857117</td><td>12.188040733337402</td><td>nan</td><td>nan</td><td>12.932862281799316</td><td>13.762829780578613</td><td>19.730430603027344</td><td>29.85703468322754</td><td>43.81895446777344</td><td>36.10304170142571</td><td>nan</td><td>nan</td><td>39.39401473122755</td><td>45.56260818335635</td><td>47.47947824580116</td><td>66.73400804814882</td><td>101.33012300911419</td><td>4.304510126195559</td><td>nan</td><td>nan</td><td>283.8995069054033</td><td>266.5625334216323</td><td>117.81988913005836</td><td>112.21549064052044</td><td>117.84636702990916</td><td>nan</td><td>nan</td><td>7.20666600858929</td><td>5.850466951955691</td><td>2.481490814201981</td><td>1.6815338074637531</td><td>1.1629944140037154</td><td>0.98</td></tr>\n",
       "</table>"
      ],
      "text/plain": [
       "<Table length=1>\n",
       " galaxy   SN_name   SN_type ...   pc1000mgsdErr    SN_percentile\n",
       "  str8     str11     str12  ...      float64           str13    \n",
       "------- ----------- ------- ... ------------------ -------------\n",
       "ngc1566 ASASSN-14ha      II ... 1.1629944140037154          0.98"
      ]
     },
     "execution_count": 2,
     "metadata": {},
     "output_type": "execute_result"
    }
   ],
   "source": [
    "# Unpack master table to get SNe information\n",
    "database = Table.read('../Data/3.SNe+GalData.csv', format = \"csv\")\n",
    "\n",
    "centerCoords = [(database[\"orient_ra\"][i], database[\"orient_dec\"][i]) for i in range(len(database))]    \n",
    "SNe, SNra, SNdec  = database[\"SN_name\"], database[\"SN_ra\"], database[\"SN_dec\"]\n",
    "database[0:1]"
   ]
  },
  {
   "cell_type": "code",
   "execution_count": 3,
   "metadata": {},
   "outputs": [],
   "source": [
    "SNra  = np.array(SNra)\n",
    "SNdec = np.array(SNdec)\n",
    "massCutA = 10**5.5\n",
    "massCutB = 10**6.5\n"
   ]
  },
  {
   "cell_type": "markdown",
   "metadata": {},
   "source": [
    "[None, array([0.01364605]), array([0.55655997]), array([0.01321117]), array([0.00491407]), array([0.01275901]), array([0.1489542]), array([0.19534568]), array([0.35979567]), array([0.01287783]), array([0.01284268]), array([1.22508167]), array([0.01592836]), array([0.00761477]), array([0.00716833]), array([0.00421925]), None, array([0.07117317]), array([0.00321098]), array([0.0076644]), array([0.58246467]), array([0.01154423]), array([0.00611075]), array([0.00733605]), array([0.01245564]), array([0.01044295]), array([0.0040826]), array([0.00808865]), array([0.01097162]), array([0.02066585]), array([0.08586097]), array([0.03508382]), array([0.02765949]), array([0.0155404]), array([0.03955008]), array([0.02026862]), array([0.2480944]), array([0.10081377]), array([0.0106565]), array([0.00660132]), array([0.06650442]), array([0.01621761]), array([0.03209613]), array([0.38714994]), array([0.00946752]), array([0.29470551]), array([0.10821323]), array([0.37426845]), None, None, array([5800.10100662]), array([0.01400941]), array([0.01271513]), array([0.00453499]), array([0.00497956]), array([0.00238751]), array([0.05432539]), array([0.00023186]), array([0.0098961]), array([0.01070017]), array([0.99123115])]\n",
    "\n",
    "[0.03220571, 0.03057009, 0.31916941, 0.75480179, 0.02805144]"
   ]
  },
  {
   "cell_type": "code",
   "execution_count": 4,
   "metadata": {},
   "outputs": [
    {
     "name": "stdout",
     "output_type": "stream",
     "text": [
      " galaxy   SN_name    SN_type    ...    pc1000mgsdErr    SN_percentile\n",
      "-------- --------- ------------ ... ------------------- -------------\n",
      "circinus  SN1996cr           II ...  0.8091620438290308          0.98\n",
      " ngc0253   SN1940E            I ...  0.4121687199618783          0.99\n",
      " ngc0628  SN2013ej           II ... 0.49282741849621114 non-detection\n",
      " ngc1087   SN1995V           II ...  0.7219935606169763           0.9\n",
      " ngc1097  SN1999eu           II ...   0.357538346031736 non-detection\n",
      " ngc1097  SN1992bd           II ...  0.6440294703398377          0.99\n",
      " ngc1365  SN2012fr           Ia ...  0.8226942793375035 non-detection\n",
      " ngc1365  SN2001du           II ...  1.2412372438845123 non-detection\n",
      " ngc1365   SN1983V           Ic ...  0.7854228241047587          0.24\n",
      " ngc1433   SN1985P           II ... 0.31674932645786724 non-detection\n",
      "     ...       ...          ... ...                 ...           ...\n",
      " ngc4945  SN2011ja           II ...  0.3388542719185352          0.93\n",
      " ngc5128 SN2016adj          IIb ...  0.6222106630985553          0.95\n",
      " ngc5128   SN1986G           Ia ...  0.4876914058740322          0.65\n",
      " ngc5236   SN1950B unclassified ... 0.18988718622579023          0.99\n",
      " ngc5236   SN1923A           II ...  0.1024280278585278          0.39\n",
      " ngc5236   SN1968L           II ... 0.33593098733287585           1.0\n",
      " ngc5236   SN1983N           Ib ... 0.12464973129905185          0.21\n",
      " ngc5236   SN1957D unclassified ... 0.12741023029845494          0.96\n",
      " ngc5530  SN2007it           II ... 0.35013995546135307          0.44\n",
      " ngc6744  SN2005at           Ic ... 0.19090614901291791           0.8\n",
      " ngc7793  SN2008bk           II ... 0.09824145033669013 non-detection\n",
      "Length = 59 rows\n"
     ]
    }
   ],
   "source": [
    "database.sort(\"galaxy\")\n",
    "gal_group = database.group_by(\"galaxy\")\n",
    "print(gal_group)"
   ]
  },
  {
   "cell_type": "code",
   "execution_count": 5,
   "metadata": {},
   "outputs": [
    {
     "data": {
      "text/plain": [
       "array([ 0,  1,  2,  3,  4,  6,  9, 10, 11, 15, 17, 18, 19, 21, 22, 26, 30,\n",
       "       37, 43, 44, 45, 47, 48, 49, 51, 56, 57, 58, 59])"
      ]
     },
     "execution_count": 5,
     "metadata": {},
     "output_type": "execute_result"
    }
   ],
   "source": [
    "gal_group.groups.indices"
   ]
  },
  {
   "cell_type": "code",
   "execution_count": 12,
   "metadata": {},
   "outputs": [
    {
     "name": "stdout",
     "output_type": "stream",
     "text": [
      "1 circinus ../Data/MassMaps/circinus_Mass.fits\n",
      "2 ngc0253 ../Data/MassMaps/ngc0253_Mass.fits\n",
      "3 ngc0628 ../Data/MassMaps/ngc0628_Mass.fits\n",
      "4 ngc1087 ../Data/MassMaps/ngc1087_Mass.fits\n",
      "6 ngc1097 ../Data/MassMaps/ngc1097_Mass.fits\n",
      "9 ngc1365 ../Data/MassMaps/ngc1365_Mass.fits\n",
      "10 ngc1433 ../Data/MassMaps/ngc1433_Mass.fits\n",
      "11 ngc1511 ../Data/MassMaps/ngc1511_Mass.fits\n",
      "15 ngc1559 ../Data/MassMaps/ngc1559_Mass.fits\n",
      "17 ngc1566 ../Data/MassMaps/ngc1566_Mass.fits\n",
      "18 ngc1637 ../Data/MassMaps/ngc1637_Mass.fits\n",
      "19 ngc2775 ../Data/MassMaps/ngc2775_Mass.fits\n",
      "21 ngc2997 ../Data/MassMaps/ngc2997_Mass.fits\n",
      "22 ngc3239 ../Data/MassMaps/ngc3239_Mass.fits\n",
      "26 ngc3627 ../Data/MassMaps/ngc3627_Mass.fits\n",
      "30 ngc4254 ../Data/MassMaps/ngc4254_Mass.fits\n",
      "37 ngc4303 ../Data/MassMaps/ngc4303_Mass.fits\n",
      "43 ngc4321 ../Data/MassMaps/ngc4321_Mass.fits\n",
      "44 ngc4424 ../Data/MassMaps/ngc4424_Mass.fits\n",
      "45 ngc4457 ../Data/MassMaps/ngc4457_Mass.fits\n",
      "47 ngc4496a ../Data/MassMaps/ngc4496a_Mass.fits\n",
      "48 ngc4536 ../Data/MassMaps/ngc4536_Mass.fits\n",
      "49 ngc4945 ../Data/MassMaps/ngc4945_Mass.fits\n",
      "51 ngc5128 ../Data/MassMaps/ngc5128_Mass.fits\n",
      "56 ngc5236 ../Data/MassMaps/ngc5236_Mass.fits\n",
      "57 ngc5530 ../Data/MassMaps/ngc5530_Mass.fits\n",
      "58 ngc6744 ../Data/MassMaps/ngc6744_Mass.fits\n",
      "59 ngc7793 ../Data/MassMaps/ngc7793_Mass.fits\n"
     ]
    }
   ],
   "source": [
    "# remove duplicate galaxies, grouping SNe together in their own lists.\n",
    "\n",
    "SNr, SNd, SNa = [],[],[]\n",
    "gala, imgs, errs, alco, cocs, pans, incl, gdis, SNrs, SNdc, SNea = [],[],[],[],[],[],[],[],[],[],[]\n",
    "\n",
    "for i in range(len(database)):\n",
    "    gal = database[\"galaxy\"][i]\n",
    "    img = database[\"ImageFile150\"][i]\n",
    "    ers = database[\"ErrFile150\"][i]\n",
    "    aco = \"../Data/MassMaps/\" + gal + \"_Mass.fits\"\n",
    "    ccs = centerCoords[i]\n",
    "    pas = database[\"orient_posang\"][i]\n",
    "    inc = database[\"orient_incl\"][i]\n",
    "    gds = database[\"dist\"][i]\n",
    "    SNr.append(SNra[i])\n",
    "    SNd.append(SNdec[i])\n",
    "    SNa.append(SNe[i])\n",
    "    \n",
    "    if (i+1) in gal_group.groups.indices:\n",
    "        print(i+1, gal, aco)\n",
    "        gala.append(gal)\n",
    "        imgs.append(img)\n",
    "        errs.append(ers)\n",
    "        alco.append(aco)\n",
    "        cocs.append(ccs)\n",
    "        pans.append(pas)\n",
    "        incl.append(inc)\n",
    "        gdis.append(gds)\n",
    "        SNrs.append(SNr)\n",
    "        SNdc.append(SNd)\n",
    "        SNea.append(SNa) \n",
    "        SNr, SNd, SNa = [],[],[]\n",
    "    else: pass"
   ]
  },
  {
   "cell_type": "code",
   "execution_count": 7,
   "metadata": {},
   "outputs": [
    {
     "name": "stdout",
     "output_type": "stream",
     "text": [
      "ngc1087 /data/tycho/0/leroy.42/reduction/alma/phangs-alma/derived/ngc1087/ngc1087_12m+7m+tp_co21_150pc_broad_mom0.fits ../Data/MassMaps/ngc1087_Mass.fits\n",
      "[4.2, 3.7, 9.84, 15.85, 13.58, 19.57, 18.63, 15.28, 19.44, 17.69, 11.7, 23.15, 14.06, 10.86, 11.32, 13.1, 16.99, 15.21, 16.2, 15.1, 14.86, 16.25, 3.47, 3.69, 4.89, 12.27, 9.39, 3.62]\n",
      "28\n"
     ]
    }
   ],
   "source": [
    "#for i in range(len(gal_group.groups.indices)-1):\n",
    "print(gala[3], imgs[3], alco[3])\n",
    "print(gdis)\n",
    "print(len(gala))"
   ]
  },
  {
   "cell_type": "code",
   "execution_count": 8,
   "metadata": {
    "scrolled": true
   },
   "outputs": [
    {
     "name": "stdout",
     "output_type": "stream",
     "text": [
      "at Mass cutoff A for circinus\n",
      "Nearest 55 [-228772.64654704] circinus\n",
      "Nearest 65 [-225573.81850563] circinus\n",
      "done with circinus  \n",
      "at Mass cutoff A for ngc0253\n",
      "Nearest 55 [-4360348.0448156] ngc0253\n",
      "Nearest 65 [-4339317.908307] ngc0253\n",
      "done with ngc0253  \n",
      "at Mass cutoff A for ngc0628\n",
      "Nearest 55 [-2700014.49347649] ngc0628\n",
      "Nearest 65 [-2697660.79849985] ngc0628\n",
      "done with ngc0628  \n",
      "at Mass cutoff A for ngc1087\n",
      "Nearest 55 [4509786.10519728] ngc1087\n",
      "Nearest 65 [4512963.80152775] ngc1087\n",
      "done with ngc1087  \n",
      "at Mass cutoff A for ngc1097\n",
      "Nearest 55 [15204968.95513107  7718162.46995756] ngc1097\n",
      "Nearest 65 [15219014.24618193  7727658.4542094 ] ngc1097\n",
      "done with ngc1097  \n",
      "at Mass cutoff A for ngc1365\n",
      "Nearest 55 [35979857.02521984 36065541.75568679  7066147.39354293] ngc1365\n",
      "Nearest 65 [35989675.53632232 36075394.12894826  7067567.05756095] ngc1365\n",
      "done with ngc1365  \n",
      "at Mass cutoff A for ngc1433\n",
      "Nearest 55 [-9419320.21721606] ngc1433\n",
      "Nearest 65 [-9397974.653651] ngc1433\n",
      "done with ngc1433  \n",
      "at Mass cutoff A for ngc1511\n",
      "Nearest 55 [21592583.71353428] ngc1511\n",
      "Nearest 65 [21601984.45682089] ngc1511\n",
      "done with ngc1511  \n",
      "at Mass cutoff A for ngc1559\n",
      "Nearest 55 [-18149813.13881366 -13066102.7795327  -10042675.32271884\n",
      " -13051548.0011178 ] ngc1559\n",
      "Nearest 65 [-18141035.76490741 -13061235.95105457 -10029954.76716392\n",
      " -13046690.85944589] ngc1559\n",
      "done with ngc1559  \n",
      "at Mass cutoff A for ngc1566\n",
      "Nearest 55 [-25937085.78130798 -15105398.17121424] ngc1566\n",
      "Nearest 65 [-25907100.1623849  -15089457.67513781] ngc1566\n",
      "done with ngc1566  \n",
      "at Mass cutoff A for ngc1637\n",
      "Nearest 55 [-11598469.46604615] ngc1637\n",
      "Nearest 65 [-11595438.31377234] ngc1637\n",
      "done with ngc1637  \n",
      "at Mass cutoff A for ngc2775\n",
      "Nearest 55 [94971644.09065403] ngc2775\n",
      "Nearest 65 -14564476.205491388 ngc2775\n",
      "done with ngc2775  \n",
      "at Mass cutoff A for ngc2997\n",
      "Nearest 55 [13749778.74715068 20831076.96815063] ngc2997\n",
      "Nearest 65 [13750264.58368765 20833873.14422663] ngc2997\n",
      "done with ngc2997  \n",
      "at Mass cutoff A for ngc3239\n",
      "Nearest 55 [-19827576.33940987] ngc3239\n",
      "Nearest 65 -6832406.548234837 ngc3239\n",
      "done with ngc3239  \n",
      "at Mass cutoff A for ngc3627\n",
      "Nearest 55 [40662913.03338093  5801731.48604225  9384210.62565461  7250030.27582898] ngc3627\n",
      "Nearest 65 [40730762.98008321  5805078.86832742  9387885.64018013  7253101.64116295] ngc3627\n",
      "done with ngc3627  \n",
      "at Mass cutoff A for ngc4254\n",
      "Nearest 55 [ 3501613.94537228 -7522812.23539298 14670785.82330259 -8714744.33145399] ngc4254\n",
      "Nearest 65 [ 3502108.66445534 -7521633.25979356 14671597.72601106 -8714132.95515443] ngc4254\n",
      "done with ngc4254  \n",
      "at Mass cutoff A for ngc4303\n",
      "Nearest 55 [5.67011533e+07 2.34301676e+07 8.12062619e+07 1.68133263e+01\n",
      " 7.40475985e+07 1.57737088e+07 1.24046705e+08] ngc4303\n",
      "Nearest 65 [5.67156268e+07 2.34329845e+07 8.12514598e+07 6.89792131e+01\n",
      " 7.40879008e+07 1.57778809e+07 1.24115203e+08] ngc4303\n",
      "done with ngc4303  \n",
      "at Mass cutoff A for ngc4321\n",
      "Nearest 55 [-4.19804772e+06  1.05885875e+02  3.20984781e+06  3.13573489e+07\n",
      "  4.37922002e+05  4.17003568e+07] ngc4321\n",
      "Nearest 65 [-4.19510128e+06  3.93062908e+02  3.21446808e+06  3.13708544e+07\n",
      "  4.40166628e+05  4.17296100e+07] ngc4321\n",
      "done with ngc4321  \n",
      "at Mass cutoff A for ngc4424\n",
      "Nearest 55 [5232863.4245644] ngc4424\n",
      "Nearest 65 [5234698.75991491] ngc4424\n",
      "done with ngc4424  \n",
      "at Mass cutoff A for ngc4457\n",
      "Nearest 55 [6.02024389e+08] ngc4457\n",
      "Nearest 65 [6.03228782e+08] ngc4457\n",
      "done with ngc4457  \n",
      "at Mass cutoff A for ngc4496a\n",
      "Nearest 55 [-8.97289917e+07  1.01366346e+08] ngc4496a\n",
      "Nearest 65 [-8.95310819e+07  1.01673976e+08] ngc4496a\n",
      "done with ngc4496a  \n",
      "at Mass cutoff A for ngc4536\n",
      "Nearest 55 [12104852.58524249] ngc4536\n",
      "Nearest 65 [12117340.53185831] ngc4536\n",
      "done with ngc4536  \n",
      "at Mass cutoff A for ngc4945\n",
      "Nearest 55 [-32637242.29804418] ngc4945\n",
      "Nearest 65 [-31749338.13591451] ngc4945\n",
      "done with ngc4945  \n",
      "at Mass cutoff A for ngc5128\n",
      "Nearest 55 [  640605.44037282 12044025.10995236] ngc5128\n",
      "Nearest 65 [  647296.82914442 12119404.63529409] ngc5128\n",
      "done with ngc5128  \n",
      "at Mass cutoff A for ngc5236\n",
      "Nearest 55 [6252405.3098675  4415598.50527934 1197214.80626458 8126483.47521995\n",
      " 6462493.63267837] ngc5236\n",
      "Nearest 65 [6259340.72820443 4419987.01772933 1198172.89603965 8135809.9961709\n",
      " 6469959.7660779 ] ngc5236\n",
      "done with ngc5236  \n",
      "at Mass cutoff A for ngc5530\n",
      "Nearest 55 [33180101.17326273] ngc5530\n",
      "Nearest 65 [33217096.04959127] ngc5530\n",
      "done with ngc5530  \n",
      "at Mass cutoff A for ngc6744\n",
      "Nearest 55 [1892592.22570826] ngc6744\n",
      "Nearest 65 [1896382.11212186] ngc6744\n",
      "done with ngc6744  \n",
      "at Mass cutoff A for ngc7793\n",
      "Nearest 55 [-348150.70577805] ngc7793\n",
      "Nearest 65 -2277468.8494116124 ngc7793\n",
      "done with ngc7793  \n"
     ]
    }
   ],
   "source": [
    "\n",
    "nearest55, nearest65 = [],[]\n",
    "for i in range(len(gala)):\n",
    "    if incl[i] == 90.0:\n",
    "        incl[i]=80.0\n",
    "    near55, near65 = nearestMCMethod(gala[i], imgs[i], errs[i], alco[i], cocs[i], pans[i], incl[i], gdis[i], SNrs[i], SNdc[i], SNea[i])\n",
    "    nearest55.append(near55)\n",
    "    nearest65.append(near65)"
   ]
  },
  {
   "cell_type": "code",
   "execution_count": 9,
   "metadata": {},
   "outputs": [],
   "source": [
    "n55A = []\n",
    "for i in range(len(nearest55)):\n",
    "    if(type(nearest55[i])!= np.float64 and type(nearest55[i]) != float):\n",
    "        for j in range(len(nearest55[i])):\n",
    "            n55A.append(nearest55[i][j])\n",
    "    else:\n",
    "        n55A.append(nearest55[i])\n",
    "#print(n55A)\n",
    "\n",
    "n65A = []\n",
    "for i in range(len(nearest65)):\n",
    "    if(type(nearest65[i])!= np.float64 and type(nearest65[i]) != float):\n",
    "        for j in range(len(nearest65[i])):\n",
    "            n65A.append(nearest65[i][j])\n",
    "    else:\n",
    "        n65A.append(nearest65[i])\n",
    "#print(n65A)"
   ]
  },
  {
   "cell_type": "code",
   "execution_count": 10,
   "metadata": {},
   "outputs": [],
   "source": [
    "with open(\"../Data/NearestMCtoSNe.txt\", \"w\") as textFile:\n",
    "    print(\"# Nearest55MassArrayDistances, Nearest65MassArrayDistances (in pc)\", file=textFile)\n",
    "    print(n55A, n65A, file=textFile)"
   ]
  },
  {
   "cell_type": "code",
   "execution_count": 11,
   "metadata": {},
   "outputs": [
    {
     "name": "stdout",
     "output_type": "stream",
     "text": [
      "[-228772.64654704073, -4360348.044815597, -2700014.493476493, 4509786.105197277, 15204968.955131073, 7718162.46995756, 35979857.025219835, 36065541.75568679, 7066147.393542932, -9419320.217216058, 21592583.71353428, -18149813.138813663, -13066102.7795327, -10042675.322718842, -13051548.001117801, -25937085.781307984, -15105398.171214242, -11598469.466046145, 94971644.09065403, 13749778.74715068, 20831076.96815063, -19827576.339409865, 40662913.033380926, 5801731.486042245, 9384210.625654612, 7250030.275828975, 3501613.9453722844, -7522812.23539298, 14670785.823302593, -8714744.331453986, 56701153.31547113, 23430167.63112754, 81206261.890398, 16.813326325566262, 74047598.52992089, 15773708.787699917, 124046705.32830447, -4198047.719804964, 105.88587473785365, 3209847.8148873914, 31357348.89232864, 437922.0021805002, 41700356.78004257, 5232863.424564399, 602024389.2255213, -89728991.6826079, 101366345.65932773, 12104852.58524249, -32637242.29804418, 640605.4403728181, 12044025.109952359, 6252405.309867497, 4415598.505279342, 1197214.8062645837, 8126483.475219945, 6462493.632678375, 33180101.17326273, 1892592.2257082567, -348150.7057780532]\n"
     ]
    }
   ],
   "source": [
    "print(n55A)"
   ]
  },
  {
   "cell_type": "code",
   "execution_count": null,
   "metadata": {},
   "outputs": [],
   "source": []
  },
  {
   "cell_type": "code",
   "execution_count": null,
   "metadata": {},
   "outputs": [],
   "source": []
  }
 ],
 "metadata": {
  "kernelspec": {
   "display_name": "Python 3",
   "language": "python",
   "name": "python3"
  },
  "language_info": {
   "codemirror_mode": {
    "name": "ipython",
    "version": 3
   },
   "file_extension": ".py",
   "mimetype": "text/x-python",
   "name": "python",
   "nbconvert_exporter": "python",
   "pygments_lexer": "ipython3",
   "version": "3.8.10"
  }
 },
 "nbformat": 4,
 "nbformat_minor": 2
}
