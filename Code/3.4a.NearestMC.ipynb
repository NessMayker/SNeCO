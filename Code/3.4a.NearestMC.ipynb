{
 "cells": [
  {
   "cell_type": "markdown",
   "metadata": {},
   "source": [
    "This notebook calculates the distance to the nearest 10^5.5 and 10^ 6.5 Msun molecular cloud from the locations of each of the SNe located within 150pc maps."
   ]
  },
  {
   "cell_type": "code",
   "execution_count": 9,
   "metadata": {},
   "outputs": [],
   "source": [
    "#import packages and initialize settings\n",
    "import time\n",
    "import os\n",
    "import numpy as np\n",
    "import matplotlib.pyplot as plt\n",
    "import astropy.io.fits as pyfits\n",
    "from astropy.io import ascii\n",
    "from astropy.table import Table\n",
    "from progressbar import progressbar\n",
    "from astropy.wcs import WCS\n",
    "from reproject import reproject_interp\n",
    "\n",
    "import sys\n",
    "sys.path.append('/home/mayker.1/Desktop/PythonFunctions')\n",
    "from FindNearestMC import nearestMCMethodSigMol"
   ]
  },
  {
   "cell_type": "code",
   "execution_count": 10,
   "metadata": {},
   "outputs": [
    {
     "data": {
      "text/html": [
       "<i>Table length=1</i>\n",
       "<table id=\"table140666091348848\" class=\"table-striped table-bordered table-condensed\">\n",
       "<thead><tr><th>galaxy</th><th>SN_name</th><th>SN_type</th><th>SN_ra</th><th>SN_dec</th><th>SN_xCoord</th><th>SN_yCoord</th><th>SN_co21int</th><th>SN_co21err</th><th>SN_co21ew</th><th>map_beamsize</th><th>orient_ra</th><th>orient_dec</th><th>dist</th><th>orient_posang</th><th>orient_incl</th><th>size_r25</th><th>telOrient</th><th>ImageFile150</th><th>ErrFile150</th><th>AlphaCOFile</th><th>PACovFile</th><th>IFRFile</th><th>MixedMaps</th><th>IFRResizedMaps</th><th>MassMaps</th></tr></thead>\n",
       "<thead><tr><th>str8</th><th>str11</th><th>str12</th><th>float64</th><th>float64</th><th>float64</th><th>float64</th><th>float64</th><th>float64</th><th>float64</th><th>float64</th><th>float64</th><th>float64</th><th>float64</th><th>float64</th><th>float64</th><th>float64</th><th>str9</th><th>str112</th><th>str113</th><th>str80</th><th>str112</th><th>str97</th><th>str37</th><th>str54</th><th>str35</th></tr></thead>\n",
       "<tr><td>circinus</td><td>SN1996cr</td><td>II</td><td>213.2918</td><td>-65.3457</td><td>86.56761411031889</td><td>84.63433198287285</td><td>186.84804</td><td>2.137819</td><td>34.56537</td><td>0.002032163908078</td><td>213.29124</td><td>-65.33915</td><td>4.2</td><td>36.74</td><td>64.3</td><td>262.49515</td><td>7m+tp</td><td>/data/tycho/0/leroy.42/reduction/alma/phangs-alma/derived/circinus/circinus_7m+tp_co21_150pc_broad_mom0.fits</td><td>/data/tycho/0/leroy.42/reduction/alma/phangs-alma/derived/circinus/circinus_7m+tp_co21_150pc_broad_emom0.fits</td><td>/data/kant/0/sun.1608/PHANGS/ALMA/alphaCO/v1p0/ESO097-013_alphaCO21_scaling.fits</td><td>/data/tycho/0/leroy.42/reduction/alma/phangs-alma/derived/circinus/circinus_7m+tp_co21_150pc_coverage2d.fits</td><td>/data/tycho/0/leroy.42/projects/phangs_survey_2019/working_data/z0mgs/eso097-013_w1_gauss7p5.fits</td><td>../Data/MixedMaps/circinus_Mixed.fits</td><td>../Data/ReprojectedInfraredMaps/circinus_reshaped.fits</td><td>../Data/MassMaps/circinus_Mass.fits</td></tr>\n",
       "</table>"
      ],
      "text/plain": [
       "<Table length=1>\n",
       " galaxy  SN_name  ...               MassMaps             \n",
       "  str8    str11   ...                str35               \n",
       "-------- -------- ... -----------------------------------\n",
       "circinus SN1996cr ... ../Data/MassMaps/circinus_Mass.fits"
      ]
     },
     "execution_count": 10,
     "metadata": {},
     "output_type": "execute_result"
    }
   ],
   "source": [
    "# Unpack master table to get SNe information\n",
    "database = Table.read('../Data/3.SNe+GalData.csv', format = \"csv\")\n",
    "\n",
    "database[0:1]"
   ]
  },
  {
   "cell_type": "markdown",
   "metadata": {},
   "source": [
    "[None, array([0.01364605]), array([0.55655997]), array([0.01321117]), array([0.00491407]), array([0.01275901]), array([0.1489542]), array([0.19534568]), array([0.35979567]), array([0.01287783]), array([0.01284268]), array([1.22508167]), array([0.01592836]), array([0.00761477]), array([0.00716833]), array([0.00421925]), None, array([0.07117317]), array([0.00321098]), array([0.0076644]), array([0.58246467]), array([0.01154423]), array([0.00611075]), array([0.00733605]), array([0.01245564]), array([0.01044295]), array([0.0040826]), array([0.00808865]), array([0.01097162]), array([0.02066585]), array([0.08586097]), array([0.03508382]), array([0.02765949]), array([0.0155404]), array([0.03955008]), array([0.02026862]), array([0.2480944]), array([0.10081377]), array([0.0106565]), array([0.00660132]), array([0.06650442]), array([0.01621761]), array([0.03209613]), array([0.38714994]), array([0.00946752]), array([0.29470551]), array([0.10821323]), array([0.37426845]), None, None, array([5800.10100662]), array([0.01400941]), array([0.01271513]), array([0.00453499]), array([0.00497956]), array([0.00238751]), array([0.05432539]), array([0.00023186]), array([0.0098961]), array([0.01070017]), array([0.99123115])]\n",
    "\n",
    "[0.03220571, 0.03057009, 0.31916941, 0.75480179, 0.02805144]"
   ]
  },
  {
   "cell_type": "code",
   "execution_count": 11,
   "metadata": {},
   "outputs": [
    {
     "name": "stdout",
     "output_type": "stream",
     "text": [
      "63\n",
      "SN1996cr\n",
      "SN1940E\n",
      "SN2013ej\n",
      "SN2018ivc\n",
      "SN1995V\n",
      "SN1999eu\n",
      "SN1992bd\n",
      "SN2001du\n",
      "SN1983V\n",
      "SN2012fr\n",
      "SN1985P\n",
      "SN1935C\n",
      "SN2009ib\n",
      "SN2005df\n",
      "SN1984J\n",
      "SN1986L\n",
      "ASASSN-14ha\n",
      "SN2010el\n",
      "SN1999em\n",
      "SN2017gax\n",
      "SN1993Z\n",
      "SN2008eh\n",
      "SN2003jg\n",
      "SN2012A\n",
      "SN1973R\n",
      "SN1989B\n",
      "SN2016cok\n",
      "SN2009hd\n",
      "SN1986I\n",
      "SN2014L\n",
      "SN1967H\n",
      "SN1972Q\n",
      "SN1961I\n",
      "SN1926A\n",
      "SN1999gn\n",
      "SN2006ov\n",
      "SN2020jfo\n",
      "SN1964F\n",
      "SN2014dt\n",
      "SN1959E\n",
      "SN2006X\n",
      "SN2020oi\n",
      "SN2019ehk\n",
      "SN1901B\n",
      "SN1979C\n",
      "SN2012cg\n",
      "SN2020nvb\n",
      "SN1988M\n",
      "SN1960F\n",
      "SN1981B\n",
      "SN1989M\n",
      "SN1988A\n",
      "SN2011ja\n",
      "SN1986G\n",
      "SN2016adj\n",
      "SN1983N\n",
      "SN1968L\n",
      "SN1923A\n",
      "SN1950B\n",
      "SN1957D\n",
      "SN2007it\n",
      "SN2005at\n",
      "SN2008bk\n"
     ]
    }
   ],
   "source": [
    "database.sort(\"galaxy\")\n",
    "gal_group = database.group_by(\"galaxy\")\n",
    "print(len(gal_group))\n",
    "for i in range(len(gal_group)):\n",
    "    print(gal_group[\"SN_name\"][i])"
   ]
  },
  {
   "cell_type": "code",
   "execution_count": 12,
   "metadata": {},
   "outputs": [
    {
     "name": "stdout",
     "output_type": "stream",
     "text": [
      " galaxy \n",
      "--------\n",
      "circinus\n",
      " ngc0253\n",
      " ngc0628\n",
      " ngc1068\n",
      " ngc1087\n",
      " ngc1097\n",
      " ngc1097\n",
      " ngc1365\n",
      " ngc1365\n",
      " ngc1365\n",
      "     ...\n",
      " ngc4945\n",
      " ngc5128\n",
      " ngc5128\n",
      " ngc5236\n",
      " ngc5236\n",
      " ngc5236\n",
      " ngc5236\n",
      " ngc5236\n",
      " ngc5530\n",
      " ngc6744\n",
      " ngc7793\n",
      "Length = 63 rows\n"
     ]
    }
   ],
   "source": [
    "centerCoords = [(database[\"orient_ra\"][i], database[\"orient_dec\"][i]) for i in range(len(database))]    \n",
    "SNe, SNra, SNdec  = database[\"SN_name\"], database[\"SN_ra\"], database[\"SN_dec\"]\n",
    "SNra  = np.array(SNra)\n",
    "SNdec = np.array(SNdec)\n",
    "massCutA = 10**5.5\n",
    "massCutB = 10**6.5\n",
    "gal_group.groups.indices\n",
    "print(gal_group[\"galaxy\"])"
   ]
  },
  {
   "cell_type": "code",
   "execution_count": 14,
   "metadata": {},
   "outputs": [
    {
     "name": "stdout",
     "output_type": "stream",
     "text": [
      "1 circinus /data/kant/0/sun.1608/PHANGS/ALMA/alphaCO/v1p0/ESO097-013_alphaCO21_scaling.fits [213.2918] [-65.3457] ['SN1996cr'] (213.29124, -65.33915)\n",
      "2 ngc0253 /data/kant/0/sun.1608/PHANGS/ALMA/alphaCO/v1p0/NGC0253_alphaCO21_scaling.fits [11.8783] [-25.2934] ['SN1940E'] (11.887966, -25.288443)\n",
      "3 ngc0628 /data/kant/0/sun.1608/PHANGS/ALMA/alphaCO/v1p0/NGC0628_alphaCO21_scaling.fits [24.2007] [15.7586] ['SN2013ej'] (24.173855, 15.783643)\n",
      "4 ngc1068 /data/kant/0/sun.1608/PHANGS/ALMA/alphaCO/v1p0/NGC1068_alphaCO21_scaling.fits [40.672] [-0.0088] ['SN2018ivc'] (40.66973, -0.0132779)\n",
      "5 ngc1087 /data/kant/0/sun.1608/PHANGS/ALMA/alphaCO/v1p0/NGC1087_alphaCO21_scaling.fits [41.6115] [-0.4988] ['SN1995V'] (41.60492, -0.498717)\n",
      "7 ngc1097 /data/kant/0/sun.1608/PHANGS/ALMA/alphaCO/v1p0/NGC1097_alphaCO21_scaling.fits [41.5866, 41.5792] [-30.3184, -30.2756] ['SN1999eu', 'SN1992bd'] (41.578957, -30.274675)\n",
      "10 ngc1365 /data/kant/0/sun.1608/PHANGS/ALMA/alphaCO/v1p0/NGC1365_alphaCO21_scaling.fits [53.3713, 53.3819, 53.4006] [-36.1421, -36.1486, -36.1268] ['SN2001du', 'SN1983V', 'SN2012fr'] (53.40152, -36.140404)\n",
      "11 ngc1433 /data/kant/0/sun.1608/PHANGS/ALMA/alphaCO/v1p0/NGC1433_alphaCO21_scaling.fits [55.5264] [-47.21] ['SN1985P'] (55.506195, -47.221943)\n",
      "12 ngc1511 /data/kant/0/sun.1608/PHANGS/ALMA/alphaCO/v1p0/NGC1511_alphaCO21_scaling.fits [59.9373] [-67.6374] ['SN1935C'] (59.90246, -67.63393)\n",
      "16 ngc1559 /data/kant/0/sun.1608/PHANGS/ALMA/alphaCO/v1p0/NGC1559_alphaCO21_scaling.fits [64.4167, 64.4077, 64.3981, 64.374] [-62.7776, -62.7693, -62.7855, -62.7846] ['SN2009ib', 'SN2005df', 'SN1984J', 'SN1986L'] (64.40238, -62.78341)\n",
      "18 ngc1566 /data/kant/0/sun.1608/PHANGS/ALMA/alphaCO/v1p0/NGC1566_alphaCO21_scaling.fits [65.0059, 64.9951] [-54.9381, -54.944] ['ASASSN-14ha', 'SN2010el'] (65.00159, -54.93801)\n",
      "19 ngc1637 /data/kant/0/sun.1608/PHANGS/ALMA/alphaCO/v1p0/NGC1637_alphaCO21_scaling.fits [70.3629] [-2.8626] ['SN1999em'] (70.36741, -2.857962)\n",
      "20 ngc1672 /data/kant/0/sun.1608/PHANGS/ALMA/alphaCO/v1p0/NGC1672_alphaCO21_scaling.fits [71.4561] [-59.2451] ['SN2017gax'] (71.42704, -59.247257)\n",
      "21 ngc2775 /data/kant/0/sun.1608/PHANGS/ALMA/alphaCO/v1p0/NGC2775_alphaCO21_scaling.fits [137.5816] [7.0278] ['SN1993Z'] (137.58395, 7.038066)\n",
      "23 ngc2997 /data/kant/0/sun.1608/PHANGS/ALMA/alphaCO/v1p0/NGC2997_alphaCO21_scaling.fits [146.4507, 146.4086] [-31.1791, -31.1891] ['SN2008eh', 'SN2003jg'] (146.41164, -31.19109)\n",
      "24 ngc3239 /data/kant/0/sun.1608/PHANGS/ALMA/alphaCO/v1p0/NGC3239_alphaCO21_scaling.fits [156.2808] [17.1541] ['SN2012A'] (156.27031, 17.163702)\n",
      "28 ngc3627 /data/kant/0/sun.1608/PHANGS/ALMA/alphaCO/v1p0/NGC3627_alphaCO21_scaling.fits [170.0481, 170.058, 170.0797, 170.0707] [12.9977, 13.0053, 12.9825, 12.9796] ['SN1973R', 'SN1989B', 'SN2016cok', 'SN2009hd'] (170.06252, 12.9915)\n",
      "32 ngc4254 /data/kant/0/sun.1608/PHANGS/ALMA/alphaCO/v1p0/NGC4254_alphaCO21_scaling.fits [184.7169, 184.7029, 184.7184, 184.7107] [14.4123, 14.4121, 14.414, 14.4443] ['SN1986I', 'SN2014L', 'SN1967H', 'SN1972Q'] (184.7068, 14.416412)\n",
      "39 ngc4303 /data/kant/0/sun.1608/PHANGS/ALMA/alphaCO/v1p0/NGC4303_alphaCO21_scaling.fits [185.5018, 185.4754, 185.4876, 185.4804, 185.4602, 185.4698, 185.4899] [4.4704, 4.4934, 4.4627, 4.488, 4.4817, 4.4738, 4.4718] ['SN1961I', 'SN1926A', 'SN1999gn', 'SN2006ov', 'SN2020jfo', 'SN1964F', 'SN2014dt'] (185.47888, 4.473744)\n",
      "45 ngc4321 /data/kant/0/sun.1608/PHANGS/ALMA/alphaCO/v1p0/NGC4321_alphaCO21_scaling.fits [185.7454, 185.7249, 185.7289, 185.7339, 185.6971, 185.7442] [15.817, 15.809, 15.8236, 15.8261, 15.8238, 15.7978] ['SN1959E', 'SN2006X', 'SN2020oi', 'SN2019ehk', 'SN1901B', 'SN1979C'] (185.72887, 15.822304)\n",
      "46 ngc4424 /data/kant/0/sun.1608/PHANGS/ALMA/alphaCO/v1p0/NGC4424_alphaCO21_scaling.fits [186.8035] [9.4203] ['SN2012cg'] (186.7982, 9.420637)\n",
      "47 ngc4457 /data/kant/0/sun.1608/PHANGS/ALMA/alphaCO/v1p0/NGC4457_alphaCO21_scaling.fits [187.245] [3.5728] ['SN2020nvb'] (187.24593, 3.57062)\n",
      "49 ngc4496a /data/kant/0/sun.1608/PHANGS/ALMA/alphaCO/v1p0/NGC4496A_alphaCO21_scaling.fits [187.9206, 187.9252] [3.9228, 3.9466] ['SN1988M', 'SN1960F'] (187.91354, 3.939608)\n",
      "50 ngc4536 /data/kant/0/sun.1608/PHANGS/ALMA/alphaCO/v1p0/NGC4536_alphaCO21_scaling.fits [188.6231] [2.1998] ['SN1981B'] (188.61278, 2.188243)\n",
      "52 ngc4579 /data/kant/0/sun.1608/PHANGS/ALMA/alphaCO/v1p0/NGC4579_alphaCO21_scaling.fits [189.4196, 189.4315] [11.8237, 11.8054] ['SN1989M', 'SN1988A'] (189.43138, 11.818217)\n",
      "53 ngc4945 /data/kant/0/sun.1608/PHANGS/ALMA/alphaCO/v1p0/NGC4945_alphaCO21_scaling.fits [196.2963] [-49.5242] ['SN2011ja'] (196.36377, -49.467907)\n",
      "55 ngc5128 /data/kant/0/sun.1608/PHANGS/ALMA/alphaCO/v1p0/NGC5128_alphaCO21_scaling.fits [201.4021, 201.3505] [-43.0317, -43.016] ['SN1986G', 'SN2016adj'] (201.36507, -43.01911)\n",
      "60 ngc5236 /data/kant/0/sun.1608/PHANGS/ALMA/alphaCO/v1p0/NGC5236_alphaCO21_scaling.fits [204.2135, 204.252, 204.2883, 204.2203, 204.2647] [-29.9006, -29.8665, -29.8389, -29.8655, -29.828] ['SN1983N', 'SN1968L', 'SN1923A', 'SN1950B', 'SN1957D'] (204.2539, -29.865625)\n",
      "61 ngc5530 /data/kant/0/sun.1608/PHANGS/ALMA/alphaCO/v1p0/NGC5530_alphaCO21_scaling.fits [214.6067] [-43.3817] ['SN2007it'] (214.6138, -43.38826)\n",
      "62 ngc6744 /data/kant/0/sun.1608/PHANGS/ALMA/alphaCO/v1p0/NGC6744_alphaCO21_scaling.fits [287.4733] [-63.8231] ['SN2005at'] (287.44208, -63.85754)\n",
      "63 ngc7793 /data/kant/0/sun.1608/PHANGS/ALMA/alphaCO/v1p0/NGC7793_alphaCO21_scaling.fits [359.4601] [-32.556] ['SN2008bk'] (359.45758, -32.591072)\n"
     ]
    }
   ],
   "source": [
    "# remove duplicate galaxies, grouping SNe together in their own lists.\n",
    "\n",
    "SNr, SNd, SNa = [],[],[]\n",
    "gala, imgs, errs, alco, cocs, pans, incl, gdis, SNrs, SNdc, SNea = [],[],[],[],[],[],[],[],[],[],[]\n",
    "\n",
    "for i in range(len(database)):\n",
    "    gal = database[\"galaxy\"][i]\n",
    "    img = database[\"ImageFile150\"][i]\n",
    "    ers = database[\"ErrFile150\"][i]\n",
    "    aco = database[\"AlphaCOFile\"][i]\n",
    "    ccs = centerCoords[i]\n",
    "    pas = database[\"orient_posang\"][i]\n",
    "    inc = database[\"orient_incl\"][i]\n",
    "    gds = database[\"dist\"][i]\n",
    "    SNr.append(SNra[i])\n",
    "    SNd.append(SNdec[i])\n",
    "    SNa.append(SNe[i])\n",
    "    \n",
    "    if (i+1) in gal_group.groups.indices:\n",
    "        print(i+1, gal, aco, SNr, SNd, SNa, ccs)\n",
    "        gala.append(gal)\n",
    "        imgs.append(img)\n",
    "        errs.append(ers)\n",
    "        alco.append(aco)\n",
    "        cocs.append(ccs)\n",
    "        pans.append(pas)\n",
    "        incl.append(inc)\n",
    "        gdis.append(gds)\n",
    "        SNrs.append(SNr)\n",
    "        SNdc.append(SNd)\n",
    "        SNea.append(SNa) \n",
    "        SNr, SNd, SNa = [],[],[]\n",
    "    else: pass"
   ]
  },
  {
   "cell_type": "code",
   "execution_count": 15,
   "metadata": {},
   "outputs": [
    {
     "name": "stdout",
     "output_type": "stream",
     "text": [
      "ngc1068 /data/tycho/0/leroy.42/reduction/alma/phangs-alma/derived/ngc1068/ngc1068_7m+tp_co21_150pc_broad_mom0.fits /data/kant/0/sun.1608/PHANGS/ALMA/alphaCO/v1p0/NGC1068_alphaCO21_scaling.fits\n",
      "[4.2, 3.7, 9.84, 13.97, 15.85, 13.58, 19.57, 18.63, 15.28, 19.44, 17.69, 11.7, 19.4, 23.15, 14.06, 10.86, 11.32, 13.1, 16.99, 15.21, 16.2, 15.1, 14.86, 16.25, 21.0, 3.47, 3.69, 4.89, 12.27, 9.39, 3.62]\n",
      "31\n",
      "\n"
     ]
    }
   ],
   "source": [
    "#for i in range(len(gal_group.groups.indices)-1):\n",
    "print(gala[3], imgs[3], alco[3])\n",
    "print(gdis)\n",
    "print(len(gala))\n",
    "print()"
   ]
  },
  {
   "cell_type": "code",
   "execution_count": 16,
   "metadata": {
    "scrolled": true
   },
   "outputs": [
    {
     "name": "stdout",
     "output_type": "stream",
     "text": [
      "at SigMol cutoff A for circinus\n",
      "Pixels with SigMol > 7.9 5648\n",
      "Nearest sigmol [32.20571075] circinus\n",
      "done with circinus  \n",
      "at SigMol cutoff A for ngc0253\n",
      "Pixels with SigMol > 7.9 21834\n",
      "Nearest sigmol [30.57009157] ngc0253\n",
      "done with ngc0253  \n",
      "at SigMol cutoff A for ngc0628\n",
      "Pixels with SigMol > 7.9 622960\n",
      "Nearest sigmol [97.87335683] ngc0628\n",
      "done with ngc0628  \n",
      "No file for  ngc1068\n",
      "at SigMol cutoff A for ngc1087\n",
      "Pixels with SigMol > 7.9 43592\n",
      "Nearest sigmol [13.6460475] ngc1087\n",
      "done with ngc1087  \n",
      "at SigMol cutoff A for ngc1097\n",
      "Pixels with SigMol > 7.9 43073\n",
      "Nearest sigmol [279.64329546  13.21116559] ngc1097\n",
      "done with ngc1097  \n",
      "at SigMol cutoff A for ngc1365\n",
      "Pixels with SigMol > 7.9 72021\n",
      "Nearest sigmol [175.45337986  12.75901358 373.02509813] ngc1365\n",
      "done with ngc1365  \n",
      "at SigMol cutoff A for ngc1433\n",
      "Pixels with SigMol > 7.9 35392\n",
      "Nearest sigmol [186.10069797] ngc1433\n",
      "done with ngc1433  \n",
      "at SigMol cutoff A for ngc1511\n",
      "Pixels with SigMol > 7.9 21561\n",
      "Nearest sigmol [438.87239045] ngc1511\n",
      "done with ngc1511  \n",
      "at SigMol cutoff A for ngc1559\n",
      "Pixels with SigMol > 7.9 52919\n",
      "Nearest sigmol [  15.92835671 1166.22805491   12.87782831  230.67366446] ngc1559\n",
      "done with ngc1559  \n",
      "at SigMol cutoff A for ngc1566\n",
      "Pixels with SigMol > 7.9 101665\n",
      "Nearest sigmol [7.16833079 7.61476509] ngc1566\n",
      "done with ngc1566  \n",
      "at SigMol cutoff A for ngc1637\n",
      "Pixels with SigMol > 7.9 92679\n",
      "Nearest sigmol [4.21925273] ngc1637\n",
      "done with ngc1637  \n",
      "No file for  ngc1672\n",
      "at SigMol cutoff A for ngc2775\n",
      "Pixels with SigMol > 7.9 22283\n",
      "Nearest sigmol [184.6069112] ngc2775\n",
      "done with ngc2775  \n",
      "at SigMol cutoff A for ngc2997\n",
      "Pixels with SigMol > 7.9 304718\n",
      "Nearest sigmol [7.66439891 3.21098224] ngc2997\n",
      "done with ngc2997  \n",
      "at SigMol cutoff A for ngc3239\n",
      "Pixels with SigMol > 7.9 357\n",
      "Nearest sigmol [816.49887285] ngc3239\n",
      "done with ngc3239  \n",
      "at SigMol cutoff A for ngc3627\n",
      "Pixels with SigMol > 7.9 119895\n",
      "Nearest sigmol [ 7.33604733 12.45563716 10.44295465 11.54423389] ngc3627\n",
      "done with ngc3627  \n",
      "at SigMol cutoff A for ngc4254\n",
      "Pixels with SigMol > 7.9 81931\n",
      "Nearest sigmol [20.66585283 10.9716249   8.08864961  4.08260335] ngc4254\n",
      "done with ngc4254  \n",
      "at SigMol cutoff A for ngc4303\n",
      "Pixels with SigMol > 7.9 69534\n",
      "Nearest sigmol [262.21279555 342.78674359  20.2686165  135.89059358  62.58017443\n",
      "  38.17046143  59.28866405] ngc4303\n",
      "done with ngc4303  \n",
      "at SigMol cutoff A for ngc4321\n",
      "Pixels with SigMol > 7.9 102564\n",
      "Nearest sigmol [ 10.65649565 107.08019582   6.60132098  82.87132235  16.21760897\n",
      " 164.83610002] ngc4321\n",
      "done with ngc4321  \n",
      "at SigMol cutoff A for ngc4424\n",
      "Pixels with SigMol > 7.9 5223\n",
      "Nearest sigmol [410.66954858] ngc4424\n",
      "done with ngc4424  \n",
      "at SigMol cutoff A for ngc4457\n",
      "Pixels with SigMol > 7.9 23827\n",
      "Nearest sigmol [9.46752154] ngc4457\n",
      "done with ngc4457  \n",
      "at SigMol cutoff A for ngc4496a\n",
      "Pixels with SigMol > 7.9 10036\n",
      "Nearest sigmol [226.14707219 108.21323393] ngc4496a\n",
      "done with ngc4496a  \n",
      "at SigMol cutoff A for ngc4536\n",
      "Pixels with SigMol > 7.9 33705\n",
      "Nearest sigmol [328.62553461] ngc4536\n",
      "done with ngc4536  \n",
      "No file for  ngc4579\n"
     ]
    },
    {
     "name": "stderr",
     "output_type": "stream",
     "text": [
      "/home/mayker.1/Desktop/PythonFunctions/FindNearestMC.py:186: RuntimeWarning: invalid value encountered in multiply\n",
      "  sigmol = aco * inten * np.cos(incl * np.pi/180.0)\n"
     ]
    },
    {
     "name": "stdout",
     "output_type": "stream",
     "text": [
      "at SigMol cutoff A for ngc4945\n",
      "Pixels with SigMol > 7.9 20691\n",
      "Nearest sigmol [40.30073184] ngc4945\n",
      "done with ngc4945  \n",
      "at SigMol cutoff A for ngc5128\n",
      "Pixels with SigMol > 7.9 11461\n",
      "Nearest sigmol [14.00940735 12.7151346 ] ngc5128\n",
      "done with ngc5128  \n",
      "at SigMol cutoff A for ngc5236\n",
      "Pixels with SigMol > 7.9 540621\n",
      "Nearest sigmol [7.07382318 0.23186175 4.97955839 2.38751306 4.5349939 ] ngc5236\n",
      "done with ngc5236  \n",
      "at SigMol cutoff A for ngc5530\n",
      "Pixels with SigMol > 7.9 34655\n",
      "Nearest sigmol [32.92384217] ngc5530\n",
      "done with ngc5530  \n",
      "at SigMol cutoff A for ngc6744\n",
      "Pixels with SigMol > 7.9 151981\n",
      "Nearest sigmol [10.7001712] ngc6744\n",
      "done with ngc6744  \n",
      "at SigMol cutoff A for ngc7793\n",
      "Pixels with SigMol > 7.9 3466\n",
      "Nearest sigmol [172.56550796] ngc7793\n",
      "done with ngc7793  \n"
     ]
    }
   ],
   "source": [
    "\n",
    "nearestSigMol = []\n",
    "for i in range(len(gala)):\n",
    "    if incl[i] == 90.0:\n",
    "        incl[i]=80.0\n",
    "    nearSM = nearestMCMethodSigMol(gala[i], imgs[i], errs[i], alco[i], cocs[i], pans[i], incl[i], gdis[i], SNrs[i], SNdc[i], SNea[i])\n",
    "    nearestSigMol.append(nearSM)\n"
   ]
  },
  {
   "cell_type": "code",
   "execution_count": 17,
   "metadata": {},
   "outputs": [],
   "source": [
    "n55A = []\n",
    "for i in range(len(nearestSigMol)):\n",
    "    if(type(nearestSigMol[i])!= np.float64 and type(nearestSigMol[i]) != float):\n",
    "        for j in range(len(nearestSigMol[i])):\n",
    "            n55A.append(nearestSigMol[i][j])\n",
    "    else:\n",
    "        n55A.append(nearestSigMol[i])\n",
    "#print(n55A)\n"
   ]
  },
  {
   "cell_type": "code",
   "execution_count": 18,
   "metadata": {},
   "outputs": [],
   "source": [
    "with open(\"../Data/NearestMCtoSNe.txt\", \"w\") as textFile:\n",
    "    print(\"# Nearest7.9SigMolArrayDistances(in pc)\", file=textFile)\n",
    "    print(n55A, file=textFile)"
   ]
  },
  {
   "cell_type": "code",
   "execution_count": 19,
   "metadata": {},
   "outputs": [
    {
     "data": {
      "image/png": "[encoded data removed]",
      "text/plain": [
       "<Figure size 432x288 with 1 Axes>"
      ]
     },
     "metadata": {
      "needs_background": "light"
     },
     "output_type": "display_data"
    }
   ],
   "source": [
    "import seaborn as sns\n",
    "\n",
    "fig = plt.figure(figsize = (6,4))\n",
    "sns.ecdfplot(n55A,color = \"black\",  label=\"Real SNe Sample\")\n",
    "plt.xscale('log')\n",
    "plt.legend(loc='best')\n",
    "plt.ylim (0.05,1.0)\n",
    "plt.xlim(1,10000)\n",
    "# plt.axvline(x = 50,ymin = 0,ymax = 1, color='grey', ls = '--')\n",
    "plt.tick_params(axis = \"both\", which = \"both\", direction = \"in\")\n",
    "plt.title(\"CD of Real SNe Sample\")\n",
    "plt.xlabel(\"Distance [pc]\")\n",
    "fig.savefig(\"../Figures/RealSNeCDFs55.png\", dpi=300)\n",
    "plt.show()\n",
    "plt.close()"
   ]
  },
  {
   "cell_type": "code",
   "execution_count": 20,
   "metadata": {},
   "outputs": [],
   "source": [
    "modelResults = Table.read(\"../Data/AllModels.csv\", format = 'csv')\n",
    "\n",
    "def cleanModels(modelData):\n",
    "    keep = np.where(np.isfinite(modelData))\n",
    "    clean = modelData[keep]\n",
    "    #clean = np.clip(clean, 1, None)\n",
    "    clean = np.asarray(clean)\n",
    "    return(clean)\n",
    "\n",
    "n55m1 = cleanModels(modelResults[\"n55Mod1\"])\n",
    "n55m2 = cleanModels(modelResults[\"n55Mod2\"])\n",
    "n55m3 = cleanModels(modelResults[\"n55Mod3\"])\n",
    "n55m4 = np.concatenate((n55m2[0:1914],n55m3[1914:-1]))"
   ]
  },
  {
   "cell_type": "code",
   "execution_count": 27,
   "metadata": {},
   "outputs": [
    {
     "data": {
      "image/png": "[encoded data removed]",
      "text/plain": [
       "<Figure size 576x288 with 1 Axes>"
      ]
     },
     "metadata": {
      "needs_background": "light"
     },
     "output_type": "display_data"
    }
   ],
   "source": [
    "\n",
    "fig = plt.figure(figsize = (8,4))\n",
    "sns.ecdfplot(n55A,color = \"black\",  label=\"Real SNe Sample\")\n",
    "sns.ecdfplot(n55m1, color = \"red\", ls = \":\", label=\"Random Model\")\n",
    "sns.ecdfplot(n55m2, color = \"green\",ls = \"--\",  label=\"Gas (CO 2-1)\")\n",
    "sns.ecdfplot(n55m3, color = \"blue\",  ls = \"-.\",label=\"Stars (3.4 micron)\")\n",
    "sns.ecdfplot(n55m4, color = \"purple\", ls = \"-\", label=\"Mixed (2/3 gas 1/3 stars)\")\n",
    "plt.xscale('log')\n",
    "plt.legend(loc='best', fontsize = 11)\n",
    "plt.ylim (0.00,1.0)\n",
    "plt.xlim(60,10000)\n",
    "plt.axvline(x = 50,ymin = 0,ymax = 1, color='grey',\n",
    "            ls = '--')\n",
    "plt.tick_params(axis = \"both\", which = \"both\", direction = \"in\")\n",
    "plt.xlabel(\"Distance [pc]\", fontsize = 14)\n",
    "plt.ylabel(\"CDF f (< d)\", fontsize = 14)\n",
    "fig.savefig(\"../Figures/ModelCDFs55.png\", dpi=300)\n",
    "plt.show()\n",
    "plt.close()"
   ]
  },
  {
   "cell_type": "code",
   "execution_count": null,
   "metadata": {},
   "outputs": [],
   "source": []
  }
 ],
 "metadata": {
  "kernelspec": {
   "display_name": "Python 3",
   "language": "python",
   "name": "python3"
  },
  "language_info": {
   "codemirror_mode": {
    "name": "ipython",
    "version": 3
   },
   "file_extension": ".py",
   "mimetype": "text/x-python",
   "name": "python",
   "nbconvert_exporter": "python",
   "pygments_lexer": "ipython3",
   "version": "3.8.10"
  }
 },
 "nbformat": 4,
 "nbformat_minor": 2
}
