{
 "cells": [
  {
   "cell_type": "markdown",
   "metadata": {},
   "source": [
    "This notebook calculates the distance to the nearest 10^5.5 and 10^ 6.5 Msun molecular cloud from the locations of each of the SNe located within 150pc maps."
   ]
  },
  {
   "cell_type": "code",
   "execution_count": 1,
   "metadata": {},
   "outputs": [],
   "source": [
    "#import packages and initialize settings\n",
    "import time\n",
    "import os\n",
    "import numpy as np\n",
    "import matplotlib.pyplot as plt\n",
    "import astropy.io.fits as pyfits\n",
    "from astropy.io import ascii\n",
    "from astropy.table import Table\n",
    "from progressbar import progressbar\n",
    "from astropy.wcs import WCS\n",
    "from reproject import reproject_interp\n",
    "\n",
    "import sys\n",
    "sys.path.append('/home/mayker.1/Desktop/PythonFunctions')\n",
    "from FindNearestMC import nearestMCMethod"
   ]
  },
  {
   "cell_type": "code",
   "execution_count": 2,
   "metadata": {},
   "outputs": [
    {
     "data": {
      "text/html": [
       "<i>Table length=1</i>\n",
       "<table id=\"table139903073362800\" class=\"table-striped table-bordered table-condensed\">\n",
       "<thead><tr><th>galaxy</th><th>SN_name</th><th>SN_type</th><th>SN_ra</th><th>SN_dec</th><th>SN_xCoord</th><th>SN_yCoord</th><th>SN_co21int</th><th>SN_co21err</th><th>SN_co21ew</th><th>map_beamsize</th><th>orient_ra</th><th>orient_dec</th><th>dist</th><th>orient_posang</th><th>orient_incl</th><th>size_r25</th><th>telOrient</th><th>ImageFile150</th><th>ErrFile150</th><th>AlphaCOFile</th><th>NatRes</th><th>NatInt</th><th>pc60Int</th><th>pc90Int</th><th>pc120Int</th><th>pc150Int</th><th>pc500Int</th><th>pc750Int</th><th>pc1000Int</th><th>NatErr</th><th>pc60Err</th><th>pc90Err</th><th>pc120Err</th><th>pc150Err</th><th>pc500Err</th><th>pc750Err</th><th>pc1000Err</th><th>NatEW</th><th>pc60EW</th><th>pc90EW</th><th>pc120EW</th><th>pc150EW</th><th>pc500EW</th><th>pc750EW</th><th>pc1000EW</th><th>NatSNR</th><th>pc60SNR</th><th>pc90SNR</th><th>pc120SNR</th><th>pc150SNR</th><th>pc500SNR</th><th>pc750SNR</th><th>pc1000SNR</th><th>alphaCO</th><th>pc60mgsd</th><th>pc90mgsd</th><th>pc120mgsd</th><th>pc150mgsd</th><th>pc500mgsd</th><th>pc750mgsd</th><th>pc1000mgsd</th><th>pc60mgsdErr</th><th>pc90mgsdErr</th><th>pc120mgsdErr</th><th>pc150mgsdErr</th><th>pc500mgsdErr</th><th>pc750mgsdErr</th><th>pc1000mgsdErr</th><th>SN_percentile</th></tr></thead>\n",
       "<thead><tr><th>str8</th><th>str11</th><th>str12</th><th>float64</th><th>float64</th><th>float64</th><th>float64</th><th>float64</th><th>float64</th><th>float64</th><th>float64</th><th>float64</th><th>float64</th><th>float64</th><th>float64</th><th>float64</th><th>float64</th><th>str9</th><th>str112</th><th>str113</th><th>str74</th><th>float64</th><th>float64</th><th>float64</th><th>float64</th><th>float64</th><th>float64</th><th>float64</th><th>float64</th><th>float64</th><th>float64</th><th>float64</th><th>float64</th><th>float64</th><th>float64</th><th>float64</th><th>float64</th><th>float64</th><th>float64</th><th>float64</th><th>float64</th><th>float64</th><th>float64</th><th>float64</th><th>float64</th><th>float64</th><th>float64</th><th>float64</th><th>float64</th><th>float64</th><th>float64</th><th>float64</th><th>float64</th><th>float64</th><th>float64</th><th>float64</th><th>float64</th><th>float64</th><th>float64</th><th>float64</th><th>float64</th><th>float64</th><th>float64</th><th>float64</th><th>float64</th><th>float64</th><th>float64</th><th>float64</th><th>float64</th><th>str13</th></tr></thead>\n",
       "<tr><td>ngc1566</td><td>ASASSN-14ha</td><td>II</td><td>65.0059</td><td>-54.9381</td><td>258.9038295074317</td><td>423.1062029210927</td><td>68.05383</td><td>1.8849889</td><td>12.188041</td><td>0.0003484111476313</td><td>65.00159</td><td>-54.93801</td><td>17.69</td><td>214.7</td><td>29.5</td><td>216.83093</td><td>12m+7m+tp</td><td>/data/tycho/0/leroy.42/reduction/alma/phangs-alma/derived/ngc1566/ngc1566_12m+7m+tp_co21_150pc_broad_mom0.fits</td><td>/data/tycho/0/leroy.42/reduction/alma/phangs-alma/derived/ngc1566/ngc1566_12m+7m+tp_co21_150pc_broad_emom0.fits</td><td>/data/kant/0/sun.1608/PHANGS/ALMA/alphaCO/NGC1566_alphaCO21_Sun+20.fits</td><td>107.5715044627487</td><td>68.0538330078125</td><td>nan</td><td>nan</td><td>65.95396423339844</td><td>61.926334381103516</td><td>27.371265411376953</td><td>26.06928253173828</td><td>27.377416610717773</td><td>1.8849889039993286</td><td>nan</td><td>nan</td><td>1.6742128133773804</td><td>1.3591481447219849</td><td>0.5764862298965454</td><td>0.3906446397304535</td><td>0.27018043398857117</td><td>12.188040733337402</td><td>nan</td><td>nan</td><td>12.932862281799316</td><td>13.762829780578613</td><td>19.730430603027344</td><td>29.85703468322754</td><td>43.81895446777344</td><td>36.10304170142571</td><td>nan</td><td>nan</td><td>39.39401473122755</td><td>45.56260818335635</td><td>47.47947824580116</td><td>66.73400804814882</td><td>101.33012300911419</td><td>4.304510126195559</td><td>nan</td><td>nan</td><td>283.8995069054033</td><td>266.5625334216323</td><td>117.81988913005836</td><td>112.21549064052044</td><td>117.84636702990916</td><td>nan</td><td>nan</td><td>7.20666600858929</td><td>5.850466951955691</td><td>2.481490814201981</td><td>1.6815338074637531</td><td>1.1629944140037154</td><td>0.98</td></tr>\n",
       "</table>"
      ],
      "text/plain": [
       "<Table length=1>\n",
       " galaxy   SN_name   SN_type ...   pc1000mgsdErr    SN_percentile\n",
       "  str8     str11     str12  ...      float64           str13    \n",
       "------- ----------- ------- ... ------------------ -------------\n",
       "ngc1566 ASASSN-14ha      II ... 1.1629944140037154          0.98"
      ]
     },
     "execution_count": 2,
     "metadata": {},
     "output_type": "execute_result"
    }
   ],
   "source": [
    "# Unpack master table to get SNe information\n",
    "database = Table.read('../Data/3.SNe+GalData.csv', format = \"csv\")\n",
    "\n",
    "database[0:1]"
   ]
  },
  {
   "cell_type": "markdown",
   "metadata": {},
   "source": [
    "[None, array([0.01364605]), array([0.55655997]), array([0.01321117]), array([0.00491407]), array([0.01275901]), array([0.1489542]), array([0.19534568]), array([0.35979567]), array([0.01287783]), array([0.01284268]), array([1.22508167]), array([0.01592836]), array([0.00761477]), array([0.00716833]), array([0.00421925]), None, array([0.07117317]), array([0.00321098]), array([0.0076644]), array([0.58246467]), array([0.01154423]), array([0.00611075]), array([0.00733605]), array([0.01245564]), array([0.01044295]), array([0.0040826]), array([0.00808865]), array([0.01097162]), array([0.02066585]), array([0.08586097]), array([0.03508382]), array([0.02765949]), array([0.0155404]), array([0.03955008]), array([0.02026862]), array([0.2480944]), array([0.10081377]), array([0.0106565]), array([0.00660132]), array([0.06650442]), array([0.01621761]), array([0.03209613]), array([0.38714994]), array([0.00946752]), array([0.29470551]), array([0.10821323]), array([0.37426845]), None, None, array([5800.10100662]), array([0.01400941]), array([0.01271513]), array([0.00453499]), array([0.00497956]), array([0.00238751]), array([0.05432539]), array([0.00023186]), array([0.0098961]), array([0.01070017]), array([0.99123115])]\n",
    "\n",
    "[0.03220571, 0.03057009, 0.31916941, 0.75480179, 0.02805144]"
   ]
  },
  {
   "cell_type": "code",
   "execution_count": 3,
   "metadata": {},
   "outputs": [
    {
     "name": "stdout",
     "output_type": "stream",
     "text": [
      "59\n",
      " galaxy   SN_name    SN_type    ...    pc1000mgsdErr    SN_percentile\n",
      "-------- --------- ------------ ... ------------------- -------------\n",
      "circinus  SN1996cr           II ...  0.8091620438290308          0.98\n",
      " ngc0253   SN1940E            I ...  0.4121687199618783          0.99\n",
      " ngc0628  SN2013ej           II ... 0.49282741849621114 non-detection\n",
      " ngc1087   SN1995V           II ...  0.7219935606169763           0.9\n",
      " ngc1097  SN1999eu           II ...   0.357538346031736 non-detection\n",
      " ngc1097  SN1992bd           II ...  0.6440294703398377          0.99\n",
      " ngc1365  SN2012fr           Ia ...  0.8226942793375035 non-detection\n",
      " ngc1365  SN2001du           II ...  1.2412372438845123 non-detection\n",
      " ngc1365   SN1983V           Ic ...  0.7854228241047587          0.24\n",
      " ngc1433   SN1985P           II ... 0.31674932645786724 non-detection\n",
      "     ...       ...          ... ...                 ...           ...\n",
      " ngc4945  SN2011ja           II ...  0.3388542719185352          0.93\n",
      " ngc5128 SN2016adj          IIb ...  0.6222106630985553          0.95\n",
      " ngc5128   SN1986G           Ia ...  0.4876914058740322          0.65\n",
      " ngc5236   SN1950B unclassified ... 0.18988718622579023          0.99\n",
      " ngc5236   SN1923A           II ...  0.1024280278585278          0.39\n",
      " ngc5236   SN1968L           II ... 0.33593098733287585           1.0\n",
      " ngc5236   SN1983N           Ib ... 0.12464973129905185          0.21\n",
      " ngc5236   SN1957D unclassified ... 0.12741023029845494          0.96\n",
      " ngc5530  SN2007it           II ... 0.35013995546135307          0.44\n",
      " ngc6744  SN2005at           Ic ... 0.19090614901291791           0.8\n",
      " ngc7793  SN2008bk           II ... 0.09824145033669013 non-detection\n",
      "Length = 59 rows\n"
     ]
    }
   ],
   "source": [
    "database.sort(\"galaxy\")\n",
    "gal_group = database.group_by(\"galaxy\")\n",
    "print(len(gal_group))\n",
    "print(gal_group)"
   ]
  },
  {
   "cell_type": "code",
   "execution_count": 4,
   "metadata": {},
   "outputs": [
    {
     "name": "stdout",
     "output_type": "stream",
     "text": [
      " galaxy \n",
      "--------\n",
      "circinus\n",
      " ngc0253\n",
      " ngc0628\n",
      " ngc1087\n",
      " ngc1097\n",
      " ngc1097\n",
      " ngc1365\n",
      " ngc1365\n",
      " ngc1365\n",
      " ngc1433\n",
      "     ...\n",
      " ngc4945\n",
      " ngc5128\n",
      " ngc5128\n",
      " ngc5236\n",
      " ngc5236\n",
      " ngc5236\n",
      " ngc5236\n",
      " ngc5236\n",
      " ngc5530\n",
      " ngc6744\n",
      " ngc7793\n",
      "Length = 59 rows\n"
     ]
    }
   ],
   "source": [
    "centerCoords = [(database[\"orient_ra\"][i], database[\"orient_dec\"][i]) for i in range(len(database))]    \n",
    "SNe, SNra, SNdec  = database[\"SN_name\"], database[\"SN_ra\"], database[\"SN_dec\"]\n",
    "SNra  = np.array(SNra)\n",
    "SNdec = np.array(SNdec)\n",
    "massCutA = 10**5.5\n",
    "massCutB = 10**6.5\n",
    "gal_group.groups.indices\n",
    "print(gal_group[\"galaxy\"])"
   ]
  },
  {
   "cell_type": "code",
   "execution_count": 5,
   "metadata": {},
   "outputs": [
    {
     "name": "stdout",
     "output_type": "stream",
     "text": [
      "1 circinus ../Data/MassMaps/circinus_Mass.fits [213.2918] [-65.3457] ['SN1996cr'] (213.29124, -65.33915)\n",
      "2 ngc0253 ../Data/MassMaps/ngc0253_Mass.fits [11.8783] [-25.2934] ['SN1940E'] (11.887966, -25.288443)\n",
      "3 ngc0628 ../Data/MassMaps/ngc0628_Mass.fits [24.2007] [15.7586] ['SN2013ej'] (24.173855, 15.783643)\n",
      "4 ngc1087 ../Data/MassMaps/ngc1087_Mass.fits [41.6115] [-0.4988] ['SN1995V'] (41.60492, -0.498717)\n",
      "6 ngc1097 ../Data/MassMaps/ngc1097_Mass.fits [41.5866, 41.5792] [-30.3184, -30.2756] ['SN1999eu', 'SN1992bd'] (41.578957, -30.274675)\n",
      "9 ngc1365 ../Data/MassMaps/ngc1365_Mass.fits [53.4006, 53.3713, 53.3819] [-36.1268, -36.1421, -36.1486] ['SN2012fr', 'SN2001du', 'SN1983V'] (53.40152, -36.140404)\n",
      "10 ngc1433 ../Data/MassMaps/ngc1433_Mass.fits [55.5264] [-47.21] ['SN1985P'] (55.506195, -47.221943)\n",
      "11 ngc1511 ../Data/MassMaps/ngc1511_Mass.fits [59.9373] [-67.6374] ['SN1935C'] (59.90246, -67.63393)\n",
      "15 ngc1559 ../Data/MassMaps/ngc1559_Mass.fits [64.4167, 64.4077, 64.374, 64.3981] [-62.7776, -62.7693, -62.7846, -62.7855] ['SN2009ib', 'SN2005df', 'SN1986L', 'SN1984J'] (64.40238, -62.78341)\n",
      "17 ngc1566 ../Data/MassMaps/ngc1566_Mass.fits [64.9951, 65.0059] [-54.944, -54.9381] ['SN2010el', 'ASASSN-14ha'] (65.00159, -54.93801)\n",
      "18 ngc1637 ../Data/MassMaps/ngc1637_Mass.fits [70.3629] [-2.8626] ['SN1999em'] (70.36741, -2.857962)\n",
      "19 ngc2775 ../Data/MassMaps/ngc2775_Mass.fits [137.5816] [7.0278] ['SN1993Z'] (137.58395, 7.038066)\n",
      "21 ngc2997 ../Data/MassMaps/ngc2997_Mass.fits [146.4507, 146.4086] [-31.1791, -31.1891] ['SN2008eh', 'SN2003jg'] (146.41164, -31.19109)\n",
      "22 ngc3239 ../Data/MassMaps/ngc3239_Mass.fits [156.2808] [17.1541] ['SN2012A'] (156.27031, 17.163702)\n",
      "26 ngc3627 ../Data/MassMaps/ngc3627_Mass.fits [170.0797, 170.0707, 170.058, 170.0481] [12.9825, 12.9796, 13.0053, 12.9977] ['SN2016cok', 'SN2009hd', 'SN1989B', 'SN1973R'] (170.06252, 12.9915)\n",
      "30 ngc4254 ../Data/MassMaps/ngc4254_Mass.fits [184.7169, 184.7184, 184.7107, 184.7029] [14.4123, 14.414, 14.4443, 14.4121] ['SN1986I', 'SN1967H', 'SN1972Q', 'SN2014L'] (184.7068, 14.416412)\n",
      "37 ngc4303 ../Data/MassMaps/ngc4303_Mass.fits [185.4698, 185.4602, 185.5018, 185.4754, 185.4876, 185.4899, 185.4804] [4.4738, 4.4817, 4.4704, 4.4934, 4.4627, 4.4718, 4.488] ['SN1964F', 'SN2020jfo', 'SN1961I', 'SN1926A', 'SN1999gn', 'SN2014dt', 'SN2006ov'] (185.47888, 4.473744)\n",
      "43 ngc4321 ../Data/MassMaps/ngc4321_Mass.fits [185.6971, 185.7454, 185.7442, 185.7339, 185.7249, 185.7289] [15.8238, 15.817, 15.7978, 15.8261, 15.809, 15.8236] ['SN1901B', 'SN1959E', 'SN1979C', 'SN2019ehk', 'SN2006X', 'SN2020oi'] (185.72887, 15.822304)\n",
      "44 ngc4424 ../Data/MassMaps/ngc4424_Mass.fits [186.8035] [9.4203] ['SN2012cg'] (186.7982, 9.420637)\n",
      "45 ngc4457 ../Data/MassMaps/ngc4457_Mass.fits [187.245] [3.5728] ['SN2020nvb'] (187.24593, 3.57062)\n",
      "47 ngc4496a ../Data/MassMaps/ngc4496a_Mass.fits [187.9252, 187.9206] [3.9466, 3.9228] ['SN1960F', 'SN1988M'] (187.91354, 3.939608)\n",
      "48 ngc4536 ../Data/MassMaps/ngc4536_Mass.fits [188.6231] [2.1998] ['SN1981B'] (188.61278, 2.188243)\n",
      "49 ngc4945 ../Data/MassMaps/ngc4945_Mass.fits [196.2963] [-49.5242] ['SN2011ja'] (196.36377, -49.467907)\n",
      "51 ngc5128 ../Data/MassMaps/ngc5128_Mass.fits [201.3505, 201.4021] [-43.016, -43.0317] ['SN2016adj', 'SN1986G'] (201.36507, -43.01911)\n",
      "56 ngc5236 ../Data/MassMaps/ngc5236_Mass.fits [204.2203, 204.2883, 204.252, 204.2135, 204.2647] [-29.8655, -29.8389, -29.8665, -29.9006, -29.828] ['SN1950B', 'SN1923A', 'SN1968L', 'SN1983N', 'SN1957D'] (204.2539, -29.865625)\n",
      "57 ngc5530 ../Data/MassMaps/ngc5530_Mass.fits [214.6067] [-43.3817] ['SN2007it'] (214.6138, -43.38826)\n",
      "58 ngc6744 ../Data/MassMaps/ngc6744_Mass.fits [287.4733] [-63.8231] ['SN2005at'] (287.44208, -63.85754)\n",
      "59 ngc7793 ../Data/MassMaps/ngc7793_Mass.fits [359.4601] [-32.556] ['SN2008bk'] (359.45758, -32.591072)\n"
     ]
    }
   ],
   "source": [
    "# remove duplicate galaxies, grouping SNe together in their own lists.\n",
    "\n",
    "SNr, SNd, SNa = [],[],[]\n",
    "gala, imgs, errs, alco, cocs, pans, incl, gdis, SNrs, SNdc, SNea = [],[],[],[],[],[],[],[],[],[],[]\n",
    "\n",
    "for i in range(len(database)):\n",
    "    gal = database[\"galaxy\"][i]\n",
    "    img = database[\"ImageFile150\"][i]\n",
    "    ers = database[\"ErrFile150\"][i]\n",
    "    aco = \"../Data/MassMaps/\" + gal + \"_Mass.fits\"\n",
    "    ccs = centerCoords[i]\n",
    "    pas = database[\"orient_posang\"][i]\n",
    "    inc = database[\"orient_incl\"][i]\n",
    "    gds = database[\"dist\"][i]\n",
    "    SNr.append(SNra[i])\n",
    "    SNd.append(SNdec[i])\n",
    "    SNa.append(SNe[i])\n",
    "    \n",
    "    if (i+1) in gal_group.groups.indices:\n",
    "        print(i+1, gal, aco, SNr, SNd, SNa, ccs)\n",
    "        gala.append(gal)\n",
    "        imgs.append(img)\n",
    "        errs.append(ers)\n",
    "        alco.append(aco)\n",
    "        cocs.append(ccs)\n",
    "        pans.append(pas)\n",
    "        incl.append(inc)\n",
    "        gdis.append(gds)\n",
    "        SNrs.append(SNr)\n",
    "        SNdc.append(SNd)\n",
    "        SNea.append(SNa) \n",
    "        SNr, SNd, SNa = [],[],[]\n",
    "    else: pass"
   ]
  },
  {
   "cell_type": "code",
   "execution_count": 6,
   "metadata": {},
   "outputs": [
    {
     "name": "stdout",
     "output_type": "stream",
     "text": [
      "ngc1087 /data/tycho/0/leroy.42/reduction/alma/phangs-alma/derived/ngc1087/ngc1087_12m+7m+tp_co21_150pc_broad_mom0.fits ../Data/MassMaps/ngc1087_Mass.fits\n",
      "[4.2, 3.7, 9.84, 15.85, 13.58, 19.57, 18.63, 15.28, 19.44, 17.69, 11.7, 23.15, 14.06, 10.86, 11.32, 13.1, 16.99, 15.21, 16.2, 15.1, 14.86, 16.25, 3.47, 3.69, 4.89, 12.27, 9.39, 3.62]\n",
      "28\n",
      "\n"
     ]
    }
   ],
   "source": [
    "#for i in range(len(gal_group.groups.indices)-1):\n",
    "print(gala[3], imgs[3], alco[3])\n",
    "print(gdis)\n",
    "print(len(gala))\n",
    "print()"
   ]
  },
  {
   "cell_type": "code",
   "execution_count": 7,
   "metadata": {
    "scrolled": true
   },
   "outputs": [
    {
     "name": "stdout",
     "output_type": "stream",
     "text": [
      "at Mass cutoff A for circinus\n",
      "Pixels with Mass > 10**5.5 5804\n",
      "Nearest 55 [32.20571075] circinus\n",
      "Pixels with Mass > 10**6.5 1194\n",
      "Nearest 65 [32.20571075] circinus\n",
      "done with circinus  \n",
      "at Mass cutoff A for ngc0253\n",
      "Pixels with Mass > 10**5.5 36463\n",
      "Nearest 55 [30.57009157] ngc0253\n",
      "Pixels with Mass > 10**6.5 6123\n",
      "Nearest 65 [30.57009157] ngc0253\n",
      "done with ngc0253  \n",
      "at Mass cutoff A for ngc0628\n",
      "Pixels with Mass > 10**5.5 454353\n",
      "Nearest 55 [97.87335683] ngc0628\n",
      "Pixels with Mass > 10**6.5 1764\n",
      "Nearest 65 [1914.40658196] ngc0628\n",
      "done with ngc0628  \n",
      "at Mass cutoff A for ngc1087\n",
      "Pixels with Mass > 10**5.5 43276\n",
      "Nearest 55 [13.6460475] ngc1087\n",
      "Pixels with Mass > 10**6.5 1955\n",
      "Nearest 65 [662.29661955] ngc1087\n",
      "done with ngc1087  \n",
      "at Mass cutoff A for ngc1097\n",
      "Pixels with Mass > 10**5.5 42167\n",
      "Nearest 55 [279.64329546  13.21116559] ngc1097\n",
      "Pixels with Mass > 10**6.5 4990\n",
      "Nearest 65 [6549.95976975   13.21116559] ngc1097\n",
      "done with ngc1097  \n",
      "at Mass cutoff A for ngc1365\n",
      "Pixels with Mass > 10**5.5 69717\n",
      "Nearest 55 [373.02509813 175.45337986  12.75901358] ngc1365\n",
      "Pixels with Mass > 10**6.5 17950\n",
      "Nearest 65 [3350.07170423 2918.12897775 1149.63976938] ngc1365\n",
      "done with ngc1365  \n",
      "at Mass cutoff A for ngc1433\n",
      "Pixels with Mass > 10**5.5 24301\n",
      "Nearest 55 [225.44042475] ngc1433\n",
      "Pixels with Mass > 10**6.5 2857\n",
      "Nearest 65 [4578.67477039] ngc1433\n",
      "done with ngc1433  \n",
      "at Mass cutoff A for ngc1511\n",
      "Pixels with Mass > 10**5.5 27924\n",
      "Nearest 55 [172.8381672] ngc1511\n",
      "Pixels with Mass > 10**6.5 4303\n",
      "Nearest 65 [973.2905441] ngc1511\n",
      "done with ngc1511  \n",
      "at Mass cutoff A for ngc1559\n",
      "Pixels with Mass > 10**5.5 54989\n",
      "Nearest 55 [  15.92835671 1166.22805491  230.67366446   12.87782831] ngc1559\n",
      "Pixels with Mass > 10**6.5 5758\n",
      "Nearest 65 [ 532.48087783 3521.7840521  1117.31878964  594.44455666] ngc1559\n",
      "done with ngc1559  \n",
      "at Mass cutoff A for ngc1566\n",
      "Pixels with Mass > 10**5.5 87985\n",
      "Nearest 55 [7.61476509 7.16833079] ngc1566\n",
      "Pixels with Mass > 10**6.5 10534\n",
      "Nearest 65 [92.69353835  7.16833079] ngc1566\n",
      "done with ngc1566  \n",
      "at Mass cutoff A for ngc1637\n",
      "Pixels with Mass > 10**5.5 72366\n",
      "Nearest 55 [4.21925273] ngc1637\n",
      "Pixels with Mass > 10**6.5 733\n",
      "Nearest 65 [1055.92722223] ngc1637\n",
      "done with ngc1637  \n",
      "at Mass cutoff A for ngc2775\n",
      "Pixels with Mass > 10**5.5 22161\n",
      "Nearest 55 [184.6069112] ngc2775\n",
      "Pixels with Mass > 10**6.5 0\n",
      "Nearest 65 -14564476.205491388 ngc2775\n",
      "done with ngc2775  \n",
      "at Mass cutoff A for ngc2997\n",
      "Pixels with Mass > 10**5.5 253806\n",
      "Nearest 55 [7.66439891 3.21098224] ngc2997\n",
      "Pixels with Mass > 10**6.5 13218\n",
      "Nearest 65 [55.53661226  3.21098224] ngc2997\n",
      "done with ngc2997  \n",
      "at Mass cutoff A for ngc3239\n",
      "Pixels with Mass > 10**5.5 384\n",
      "Nearest 55 [816.49887285] ngc3239\n",
      "Pixels with Mass > 10**6.5 0\n",
      "Nearest 65 -6832406.548234837 ngc3239\n",
      "done with ngc3239  \n",
      "at Mass cutoff A for ngc3627\n",
      "Pixels with Mass > 10**5.5 119870\n",
      "Nearest 55 [10.44295465 11.54423389 12.45563716  7.33604733] ngc3627\n",
      "Pixels with Mass > 10**6.5 19064\n",
      "Nearest 65 [598.42495271  11.54423389  12.45563716 162.62124556] ngc3627\n",
      "done with ngc3627  \n",
      "at Mass cutoff A for ngc4254\n",
      "Pixels with Mass > 10**5.5 80556\n",
      "Nearest 55 [20.66585283  8.08864961  4.08260335 10.9716249 ] ngc4254\n",
      "Pixels with Mass > 10**6.5 9804\n",
      "Nearest 65 [ 90.32157258 234.50260578 809.38663142  10.9716249 ] ngc4254\n",
      "done with ngc4254  \n",
      "at Mass cutoff A for ngc4303\n",
      "Pixels with Mass > 10**5.5 69273\n",
      "Nearest 55 [ 38.17046143  62.58017443 262.21279555 342.78674359  20.2686165\n",
      "  59.28866405 135.89059358] ngc4303\n",
      "Pixels with Mass > 10**6.5 6712\n",
      "Nearest 65 [1559.44511443  472.52224566  830.26083912 1632.12496207  151.19637295\n",
      "  274.42537836  217.44610071] ngc4303\n",
      "done with ngc4303  \n",
      "at Mass cutoff A for ngc4321\n",
      "Pixels with Mass > 10**5.5 100911\n",
      "Nearest 55 [ 16.21760897  10.65649565 164.83610002  82.87132235 107.08019582\n",
      "   6.60132098] ngc4321\n",
      "Pixels with Mass > 10**6.5 6714\n",
      "Nearest 65 [ 354.51952241   64.28768855 1125.36181939 1129.57551488  392.71555911\n",
      "   74.0732227 ] ngc4321\n",
      "done with ngc4321  \n",
      "at Mass cutoff A for ngc4424\n",
      "Pixels with Mass > 10**5.5 5113\n",
      "Nearest 55 [410.66954858] ngc4424\n",
      "Pixels with Mass > 10**6.5 631\n",
      "Nearest 65 [599.02261248] ngc4424\n",
      "done with ngc4424  \n",
      "at Mass cutoff A for ngc4457\n",
      "Pixels with Mass > 10**5.5 21924\n",
      "Nearest 55 [9.46752154] ngc4457\n",
      "Pixels with Mass > 10**6.5 2795\n",
      "Nearest 65 [146.15106311] ngc4457\n",
      "done with ngc4457  \n",
      "at Mass cutoff A for ngc4496a\n",
      "Pixels with Mass > 10**5.5 8745\n",
      "Nearest 55 [108.21323393 211.77130213] ngc4496a\n",
      "Pixels with Mass > 10**6.5 45\n",
      "Nearest 65 [ 229.6460558  5965.49626793] ngc4496a\n",
      "done with ngc4496a  \n",
      "at Mass cutoff A for ngc4536\n",
      "Pixels with Mass > 10**5.5 51033\n",
      "Nearest 55 [325.09587815] ngc4536\n",
      "Pixels with Mass > 10**6.5 4263\n",
      "Nearest 65 [8800.68844483] ngc4536\n",
      "done with ngc4536  \n",
      "at Mass cutoff A for ngc4945\n",
      "Pixels with Mass > 10**5.5 19258\n",
      "Nearest 55 [40.30073184] ngc4945\n",
      "Pixels with Mass > 10**6.5 4699\n",
      "Nearest 65 [40.30073184] ngc4945\n",
      "done with ngc4945  \n",
      "at Mass cutoff A for ngc5128\n",
      "Pixels with Mass > 10**5.5 11514\n",
      "Nearest 55 [12.7151346  14.00940735] ngc5128\n",
      "Pixels with Mass > 10**6.5 2370\n",
      "Nearest 65 [ 12.7151346  110.94459532] ngc5128\n",
      "done with ngc5128  \n",
      "at Mass cutoff A for ngc5236\n",
      "Pixels with Mass > 10**5.5 468368\n",
      "Nearest 55 [ 2.38751306  4.97955839  0.23186175 54.32538708  4.5349939 ] ngc5236\n",
      "Pixels with Mass > 10**6.5 43401\n",
      "Nearest 65 [2.38751306e+00 7.01276289e+02 2.31861748e-01 1.10859798e+03\n",
      " 4.53499390e+00] ngc5236\n",
      "done with ngc5236  \n",
      "at Mass cutoff A for ngc5530\n",
      "Pixels with Mass > 10**5.5 36885\n",
      "Nearest 55 [32.92384217] ngc5530\n",
      "Pixels with Mass > 10**6.5 44\n",
      "Nearest 65 [1484.92896092] ngc5530\n",
      "done with ngc5530  \n",
      "at Mass cutoff A for ngc6744\n",
      "Pixels with Mass > 10**5.5 147902\n",
      "Nearest 55 [10.7001712] ngc6744\n",
      "Pixels with Mass > 10**6.5 652\n",
      "Nearest 65 [10513.12989236] ngc6744\n",
      "done with ngc6744  \n",
      "at Mass cutoff A for ngc7793\n",
      "Pixels with Mass > 10**5.5 1611\n",
      "Nearest 55 [991.23115197] ngc7793\n",
      "Pixels with Mass > 10**6.5 0\n",
      "Nearest 65 -2277468.8494116124 ngc7793\n",
      "done with ngc7793  \n"
     ]
    }
   ],
   "source": [
    "\n",
    "nearest55, nearest65 = [],[]\n",
    "for i in range(len(gala)):\n",
    "    if incl[i] == 90.0:\n",
    "        incl[i]=80.0\n",
    "    near55, near65 = nearestMCMethod(gala[i], imgs[i], errs[i], alco[i], cocs[i], pans[i], incl[i], gdis[i], SNrs[i], SNdc[i], SNea[i])\n",
    "    nearest55.append(near55)\n",
    "    nearest65.append(near65)"
   ]
  },
  {
   "cell_type": "code",
   "execution_count": 8,
   "metadata": {},
   "outputs": [],
   "source": [
    "n55A = []\n",
    "for i in range(len(nearest55)):\n",
    "    if(type(nearest55[i])!= np.float64 and type(nearest55[i]) != float):\n",
    "        for j in range(len(nearest55[i])):\n",
    "            n55A.append(nearest55[i][j])\n",
    "    else:\n",
    "        n55A.append(nearest55[i])\n",
    "#print(n55A)\n",
    "\n",
    "n65A = []\n",
    "for i in range(len(nearest65)):\n",
    "    if(type(nearest65[i])!= np.float64 and type(nearest65[i]) != float):\n",
    "        for j in range(len(nearest65[i])):\n",
    "            n65A.append(nearest65[i][j])\n",
    "    else:\n",
    "        n65A.append(nearest65[i])\n",
    "#print(n65A)"
   ]
  },
  {
   "cell_type": "code",
   "execution_count": 9,
   "metadata": {},
   "outputs": [],
   "source": [
    "with open(\"../Data/NearestMCtoSNe.txt\", \"w\") as textFile:\n",
    "    print(\"# Nearest55MassArrayDistances, Nearest65MassArrayDistances (in pc)\", file=textFile)\n",
    "    print(n55A, n65A, file=textFile)"
   ]
  },
  {
   "cell_type": "code",
   "execution_count": 46,
   "metadata": {},
   "outputs": [
    {
     "data": {
      "image/png": "[encoded data removed]",
      "text/plain": [
       "<Figure size 432x288 with 1 Axes>"
      ]
     },
     "metadata": {
      "needs_background": "light"
     },
     "output_type": "display_data"
    }
   ],
   "source": [
    "import seaborn as sns\n",
    "\n",
    "fig = plt.figure(figsize = (6,4))\n",
    "sns.ecdfplot(n55A,color = \"black\",  label=\"Real SNe Sample\")\n",
    "plt.xscale('log')\n",
    "plt.legend(loc='best')\n",
    "plt.ylim (0.05,1.0)\n",
    "plt.xlim(1,10000)\n",
    "# plt.axvline(x = 50,ymin = 0,ymax = 1, color='grey', ls = '--')\n",
    "plt.tick_params(axis = \"both\", which = \"both\", direction = \"in\")\n",
    "plt.title(\"CD of Real SNe Sample\")\n",
    "plt.xlabel(\"Distance [pc]\")\n",
    "fig.savefig(\"../Figures/RealSNeCDFs55.png\", dpi=300)\n",
    "plt.show()\n",
    "plt.close()"
   ]
  },
  {
   "cell_type": "code",
   "execution_count": 28,
   "metadata": {},
   "outputs": [],
   "source": [
    "modelResults = Table.read(\"../Data/AllModels.csv\", format = 'csv')\n",
    "\n",
    "def cleanModels(modelData):\n",
    "    keep = np.where(np.isfinite(modelData))\n",
    "    clean = modelData[keep]\n",
    "    #clean = np.clip(clean, 1, None)\n",
    "    clean = np.asarray(clean)\n",
    "    return(clean)\n",
    "\n",
    "n55m1 = cleanModels(modelResults[\"n55Mod1\"])\n",
    "n55m2 = cleanModels(modelResults[\"n55Mod2\"])\n",
    "n55m3 = cleanModels(modelResults[\"n55Mod3\"])\n",
    "n55m4 = np.concatenate((n55m2[0:1914],n55m3[1914:-1]))"
   ]
  },
  {
   "cell_type": "code",
   "execution_count": 45,
   "metadata": {},
   "outputs": [
    {
     "data": {
      "image/png": "[encoded data removed]",
      "text/plain": [
       "<Figure size 432x288 with 1 Axes>"
      ]
     },
     "metadata": {
      "needs_background": "light"
     },
     "output_type": "display_data"
    }
   ],
   "source": [
    "\n",
    "fig = plt.figure(figsize = (6,4))\n",
    "sns.ecdfplot(n55A,color = \"black\",  label=\"Real SNe Sample\")\n",
    "sns.ecdfplot(n55m1, color = \"red\", ls = \":\", label=\"Random Model\")\n",
    "sns.ecdfplot(n55m2, color = \"green\",ls = \"--\",  label=\"Gas (CO 2-1)\")\n",
    "sns.ecdfplot(n55m3, color = \"blue\",  ls = \"-.\",label=\"Stars (3.4 micron)\")\n",
    "sns.ecdfplot(n55m4, color = \"purple\", ls = \"-\", label=\"Mixed (2/3 gas 1/3 stars)\")\n",
    "plt.xscale('log')\n",
    "plt.legend(loc='best', fontsize = 11)\n",
    "plt.ylim (0.09,1.0)\n",
    "plt.xlim(7,10000)\n",
    "plt.axvline(x = 50,ymin = 0,ymax = 1, color='grey',\n",
    "            ls = '--')\n",
    "plt.tick_params(axis = \"both\", which = \"both\", direction = \"in\")\n",
    "plt.xlabel(\"Distance [pc]\", fontsize = 14)\n",
    "plt.ylabel(\"CDF f (< d)\", fontsize = 14)\n",
    "fig.savefig(\"../Figures/ModelCDFs55.png\", dpi=300)\n",
    "plt.show()\n",
    "plt.close()"
   ]
  },
  {
   "cell_type": "code",
   "execution_count": null,
   "metadata": {},
   "outputs": [],
   "source": []
  }
 ],
 "metadata": {
  "kernelspec": {
   "display_name": "Python 3",
   "language": "python",
   "name": "python3"
  },
  "language_info": {
   "codemirror_mode": {
    "name": "ipython",
    "version": 3
   },
   "file_extension": ".py",
   "mimetype": "text/x-python",
   "name": "python",
   "nbconvert_exporter": "python",
   "pygments_lexer": "ipython3",
   "version": "3.8.10"
  }
 },
 "nbformat": 4,
 "nbformat_minor": 2
}
