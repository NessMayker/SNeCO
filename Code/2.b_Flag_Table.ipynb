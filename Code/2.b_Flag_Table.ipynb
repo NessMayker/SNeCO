{
 "cells": [
  {
   "cell_type": "markdown",
   "id": "e98ac936",
   "metadata": {},
   "source": [
    "This notebook makes the flag table to keep our subsamples organized."
   ]
  },
  {
   "cell_type": "code",
   "execution_count": 4,
   "id": "92a3e90d",
   "metadata": {},
   "outputs": [],
   "source": [
    "from astropy.table import Table, join\n",
    "from astropy.io import ascii\n",
    "import os\n",
    "\n",
    "DataFile = '../Data/3.SNe+GalData.csv'\n",
    "Data = Table.read(DataFile, format='csv') \n",
    "\n",
    "Data.sort('galaxy')"
   ]
  },
  {
   "cell_type": "code",
   "execution_count": 5,
   "id": "8e20eb18",
   "metadata": {},
   "outputs": [
    {
     "data": {
      "text/html": [
       "<i>Table length=1</i>\n",
       "<table id=\"table140114718276480\" class=\"table-striped table-bordered table-condensed\">\n",
       "<thead><tr><th>galaxy</th><th>SN_name</th><th>SN_type</th><th>SN_ra</th><th>SN_dec</th><th>SN_xCoord</th><th>SN_yCoord</th><th>SN_co21int</th><th>SN_co21err</th><th>SN_co21ew</th><th>map_beamsize</th><th>orient_ra</th><th>orient_dec</th><th>dist</th><th>orient_posang</th><th>orient_incl</th><th>size_r25</th><th>telOrient</th><th>ImageFile150</th><th>ErrFile150</th><th>AlphaCOFile</th></tr></thead>\n",
       "<thead><tr><th>str8</th><th>str11</th><th>str12</th><th>float64</th><th>float64</th><th>float64</th><th>float64</th><th>float64</th><th>float64</th><th>float64</th><th>float64</th><th>float64</th><th>float64</th><th>float64</th><th>float64</th><th>float64</th><th>float64</th><th>str9</th><th>str112</th><th>str113</th><th>str74</th></tr></thead>\n",
       "<tr><td>circinus</td><td>SN1996cr</td><td>II</td><td>213.2918</td><td>-65.3457</td><td>86.56761411031889</td><td>84.63433198287285</td><td>186.84804</td><td>2.137819</td><td>34.56537</td><td>0.002032163908078</td><td>213.29124</td><td>-65.33915</td><td>4.2</td><td>36.74</td><td>64.3</td><td>262.49515</td><td>7m+tp</td><td>/data/tycho/0/leroy.42/reduction/alma/phangs-alma/derived/circinus/circinus_7m+tp_co21_150pc_broad_mom0.fits</td><td>/data/tycho/0/leroy.42/reduction/alma/phangs-alma/derived/circinus/circinus_7m+tp_co21_150pc_broad_emom0.fits</td><td>/data/kant/0/sun.1608/PHANGS/ALMA/alphaCO/ESO097-013_alphaCO21_Sun+20.fits</td></tr>\n",
       "</table>"
      ],
      "text/plain": [
       "<Table length=1>\n",
       " galaxy  ...\n",
       "  str8   ...\n",
       "-------- ...\n",
       "circinus ..."
      ]
     },
     "execution_count": 5,
     "metadata": {},
     "output_type": "execute_result"
    }
   ],
   "source": [
    "Data[0:1]"
   ]
  },
  {
   "cell_type": "code",
   "execution_count": 17,
   "id": "ec48f59c",
   "metadata": {},
   "outputs": [],
   "source": [
    "\n",
    "def IntFileName(galaxy, res, telOrient):\n",
    "\n",
    "    fileName = \"/data/tycho/0/leroy.42/reduction/alma/phangs-alma/derived/\"  + galaxy + \"/\" + galaxy + \"_\" + telOrient + \"_co21\" + res +  \"_broad_mom0.fits\"\n",
    "    \n",
    "    return(fileName)"
   ]
  },
  {
   "cell_type": "code",
   "execution_count": 20,
   "id": "69263ba1",
   "metadata": {},
   "outputs": [],
   "source": [
    "pc60flag, pc90flag, pc120flag, pc150flag, pc500flag, pc750flag, pc1000flag = [],[],[],[],[],[],[]\n",
    "\n",
    "for i in range(len(Data['galaxy'])):\n",
    "\n",
    "    if os.path.isfile(IntFileName(Data['galaxy'][i], \"_60pc\", Data['telOrient'][i])):\n",
    "        pc60flag.append('yes')\n",
    "    else: pc60flag.append('no')\n",
    "        \n",
    "    if os.path.isfile(IntFileName(Data['galaxy'][i], \"_90pc\", Data['telOrient'][i])):\n",
    "        pc90flag.append('yes')\n",
    "    else: pc90flag.append('no')\n",
    "    \n",
    "    if os.path.isfile(IntFileName(Data['galaxy'][i], \"_120pc\", Data['telOrient'][i])):\n",
    "        pc120flag.append('yes')\n",
    "    else: pc120flag.append('no')        \n",
    "    \n",
    "    if os.path.isfile(Data['ImageFile150'][i]):\n",
    "        pc150flag.append('yes')\n",
    "    else: pc150flag.append('no')\n",
    "        \n",
    "    if os.path.isfile(IntFileName(Data['galaxy'][i], \"_500pc\", Data['telOrient'][i])):\n",
    "        pc500flag.append('yes')\n",
    "    else: pc500flag.append('no')\n",
    "            \n",
    "    if os.path.isfile(IntFileName(Data['galaxy'][i], \"_750pc\", Data['telOrient'][i])):\n",
    "        pc750flag.append('yes')\n",
    "    else: pc750flag.append('no')\n",
    "            \n",
    "    if os.path.isfile(IntFileName(Data['galaxy'][i], \"_1000pc\", Data['telOrient'][i])):\n",
    "        pc1000flag.append('yes')\n",
    "    else: pc1000flag.append('no')\n",
    "        \n",
    "                     \n",
    "FlagsTable = Table({'Galaxy'  : Data['galaxy'],\n",
    "                  'Supernova' : Data['SN_name'],\n",
    "                  '60pcFile'  : pc60flag,\n",
    "                  '90pcFile'  : pc90flag,\n",
    "                  '120pcFile' : pc120flag,\n",
    "                  '150pcFile' : pc150flag,\n",
    "                  '500pcFile' : pc500flag,\n",
    "                  '750pcFile' : pc750flag,\n",
    "                  '1000pcFile': pc1000flag})\n",
    "\n",
    "ascii.write(FlagsTable, '../Data/2.FlagsTable.csv', format='csv', fast_writer=False, overwrite=True)\n"
   ]
  },
  {
   "cell_type": "code",
   "execution_count": 27,
   "id": "da62847d",
   "metadata": {},
   "outputs": [
    {
     "name": "stdout",
     "output_type": "stream",
     "text": [
      " Galaxy   Supernova  60pcFile 90pcFile 120pcFile 150pcFile 500pcFile 750pcFile 1000pcFile\n",
      "-------- ----------- -------- -------- --------- --------- --------- --------- ----------\n",
      "circinus    SN1996cr       no       no        no       yes       yes       yes         no\n",
      " ngc0253     SN1940E       no       no        no       yes       yes       yes         no\n",
      " ngc0628    SN2013ej      yes      yes       yes       yes       yes       yes         no\n",
      " ngc1068   SN2018ivc       no       no        no        no        no       yes         no\n",
      " ngc1087     SN1995V       no       no       yes       yes       yes       yes         no\n",
      " ngc1097    SN1999eu       no       no       yes       yes       yes       yes         no\n",
      " ngc1097    SN1992bd       no       no       yes       yes       yes       yes         no\n",
      " ngc1365    SN2001du       no       no       yes       yes       yes       yes         no\n",
      " ngc1365     SN1983V       no       no       yes       yes       yes       yes         no\n",
      " ngc1365    SN2012fr       no       no       yes       yes       yes       yes         no\n",
      " ngc1433     SN1985P       no      yes       yes       yes       yes       yes         no\n",
      " ngc1511     SN1935C       no       no       yes       yes       yes       yes         no\n",
      " ngc1559    SN2009ib       no       no       yes       yes       yes       yes         no\n",
      " ngc1559    SN2005df       no       no       yes       yes       yes       yes         no\n",
      " ngc1559     SN1984J       no       no       yes       yes       yes       yes         no\n",
      " ngc1559     SN1986L       no       no       yes       yes       yes       yes         no\n",
      " ngc1566 ASASSN-14ha       no       no       yes       yes       yes       yes         no\n",
      " ngc1566    SN2010el       no       no       yes       yes       yes       yes         no\n",
      " ngc1637    SN1999em       no      yes       yes       yes       yes       yes         no\n",
      " ngc1672   SN2017gax       no       no        no        no       yes       yes         no\n",
      " ngc2775     SN1993Z       no       no       yes       yes       yes       yes         no\n",
      " ngc2997    SN2008eh       no       no       yes       yes       yes       yes         no\n",
      " ngc2997    SN2003jg       no       no       yes       yes       yes       yes         no\n",
      " ngc3239     SN2012A       no      yes       yes       yes       yes       yes         no\n",
      " ngc3627     SN1973R       no      yes       yes       yes       yes       yes         no\n",
      " ngc3627     SN1989B       no      yes       yes       yes       yes       yes         no\n",
      " ngc3627   SN2016cok       no      yes       yes       yes       yes       yes         no\n",
      " ngc3627    SN2009hd       no      yes       yes       yes       yes       yes         no\n",
      " ngc4254     SN1986I       no       no       yes       yes       yes       yes         no\n",
      " ngc4254     SN2014L       no       no       yes       yes       yes       yes         no\n",
      " ngc4254     SN1967H       no       no       yes       yes       yes       yes         no\n",
      " ngc4254     SN1972Q       no       no       yes       yes       yes       yes         no\n",
      " ngc4303     SN1961I       no       no        no       yes       yes       yes         no\n",
      " ngc4303     SN1926A       no       no        no       yes       yes       yes         no\n",
      " ngc4303    SN1999gn       no       no        no       yes       yes       yes         no\n",
      " ngc4303    SN2006ov       no       no        no       yes       yes       yes         no\n",
      " ngc4303   SN2020jfo       no       no        no       yes       yes       yes         no\n",
      " ngc4303     SN1964F       no       no        no       yes       yes       yes         no\n",
      " ngc4303    SN2014dt       no       no        no       yes       yes       yes         no\n",
      " ngc4321     SN1959E       no       no       yes       yes       yes       yes         no\n",
      " ngc4321     SN2006X       no       no       yes       yes       yes       yes         no\n",
      " ngc4321    SN2020oi       no       no       yes       yes       yes       yes         no\n",
      " ngc4321   SN2019ehk       no       no       yes       yes       yes       yes         no\n",
      " ngc4321     SN1901B       no       no       yes       yes       yes       yes         no\n",
      " ngc4321     SN1979C       no       no       yes       yes       yes       yes         no\n",
      " ngc4424    SN2012cg       no      yes       yes       yes       yes       yes         no\n",
      " ngc4457   SN2020nvb       no      yes       yes       yes       yes       yes         no\n",
      "ngc4496a     SN1988M       no      yes       yes       yes       yes       yes         no\n",
      "ngc4496a     SN1960F       no      yes       yes       yes       yes       yes         no\n",
      " ngc4536     SN1981B       no       no       yes       yes       yes       yes         no\n",
      " ngc4579     SN1989M       no       no        no        no       yes       yes         no\n",
      " ngc4579     SN1988A       no       no        no        no       yes       yes         no\n",
      " ngc4945    SN2011ja       no       no       yes       yes       yes       yes         no\n",
      " ngc5128     SN1986G       no       no        no       yes       yes       yes         no\n",
      " ngc5128   SN2016adj       no       no        no       yes       yes       yes         no\n",
      " ngc5236     SN1983N      yes      yes       yes       yes       yes       yes         no\n",
      " ngc5236     SN1968L      yes      yes       yes       yes       yes       yes         no\n",
      " ngc5236     SN1923A      yes      yes       yes       yes       yes       yes         no\n",
      " ngc5236     SN1950B      yes      yes       yes       yes       yes       yes         no\n",
      " ngc5236     SN1957D      yes      yes       yes       yes       yes       yes         no\n",
      " ngc5530    SN2007it       no      yes       yes       yes       yes       yes         no\n",
      " ngc6744    SN2005at      yes      yes       yes       yes       yes       yes         no\n",
      " ngc7793    SN2008bk       no       no        no       yes       yes       yes         no\n"
     ]
    }
   ],
   "source": [
    "FlagsTable.pprint_all()"
   ]
  },
  {
   "cell_type": "code",
   "execution_count": null,
   "id": "0d0c56dc",
   "metadata": {},
   "outputs": [],
   "source": []
  }
 ],
 "metadata": {
  "kernelspec": {
   "display_name": "Python 3",
   "language": "python",
   "name": "python3"
  },
  "language_info": {
   "codemirror_mode": {
    "name": "ipython",
    "version": 3
   },
   "file_extension": ".py",
   "mimetype": "text/x-python",
   "name": "python",
   "nbconvert_exporter": "python",
   "pygments_lexer": "ipython3",
   "version": "3.8.10"
  }
 },
 "nbformat": 4,
 "nbformat_minor": 5
}
