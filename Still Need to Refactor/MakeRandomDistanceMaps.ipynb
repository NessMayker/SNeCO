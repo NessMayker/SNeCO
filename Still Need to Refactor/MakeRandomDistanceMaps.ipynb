{
 "cells": [
  {
   "cell_type": "code",
   "execution_count": 1,
   "metadata": {},
   "outputs": [],
   "source": [
    "#This code makes the flat galaxy maps for distance calculations."
   ]
  },
  {
   "cell_type": "code",
   "execution_count": 1,
   "metadata": {},
   "outputs": [],
   "source": [
    "#import packages and initialize settings\n",
    "import time\n",
    "import os\n",
    "import numpy as np\n",
    "from astropy.io import fits\n",
    "import astropy.io.fits as pyfits\n",
    "from astropy.wcs import WCS\n",
    "from matplotlib import pyplot as plt\n",
    "from astropy.coordinates import SkyCoord\n",
    "import astropy.units as u\n",
    "from astropy.table import Table\n",
    "\n",
    "plt.rc('text',usetex=True)\n",
    "fontsize=20\n",
    "plt.rc('xtick',labelsize=fontsize)\n",
    "plt.rc('ytick',labelsize=fontsize)\n",
    "\n",
    "import sys\n",
    "sys.path.append('/Users/nessmayker/Desktop/PythonFunctions')\n",
    "from deprojectGalaxy import deproject"
   ]
  },
  {
   "cell_type": "code",
   "execution_count": 2,
   "metadata": {},
   "outputs": [],
   "source": [
    "# Unpack master table to get SNe information\n",
    "SNe,SNtype,SNra,SNdec,SNGCRRadArcSec,SNGCRPosAng,Galaxy,GalDist,GalRa,GalDec,GalPosAng,GalIncl,NumSNe,TypesSNe,NatFile,NatBeamSize,NatRes,NatInt,NatErr,NatEW,SNNat,pc60Int,pc60Err,pc60EW,SN60,pc90Int,pc90Err,pc90EW,SN90,pc120Int,pc120Err,pc120EW,SN120,pc150Int,pc150Err,pc150EW,SN150,pc500Int,pc500Err,pc500EW,SN500,pc750Int,pc750Err,pc750EW,SN750,pc1000Int,pc1000Err,pc1000EW,SN1000,pc1250Int,pc1250Err,pc1250EW,SN1250,alphaCO = np.loadtxt('../Data/SNeCO_Master_Table.csv', dtype = str, delimiter = ',',unpack=True)\n",
    "\n",
    "#generate lists of file names\n",
    "GalImage, GalErr, GalAlphaCO = [],[],[]\n",
    "intType = \"_co21_broad_mom0\"\n",
    "errType = \"_co21_broad_emom0\"\n",
    "preamble = \"../ALMAmaps/\"\n",
    "res = '_150pc'\n",
    "\n",
    "for i in range(len(Galaxy)):\n",
    "    \n",
    "    GalName = Galaxy[i]\n",
    "    alphaGal = GalName.upper()\n",
    "\n",
    "    if GalName == 'circinus' or GalName == 'ngc0253':\n",
    "        prefix = \"7m+tp\"\n",
    "    elif GalName == 'ngc2775':\n",
    "        prefix = \"12m+7m\"\n",
    "    else:\n",
    "        prefix = \"12m+7m+tp\"\n",
    "                    \n",
    "    imgStr = preamble + prefix + intType + \"/\" + GalName + \"_\" + prefix + intType + res + \".fits\"\n",
    "    errStr = preamble + prefix + errType + \"/\" + GalName + \"_\" + prefix + errType + res + \".fits\"\n",
    "    \n",
    "    if GalName == 'circinus':        \n",
    "        acoStr = \"../alphaCOmaps/ESO097-013_alphaCO21_Sun+20.fits\"\n",
    "    #missing ngc2775 map    \n",
    "    elif GalName == 'ngc2775':\n",
    "        acoStr = 'no file'\n",
    "    else:\n",
    "        acoStr = \"../alphaCOmaps/\" + alphaGal + \"_alphaCO21_Sun+20.fits\"\n",
    "    \n",
    "    GalImage.append(imgStr)\n",
    "    GalErr.append(errStr)\n",
    "    GalAlphaCO.append(acoStr)\n",
    "\n",
    "    \n",
    "GalRas = [float(x) for x in GalRa]\n",
    "GalDecs = [float(y) for y in GalDec]\n",
    "centerCoords = [(x,y) for x in GalRas for y in GalDecs]\n",
    "\n",
    "GalDist = [float(x) for x in GalDist]\n",
    "GalPosAng = [float(x) for x in GalPosAng]\n",
    "GalIncl = [float(x) for x in GalIncl]"
   ]
  },
  {
   "cell_type": "code",
   "execution_count": 4,
   "metadata": {},
   "outputs": [
    {
     "ename": "KeyboardInterrupt",
     "evalue": "",
     "output_type": "error",
     "traceback": [
      "\u001b[0;31m---------------------------------------------------------------------------\u001b[0m",
      "\u001b[0;31mKeyboardInterrupt\u001b[0m                         Traceback (most recent call last)",
      "\u001b[0;32m<ipython-input-4-997ca14297a1>\u001b[0m in \u001b[0;36m<module>\u001b[0;34m\u001b[0m\n\u001b[1;32m     29\u001b[0m             \u001b[0mprint\u001b[0m\u001b[0;34m(\u001b[0m\u001b[0;34m'#Intensity, Error, AlphaCO,   Mass,   SNR,      Ra,      Dec,      dx,      dy,      randomDist'\u001b[0m\u001b[0;34m,\u001b[0m \u001b[0mfile\u001b[0m \u001b[0;34m=\u001b[0m \u001b[0mtext_file\u001b[0m\u001b[0;34m)\u001b[0m\u001b[0;34m\u001b[0m\u001b[0;34m\u001b[0m\u001b[0m\n\u001b[1;32m     30\u001b[0m             \u001b[0;32mfor\u001b[0m \u001b[0mk\u001b[0m \u001b[0;32min\u001b[0m \u001b[0mrange\u001b[0m\u001b[0;34m(\u001b[0m\u001b[0mlen\u001b[0m\u001b[0;34m(\u001b[0m\u001b[0minten\u001b[0m\u001b[0;34m)\u001b[0m\u001b[0;34m)\u001b[0m\u001b[0;34m:\u001b[0m\u001b[0;34m\u001b[0m\u001b[0;34m\u001b[0m\u001b[0m\n\u001b[0;32m---> 31\u001b[0;31m                 \u001b[0mprint\u001b[0m\u001b[0;34m(\u001b[0m\u001b[0minten\u001b[0m\u001b[0;34m[\u001b[0m\u001b[0mk\u001b[0m\u001b[0;34m]\u001b[0m\u001b[0;34m,\u001b[0m \u001b[0merr\u001b[0m\u001b[0;34m[\u001b[0m\u001b[0mk\u001b[0m\u001b[0;34m]\u001b[0m\u001b[0;34m,\u001b[0m \u001b[0maco\u001b[0m\u001b[0;34m[\u001b[0m\u001b[0mk\u001b[0m\u001b[0;34m]\u001b[0m\u001b[0;34m,\u001b[0m \u001b[0mmass\u001b[0m\u001b[0;34m[\u001b[0m\u001b[0mk\u001b[0m\u001b[0;34m]\u001b[0m\u001b[0;34m,\u001b[0m \u001b[0mSNR\u001b[0m\u001b[0;34m[\u001b[0m\u001b[0mk\u001b[0m\u001b[0;34m]\u001b[0m\u001b[0;34m,\u001b[0m \u001b[0mra\u001b[0m\u001b[0;34m[\u001b[0m\u001b[0mk\u001b[0m\u001b[0;34m]\u001b[0m\u001b[0;34m,\u001b[0m \u001b[0mdec\u001b[0m\u001b[0;34m[\u001b[0m\u001b[0mk\u001b[0m\u001b[0;34m]\u001b[0m\u001b[0;34m,\u001b[0m \u001b[0mdx\u001b[0m\u001b[0;34m[\u001b[0m\u001b[0mk\u001b[0m\u001b[0;34m]\u001b[0m\u001b[0;34m,\u001b[0m \u001b[0mdy\u001b[0m\u001b[0;34m[\u001b[0m\u001b[0mk\u001b[0m\u001b[0;34m]\u001b[0m\u001b[0;34m,\u001b[0m \u001b[0mdistRand\u001b[0m\u001b[0;34m[\u001b[0m\u001b[0mk\u001b[0m\u001b[0;34m]\u001b[0m\u001b[0;34m,\u001b[0m \u001b[0mfile\u001b[0m \u001b[0;34m=\u001b[0m \u001b[0mtext_file\u001b[0m\u001b[0;34m)\u001b[0m\u001b[0;34m\u001b[0m\u001b[0;34m\u001b[0m\u001b[0m\n\u001b[0m\u001b[1;32m     32\u001b[0m \u001b[0;34m\u001b[0m\u001b[0m\n\u001b[1;32m     33\u001b[0m     \u001b[0mend\u001b[0m \u001b[0;34m=\u001b[0m \u001b[0mtime\u001b[0m\u001b[0;34m.\u001b[0m\u001b[0mtime\u001b[0m\u001b[0;34m(\u001b[0m\u001b[0;34m)\u001b[0m\u001b[0;34m\u001b[0m\u001b[0;34m\u001b[0m\u001b[0m\n",
      "\u001b[0;31mKeyboardInterrupt\u001b[0m: "
     ]
    }
   ],
   "source": [
    "def distance(x1, x2, y1, y2, galDist):\n",
    "    #calculate distance between two points (in kpc)\n",
    "    #x1, y1 = xprime and yprime, x2, y2 = SN coords, dist = distance to galaxy (kpc)\n",
    "    d = np.sqrt((x2-x1)**2 + (y2-y1)**2)\n",
    "    x = galDist * np.tan(d)\n",
    "    return(x)\n",
    "            \n",
    "N = 100\n",
    "\n",
    "for i in range(len(Galaxy)):\n",
    "    start = time.time()\n",
    "    filestr = Galaxy[i] + '_'\n",
    "    inten, err, aco, mass, SNR, ra, dec, dx, dy, xVals, yVals = np.loadtxt(\"../Data/FlatGalaxyMaps/{}FlatData.txt\".format(filestr), delimiter = ' ', unpack=True)\n",
    "    for j in range(100):\n",
    "        #assign a random pixel for comparison\n",
    "        numrows = len(xVals)    \n",
    "        numcols = len(yVals)\n",
    "        randX = np.random.randint(low=0, high=numrows+1)\n",
    "        randY = np.random.randint(low=0, high=numcols+1)\n",
    "        rX = xVals[randX]\n",
    "        rY = yVals[randY]\n",
    "\n",
    "        distRand = []\n",
    "        #flat map thing with all  the distances from one random point\n",
    "        distRand = distance(xVals, rX, yVals, rY, GalDist[i]) \n",
    "\n",
    "        filestr = Galaxy[i] + '_Area_' + str(j) + '_'\n",
    "        with open (\"../Data/RandomMaps/{}FlatData.txt\".format(filestr), \"w\") as text_file:\n",
    "            print('#Intensity, Error, AlphaCO,   Mass,   SNR,      Ra,      Dec,      dx,      dy,     xVals,     yVals,     randomDist', file = text_file)\n",
    "            for k in range(len(inten)):\n",
    "                print(inten[k], err[k], aco[k], mass[k], SNR[k], ra[k], dec[k], dx[k], dy[k], xVals[k], yVals[k], distRand[k], file = text_file)\n",
    "\n",
    "    end = time.time()\n",
    "    print(\"Time to run 100 random placement (area) experiments: \", end-start)"
   ]
  },
  {
   "cell_type": "code",
   "execution_count": null,
   "metadata": {},
   "outputs": [],
   "source": []
  }
 ],
 "metadata": {
  "kernelspec": {
   "display_name": "Python 3",
   "language": "python",
   "name": "python3"
  },
  "language_info": {
   "codemirror_mode": {
    "name": "ipython",
    "version": 3
   },
   "file_extension": ".py",
   "mimetype": "text/x-python",
   "name": "python",
   "nbconvert_exporter": "python",
   "pygments_lexer": "ipython3",
   "version": "3.6.8"
  }
 },
 "nbformat": 4,
 "nbformat_minor": 2
}
