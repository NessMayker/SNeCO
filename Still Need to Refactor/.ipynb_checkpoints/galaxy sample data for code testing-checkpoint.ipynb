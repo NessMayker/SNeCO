{
 "cells": [
  {
   "cell_type": "code",
   "execution_count": null,
   "id": "19e35a0e",
   "metadata": {},
   "outputs": [],
   "source": [
    "#galaxy sample data for testing\n",
    "\n",
    "# #OPEN CANDIDATE CATALOG AND READ IN RAS, DECS, NAMES\n",
    "# galaxy = 'NGC4303'\n",
    "# sne = 'SN1926A'\n",
    "# image  = '../ALMAmaps/12m+7m+tp_co21_broad_mom0/NGC4303_12m+7m+tp_co21_broad_mom0.fits'\n",
    "# errimage  = '../ALMAmaps/12m+7m+tp_co21_broad_emom0/NGC4303_12m+7m+tp_co21_broad_emom0.fits'\n",
    "# alphaCOimg = '../alphaCOmaps/NGC4303_alphaCO21_Sun+20.fits'\n",
    "# centerCoord = [185.47888, 4.473744]\n",
    "# # (dist in kpc)\n",
    "# incl, pa, galDist  = 20.0*u.deg, 310.6*u.deg, 17.6\n",
    "# SNra, SNdec = 185.48041666666668*u.deg , 4.487972222222222*u.deg\n",
    "# SNeCoord = [185.48041666666668 , 4.487972222222222]\n",
    "\n",
    "\n",
    "# Galaxy, SNe = [],[]\n",
    "# Galaxy.append(galaxy)\n",
    "# SNe.append(sne)"
   ]
  },
  {
   "cell_type": "code",
   "execution_count": null,
   "id": "21a291af",
   "metadata": {},
   "outputs": [],
   "source": []
  }
 ],
 "metadata": {
  "kernelspec": {
   "display_name": "Python 3",
   "language": "python",
   "name": "python3"
  },
  "language_info": {
   "codemirror_mode": {
    "name": "ipython",
    "version": 3
   },
   "file_extension": ".py",
   "mimetype": "text/x-python",
   "name": "python",
   "nbconvert_exporter": "python",
   "pygments_lexer": "ipython3",
   "version": "3.8.8"
  }
 },
 "nbformat": 4,
 "nbformat_minor": 5
}
