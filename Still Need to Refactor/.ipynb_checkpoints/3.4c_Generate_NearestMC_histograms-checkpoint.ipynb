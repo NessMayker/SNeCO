{
 "cells": [
  {
   "cell_type": "markdown",
   "metadata": {},
   "source": [
    "This notebook reads in the deprojected PHANGS CO map images and calculates the distance from the SNe to the nearest CO 2-1 emission. We then apply cutoffs such as minimum GMC mass and SNR and store this in \"../Data/3.HistData.csv\"."
   ]
  },
  {
   "cell_type": "code",
   "execution_count": 1,
   "metadata": {},
   "outputs": [],
   "source": [
    "#import packages and initialize settings\n",
    "import os\n",
    "import numpy as np\n",
    "from astropy.io import fits\n",
    "import astropy.io.fits as pyfits\n",
    "from astropy.wcs import WCS\n",
    "from matplotlib import pyplot as plt\n",
    "from astropy.coordinates import SkyCoord\n",
    "import astropy.units as u\n",
    "from astropy.table import Table\n",
    "from astropy.io import ascii\n",
    "\n",
    "plt.rc('text',usetex=True)\n",
    "fontsize=20\n",
    "plt.rc('xtick',labelsize=fontsize)\n",
    "plt.rc('ytick',labelsize=fontsize)\n",
    "\n",
    "import sys\n",
    "sys.path.append('/home/mayker.1/Desktop/NessPythonFunctions')\n",
    "from deprojectGalaxy import deproject"
   ]
  },
  {
   "cell_type": "code",
   "execution_count": 2,
   "metadata": {},
   "outputs": [],
   "source": [
    "# Unpack master table to get SNe information\n",
    "database = Table.read('../Data/3.SNe+GalData.csv', format = \"csv\")\n"
   ]
  },
  {
   "cell_type": "code",
   "execution_count": 3,
   "metadata": {},
   "outputs": [],
   "source": [
    "# #OPEN CANDIDATE CATALOG AND READ IN RAS, DECS, NAMES\n",
    "# galaxy = 'NGC4303'\n",
    "# sne = 'SN1926A'\n",
    "# image  = '../ALMAmaps/12m+7m+tp_co21_broad_mom0/NGC4303_12m+7m+tp_co21_broad_mom0.fits'\n",
    "# errimage  = '../ALMAmaps/12m+7m+tp_co21_broad_emom0/NGC4303_12m+7m+tp_co21_broad_emom0.fits'\n",
    "# alphaCOimg = '../alphaCOmaps/NGC4303_alphaCO21_Sun+20.fits'\n",
    "# centerCoord = [185.47888, 4.473744]\n",
    "# # (dist in kpc)\n",
    "# incl, pa, galDist  = 20.0*u.deg, 310.6*u.deg, 17.6\n",
    "# SNra, SNdec = 185.48041666666668*u.deg , 4.487972222222222*u.deg\n",
    "# SNeCoord = [185.48041666666668 , 4.487972222222222]\n",
    "\n",
    "\n",
    "# Galaxy, SNe = [],[]\n",
    "# Galaxy.append(galaxy)\n",
    "# SNe.append(sne)"
   ]
  },
  {
   "cell_type": "code",
   "execution_count": 4,
   "metadata": {},
   "outputs": [],
   "source": [
    "def int2mass(x, aco, res=150.0):\n",
    "    area = (res/2.0)**2*np.pi/np.log(2.0)\n",
    "    y = x * aco * area\n",
    "    return(y)\n",
    "    \n",
    "def mass2int(mass, aco, res=150.0):\n",
    "    area = (res/2.0)**2*np.pi/np.log(2.0)\n",
    "    inten = mass / (aco * area)\n",
    "    return(inten)\n",
    "\n",
    "def arraySort(variable, distance):\n",
    "    # sorts variable by shortest distance\n",
    "    pattern = distance.argsort()\n",
    "    dist = distance[pattern]\n",
    "    var = variable[pattern]\n",
    "    return (var, dist)\n",
    "\n",
    "def findNearest(varArray, value, SNdistArray):\n",
    "    # sorts variable by distance, returning closest with given value and that value\n",
    "    var, SNdist = arraySort(varArray, SNdistArray) \n",
    "    ind = np.where(var >= value)\n",
    "    \n",
    "    if len(SNdist[ind]) > 0:\n",
    "        nearestSN    = np.argmin(SNdist[ind])\n",
    "        nearSNDist   = SNdist[ind][nearestSN] * 1000\n",
    "        varSNVal     = var[ind][nearestSN]\n",
    "    else:\n",
    "        nearSNDist   = float('nan')\n",
    "        varSNVal     = float('nan')\n",
    "        \n",
    "    return(varSNVal, nearSNDist)\n",
    "    \n",
    "def printNearest(filestr, kind, value, SNRcutoff = 3.0):\n",
    "    # takes galaxy name, kind of sorting (SNR, Intensity, or Mass), and value we want (min SNR, intensity, or mass) \n",
    "    # and returns distance to the nearest molecular cloud and the min value found of kind requested\n",
    "    fileName = \"/home/mayker.1/Desktop/SNeCO_Data_Products/FlatSNeDistanceMaps/{}FlatSNeData.txt\".format(filestr)\n",
    "    if os.path.isfile(fileName):\n",
    "        \n",
    "        flatData = Table.read(\"/home/mayker.1/Desktop/SNeCO_Data_Products/FlatSNeDistanceMaps/{}FlatSNeData.txt\".format(filestr), format = \"ascii\") \n",
    "\n",
    "        #apply SNR cutoff\n",
    "        intenCut, SNdist_kpcCut, massCut = [],[],[]\n",
    "        for i in range(len(flatData)):\n",
    "            if (flatData[\"SNR\"][i] >= SNRcutoff):\n",
    "                intenCut.append(flatData[\"Intensity\"][i])\n",
    "                SNdist_kpcCut.append(flatData[\"distSNe\"][i])\n",
    "                massCut.append(flatData[\"mass\"][i])\n",
    "\n",
    "        if kind == 'SNR':\n",
    "            valFound, nearestMCSN = findNearest(np.array(flatData[\"SNR\"]), value, np.array(flatData[\"distSNe\"]))    \n",
    "        elif kind == 'Intensity':\n",
    "            valFound, nearestMCSN = findNearest(np.array(intenCut), value, np.array(SNdist_kpcCut))\n",
    "        else:\n",
    "            valFound, nearestMCSN = findNearest(np.array(massCut), value, np.array(SNdist_kpcCut))\n",
    "\n",
    "        return(nearestMCSN, valFound)  \n",
    "    \n",
    "    else:\n",
    "        return(np.float('nan'),np.float('nan'))"
   ]
  },
  {
   "cell_type": "code",
   "execution_count": 5,
   "metadata": {},
   "outputs": [
    {
     "name": "stdout",
     "output_type": "stream",
     "text": [
      "0.5854344282657421 1.8513062139982037 5.854344282657421 18.51306213998204 58.543442826574214 185.1306213998204\n"
     ]
    }
   ],
   "source": [
    "inten5  = mass2int(10**5, 6.7)\n",
    "inten55 = mass2int(10**5.5, 6.7)\n",
    "inten6  = mass2int(10**6, 6.7)\n",
    "inten65 = mass2int(10**6.5, 6.7)\n",
    "inten7  = mass2int(10**7, 6.7)\n",
    "inten75  = mass2int(10**7.5, 6.7)\n",
    "print(inten5, inten55, inten6, inten65, inten7, inten75)"
   ]
  },
  {
   "cell_type": "code",
   "execution_count": 6,
   "metadata": {},
   "outputs": [],
   "source": [
    "def getHistVals(kind, value):\n",
    "\n",
    "    names, nearestMC, valFound = [],[],[]\n",
    "    \n",
    "    for i in range(len(database)):\n",
    "        filestr = database[\"galaxy\"][i] + \"_\" + database[\"SN_name\"][i] + \"_\"\n",
    "        nearMC, val = printNearest(filestr, kind, value)\n",
    "        names.append(filestr)\n",
    "        nearestMC.append(nearMC)\n",
    "        valFound.append(val)\n",
    "    print(\"one done!\")\n",
    "    return(names, nearestMC, valFound)\n"
   ]
  },
  {
   "cell_type": "code",
   "execution_count": 7,
   "metadata": {},
   "outputs": [],
   "source": [
    "#ONLY RUN IF NECESSARY\n",
    "\n",
    "# # Set up intensity histograms for different mass MCs with constant alphaCO\n",
    "# # we take the intensity specified and multiply by alphaCO = 6.7 giving us a generic mass\n",
    "# kind = 'Intensity'\n",
    "\n",
    "# galaxy_55_int, nearestMCSN_55_int, valFound_55_int = getHistVals(kind, value=inten55)\n",
    "# galaxy_6_int,  nearestMCSN_6_int,  valFound_6_int  = getHistVals(kind, value=inten6)\n",
    "# galaxy_65_int, nearestMCSN_65_int, valFound_65_int = getHistVals(kind, value=inten65)\n",
    "# galaxy_7_int,  nearestMCSN_7_int,  valFound_7_int  = getHistVals(kind, value=inten7)\n",
    "# galaxy_75_int, nearestMCSN_75_int, valFound_75_int = getHistVals(kind, value=inten75)\n",
    "\n",
    "# # Set up intensity histograms for different mass MCs\n",
    "# #These masses are calculated by multiplying the intensity by jiayi's metallicity dependent\n",
    "# #alpha CO for each pixel.\n",
    "# kind = 'Mass'\n",
    "\n",
    "# galaxy_55_mass, nearestMCSN_55_mass, valFound_55_mass = getHistVals(kind, value=10**5.5)\n",
    "# galaxy_6_mass,  nearestMCSN_6_mass,  valFound_6_mass  = getHistVals(kind, value=10**6.0)\n",
    "# galaxy_65_mass, nearestMCSN_65_mass, valFound_65_mass = getHistVals(kind, value=10**6.5)\n",
    "# galaxy_7_mass,  nearestMCSN_7_mass,  valFound_7_mass  = getHistVals(kind, value=10**7.0)\n",
    "# galaxy_75_mass, nearestMCSN_75_mass, valFound_75_mass = getHistVals(kind, value=10**7.5)\n",
    "\n"
   ]
  },
  {
   "cell_type": "code",
   "execution_count": 8,
   "metadata": {},
   "outputs": [],
   "source": [
    "# histTable = Table({\"Names\": galaxy_55_int,\n",
    "#                    \"MCSN55Int\"    : nearestMCSN_55_int,\n",
    "#                    \"MCSN55Intval\" : valFound_55_int,\n",
    "#                    \"MCSN6Int\"     : nearestMCSN_6_int, \n",
    "#                    \"MCSN6Intval\"  : valFound_6_int,\n",
    "#                    \"MCSN65Int\"    : nearestMCSN_65_int,\n",
    "#                    \"MCSN65Intval\" : valFound_65_int,\n",
    "#                    \"MCSN7Int\"     : nearestMCSN_7_int, \n",
    "#                    \"MCSN7Intval\"  : valFound_7_int,\n",
    "#                    \"MCSN75Int\"    : nearestMCSN_75_int, \n",
    "#                    \"MCSN75Intval\" : valFound_75_int,                   \n",
    "#                    \"MCSN55Mass\"   : nearestMCSN_55_mass, \n",
    "#                    \"MCSN55Massval\": valFound_55_int,\n",
    "#                    \"MCSN6Mass\"    : nearestMCSN_6_mass, \n",
    "#                    \"MCSN6Massval\" : valFound_6_mass,\n",
    "#                    \"MCSN65Mass\"   : nearestMCSN_65_mass, \n",
    "#                    \"MCSN65Massval\": valFound_65_mass,\n",
    "#                    \"MCSN7Mass\"    : nearestMCSN_7_mass, \n",
    "#                    \"MCSN7Massval\" : valFound_7_mass,\n",
    "#                    \"MCSN75Mass\"   : nearestMCSN_75_mass, \n",
    "#                    \"MCSN75Massval\": valFound_75_mass\n",
    "# })\n",
    "\n",
    "# ascii.write(histTable, '../Data/3.HistData.csv', format='csv', fast_writer=False, overwrite=True)  "
   ]
  },
  {
   "cell_type": "code",
   "execution_count": 9,
   "metadata": {},
   "outputs": [
    {
     "name": "stderr",
     "output_type": "stream",
     "text": [
      "<ipython-input-4-7531a34c9268>:59: DeprecationWarning: `np.float` is a deprecated alias for the builtin `float`. To silence this warning, use `float` by itself. Doing this will not modify any behavior and is safe. If you specifically wanted the numpy scalar type, use `np.float64` here.\n",
      "Deprecated in NumPy 1.20; for more details and guidance: https://numpy.org/devdocs/release/1.20.0-notes.html#deprecations\n",
      "  return(np.float('nan'),np.float('nan'))\n"
     ]
    },
    {
     "name": "stdout",
     "output_type": "stream",
     "text": [
      "one done!\n",
      "one done!\n"
     ]
    }
   ],
   "source": [
    "#ONLY RUN IF NECESSARY\n",
    "\n",
    "histTable = Table.read('../Data/3.HistData.csv', format='csv')\n",
    "\n",
    "# Set up intensity histograms for different mass MCs with constant alphaCO\n",
    "kind = 'SNR'\n",
    "\n",
    "# galaxy_SNR_1,    nearestMCSN_SNR_1,   valFound_SNR_1   = getHistVals(kind, value=1)\n",
    "# galaxy_SNR_3,    nearestMCSN_SNR_3,   valFound_SNR_3   = getHistVals(kind, value=3)\n",
    "# galaxy_SNR_5,    nearestMCSN_SNR_5,   valFound_SNR_5   = getHistVals(kind, value=5)\n",
    "# galaxy_SNR_7,   nearestMCSN_SNR_7,  valFound_SNR_7  = getHistVals(kind, value=7)\n",
    "# galaxy__SNR_9, nearestMCSN_SNR_9, valFound_SNR_9 = getHistVals(kind, value=9)\n"
   ]
  },
  {
   "cell_type": "code",
   "execution_count": 10,
   "metadata": {},
   "outputs": [],
   "source": [
    "# histTable.add_column(nearestMCSN_SNR_1, name = \"MCSN_SNR_1\")\n",
    "# histTable.add_column(valFound_SNR_1,    name = \"MCSN_SNR_1_val\")\n",
    "# histTable.add_column(nearestMCSN_SNR_3, name = \"MCSN_SNR_3\")\n",
    "# histTable.add_column(valFound_SNR_3,    name = \"MCSN_SNR_3_val\")\n",
    "# histTable.add_column(nearestMCSN_SNR_5, name = \"MCSN_SNR_5\")\n",
    "# histTable.add_column(valFound_SNR_5,    name = \"MCSN_SNR_5_val\")\n",
    "\n",
    "# histTable.add_column(nearestMCSN_SNR_7, name = \"MCSN_SNR_7\")\n",
    "# histTable.add_column(valFound_SNR_7,    name = \"MCSN_SNR_7_val\")\n",
    "# histTable.add_column(nearestMCSN_SNR_9, name = \"MCSN_SNR_9\")\n",
    "# histTable.add_column(valFound_SNR_9,    name = \"MCSN_SNR_9_val\")\n"
   ]
  },
  {
   "cell_type": "code",
   "execution_count": 11,
   "metadata": {},
   "outputs": [
    {
     "data": {
      "text/html": [
       "<i>Table length=66</i>\n",
       "<table id=\"table140211159383488\" class=\"table-striped table-bordered table-condensed\">\n",
       "<thead><tr><th>Names</th><th>MCSN55Int</th><th>MCSN55Intval</th><th>MCSN6Int</th><th>MCSN6Intval</th><th>MCSN65Int</th><th>MCSN65Intval</th><th>MCSN7Int</th><th>MCSN7Intval</th><th>MCSN75Int</th><th>MCSN75Intval</th><th>MCSN55Mass</th><th>MCSN55Massval</th><th>MCSN6Mass</th><th>MCSN6Massval</th><th>MCSN65Mass</th><th>MCSN65Massval</th><th>MCSN7Mass</th><th>MCSN7Massval</th><th>MCSN75Mass</th><th>MCSN75Massval</th><th>MCSN_SNR_7</th><th>MCSN_SNR_7_val</th><th>MCSN_SNR_9</th><th>MCSN_SNR_9_val</th></tr></thead>\n",
       "<thead><tr><th>str20</th><th>float64</th><th>float64</th><th>float64</th><th>float64</th><th>float64</th><th>float64</th><th>float64</th><th>float64</th><th>float64</th><th>float64</th><th>float64</th><th>float64</th><th>float64</th><th>float64</th><th>float64</th><th>float64</th><th>float64</th><th>float64</th><th>float64</th><th>float64</th><th>float64</th><th>float64</th><th>float64</th><th>float64</th></tr></thead>\n",
       "<tr><td>circinus_SN1996cr_</td><td>32.20571074533962</td><td>170.42623901367188</td><td>32.20571074533962</td><td>170.42623901367188</td><td>32.20571074533962</td><td>170.42623901367188</td><td>32.20571074533962</td><td>170.42623901367188</td><td>32.2670317391334</td><td>201.25888061523438</td><td>32.20571074533962</td><td>170.42623901367188</td><td>32.20571074533962</td><td>21802756.354290895</td><td>32.20571074533962</td><td>21802756.354290895</td><td>32.20571074533962</td><td>21802756.354290895</td><td>470.4417934320387</td><td>39057194.333950214</td><td>32.20571074533962</td><td>81.27533721923828</td><td>32.20571074533962</td><td>81.27533721923828</td></tr>\n",
       "<tr><td>ngc0253_SN1940E_</td><td>30.57009156537961</td><td>219.3036651611328</td><td>30.57009156537961</td><td>219.3036651611328</td><td>30.57009156537961</td><td>219.3036651611328</td><td>30.57009156537961</td><td>219.3036651611328</td><td>30.57009156537961</td><td>219.3036651611328</td><td>30.57009156537961</td><td>219.3036651611328</td><td>30.57009156537961</td><td>25051121.539413508</td><td>30.57009156537961</td><td>25051121.539413508</td><td>30.57009156537961</td><td>25051121.539413508</td><td>172.50886307740876</td><td>32268517.804338302</td><td>30.57009156537961</td><td>149.6125030517578</td><td>30.57009156537961</td><td>149.6125030517578</td></tr>\n",
       "<tr><td>ngc0300_SN2019qyl_</td><td>319.1694138992419</td><td>1.927222728729248</td><td>nan</td><td>nan</td><td>nan</td><td>nan</td><td>nan</td><td>nan</td><td>nan</td><td>nan</td><td>291.6161338593793</td><td>1.927222728729248</td><td>nan</td><td>nan</td><td>nan</td><td>nan</td><td>nan</td><td>nan</td><td>nan</td><td>nan</td><td>189.58728376213375</td><td>7.055360317230225</td><td>260.921294458901</td><td>9.124639511108398</td></tr>\n",
       "<tr><td>ngc0628_SN2019krl_</td><td>754.8017888319929</td><td>1.9403250217437744</td><td>1077.66215004106</td><td>5.914911270141602</td><td>1384.614046048056</td><td>18.693458557128906</td><td>nan</td><td>nan</td><td>nan</td><td>nan</td><td>754.8017888319929</td><td>1.9403250217437744</td><td>1096.4684335013435</td><td>1018331.5638491693</td><td>1403.889831817095</td><td>3187967.818395557</td><td>nan</td><td>nan</td><td>nan</td><td>nan</td><td>875.2742506894677</td><td>7.001357078552246</td><td>1068.2654177048637</td><td>9.2630033493042</td></tr>\n",
       "<tr><td>ngc0628_SN2013ej_</td><td>97.87335683310963</td><td>2.7534096240997314</td><td>1041.8493291343557</td><td>5.918017864227295</td><td>1905.584387738541</td><td>18.792024612426758</td><td>nan</td><td>nan</td><td>nan</td><td>nan</td><td>97.87335683310963</td><td>2.7534096240997314</td><td>1039.571024101005</td><td>1001615.4525589489</td><td>1914.4065819586717</td><td>3210149.281739499</td><td>nan</td><td>nan</td><td>nan</td><td>nan</td><td>763.7638635834201</td><td>7.065454959869385</td><td>804.1722443636075</td><td>9.06252670288086</td></tr>\n",
       "<tr><td>ngc1068_SN2018ivc_</td><td>nan</td><td>nan</td><td>nan</td><td>nan</td><td>nan</td><td>nan</td><td>nan</td><td>nan</td><td>nan</td><td>nan</td><td>nan</td><td>nan</td><td>nan</td><td>nan</td><td>nan</td><td>nan</td><td>nan</td><td>nan</td><td>nan</td><td>nan</td><td>nan</td><td>nan</td><td>nan</td><td>nan</td></tr>\n",
       "<tr><td>ngc1087_SN1995V_</td><td>13.646047502189571</td><td>12.753849029541016</td><td>13.646047502189571</td><td>12.753849029541016</td><td>640.3166744441254</td><td>18.676807403564453</td><td>1876.5354349603913</td><td>62.60198211669922</td><td>nan</td><td>nan</td><td>13.646047502189571</td><td>12.753849029541016</td><td>13.646047502189571</td><td>2155723.6181955445</td><td>662.2966195489099</td><td>3255604.026622281</td><td>1907.8347672791663</td><td>10467899.071846304</td><td>nan</td><td>nan</td><td>13.646047502189571</td><td>14.062186241149902</td><td>13.646047502189571</td><td>14.062186241149902</td></tr>\n",
       "<tr><td>ngc1097_SN1999eu_</td><td>556.5599733157865</td><td>1.9549763202667236</td><td>6423.255336323128</td><td>6.406509876251221</td><td>6549.959769745981</td><td>19.56014060974121</td><td>10225.792689872727</td><td>59.72481918334961</td><td>12849.433533168558</td><td>185.25680541992188</td><td>279.6432954572124</td><td>1.9549763202667236</td><td>1073.398364114337</td><td>1075777.3188488148</td><td>6549.959769745981</td><td>3428938.91921302</td><td>12018.899771001968</td><td>10305676.272910638</td><td>12938.86196778994</td><td>32904835.093581248</td><td>776.371259902654</td><td>7.038405418395996</td><td>6423.255336323128</td><td>10.662693977355957</td></tr>\n",
       "<tr><td>ngc1097_SN1992bd_</td><td>13.211165591673028</td><td>260.3741149902344</td><td>13.211165591673028</td><td>260.3741149902344</td><td>13.211165591673028</td><td>260.3741149902344</td><td>13.211165591673028</td><td>260.3741149902344</td><td>13.211165591673028</td><td>260.3741149902344</td><td>13.211165591673028</td><td>260.3741149902344</td><td>13.211165591673028</td><td>27923714.478954595</td><td>13.211165591673028</td><td>27923714.478954595</td><td>13.211165591673028</td><td>27923714.478954595</td><td>39.223452462985804</td><td>37201568.491263494</td><td>13.211165591673028</td><td>174.52407836914062</td><td>13.211165591673028</td><td>174.52407836914062</td></tr>\n",
       "<tr><td>ngc1365_SN2001du_</td><td>175.4533798560515</td><td>3.7032885551452637</td><td>233.55209470338443</td><td>6.387206077575684</td><td>2334.0682325626767</td><td>19.77392578125</td><td>9237.790110254038</td><td>58.544925689697266</td><td>10707.38736438143</td><td>187.46434020996094</td><td>175.4533798560515</td><td>3.7032885551452637</td><td>238.6291417530067</td><td>1029217.8005704081</td><td>2918.1289777549637</td><td>3357616.217658653</td><td>9503.72625527</td><td>10256191.546492707</td><td>11068.533892980993</td><td>32130307.797157433</td><td>294.03187267312666</td><td>7.4712629318237305</td><td>355.8178764151104</td><td>9.53818130493164</td></tr>\n",
       "<tr><td>...</td><td>...</td><td>...</td><td>...</td><td>...</td><td>...</td><td>...</td><td>...</td><td>...</td><td>...</td><td>...</td><td>...</td><td>...</td><td>...</td><td>...</td><td>...</td><td>...</td><td>...</td><td>...</td><td>...</td><td>...</td><td>...</td><td>...</td><td>...</td><td>...</td></tr>\n",
       "<tr><td>ngc5128_SN1986G_</td><td>14.009407348392163</td><td>9.314562797546387</td><td>14.009407348392163</td><td>9.314562797546387</td><td>110.94459532315315</td><td>19.223201751708984</td><td>478.9572766517931</td><td>59.95066833496094</td><td>nan</td><td>nan</td><td>14.009407348392163</td><td>9.314562797546387</td><td>14.009407348392163</td><td>1591051.375</td><td>110.94459532315315</td><td>3283578.75</td><td>478.9572766517931</td><td>10240372.0</td><td>nan</td><td>nan</td><td>14.009407348392163</td><td>9.470342636108398</td><td>14.009407348392163</td><td>9.470342636108398</td></tr>\n",
       "<tr><td>ngc5128_SN2016adj_</td><td>12.715134597078116</td><td>67.5713119506836</td><td>12.715134597078116</td><td>67.5713119506836</td><td>12.715134597078116</td><td>67.5713119506836</td><td>12.715134597078116</td><td>67.5713119506836</td><td>nan</td><td>nan</td><td>12.715134597078116</td><td>67.5713119506836</td><td>12.715134597078116</td><td>11542080.0</td><td>12.715134597078116</td><td>11542080.0</td><td>12.715134597078116</td><td>11542080.0</td><td>nan</td><td>nan</td><td>12.715134597078116</td><td>47.40460968017578</td><td>12.715134597078116</td><td>47.40460968017578</td></tr>\n",
       "<tr><td>ngc5236_SN1957D_</td><td>4.534993900911394</td><td>24.640588760375977</td><td>4.534993900911394</td><td>24.640588760375977</td><td>4.534993900911394</td><td>24.640588760375977</td><td>2282.886895763167</td><td>58.58537292480469</td><td>2976.546200204655</td><td>189.36669921875</td><td>4.534993900911394</td><td>24.640588760375977</td><td>4.534993900911394</td><td>4208940.5</td><td>4.534993900911394</td><td>4208940.5</td><td>2282.886895763167</td><td>10007161.0</td><td>2976.546200204655</td><td>32346354.0</td><td>4.534993900911394</td><td>101.86104583740234</td><td>4.534993900911394</td><td>101.86104583740234</td></tr>\n",
       "<tr><td>ngc5236_SN1923A_</td><td>4.97955838549907</td><td>2.6020655632019043</td><td>165.25801448750806</td><td>6.16483211517334</td><td>701.2762889030039</td><td>18.5152530670166</td><td>1327.7521680207906</td><td>60.38484573364258</td><td>3136.7306821082784</td><td>189.17770385742188</td><td>4.97955838549907</td><td>2.6020655632019043</td><td>165.25801448750806</td><td>1053035.375</td><td>701.2762889030039</td><td>3162651.75</td><td>1327.7521680207906</td><td>10314536.0</td><td>3136.7306821082784</td><td>32314072.0</td><td>4.97955838549907</td><td>9.050134658813477</td><td>4.97955838549907</td><td>9.050134658813477</td></tr>\n",
       "<tr><td>ngc5236_SN1950B_</td><td>2.3875130608928066</td><td>60.489627838134766</td><td>2.3875130608928066</td><td>60.489627838134766</td><td>2.3875130608928066</td><td>60.489627838134766</td><td>2.3875130608928066</td><td>60.489627838134766</td><td>2315.302351453925</td><td>197.27586364746094</td><td>2.3875130608928066</td><td>60.489627838134766</td><td>2.3875130608928066</td><td>10332434.0</td><td>2.3875130608928066</td><td>10332434.0</td><td>2.3875130608928066</td><td>10332434.0</td><td>2315.302351453925</td><td>33697344.0</td><td>2.3875130608928066</td><td>209.21905517578125</td><td>2.3875130608928066</td><td>209.21905517578125</td></tr>\n",
       "<tr><td>ngc5236_SN1983N_</td><td>54.325387077456725</td><td>1.8616448640823364</td><td>219.60927061166515</td><td>6.07979679107666</td><td>1108.5979762056477</td><td>18.57708168029785</td><td>1648.6485524497596</td><td>59.59466552734375</td><td>3640.1357215623984</td><td>186.05697631835938</td><td>54.325387077456725</td><td>1.8616448640823364</td><td>219.60927061166515</td><td>1038510.25</td><td>1108.5979762056477</td><td>3173213.0</td><td>1648.6485524497596</td><td>10179562.0</td><td>3640.1357215623984</td><td>31781008.0</td><td>144.89328005395618</td><td>7.032066345214844</td><td>162.17779068287234</td><td>9.065372467041016</td></tr>\n",
       "<tr><td>ngc5236_SN1968L_</td><td>0.2318617484057499</td><td>222.9096221923828</td><td>0.2318617484057499</td><td>222.9096221923828</td><td>0.2318617484057499</td><td>222.9096221923828</td><td>0.2318617484057499</td><td>222.9096221923828</td><td>0.2318617484057499</td><td>222.9096221923828</td><td>0.2318617484057499</td><td>222.9096221923828</td><td>0.2318617484057499</td><td>38075932.0</td><td>0.2318617484057499</td><td>38075932.0</td><td>0.2318617484057499</td><td>38075932.0</td><td>0.2318617484057499</td><td>38075932.0</td><td>0.2318617484057499</td><td>627.7263793945312</td><td>0.2318617484057499</td><td>627.7263793945312</td></tr>\n",
       "<tr><td>ngc5530_SN2007it_</td><td>9.89609605449723</td><td>2.6960041522979736</td><td>251.37635244683176</td><td>5.921244144439697</td><td>1369.6255052591002</td><td>19.180641174316406</td><td>nan</td><td>nan</td><td>nan</td><td>nan</td><td>9.89609605449723</td><td>2.6960041522979736</td><td>282.34876816886987</td><td>1066348.035252076</td><td>1484.928960919834</td><td>3251208.533505086</td><td>nan</td><td>nan</td><td>nan</td><td>nan</td><td>209.13964675767056</td><td>7.395711898803711</td><td>292.99350230334113</td><td>9.033976554870605</td></tr>\n",
       "<tr><td>ngc6744_SN2005at_</td><td>10.700171202121604</td><td>5.614461898803711</td><td>32.651875411318784</td><td>6.464106559753418</td><td>10472.246153700962</td><td>19.227310180664062</td><td>nan</td><td>nan</td><td>nan</td><td>nan</td><td>10.700171202121604</td><td>5.614461898803711</td><td>53.689192304573865</td><td>1007158.3413271011</td><td>10513.129892357474</td><td>3445603.8616823438</td><td>nan</td><td>nan</td><td>nan</td><td>nan</td><td>10.700171202121604</td><td>11.344478607177734</td><td>10.700171202121604</td><td>11.344478607177734</td></tr>\n",
       "<tr><td>ngc7793_SN2008bk_</td><td>991.2311519693375</td><td>2.095696210861206</td><td>2241.0074222166945</td><td>6.060627460479736</td><td>nan</td><td>nan</td><td>nan</td><td>nan</td><td>nan</td><td>nan</td><td>991.2311519693375</td><td>2.095696210861206</td><td>2241.0074222166945</td><td>1035235.8125</td><td>nan</td><td>nan</td><td>nan</td><td>nan</td><td>nan</td><td>nan</td><td>1022.1743368448482</td><td>7.739570617675781</td><td>1027.2564464240581</td><td>9.140925407409668</td></tr>\n",
       "</table>"
      ],
      "text/plain": [
       "<Table length=66>\n",
       "      Names            MCSN55Int      ...     MCSN_SNR_9       MCSN_SNR_9_val  \n",
       "      str20             float64       ...      float64            float64      \n",
       "------------------ ------------------ ... ------------------ ------------------\n",
       "circinus_SN1996cr_  32.20571074533962 ...  32.20571074533962  81.27533721923828\n",
       "  ngc0253_SN1940E_  30.57009156537961 ...  30.57009156537961  149.6125030517578\n",
       "ngc0300_SN2019qyl_  319.1694138992419 ...   260.921294458901  9.124639511108398\n",
       "ngc0628_SN2019krl_  754.8017888319929 ... 1068.2654177048637    9.2630033493042\n",
       " ngc0628_SN2013ej_  97.87335683310963 ...  804.1722443636075   9.06252670288086\n",
       "ngc1068_SN2018ivc_                nan ...                nan                nan\n",
       "  ngc1087_SN1995V_ 13.646047502189571 ... 13.646047502189571 14.062186241149902\n",
       " ngc1097_SN1999eu_  556.5599733157865 ...  6423.255336323128 10.662693977355957\n",
       " ngc1097_SN1992bd_ 13.211165591673028 ... 13.211165591673028 174.52407836914062\n",
       " ngc1365_SN2001du_  175.4533798560515 ...  355.8178764151104   9.53818130493164\n",
       "               ...                ... ...                ...                ...\n",
       "  ngc5128_SN1986G_ 14.009407348392163 ... 14.009407348392163  9.470342636108398\n",
       "ngc5128_SN2016adj_ 12.715134597078116 ... 12.715134597078116  47.40460968017578\n",
       "  ngc5236_SN1957D_  4.534993900911394 ...  4.534993900911394 101.86104583740234\n",
       "  ngc5236_SN1923A_   4.97955838549907 ...   4.97955838549907  9.050134658813477\n",
       "  ngc5236_SN1950B_ 2.3875130608928066 ... 2.3875130608928066 209.21905517578125\n",
       "  ngc5236_SN1983N_ 54.325387077456725 ... 162.17779068287234  9.065372467041016\n",
       "  ngc5236_SN1968L_ 0.2318617484057499 ... 0.2318617484057499  627.7263793945312\n",
       " ngc5530_SN2007it_   9.89609605449723 ... 292.99350230334113  9.033976554870605\n",
       " ngc6744_SN2005at_ 10.700171202121604 ... 10.700171202121604 11.344478607177734\n",
       " ngc7793_SN2008bk_  991.2311519693375 ... 1027.2564464240581  9.140925407409668"
      ]
     },
     "execution_count": 11,
     "metadata": {},
     "output_type": "execute_result"
    }
   ],
   "source": [
    "histTable"
   ]
  },
  {
   "cell_type": "code",
   "execution_count": 14,
   "metadata": {},
   "outputs": [],
   "source": [
    "ascii.write(histTable, '../Data/3.HistData.csv', format='csv', fast_writer=False, overwrite=True)  "
   ]
  },
  {
   "cell_type": "code",
   "execution_count": 12,
   "metadata": {},
   "outputs": [
    {
     "name": "stdout",
     "output_type": "stream",
     "text": [
      "/bin/bash: bug!: command not found\r\n"
     ]
    }
   ],
   "source": []
  }
 ],
 "metadata": {
  "kernelspec": {
   "display_name": "Python 3",
   "language": "python",
   "name": "python3"
  },
  "language_info": {
   "codemirror_mode": {
    "name": "ipython",
    "version": 3
   },
   "file_extension": ".py",
   "mimetype": "text/x-python",
   "name": "python",
   "nbconvert_exporter": "python",
   "pygments_lexer": "ipython3",
   "version": "3.8.10"
  }
 },
 "nbformat": 4,
 "nbformat_minor": 2
}
